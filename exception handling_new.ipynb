{
 "cells": [
  {
   "cell_type": "code",
   "execution_count": 1,
   "id": "91e3f51b",
   "metadata": {
    "id": "91e3f51b",
    "outputId": "5ee239f2-f486-4f67-e91c-f21a776809f2"
   },
   "outputs": [
    {
     "name": "stdout",
     "output_type": "stream",
     "text": [
      "30\n"
     ]
    }
   ],
   "source": [
    "a=10\n",
    "b=20\n",
    "c=a+b\n",
    "print(c)"
   ]
  },
  {
   "cell_type": "code",
   "execution_count": 3,
   "id": "44eb208b",
   "metadata": {
    "id": "44eb208b",
    "outputId": "e3f89c5d-5ad1-4d07-cc3a-057dcdf94051"
   },
   "outputs": [
    {
     "ename": "SyntaxError",
     "evalue": "incomplete input (233105153.py, line 1)",
     "output_type": "error",
     "traceback": [
      "\u001b[1;36m  Cell \u001b[1;32mIn[3], line 1\u001b[1;36m\u001b[0m\n\u001b[1;33m    print(c\u001b[0m\n\u001b[1;37m           ^\u001b[0m\n\u001b[1;31mSyntaxError\u001b[0m\u001b[1;31m:\u001b[0m incomplete input\n"
     ]
    }
   ],
   "source": [
    "print(c"
   ]
  },
  {
   "cell_type": "code",
   "execution_count": 1,
   "id": "06dd7fb3",
   "metadata": {
    "id": "06dd7fb3",
    "outputId": "73fe31c3-63a3-4c57-c3cd-3674b840ac1d"
   },
   "outputs": [
    {
     "ename": "TypeError",
     "evalue": "unsupported operand type(s) for +: 'int' and 'str'",
     "output_type": "error",
     "traceback": [
      "\u001b[1;31m---------------------------------------------------------------------------\u001b[0m",
      "\u001b[1;31mTypeError\u001b[0m                                 Traceback (most recent call last)",
      "Cell \u001b[1;32mIn[1], line 3\u001b[0m\n\u001b[0;32m      1\u001b[0m a\u001b[38;5;241m=\u001b[39m\u001b[38;5;241m10\u001b[39m\n\u001b[0;32m      2\u001b[0m b\u001b[38;5;241m=\u001b[39m\u001b[38;5;124m\"\u001b[39m\u001b[38;5;124ms\u001b[39m\u001b[38;5;124m\"\u001b[39m\n\u001b[1;32m----> 3\u001b[0m c\u001b[38;5;241m=\u001b[39ma\u001b[38;5;241m+\u001b[39mb\n\u001b[0;32m      4\u001b[0m \u001b[38;5;28mprint\u001b[39m(c)\n",
      "\u001b[1;31mTypeError\u001b[0m: unsupported operand type(s) for +: 'int' and 'str'"
     ]
    }
   ],
   "source": [
    "a=10\n",
    "b=\"s\"\n",
    "c=a+b\n",
    "print(c)"
   ]
  },
  {
   "cell_type": "code",
   "execution_count": 3,
   "id": "704fff81-a9a6-4ea2-9864-ed908d50228d",
   "metadata": {},
   "outputs": [
    {
     "name": "stdin",
     "output_type": "stream",
     "text": [
      "please enter the a value 33\n",
      "please enter the b value 5\n"
     ]
    },
    {
     "name": "stdout",
     "output_type": "stream",
     "text": [
      "165\n"
     ]
    }
   ],
   "source": [
    "a = int(input(\"please enter the a value\"))\n",
    "b = int(input(\"please enter the b value\"))\n",
    "c = a*b\n",
    "print(c)"
   ]
  },
  {
   "cell_type": "code",
   "execution_count": 11,
   "id": "ccff39fa-ef50-416b-937e-523766e94e05",
   "metadata": {},
   "outputs": [
    {
     "name": "stdin",
     "output_type": "stream",
     "text": [
      "enter first number 8\n",
      "enter second number d\n"
     ]
    },
    {
     "ename": "ValueError",
     "evalue": "invalid literal for int() with base 10: 'd'",
     "output_type": "error",
     "traceback": [
      "\u001b[1;31m---------------------------------------------------------------------------\u001b[0m",
      "\u001b[1;31mValueError\u001b[0m                                Traceback (most recent call last)",
      "Cell \u001b[1;32mIn[11], line 2\u001b[0m\n\u001b[0;32m      1\u001b[0m a \u001b[38;5;241m=\u001b[39m \u001b[38;5;28mint\u001b[39m(\u001b[38;5;28minput\u001b[39m(\u001b[38;5;124m\"\u001b[39m\u001b[38;5;124menter first number\u001b[39m\u001b[38;5;124m\"\u001b[39m))\n\u001b[1;32m----> 2\u001b[0m b \u001b[38;5;241m=\u001b[39m \u001b[38;5;28mint\u001b[39m(\u001b[38;5;28minput\u001b[39m(\u001b[38;5;124m\"\u001b[39m\u001b[38;5;124menter second number\u001b[39m\u001b[38;5;124m\"\u001b[39m))\n\u001b[0;32m      4\u001b[0m c \u001b[38;5;241m=\u001b[39m a\u001b[38;5;241m/\u001b[39mb\n\u001b[0;32m      6\u001b[0m \u001b[38;5;28mprint\u001b[39m(c)\n",
      "\u001b[1;31mValueError\u001b[0m: invalid literal for int() with base 10: 'd'"
     ]
    }
   ],
   "source": [
    "a = int(input(\"enter first number\"))\n",
    "b = int(input(\"enter second number\"))\n",
    "\n",
    "c = a/b\n",
    "\n",
    "print(c)"
   ]
  },
  {
   "cell_type": "code",
   "execution_count": 17,
   "id": "ec73e797",
   "metadata": {
    "id": "ec73e797",
    "outputId": "e6d710aa-ff17-441f-c079-f340e8f4b544"
   },
   "outputs": [
    {
     "name": "stdin",
     "output_type": "stream",
     "text": [
      "please enter first number:  9\n",
      "please enter second number:  0\n"
     ]
    },
    {
     "ename": "ZeroDivisionError",
     "evalue": "division by zero",
     "output_type": "error",
     "traceback": [
      "\u001b[1;31m---------------------------------------------------------------------------\u001b[0m",
      "\u001b[1;31mZeroDivisionError\u001b[0m                         Traceback (most recent call last)",
      "Cell \u001b[1;32mIn[17], line 3\u001b[0m\n\u001b[0;32m      1\u001b[0m a\u001b[38;5;241m=\u001b[39m\u001b[38;5;28mint\u001b[39m(\u001b[38;5;28minput\u001b[39m(\u001b[38;5;124m\"\u001b[39m\u001b[38;5;124mplease enter first number: \u001b[39m\u001b[38;5;124m\"\u001b[39m))\n\u001b[0;32m      2\u001b[0m b\u001b[38;5;241m=\u001b[39m\u001b[38;5;28mint\u001b[39m(\u001b[38;5;28minput\u001b[39m(\u001b[38;5;124m\"\u001b[39m\u001b[38;5;124mplease enter second number: \u001b[39m\u001b[38;5;124m\"\u001b[39m))\n\u001b[1;32m----> 3\u001b[0m c\u001b[38;5;241m=\u001b[39ma\u001b[38;5;241m/\u001b[39mb\n\u001b[0;32m      5\u001b[0m \u001b[38;5;28mprint\u001b[39m(c)\n\u001b[0;32m      7\u001b[0m d\u001b[38;5;241m=\u001b[39ma\u001b[38;5;241m*\u001b[39mb\n",
      "\u001b[1;31mZeroDivisionError\u001b[0m: division by zero"
     ]
    }
   ],
   "source": [
    "a=int(input(\"please enter first number: \"))\n",
    "b=int(input(\"please enter second number: \"))\n",
    "c=a/b\n",
    "\n",
    "print(c)\n",
    "\n",
    "d=a*b\n",
    "\n",
    "print(d)"
   ]
  },
  {
   "cell_type": "code",
   "execution_count": null,
   "id": "7cce9997",
   "metadata": {
    "id": "7cce9997"
   },
   "outputs": [],
   "source": [
    "try\n",
    "except\n",
    "else\n",
    "raise\n",
    "finally"
   ]
  },
  {
   "cell_type": "code",
   "execution_count": 23,
   "id": "7d862715",
   "metadata": {
    "id": "7d862715",
    "outputId": "c40afcbe-721f-468a-b975-f78684cb7170"
   },
   "outputs": [
    {
     "name": "stdin",
     "output_type": "stream",
     "text": [
      "Please enter first number:  s\n"
     ]
    },
    {
     "ename": "ValueError",
     "evalue": "invalid literal for int() with base 10: 's'",
     "output_type": "error",
     "traceback": [
      "\u001b[1;31m---------------------------------------------------------------------------\u001b[0m",
      "\u001b[1;31mValueError\u001b[0m                                Traceback (most recent call last)",
      "Cell \u001b[1;32mIn[23], line 1\u001b[0m\n\u001b[1;32m----> 1\u001b[0m a\u001b[38;5;241m=\u001b[39m\u001b[38;5;28mint\u001b[39m(\u001b[38;5;28minput\u001b[39m(\u001b[38;5;124m\"\u001b[39m\u001b[38;5;124mPlease enter first number: \u001b[39m\u001b[38;5;124m\"\u001b[39m))\n\u001b[0;32m      2\u001b[0m b\u001b[38;5;241m=\u001b[39m\u001b[38;5;28mint\u001b[39m(\u001b[38;5;28minput\u001b[39m(\u001b[38;5;124m\"\u001b[39m\u001b[38;5;124mPlease enter second number: \u001b[39m\u001b[38;5;124m\"\u001b[39m))\n\u001b[0;32m      3\u001b[0m \u001b[38;5;28;01mtry\u001b[39;00m:\n",
      "\u001b[1;31mValueError\u001b[0m: invalid literal for int() with base 10: 's'"
     ]
    }
   ],
   "source": [
    "a=int(input(\"Please enter first number: \"))\n",
    "b=int(input(\"Please enter second number: \"))\n",
    "try:\n",
    "    c=a/b\n",
    "    print(c)\n",
    "except ZeroDivisionError:\n",
    "    print(\"b should not be a zero\")"
   ]
  },
  {
   "cell_type": "code",
   "execution_count": 31,
   "id": "29cc006e",
   "metadata": {
    "id": "29cc006e",
    "outputId": "b43b0a07-da3d-40da-85f7-169844349f0d"
   },
   "outputs": [
    {
     "name": "stdin",
     "output_type": "stream",
     "text": [
      "enter first number r\n"
     ]
    },
    {
     "ename": "ValueError",
     "evalue": "invalid literal for int() with base 10: 'r'",
     "output_type": "error",
     "traceback": [
      "\u001b[1;31m---------------------------------------------------------------------------\u001b[0m",
      "\u001b[1;31mValueError\u001b[0m                                Traceback (most recent call last)",
      "Cell \u001b[1;32mIn[31], line 1\u001b[0m\n\u001b[1;32m----> 1\u001b[0m a\u001b[38;5;241m=\u001b[39m\u001b[38;5;28mint\u001b[39m(\u001b[38;5;28minput\u001b[39m(\u001b[38;5;124m\"\u001b[39m\u001b[38;5;124menter first number\u001b[39m\u001b[38;5;124m\"\u001b[39m))\n\u001b[0;32m      2\u001b[0m b\u001b[38;5;241m=\u001b[39m\u001b[38;5;28mint\u001b[39m(\u001b[38;5;28minput\u001b[39m(\u001b[38;5;124m\"\u001b[39m\u001b[38;5;124menter second number\u001b[39m\u001b[38;5;124m\"\u001b[39m))\n\u001b[0;32m      3\u001b[0m c\u001b[38;5;241m=\u001b[39ma\u001b[38;5;241m/\u001b[39mb\n",
      "\u001b[1;31mValueError\u001b[0m: invalid literal for int() with base 10: 'r'"
     ]
    }
   ],
   "source": [
    "a=int(input(\"enter first number\"))\n",
    "b=int(input(\"enter second number\"))\n",
    "c=a/b\n",
    "print(c)"
   ]
  },
  {
   "cell_type": "code",
   "execution_count": 27,
   "id": "b657b1d2",
   "metadata": {
    "id": "b657b1d2",
    "outputId": "46d7a77b-3197-4945-9856-a5fa7fadd2ab"
   },
   "outputs": [
    {
     "name": "stdin",
     "output_type": "stream",
     "text": [
      "Please enter first number:  7\n",
      "Please enter second number:  0\n"
     ]
    },
    {
     "name": "stdout",
     "output_type": "stream",
     "text": [
      "b value should not be zero\n",
      "7\n"
     ]
    }
   ],
   "source": [
    "a=int(input(\"Please enter first number: \"))\n",
    "b=int(input(\"Please enter second number: \"))\n",
    "try:\n",
    "    c=a/b\n",
    "    print(c)\n",
    "except:\n",
    "    print(\"b value should not be zero\")\n",
    "    \n",
    "d=a+b\n",
    "print(d)"
   ]
  },
  {
   "cell_type": "code",
   "execution_count": 43,
   "id": "d8cc1ae3",
   "metadata": {
    "id": "d8cc1ae3",
    "outputId": "6041fb0e-27a8-4872-ba00-e38126e125b1"
   },
   "outputs": [
    {
     "name": "stdin",
     "output_type": "stream",
     "text": [
      "Please enter first number:  9\n",
      "Please enter second number:  0\n"
     ]
    },
    {
     "name": "stdout",
     "output_type": "stream",
     "text": [
      "b value should not be zero\n",
      "9\n"
     ]
    }
   ],
   "source": [
    "try:\n",
    "    a=int(input(\"Please enter first number: \"))\n",
    "    b=int(input(\"Please enter second number: \"))\n",
    "    c=a/b\n",
    "    print(c)\n",
    "except ValueError:\n",
    "    print(\"pls enter the integer value\")\n",
    "except ZeroDivisionError:\n",
    "    print(\"b value should not be zero\")\n",
    "    \n",
    "d=a+b\n",
    "print(d)"
   ]
  },
  {
   "cell_type": "code",
   "execution_count": null,
   "id": "0bd9924b-2678-4aaf-ac12-2fc0868f605d",
   "metadata": {},
   "outputs": [],
   "source": []
  },
  {
   "cell_type": "markdown",
   "id": "a8a1dd33",
   "metadata": {
    "id": "a8a1dd33"
   },
   "source": [
    "Write a program to ask the user to input 2 integers and calculate and print their division. Make sure your program behaves as follows:\n",
    "\n",
    "- If the user enters a non integer value then ask him to enter only integers\n",
    "\n",
    "- If denominator is 0 , then ask him to input non-zero denominator\n",
    "\n",
    "-Repeat the process until correct input is given\n",
    "\n",
    "Only if the inputs are correct then display their division and terminate the code\n"
   ]
  },
  {
   "cell_type": "code",
   "execution_count": 56,
   "id": "fb32f3b1-14ff-4a9c-a86d-a78b1d200287",
   "metadata": {},
   "outputs": [
    {
     "name": "stdin",
     "output_type": "stream",
     "text": [
      "please enter the first number 4\n",
      "please enter the 2nd number f\n"
     ]
    },
    {
     "name": "stdout",
     "output_type": "stream",
     "text": [
      "please enter only the integer value\n"
     ]
    }
   ],
   "source": [
    "try:\n",
    "    a = int(input(\"please enter the first number\"))\n",
    "    b = int(input(\"please enter the 2nd number\"))\n",
    "    c = a/b\n",
    "    print(c)\n",
    "    \n",
    "except ValueError:\n",
    "    print(\"please enter only the integer value\")\n",
    "\n",
    "except ZeroDivisionError:\n",
    "    print(\"please enter the non zero value\")\n",
    "        "
   ]
  },
  {
   "cell_type": "code",
   "execution_count": null,
   "id": "5c274d19",
   "metadata": {
    "id": "5c274d19"
   },
   "outputs": [],
   "source": [
    "a\n",
    "b\n",
    "a/b\n",
    "a=\"s\"\n",
    "print(only int)\n",
    "b=0\n",
    "print(only non zero)"
   ]
  },
  {
   "cell_type": "code",
   "execution_count": 45,
   "id": "71ff259b",
   "metadata": {
    "id": "71ff259b",
    "outputId": "bc0aa274-b48d-4d73-8173-38e06fec1a9a"
   },
   "outputs": [
    {
     "name": "stdin",
     "output_type": "stream",
     "text": [
      "Please enter first number 9\n",
      "Please enter second number 0\n"
     ]
    },
    {
     "name": "stdout",
     "output_type": "stream",
     "text": [
      "b Value should not be zero\n"
     ]
    },
    {
     "name": "stdin",
     "output_type": "stream",
     "text": [
      "Please enter first number 6\n",
      "Please enter second number j\n"
     ]
    },
    {
     "name": "stdout",
     "output_type": "stream",
     "text": [
      "there should not be string\n"
     ]
    },
    {
     "name": "stdin",
     "output_type": "stream",
     "text": [
      "Please enter first number 7\n",
      "Please enter second number 9\n"
     ]
    },
    {
     "name": "stdout",
     "output_type": "stream",
     "text": [
      "0.7777777777777778\n"
     ]
    }
   ],
   "source": [
    "while True:\n",
    "    try:\n",
    "        a=int(input(\"Please enter first number\"))\n",
    "        b=int(input(\"Please enter second number\"))\n",
    "        c=a/b\n",
    "        print(c)\n",
    "        break\n",
    "    except ValueError:\n",
    "        print(\"there should not be string\")\n",
    "        \n",
    "    except ZeroDivisionError:\n",
    "        print(\"b Value should not be zero\")"
   ]
  },
  {
   "cell_type": "code",
   "execution_count": 47,
   "id": "6f93553e",
   "metadata": {
    "id": "6f93553e"
   },
   "outputs": [
    {
     "ename": "SyntaxError",
     "evalue": "incomplete input (177872216.py, line 6)",
     "output_type": "error",
     "traceback": [
      "\u001b[1;36m  Cell \u001b[1;32mIn[47], line 6\u001b[1;36m\u001b[0m\n\u001b[1;33m    break\u001b[0m\n\u001b[1;37m         ^\u001b[0m\n\u001b[1;31mSyntaxError\u001b[0m\u001b[1;31m:\u001b[0m incomplete input\n"
     ]
    }
   ],
   "source": [
    "try:\n",
    "        a=int(input(\"Pleae enter First number\"))\n",
    "        b=int(input(\"Please enter second number\"))\n",
    "        c=a/b\n",
    "        print(c)\n",
    "        break"
   ]
  },
  {
   "cell_type": "code",
   "execution_count": 49,
   "id": "5fbf168e",
   "metadata": {
    "id": "5fbf168e"
   },
   "outputs": [
    {
     "name": "stdin",
     "output_type": "stream",
     "text": [
      "Please enter your name:  padma\n",
      "Please enter your name:  sekhar\n",
      "Please enter your name:  varshith\n",
      "Please enter your name:  unnisa\n",
      "Please enter your name:  keziya\n",
      "Please enter your name:  datascience\n",
      "Please enter your name:  Aimnxt\n",
      "Please enter your name:  aimnxt\n"
     ]
    },
    {
     "name": "stdout",
     "output_type": "stream",
     "text": [
      "aimnxt\n"
     ]
    }
   ],
   "source": [
    "while True:\n",
    "    name=input(\"Please enter your name: \")\n",
    "    if name==\"aimnxt\":\n",
    "        print(\"aimnxt\")\n",
    "        break"
   ]
  },
  {
   "cell_type": "code",
   "execution_count": 55,
   "id": "c940b7b2",
   "metadata": {
    "id": "c940b7b2"
   },
   "outputs": [
    {
     "name": "stdin",
     "output_type": "stream",
     "text": [
      "Enter number 1: 8\n",
      "Enter number 2: u\n"
     ]
    },
    {
     "name": "stdout",
     "output_type": "stream",
     "text": [
      "Enter integer values only\n",
      "Enter non zero value in integer\n"
     ]
    }
   ],
   "source": [
    "try:\n",
    "  a=int(input(\"Enter number 1:\"))\n",
    "  b=int(input(\"Enter number 2:\"))\n",
    "except Exception:\n",
    "  print(\"Enter integer values only\")\n",
    "    \n",
    "try:\n",
    "  c=a/b\n",
    "  print(c)\n",
    "except ZeroDivisionError:\n",
    "  print(\"Enter non zero value in integer\")\n"
   ]
  },
  {
   "cell_type": "code",
   "execution_count": 59,
   "id": "6685fa87",
   "metadata": {
    "id": "6685fa87"
   },
   "outputs": [
    {
     "name": "stdin",
     "output_type": "stream",
     "text": [
      "Enter first Number :  6\n",
      "Enter Second Number :  7\n"
     ]
    },
    {
     "name": "stdout",
     "output_type": "stream",
     "text": [
      "0.8571428571428571\n"
     ]
    }
   ],
   "source": [
    "try:\n",
    "    a=int(input(\"Enter first Number : \"))\n",
    "    b=int(input(\"Enter Second Number : \"))\n",
    "    print(a/b)\n",
    "    if type(a)!=int:\n",
    "        error = \"Please enter Numeric Value of a : \"\n",
    "    if type(b)!=int:\n",
    "        error = \"Please enter Numeric Value of b : \"\n",
    "    if b==0:\n",
    "        error = \"Please enter Non 0 value for b : \"\n",
    "except:\n",
    "    print(\"Input Error\",error)"
   ]
  },
  {
   "cell_type": "code",
   "execution_count": 74,
   "id": "99c173f0",
   "metadata": {
    "id": "99c173f0"
   },
   "outputs": [
    {
     "name": "stdin",
     "output_type": "stream",
     "text": [
      "Enter a number1:  8\n",
      "Enter a number2:  0\n"
     ]
    },
    {
     "name": "stdout",
     "output_type": "stream",
     "text": [
      "number2 should not be 0\n"
     ]
    }
   ],
   "source": [
    "a = int(input(\"Enter a number1: \"))\n",
    "b = int(input(\"Enter a number2: \"))\n",
    "\n",
    "while a<0:\n",
    "    a = int(input(\"Enter a Positive number1: \"))\n",
    "while b<0:\n",
    "    b = int(input(\"Enter a Positive number2: \"))\n",
    "try:\n",
    "    c=a/b\n",
    "    print(c)\n",
    "except:\n",
    "    print(\"number2 should not be 0\")"
   ]
  },
  {
   "cell_type": "code",
   "execution_count": 53,
   "id": "92ed4aab",
   "metadata": {
    "id": "92ed4aab"
   },
   "outputs": [
    {
     "name": "stdin",
     "output_type": "stream",
     "text": [
      "enter first number 9\n",
      "enter the second number 8\n"
     ]
    },
    {
     "name": "stdout",
     "output_type": "stream",
     "text": [
      "1.125\n"
     ]
    }
   ],
   "source": [
    "try:\n",
    "  a = int(input(\"enter first number\"))\n",
    "  b = int(input(\"enter the second number\"))\n",
    "  c = a/b\n",
    "  print(c)\n",
    "except ZeroDivisionError:\n",
    "  print(\"b should not be zero\")\n",
    "\n",
    "except ValueError :\n",
    "  print(\"enter an integer\")\n"
   ]
  },
  {
   "cell_type": "code",
   "execution_count": 84,
   "id": "959f6f53",
   "metadata": {
    "id": "959f6f53"
   },
   "outputs": [
    {
     "name": "stdin",
     "output_type": "stream",
     "text": [
      "Enter no 6\n",
      "Enter no y\n"
     ]
    },
    {
     "name": "stdout",
     "output_type": "stream",
     "text": [
      "enter integer value\n"
     ]
    }
   ],
   "source": [
    "a=input(\"Enter no\")\n",
    "b=input(\"Enter no\")\n",
    "try:\n",
    "    c=int(a)/int(b)\n",
    "    print(c)\n",
    "except ZeroDivisionError:\n",
    "    print(\"b should not be 0\")\n",
    "except :\n",
    "    print(\"enter integer value\")\n"
   ]
  },
  {
   "cell_type": "code",
   "execution_count": 90,
   "id": "ca89c6f6",
   "metadata": {
    "id": "ca89c6f6",
    "outputId": "d1e37800-139f-4749-9984-ed13387e98e7"
   },
   "outputs": [
    {
     "name": "stdin",
     "output_type": "stream",
     "text": [
      "enter first number:  5\n",
      "second number:  y\n"
     ]
    },
    {
     "name": "stdout",
     "output_type": "stream",
     "text": [
      "please enter integer number only\n"
     ]
    }
   ],
   "source": [
    "a=int(input(\"enter first number: \"))\n",
    "b=input(\"second number: \")\n",
    "try:\n",
    "    d=a+b\n",
    "    print(d)\n",
    "except TypeError:\n",
    "    print(\"please enter integer number only\")"
   ]
  },
  {
   "cell_type": "code",
   "execution_count": null,
   "id": "eba6a1a4-7b9b-48c0-9717-10a1c36532f9",
   "metadata": {},
   "outputs": [],
   "source": []
  },
  {
   "cell_type": "code",
   "execution_count": null,
   "id": "79c03b61",
   "metadata": {
    "id": "79c03b61"
   },
   "outputs": [],
   "source": [
    "try:\n",
    "    a=int(input(\"enter first number: \"))\n",
    "    b=int(input(\"second number: \"))\n",
    "    c=a/b\n",
    "    print(c)\n",
    "    d=a+str(b)\n",
    "    print(d)\n",
    "except (ZeroDivisionError, ValueError):\n",
    "    print(\"b should not be a zero or please input number only\")\n"
   ]
  },
  {
   "cell_type": "code",
   "execution_count": 69,
   "id": "5f699737-f02d-4c31-b580-52bce3d3d314",
   "metadata": {},
   "outputs": [
    {
     "name": "stdin",
     "output_type": "stream",
     "text": [
      "pls enter the value of a 8\n",
      "pls enter the value of b 0\n"
     ]
    },
    {
     "name": "stdout",
     "output_type": "stream",
     "text": [
      "the exception is:  division by zero\n"
     ]
    }
   ],
   "source": [
    "try:\n",
    "    a = int(input(\"pls enter the value of a\"))\n",
    "    b = int(input(\"pls enter the value of b\"))\n",
    "    c = a/b\n",
    "    print(c)\n",
    "except Exception as e:\n",
    "    print(\"the exception is: \", e)"
   ]
  },
  {
   "cell_type": "code",
   "execution_count": 102,
   "id": "ea26f14c",
   "metadata": {
    "id": "ea26f14c",
    "outputId": "d18fb358-b728-426f-ef98-ff9615d04a21"
   },
   "outputs": [
    {
     "name": "stdin",
     "output_type": "stream",
     "text": [
      "enter first number:  6\n",
      "second number:  o\n"
     ]
    },
    {
     "name": "stdout",
     "output_type": "stream",
     "text": [
      "please enter the integer value\n"
     ]
    }
   ],
   "source": [
    "try:\n",
    "    a=int(input(\"enter first number: \"))\n",
    "    b=input(\"second number: \")\n",
    "    c=a/int(b)\n",
    "    print(c)\n",
    "    d=str(a)+(b)\n",
    "    print(d)\n",
    "except ZeroDivisionError:\n",
    "    print(\"b should not be a zero\")\n",
    "except ValueError:\n",
    "    print(\"please enter the integer value\")"
   ]
  },
  {
   "cell_type": "code",
   "execution_count": null,
   "id": "2da1e71c",
   "metadata": {
    "id": "2da1e71c",
    "outputId": "ec7b22ef-478a-45d3-e015-4adc982cdfc7"
   },
   "outputs": [
    {
     "name": "stdout",
     "output_type": "stream",
     "text": [
      "enter first number: 10\n",
      "second number: 0\n",
      "b should not be a zero\n"
     ]
    }
   ],
   "source": [
    "a=int(input(\"enter first number: \"))\n",
    "b=int(input(\"second number: \"))\n",
    "try:\n",
    "    c=a/b\n",
    "    print(c)\n",
    "    d=a+str(b)\n",
    "    print(d)\n",
    "except:\n",
    "    print(\"b should not be a zero\")"
   ]
  },
  {
   "cell_type": "code",
   "execution_count": 108,
   "id": "edf076a2",
   "metadata": {
    "id": "edf076a2",
    "outputId": "89d91b37-8686-4e4a-a0a8-2da9219f0512"
   },
   "outputs": [
    {
     "name": "stdin",
     "output_type": "stream",
     "text": [
      "enter a number 0\n"
     ]
    }
   ],
   "source": [
    "try:\n",
    "    int(input(\"enter a number\"))\n",
    "except:\n",
    "    print(\"sting not allowed\")"
   ]
  },
  {
   "cell_type": "code",
   "execution_count": 110,
   "id": "7af65b3e",
   "metadata": {
    "id": "7af65b3e",
    "outputId": "ca7c71e4-f183-4563-8f17-7043dcf479a7"
   },
   "outputs": [
    {
     "name": "stdin",
     "output_type": "stream",
     "text": [
      "first number: 9\n",
      "second number: 0\n"
     ]
    },
    {
     "name": "stdout",
     "output_type": "stream",
     "text": [
      "division by zero\n"
     ]
    },
    {
     "name": "stdin",
     "output_type": "stream",
     "text": [
      "first number: 9\n",
      "second number: 8\n"
     ]
    },
    {
     "name": "stdout",
     "output_type": "stream",
     "text": [
      "div: 1.125\n"
     ]
    }
   ],
   "source": [
    "while True:\n",
    "    try:\n",
    "        a=int(input(\"first number:\"))\n",
    "        b=int(input(\"second number:\"))\n",
    "        c=a/b\n",
    "        print(\"div:\", c)\n",
    "        break\n",
    "    except ZeroDivisionError as e:\n",
    "        print(e)"
   ]
  },
  {
   "cell_type": "code",
   "execution_count": 71,
   "id": "95e8080e",
   "metadata": {
    "id": "95e8080e",
    "outputId": "10f89cbd-14f8-49e6-e0ee-e3285f0a65ec"
   },
   "outputs": [
    {
     "name": "stdin",
     "output_type": "stream",
     "text": [
      "Please enter the first number: 9\n",
      "Please enter the second number: 0\n"
     ]
    },
    {
     "name": "stdout",
     "output_type": "stream",
     "text": [
      "exception class <class 'ZeroDivisionError'>\n",
      "exception message division by zero\n",
      "line number 6\n"
     ]
    },
    {
     "name": "stdin",
     "output_type": "stream",
     "text": [
      "Please enter the first number: 8\n",
      "Please enter the second number: s\n"
     ]
    },
    {
     "name": "stdout",
     "output_type": "stream",
     "text": [
      "exception class <class 'ValueError'>\n",
      "exception message invalid literal for int() with base 10: 's'\n",
      "line number 5\n"
     ]
    },
    {
     "name": "stdin",
     "output_type": "stream",
     "text": [
      "Please enter the first number: 7\n",
      "Please enter the second number: 9\n"
     ]
    },
    {
     "name": "stdout",
     "output_type": "stream",
     "text": [
      "div: 0.7777777777777778\n"
     ]
    }
   ],
   "source": [
    "import sys\n",
    "while True:\n",
    "    try:\n",
    "        a=int(input(\"Please enter the first number:\"))\n",
    "        b=int(input(\"Please enter the second number:\"))\n",
    "        c=a/b\n",
    "        print(\"div:\", c)\n",
    "        break\n",
    "    except:\n",
    "        a,b,c=sys.exc_info()\n",
    "        print(\"exception class\", a)\n",
    "        print(\"exception message\", b)\n",
    "        print(\"line number\", c.tb_lineno)"
   ]
  },
  {
   "cell_type": "code",
   "execution_count": 75,
   "id": "52916825-2626-4d92-b1cb-820ee3913f70",
   "metadata": {},
   "outputs": [
    {
     "name": "stdin",
     "output_type": "stream",
     "text": [
      "Please enter the first number: 8\n",
      "Please enter the second number: 0\n"
     ]
    },
    {
     "name": "stdout",
     "output_type": "stream",
     "text": [
      "exception class <class 'ZeroDivisionError'>\n",
      "exception message division by zero\n",
      "line number 6\n",
      "please print this final block\n"
     ]
    },
    {
     "name": "stdin",
     "output_type": "stream",
     "text": [
      "Please enter the first number: 8\n",
      "Please enter the second number: h\n"
     ]
    },
    {
     "name": "stdout",
     "output_type": "stream",
     "text": [
      "exception class <class 'ValueError'>\n",
      "exception message invalid literal for int() with base 10: 'h'\n",
      "line number 5\n",
      "please print this final block\n"
     ]
    },
    {
     "name": "stdin",
     "output_type": "stream",
     "text": [
      "Please enter the first number: 9\n",
      "Please enter the second number: 8\n"
     ]
    },
    {
     "name": "stdout",
     "output_type": "stream",
     "text": [
      "div: 1.125\n",
      "please print this final block\n"
     ]
    }
   ],
   "source": [
    "import sys\n",
    "while True:\n",
    "    try:\n",
    "        a=int(input(\"Please enter the first number:\"))\n",
    "        b=int(input(\"Please enter the second number:\"))\n",
    "        c=a/b\n",
    "        print(\"div:\", c)\n",
    "        break\n",
    "    except:\n",
    "        a,b,c=sys.exc_info()\n",
    "        print(\"exception class\", a)\n",
    "        print(\"exception message\", b)\n",
    "        print(\"line number\", c.tb_lineno)\n",
    "    finally:\n",
    "        print(\"please print this final block\")"
   ]
  },
  {
   "cell_type": "code",
   "execution_count": null,
   "id": "54243e2e",
   "metadata": {
    "id": "54243e2e"
   },
   "outputs": [],
   "source": []
  },
  {
   "cell_type": "code",
   "execution_count": null,
   "id": "f6a3da4a",
   "metadata": {
    "id": "f6a3da4a"
   },
   "outputs": [],
   "source": [
    "a,b,c=(1,2,3)"
   ]
  },
  {
   "cell_type": "code",
   "execution_count": null,
   "id": "a15c0314",
   "metadata": {
    "id": "a15c0314",
    "outputId": "bcad1588-5d34-4027-bf0e-3be28e55dc9c"
   },
   "outputs": [
    {
     "data": {
      "text/plain": [
       "1"
      ]
     },
     "execution_count": 7,
     "metadata": {},
     "output_type": "execute_result"
    }
   ],
   "source": [
    "a"
   ]
  },
  {
   "cell_type": "code",
   "execution_count": null,
   "id": "f50fe9d9",
   "metadata": {
    "id": "f50fe9d9",
    "outputId": "133cba10-f0e1-41aa-a837-a5cf17d3ac9c"
   },
   "outputs": [
    {
     "data": {
      "text/plain": [
       "2"
      ]
     },
     "execution_count": 8,
     "metadata": {},
     "output_type": "execute_result"
    }
   ],
   "source": [
    "b"
   ]
  },
  {
   "cell_type": "code",
   "execution_count": null,
   "id": "b161c71c",
   "metadata": {
    "id": "b161c71c",
    "outputId": "7c4d9ca5-cf5e-41b9-c320-5952ee87be78"
   },
   "outputs": [
    {
     "data": {
      "text/plain": [
       "3"
      ]
     },
     "execution_count": 9,
     "metadata": {},
     "output_type": "execute_result"
    }
   ],
   "source": [
    "c"
   ]
  },
  {
   "cell_type": "code",
   "execution_count": null,
   "id": "2567500d",
   "metadata": {
    "id": "2567500d"
   },
   "outputs": [],
   "source": [
    "#import sys.exc.info()\n",
    "import traceback.format_exc()"
   ]
  },
  {
   "cell_type": "code",
   "execution_count": 77,
   "id": "1dfc5191",
   "metadata": {
    "id": "1dfc5191",
    "outputId": "b8e2789d-29d8-428d-d48a-4285f1205695"
   },
   "outputs": [
    {
     "name": "stdin",
     "output_type": "stream",
     "text": [
      "first number: 9\n",
      "second number: 0\n"
     ]
    },
    {
     "name": "stdout",
     "output_type": "stream",
     "text": [
      "Traceback (most recent call last):\n",
      "  File \"C:\\Users\\Dell\\AppData\\Local\\Temp\\ipykernel_5808\\151111053.py\", line 6, in <module>\n",
      "    c=a/b\n",
      "      ~^~\n",
      "ZeroDivisionError: division by zero\n",
      "\n"
     ]
    },
    {
     "name": "stdin",
     "output_type": "stream",
     "text": [
      "first number: 9\n",
      "second number: h\n"
     ]
    },
    {
     "name": "stdout",
     "output_type": "stream",
     "text": [
      "Traceback (most recent call last):\n",
      "  File \"C:\\Users\\Dell\\AppData\\Local\\Temp\\ipykernel_5808\\151111053.py\", line 5, in <module>\n",
      "    b=int(input(\"second number:\"))\n",
      "      ^^^^^^^^^^^^^^^^^^^^^^^^^^^^\n",
      "ValueError: invalid literal for int() with base 10: 'h'\n",
      "\n"
     ]
    },
    {
     "name": "stdin",
     "output_type": "stream",
     "text": [
      "first number: 9\n",
      "second number: 8\n"
     ]
    },
    {
     "name": "stdout",
     "output_type": "stream",
     "text": [
      "div: 1.125\n"
     ]
    }
   ],
   "source": [
    "import traceback\n",
    "while True:\n",
    "    try:\n",
    "        a=int(input(\"first number:\"))\n",
    "        b=int(input(\"second number:\"))\n",
    "        c=a/b\n",
    "        print(\"div:\", c)\n",
    "        break\n",
    "    except:\n",
    "        print(traceback.format_exc())\n"
   ]
  },
  {
   "cell_type": "code",
   "execution_count": null,
   "id": "6b885394",
   "metadata": {
    "id": "6b885394",
    "outputId": "210779ed-ca8c-4778-c740-faec295d4d71"
   },
   "outputs": [
    {
     "ename": "ZeroDivisionError",
     "evalue": "division by zero",
     "output_type": "error",
     "traceback": [
      "\u001b[1;31m---------------------------------------------------------------------------\u001b[0m",
      "\u001b[1;31mZeroDivisionError\u001b[0m                         Traceback (most recent call last)",
      "\u001b[1;32m~\\AppData\\Local\\Temp/ipykernel_22964/3771479761.py\u001b[0m in \u001b[0;36m<module>\u001b[1;34m\u001b[0m\n\u001b[0;32m      1\u001b[0m \u001b[0ma\u001b[0m\u001b[1;33m=\u001b[0m\u001b[1;36m10\u001b[0m\u001b[1;33m\u001b[0m\u001b[1;33m\u001b[0m\u001b[0m\n\u001b[0;32m      2\u001b[0m \u001b[0mb\u001b[0m\u001b[1;33m=\u001b[0m\u001b[1;36m0\u001b[0m\u001b[1;33m\u001b[0m\u001b[1;33m\u001b[0m\u001b[0m\n\u001b[1;32m----> 3\u001b[1;33m \u001b[0ma\u001b[0m\u001b[1;33m/\u001b[0m\u001b[0mb\u001b[0m\u001b[1;33m\u001b[0m\u001b[1;33m\u001b[0m\u001b[0m\n\u001b[0m",
      "\u001b[1;31mZeroDivisionError\u001b[0m: division by zero"
     ]
    }
   ],
   "source": [
    "a=10\n",
    "b=0\n",
    "a/b"
   ]
  },
  {
   "cell_type": "code",
   "execution_count": null,
   "id": "8a26921d",
   "metadata": {
    "id": "8a26921d"
   },
   "outputs": [],
   "source": [
    "#raise  exception"
   ]
  },
  {
   "cell_type": "code",
   "execution_count": null,
   "id": "f44190a4",
   "metadata": {
    "id": "f44190a4"
   },
   "outputs": [],
   "source": [
    "#at custom line"
   ]
  },
  {
   "cell_type": "code",
   "execution_count": null,
   "id": "8b3213fe",
   "metadata": {
    "id": "8b3213fe",
    "outputId": "e4ac7a71-f229-4eff-c248-496690714ff4"
   },
   "outputs": [
    {
     "name": "stdout",
     "output_type": "stream",
     "text": [
      "first number:10\n",
      "second number:0\n"
     ]
    },
    {
     "ename": "ZeroDivisionError",
     "evalue": "division by zero",
     "output_type": "error",
     "traceback": [
      "\u001b[1;31m---------------------------------------------------------------------------\u001b[0m",
      "\u001b[1;31mZeroDivisionError\u001b[0m                         Traceback (most recent call last)",
      "\u001b[1;32m~\\AppData\\Local\\Temp/ipykernel_22964/1604168717.py\u001b[0m in \u001b[0;36m<module>\u001b[1;34m\u001b[0m\n\u001b[0;32m      1\u001b[0m \u001b[0ma\u001b[0m\u001b[1;33m=\u001b[0m\u001b[0mint\u001b[0m\u001b[1;33m(\u001b[0m\u001b[0minput\u001b[0m\u001b[1;33m(\u001b[0m\u001b[1;34m\"first number:\"\u001b[0m\u001b[1;33m)\u001b[0m \u001b[1;33m)\u001b[0m\u001b[1;33m\u001b[0m\u001b[1;33m\u001b[0m\u001b[0m\n\u001b[0;32m      2\u001b[0m \u001b[0mb\u001b[0m\u001b[1;33m=\u001b[0m\u001b[0mint\u001b[0m\u001b[1;33m(\u001b[0m\u001b[0minput\u001b[0m\u001b[1;33m(\u001b[0m\u001b[1;34m\"second number:\"\u001b[0m\u001b[1;33m)\u001b[0m\u001b[1;33m)\u001b[0m\u001b[1;33m\u001b[0m\u001b[1;33m\u001b[0m\u001b[0m\n\u001b[1;32m----> 3\u001b[1;33m \u001b[0ma\u001b[0m\u001b[1;33m/\u001b[0m\u001b[0mb\u001b[0m\u001b[1;33m\u001b[0m\u001b[1;33m\u001b[0m\u001b[0m\n\u001b[0m",
      "\u001b[1;31mZeroDivisionError\u001b[0m: division by zero"
     ]
    }
   ],
   "source": [
    "a=int(input(\"first number:\") )\n",
    "b=int(input(\"second number:\"))\n",
    "a/b"
   ]
  },
  {
   "cell_type": "code",
   "execution_count": 79,
   "id": "2733fe8b",
   "metadata": {
    "id": "2733fe8b",
    "outputId": "a04d46c6-5c5c-43df-90e9-56d884046793"
   },
   "outputs": [
    {
     "name": "stdin",
     "output_type": "stream",
     "text": [
      "first number: 9\n",
      "second number: -1\n"
     ]
    },
    {
     "name": "stdout",
     "output_type": "stream",
     "text": [
      "neg number not allowed\n"
     ]
    },
    {
     "name": "stdin",
     "output_type": "stream",
     "text": [
      "first number: 8\n",
      "second number: u\n"
     ]
    },
    {
     "name": "stdout",
     "output_type": "stream",
     "text": [
      "please enter int only\n"
     ]
    },
    {
     "name": "stdin",
     "output_type": "stream",
     "text": [
      "first number: 9\n",
      "second number: 0\n"
     ]
    },
    {
     "name": "stdout",
     "output_type": "stream",
     "text": [
      "please enter non zero denomitor\n"
     ]
    },
    {
     "name": "stdin",
     "output_type": "stream",
     "text": [
      "first number: 9\n",
      "second number: 8\n"
     ]
    },
    {
     "name": "stdout",
     "output_type": "stream",
     "text": [
      "div is 1.125\n"
     ]
    }
   ],
   "source": [
    "while True:\n",
    "    try:\n",
    "        a=int(input(\"first number:\"))\n",
    "        b=int(input(\"second number:\"))\n",
    "        if a<0 or b<0:\n",
    "            raise Exception(\"neg number not allowed\")\n",
    "        c=a/b\n",
    "        print(\"div is\", c)\n",
    "        break\n",
    "    except ValueError:\n",
    "        print(\"please enter int only\")\n",
    "    except ZeroDivisionError:\n",
    "        print(\"please enter non zero denomitor\")\n",
    "    except Exception as e:\n",
    "        print(e)"
   ]
  },
  {
   "cell_type": "code",
   "execution_count": 81,
   "id": "e4a8ef0f-306c-42b3-a21a-8ac1e208f8ee",
   "metadata": {},
   "outputs": [
    {
     "name": "stdin",
     "output_type": "stream",
     "text": [
      "first number: 8\n",
      "second number: 0\n"
     ]
    },
    {
     "name": "stdout",
     "output_type": "stream",
     "text": [
      "division by zero\n"
     ]
    },
    {
     "name": "stdin",
     "output_type": "stream",
     "text": [
      "first number: 8\n",
      "second number: 9\n"
     ]
    },
    {
     "name": "stdout",
     "output_type": "stream",
     "text": [
      "div is 0.8888888888888888\n"
     ]
    }
   ],
   "source": [
    "while True:\n",
    "    try:\n",
    "        a=int(input(\"first number:\"))\n",
    "        b=int(input(\"second number:\"))\n",
    "        if a<0 or b<0:\n",
    "            raise Exception(\"neg number not allowed\")\n",
    "        c=a/b\n",
    "        print(\"div is\", c)\n",
    "        break\n",
    "    except ValueError:\n",
    "        print(\"please enter int only\")\n",
    "    except ZeroDivisionError:\n",
    "        print(\"please enter non zero denomitor\")\n",
    "    except Exception as e:\n",
    "        print(e)"
   ]
  },
  {
   "cell_type": "markdown",
   "id": "aeb6a545",
   "metadata": {
    "id": "aeb6a545"
   },
   "source": [
    "#### exception class in python already they have define and we are calling this class."
   ]
  },
  {
   "cell_type": "markdown",
   "id": "8575bb27",
   "metadata": {
    "id": "8575bb27"
   },
   "source": [
    "### if you are going to define this class in your code so it will run"
   ]
  },
  {
   "cell_type": "code",
   "execution_count": null,
   "id": "1699bae8",
   "metadata": {
    "id": "1699bae8"
   },
   "outputs": [],
   "source": [
    "class NegativeNumberException(Exception):\n",
    "    pass"
   ]
  },
  {
   "cell_type": "code",
   "execution_count": null,
   "id": "1c157e1f",
   "metadata": {
    "id": "1c157e1f",
    "outputId": "18c4bd26-7c11-4db4-e17e-4a4d8c6cf9ea",
    "scrolled": true
   },
   "outputs": [
    {
     "name": "stdout",
     "output_type": "stream",
     "text": [
      "first number:10\n",
      "second number:-10\n",
      "neg number note allowd\n",
      "first number:10\n",
      "second number:210\n",
      "div is 0.047619047619047616\n"
     ]
    }
   ],
   "source": [
    "#custom exception\n",
    "class NegativeNumberException(Exception):\n",
    "    pass\n",
    "while True:\n",
    "    try:\n",
    "        a=int(input(\"first number:\"))\n",
    "        b=int(input(\"second number:\"))\n",
    "        if a<0 or b<0:\n",
    "            raise NegativeNumberException(\"neg number note allowd\")\n",
    "        c=a/b\n",
    "        print(\"div is\", c)\n",
    "        break\n",
    "    except ValueError:\n",
    "        print(\"please enter int only\")\n",
    "    except ZeroDivisionError:\n",
    "        print(\"please enter non zero denomitor\")\n",
    "    except NegativeNumberException as e:\n",
    "        print(e)"
   ]
  },
  {
   "cell_type": "code",
   "execution_count": 9,
   "id": "33b78cbc-59f1-4a37-845b-fd25bad2061b",
   "metadata": {},
   "outputs": [
    {
     "ename": "SyntaxError",
     "evalue": "'(' was never closed (3811639897.py, line 6)",
     "output_type": "error",
     "traceback": [
      "\u001b[1;36m  Cell \u001b[1;32mIn[9], line 6\u001b[1;36m\u001b[0m\n\u001b[1;33m    print(c\u001b[0m\n\u001b[1;37m         ^\u001b[0m\n\u001b[1;31mSyntaxError\u001b[0m\u001b[1;31m:\u001b[0m '(' was never closed\n"
     ]
    }
   ],
   "source": [
    "a = int(input(\"please enter the value of a\"))\n",
    "b = int(input(\"please enter the value of b\"))\n",
    "c = a+b\n",
    "d = a-b\n",
    "e= a/b\n",
    "print(c\n",
    "print(d)\n",
    "print(e)"
   ]
  },
  {
   "cell_type": "code",
   "execution_count": null,
   "id": "442e1245-e2d8-4f22-b62c-78122d6bac50",
   "metadata": {},
   "outputs": [],
   "source": []
  },
  {
   "cell_type": "code",
   "execution_count": 13,
   "id": "90c7930e-2fcb-4906-970b-4309e8319d1f",
   "metadata": {},
   "outputs": [
    {
     "name": "stdin",
     "output_type": "stream",
     "text": [
      "please enter the value of a 6\n",
      "please enter the value of b s\n"
     ]
    },
    {
     "name": "stdout",
     "output_type": "stream",
     "text": [
      "Please enter interger value\n"
     ]
    }
   ],
   "source": [
    "try:\n",
    "    a = int(input(\"please enter the value of a\"))\n",
    "    b = int(input(\"please enter the value of b\"))\n",
    "    c = a+b\n",
    "    d = a-b\n",
    "    e= a/b\n",
    "    print(c)\n",
    "    print(d)\n",
    "    print(e)\n",
    "except ZeroDivisionError:\n",
    "    print(\"please enter non zero value\")\n",
    "except ValueError:\n",
    "    print(\"Please enter interger value\")\n",
    "except TypeError:\n",
    "    print(\"please enter 2 inputs as integer values\")\n",
    "except Exception as ex:\n",
    "    print(ex)"
   ]
  },
  {
   "cell_type": "code",
   "execution_count": 19,
   "id": "6b8a09cd-16fa-4f70-8c25-d6d8c017c914",
   "metadata": {},
   "outputs": [
    {
     "name": "stdin",
     "output_type": "stream",
     "text": [
      "please enter the value of a 6\n",
      "please enter the value of b y\n"
     ]
    },
    {
     "name": "stdout",
     "output_type": "stream",
     "text": [
      "invalid literal for int() with base 10: 'y'\n"
     ]
    }
   ],
   "source": [
    "try:\n",
    "    a = int(input(\"please enter the value of a\"))\n",
    "    b = int(input(\"please enter the value of b\"))\n",
    "    c = a+b\n",
    "    d = a-b\n",
    "    e= a/b\n",
    "    print(c)\n",
    "    print(d)\n",
    "    print(e)\n",
    "except Exception as ex:\n",
    "    print(ex)"
   ]
  },
  {
   "cell_type": "code",
   "execution_count": 21,
   "id": "c0ec861b-5aaa-413e-9dcb-dad990c80abb",
   "metadata": {},
   "outputs": [
    {
     "name": "stdin",
     "output_type": "stream",
     "text": [
      "please enter the value of a 6\n",
      "please enter the value of b 0\n"
     ]
    },
    {
     "name": "stdout",
     "output_type": "stream",
     "text": [
      "division by zero\n"
     ]
    }
   ],
   "source": [
    "try:\n",
    "    a = int(input(\"please enter the value of a\"))\n",
    "    b = int(input(\"please enter the value of b\"))\n",
    "    c = a+b\n",
    "    d = a-b\n",
    "    e= a/b\n",
    "    print(c)\n",
    "    print(d)\n",
    "    print(e)\n",
    "    \n",
    "except ZeroDivisionError:\n",
    "    print(\"please enter non zero value\")\n",
    "except ValueError:\n",
    "    print(\"Please enter interger value\")\n",
    "except TypeError:\n",
    "    print(\"please enter 2 inputs as integer values\")\n",
    "\n",
    "except Exception as ex:\n",
    "    print(ex)\n"
   ]
  },
  {
   "cell_type": "code",
   "execution_count": 29,
   "id": "8ef3af01-17d5-4ff2-a60c-4d2d818ce805",
   "metadata": {},
   "outputs": [
    {
     "name": "stdin",
     "output_type": "stream",
     "text": [
      "please enter the value of a 7\n",
      "please enter the value of b 8\n"
     ]
    },
    {
     "name": "stdout",
     "output_type": "stream",
     "text": [
      "15\n",
      "-1\n",
      "0.875\n"
     ]
    }
   ],
   "source": [
    "try:\n",
    "    a = int(input(\"please enter the value of a\"))\n",
    "    b = int(input(\"please enter the value of b\"))\n",
    "    c = a+b\n",
    "    d = a-b\n",
    "    e= a/b\n",
    "except ZeroDivisionError:\n",
    "    print(\"please enter non zero value\")\n",
    "    \n",
    "else:\n",
    "    print(c)\n",
    "    print(d)\n",
    "    print(e)\n",
    "    "
   ]
  },
  {
   "cell_type": "markdown",
   "id": "25a41808",
   "metadata": {
    "id": "25a41808"
   },
   "source": [
    "### final block"
   ]
  },
  {
   "cell_type": "code",
   "execution_count": 35,
   "id": "a9ca9205",
   "metadata": {
    "id": "a9ca9205",
    "outputId": "a09396dd-0d3b-4ee5-b167-98ec98d83103"
   },
   "outputs": [
    {
     "name": "stdin",
     "output_type": "stream",
     "text": [
      "please enter the value of a 6\n",
      "please enter the value of b y\n"
     ]
    },
    {
     "name": "stdout",
     "output_type": "stream",
     "text": [
      "hello\n",
      "python\n"
     ]
    },
    {
     "ename": "ValueError",
     "evalue": "invalid literal for int() with base 10: 'y'",
     "output_type": "error",
     "traceback": [
      "\u001b[1;31m---------------------------------------------------------------------------\u001b[0m",
      "\u001b[1;31mValueError\u001b[0m                                Traceback (most recent call last)",
      "Cell \u001b[1;32mIn[35], line 3\u001b[0m\n\u001b[0;32m      1\u001b[0m \u001b[38;5;28;01mtry\u001b[39;00m:\n\u001b[0;32m      2\u001b[0m     a \u001b[38;5;241m=\u001b[39m \u001b[38;5;28mint\u001b[39m(\u001b[38;5;28minput\u001b[39m(\u001b[38;5;124m\"\u001b[39m\u001b[38;5;124mplease enter the value of a\u001b[39m\u001b[38;5;124m\"\u001b[39m))\n\u001b[1;32m----> 3\u001b[0m     b \u001b[38;5;241m=\u001b[39m \u001b[38;5;28mint\u001b[39m(\u001b[38;5;28minput\u001b[39m(\u001b[38;5;124m\"\u001b[39m\u001b[38;5;124mplease enter the value of b\u001b[39m\u001b[38;5;124m\"\u001b[39m))\n\u001b[0;32m      4\u001b[0m     c \u001b[38;5;241m=\u001b[39m a\u001b[38;5;241m+\u001b[39mb\n\u001b[0;32m      5\u001b[0m     d \u001b[38;5;241m=\u001b[39m a\u001b[38;5;241m-\u001b[39mb\n",
      "\u001b[1;31mValueError\u001b[0m: invalid literal for int() with base 10: 'y'"
     ]
    }
   ],
   "source": [
    "try:\n",
    "    a = int(input(\"please enter the value of a\"))\n",
    "    b = int(input(\"please enter the value of b\"))\n",
    "    c = a+b\n",
    "    d = a-b\n",
    "    e= a/b\n",
    "    print(c)\n",
    "    print(d)\n",
    "    print(e)\n",
    "except ZeroDivisionError:\n",
    "    print(\"please enter non zero value\")\n",
    "finally:\n",
    "    print(\"hello\")\n",
    "    print(\"python\")"
   ]
  },
  {
   "cell_type": "code",
   "execution_count": 69,
   "id": "8bcabce5",
   "metadata": {
    "id": "8bcabce5",
    "outputId": "f67e316d-4e37-4108-e902-18b8349cc0bf"
   },
   "outputs": [
    {
     "name": "stdin",
     "output_type": "stream",
     "text": [
      "first number: 5\n",
      "second number: 6\n"
     ]
    },
    {
     "name": "stdout",
     "output_type": "stream",
     "text": [
      "0.8333333333333334\n",
      "python rocks!!\n"
     ]
    }
   ],
   "source": [
    "try:\n",
    "    a=int(input(\"first number:\"))\n",
    "    b=int(input(\"second number:\"))\n",
    "    c=a/b\n",
    "    print(c)\n",
    "except:\n",
    "    print(\"dont use zero in denominator\")\n",
    "else:\n",
    "    print(\"python rocks!!\")\n"
   ]
  },
  {
   "cell_type": "code",
   "execution_count": 7,
   "id": "cfb1805c",
   "metadata": {
    "id": "cfb1805c",
    "outputId": "f7354b54-7b40-4b4e-82d5-2fb1934a84ae"
   },
   "outputs": [
    {
     "name": "stdin",
     "output_type": "stream",
     "text": [
      "enter number:  5\n"
     ]
    }
   ],
   "source": [
    "try:\n",
    "    int(input(\"enter number: \"))\n",
    "except ValueError:\n",
    "    print(\"please enter only integer value\")"
   ]
  },
  {
   "cell_type": "code",
   "execution_count": 13,
   "id": "1ea71935",
   "metadata": {
    "id": "1ea71935",
    "outputId": "71358abe-54e6-427e-c83a-1309502039c4"
   },
   "outputs": [
    {
     "name": "stdin",
     "output_type": "stream",
     "text": [
      "enter first number:  5\n",
      "enter second number:  4\n"
     ]
    },
    {
     "name": "stdout",
     "output_type": "stream",
     "text": [
      "1.25\n"
     ]
    }
   ],
   "source": [
    "while True:\n",
    "    try:\n",
    "        a= input(\"enter first number: \")\n",
    "        b= input(\"enter second number: \")\n",
    "        c=int(a)/int(b)\n",
    "        print(c)\n",
    "        break\n",
    "    except ZeroDivisionError:\n",
    "        print(\"b should not be a zero\")\n",
    "    else:\n",
    "        print(\"pls input numbers only\")"
   ]
  },
  {
   "cell_type": "code",
   "execution_count": 37,
   "id": "aff752a7",
   "metadata": {
    "id": "aff752a7"
   },
   "outputs": [],
   "source": [
    "import sys\n",
    "def test():\n",
    "        try:\n",
    "            a= input(\"enter first number: \")\n",
    "            b= input(\"enter second number: \")\n",
    "            c=int(a)/int(b)\n",
    "            print(c)\n",
    "        except:\n",
    "            print(sys.exc_info())"
   ]
  },
  {
   "cell_type": "code",
   "execution_count": 41,
   "id": "888a61e3-3d69-4e3d-b362-d74d945fedae",
   "metadata": {},
   "outputs": [
    {
     "name": "stdin",
     "output_type": "stream",
     "text": [
      "enter first number:  9\n",
      "enter second number:  0\n"
     ]
    },
    {
     "name": "stdout",
     "output_type": "stream",
     "text": [
      "(<class 'ZeroDivisionError'>, ZeroDivisionError('division by zero'), <traceback object at 0x000002C3370E4E00>)\n"
     ]
    }
   ],
   "source": [
    "test()"
   ]
  },
  {
   "cell_type": "code",
   "execution_count": 43,
   "id": "a8d6a07a",
   "metadata": {
    "id": "a8d6a07a"
   },
   "outputs": [],
   "source": [
    "import traceback\n",
    "def test():\n",
    "        try:\n",
    "            a= input(\"enter first number: \")\n",
    "            b= input(\"enter second number: \")\n",
    "            c=int(a)/int(b)\n",
    "            print(c)\n",
    "        except:\n",
    "            print(traceback.format_exc())"
   ]
  },
  {
   "cell_type": "code",
   "execution_count": 47,
   "id": "ed25e008",
   "metadata": {
    "id": "ed25e008",
    "outputId": "e023a160-4b49-404a-871d-697fe81790ec"
   },
   "outputs": [
    {
     "name": "stdin",
     "output_type": "stream",
     "text": [
      "enter first number:  7\n",
      "enter second number:  0\n"
     ]
    },
    {
     "name": "stdout",
     "output_type": "stream",
     "text": [
      "Traceback (most recent call last):\n",
      "  File \"C:\\Users\\Dell\\AppData\\Local\\Temp\\ipykernel_8788\\2894260650.py\", line 6, in test\n",
      "    c=int(a)/int(b)\n",
      "      ~~~~~~^~~~~~~\n",
      "ZeroDivisionError: division by zero\n",
      "\n"
     ]
    }
   ],
   "source": [
    "test()"
   ]
  },
  {
   "cell_type": "code",
   "execution_count": null,
   "id": "e82d704a",
   "metadata": {
    "id": "e82d704a",
    "outputId": "31363b28-0f6f-42fe-b7fa-29b650167e93"
   },
   "outputs": [
    {
     "name": "stdout",
     "output_type": "stream",
     "text": [
      "enter first number: \n",
      "enter second number: \n",
      "Please enter again with a numeric value\n",
      "enter first number: \n",
      "enter second number: \n",
      "Please enter again with a numeric value\n",
      "enter first number: \n",
      "enter second number: \n",
      "Please enter again with a numeric value\n",
      "enter first number: \n",
      "enter second number: \n",
      "Please enter again with a numeric value\n"
     ]
    },
    {
     "ename": "KeyboardInterrupt",
     "evalue": "Interrupted by user",
     "output_type": "error",
     "traceback": [
      "\u001b[1;31m---------------------------------------------------------------------------\u001b[0m",
      "\u001b[1;31mKeyboardInterrupt\u001b[0m                         Traceback (most recent call last)",
      "\u001b[1;32m~\\AppData\\Local\\Temp/ipykernel_22964/1245321507.py\u001b[0m in \u001b[0;36m<module>\u001b[1;34m\u001b[0m\n\u001b[0;32m      1\u001b[0m \u001b[1;32mwhile\u001b[0m \u001b[1;32mTrue\u001b[0m\u001b[1;33m:\u001b[0m\u001b[1;33m\u001b[0m\u001b[1;33m\u001b[0m\u001b[0m\n\u001b[0;32m      2\u001b[0m \u001b[1;33m\u001b[0m\u001b[0m\n\u001b[1;32m----> 3\u001b[1;33m     \u001b[0ma\u001b[0m\u001b[1;33m=\u001b[0m\u001b[0minput\u001b[0m\u001b[1;33m(\u001b[0m\u001b[1;34m\"enter first number: \"\u001b[0m\u001b[1;33m)\u001b[0m\u001b[1;33m\u001b[0m\u001b[1;33m\u001b[0m\u001b[0m\n\u001b[0m\u001b[0;32m      4\u001b[0m     \u001b[0mb\u001b[0m\u001b[1;33m=\u001b[0m\u001b[0minput\u001b[0m\u001b[1;33m(\u001b[0m\u001b[1;34m\"enter second number: \"\u001b[0m\u001b[1;33m)\u001b[0m\u001b[1;33m\u001b[0m\u001b[1;33m\u001b[0m\u001b[0m\n\u001b[0;32m      5\u001b[0m \u001b[1;33m\u001b[0m\u001b[0m\n",
      "\u001b[1;32mC:\\ProgramData\\Anaconda3\\lib\\site-packages\\ipykernel\\kernelbase.py\u001b[0m in \u001b[0;36mraw_input\u001b[1;34m(self, prompt)\u001b[0m\n\u001b[0;32m   1004\u001b[0m                 \u001b[1;34m\"raw_input was called, but this frontend does not support input requests.\"\u001b[0m\u001b[1;33m\u001b[0m\u001b[1;33m\u001b[0m\u001b[0m\n\u001b[0;32m   1005\u001b[0m             )\n\u001b[1;32m-> 1006\u001b[1;33m         return self._input_request(\n\u001b[0m\u001b[0;32m   1007\u001b[0m             \u001b[0mstr\u001b[0m\u001b[1;33m(\u001b[0m\u001b[0mprompt\u001b[0m\u001b[1;33m)\u001b[0m\u001b[1;33m,\u001b[0m\u001b[1;33m\u001b[0m\u001b[1;33m\u001b[0m\u001b[0m\n\u001b[0;32m   1008\u001b[0m             \u001b[0mself\u001b[0m\u001b[1;33m.\u001b[0m\u001b[0m_parent_ident\u001b[0m\u001b[1;33m[\u001b[0m\u001b[1;34m\"shell\"\u001b[0m\u001b[1;33m]\u001b[0m\u001b[1;33m,\u001b[0m\u001b[1;33m\u001b[0m\u001b[1;33m\u001b[0m\u001b[0m\n",
      "\u001b[1;32mC:\\ProgramData\\Anaconda3\\lib\\site-packages\\ipykernel\\kernelbase.py\u001b[0m in \u001b[0;36m_input_request\u001b[1;34m(self, prompt, ident, parent, password)\u001b[0m\n\u001b[0;32m   1049\u001b[0m             \u001b[1;32mexcept\u001b[0m \u001b[0mKeyboardInterrupt\u001b[0m\u001b[1;33m:\u001b[0m\u001b[1;33m\u001b[0m\u001b[1;33m\u001b[0m\u001b[0m\n\u001b[0;32m   1050\u001b[0m                 \u001b[1;31m# re-raise KeyboardInterrupt, to truncate traceback\u001b[0m\u001b[1;33m\u001b[0m\u001b[1;33m\u001b[0m\u001b[0m\n\u001b[1;32m-> 1051\u001b[1;33m                 \u001b[1;32mraise\u001b[0m \u001b[0mKeyboardInterrupt\u001b[0m\u001b[1;33m(\u001b[0m\u001b[1;34m\"Interrupted by user\"\u001b[0m\u001b[1;33m)\u001b[0m \u001b[1;32mfrom\u001b[0m \u001b[1;32mNone\u001b[0m\u001b[1;33m\u001b[0m\u001b[1;33m\u001b[0m\u001b[0m\n\u001b[0m\u001b[0;32m   1052\u001b[0m             \u001b[1;32mexcept\u001b[0m \u001b[0mException\u001b[0m\u001b[1;33m:\u001b[0m\u001b[1;33m\u001b[0m\u001b[1;33m\u001b[0m\u001b[0m\n\u001b[0;32m   1053\u001b[0m                 \u001b[0mself\u001b[0m\u001b[1;33m.\u001b[0m\u001b[0mlog\u001b[0m\u001b[1;33m.\u001b[0m\u001b[0mwarning\u001b[0m\u001b[1;33m(\u001b[0m\u001b[1;34m\"Invalid Message:\"\u001b[0m\u001b[1;33m,\u001b[0m \u001b[0mexc_info\u001b[0m\u001b[1;33m=\u001b[0m\u001b[1;32mTrue\u001b[0m\u001b[1;33m)\u001b[0m\u001b[1;33m\u001b[0m\u001b[1;33m\u001b[0m\u001b[0m\n",
      "\u001b[1;31mKeyboardInterrupt\u001b[0m: Interrupted by user"
     ]
    }
   ],
   "source": [
    "while True:\n",
    "\n",
    "    a=input(\"enter first number: \")\n",
    "    b=input(\"enter second number: \")\n",
    "\n",
    "    if a.isnumeric() != True and b.isnumeric() != True:\n",
    "        print(\"Please enter again with a numeric value\")\n",
    "    else:\n",
    "        print(\"Numbers are numeric\")\n",
    "        try:\n",
    "            d =int(a)\n",
    "            e=int(b)\n",
    "            c = d/e\n",
    "            print(c)\n",
    "            break\n",
    "        except:\n",
    "            print(\"b not zero\")"
   ]
  },
  {
   "cell_type": "code",
   "execution_count": null,
   "id": "8d20b8de",
   "metadata": {
    "id": "8d20b8de",
    "outputId": "dac7f5b3-74a2-4614-82f2-b3d9178b8916"
   },
   "outputs": [
    {
     "name": "stdout",
     "output_type": "stream",
     "text": [
      "enter first  number : 10\n",
      "enter second number : 20\n",
      "the output of c is :  0.5\n",
      "everything is good\n",
      "always print\n"
     ]
    }
   ],
   "source": [
    "class NegativeValueException(Exception):\n",
    "    pass\n",
    "\n",
    "a=0\n",
    "b=0\n",
    "while type(a) ==int and type(b) == int:\n",
    "    try:\n",
    "        a = int(input(\"enter first  number : \"))\n",
    "        b =int(input(\"enter second number : \"))\n",
    "        if a<0 or b<0:\n",
    "            raise NegativeValueException(\"please give positive integers only\")\n",
    "        c =a/b\n",
    "        print(\"the output of c is : \", c)\n",
    "    except ValueError:\n",
    "        print(\"please give integer only\")\n",
    "    except ZeroDivisionError:\n",
    "        print(\"please give denominator is non -zero value\")\n",
    "    except NegativeValueException as e:\n",
    "        print(\"raised : \", e)\n",
    "    else:\n",
    "        print(\"everything is good\")\n",
    "        break\n",
    "    finally:\n",
    "        print(\"always print\")"
   ]
  },
  {
   "cell_type": "code",
   "execution_count": null,
   "id": "2cf2ad82",
   "metadata": {
    "id": "2cf2ad82"
   },
   "outputs": [],
   "source": []
  }
 ],
 "metadata": {
  "colab": {
   "provenance": []
  },
  "kernelspec": {
   "display_name": "Python [conda env:base] *",
   "language": "python",
   "name": "conda-base-py"
  },
  "language_info": {
   "codemirror_mode": {
    "name": "ipython",
    "version": 3
   },
   "file_extension": ".py",
   "mimetype": "text/x-python",
   "name": "python",
   "nbconvert_exporter": "python",
   "pygments_lexer": "ipython3",
   "version": "3.12.7"
  }
 },
 "nbformat": 4,
 "nbformat_minor": 5
}
