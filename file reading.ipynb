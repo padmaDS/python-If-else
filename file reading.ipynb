{
 "cells": [
  {
   "cell_type": "markdown",
   "id": "f2ad7667-3bbe-493e-a9e3-322528a51fc9",
   "metadata": {},
   "source": [
    "Function Arguments\n",
    "\n",
    "Positional Arguments:\n",
    "\n",
    "Positional arguments are the most basic type of arguments. They are matched to function parameters based on their order of appearance.\n"
   ]
  },
  {
   "cell_type": "code",
   "execution_count": 2,
   "id": "e27490d3-8b6e-41ee-a0ca-100871096b14",
   "metadata": {},
   "outputs": [],
   "source": [
    "def greet(name, age):\n",
    "    return(f\"Hello, {name}! You are {age} years old.\")"
   ]
  },
  {
   "cell_type": "code",
   "execution_count": 6,
   "id": "68ae8a75-d9ec-4638-acd3-9f6add17f0ee",
   "metadata": {},
   "outputs": [
    {
     "data": {
      "text/plain": [
       "'Hello, unnisa! You are 20 years old.'"
      ]
     },
     "execution_count": 6,
     "metadata": {},
     "output_type": "execute_result"
    }
   ],
   "source": [
    "# Calling the function with positional arguments\n",
    "greet(\"unnisa\", 20)  # Output: Hello, Alice! You are 25 years old."
   ]
  },
  {
   "cell_type": "code",
   "execution_count": 8,
   "id": "f53c7d5f-2a82-4384-9471-8d06c41d48d9",
   "metadata": {},
   "outputs": [
    {
     "data": {
      "text/plain": [
       "'Hello, 24! You are 34 years old.'"
      ]
     },
     "execution_count": 8,
     "metadata": {},
     "output_type": "execute_result"
    }
   ],
   "source": [
    "greet(24, 34)"
   ]
  },
  {
   "cell_type": "code",
   "execution_count": 10,
   "id": "37f95ce4-bdd8-4602-a58a-2dc708f26f41",
   "metadata": {},
   "outputs": [
    {
     "data": {
      "text/plain": [
       "'Hello, 25! You are aimnxt years old.'"
      ]
     },
     "execution_count": 10,
     "metadata": {},
     "output_type": "execute_result"
    }
   ],
   "source": [
    "greet(25, \"aimnxt\")"
   ]
  },
  {
   "cell_type": "markdown",
   "id": "5d1a42b7-e2a0-444b-bfcf-406a85548f73",
   "metadata": {},
   "source": [
    "Keyword Arguments:\n",
    "\n",
    "Keyword arguments are specified with the parameter name followed by the value, separated by an equal sign. These arguments allow you to pass the values to the function in any order.\n"
   ]
  },
  {
   "cell_type": "code",
   "execution_count": 12,
   "id": "66763afa-30f4-4e8a-93ab-4149c7546580",
   "metadata": {},
   "outputs": [],
   "source": [
    "def greet(name, age):\n",
    "    return(f\"Hello, {name}! You are {age} years old.\")\n"
   ]
  },
  {
   "cell_type": "code",
   "execution_count": 14,
   "id": "d616cf81-882e-49e9-a7ad-f470df60f8fa",
   "metadata": {},
   "outputs": [
    {
     "data": {
      "text/plain": [
       "'Hello, chakresh! You are 25 years old.'"
      ]
     },
     "execution_count": 14,
     "metadata": {},
     "output_type": "execute_result"
    }
   ],
   "source": [
    "# Calling the function with keyword arguments in a different order\n",
    "greet(age=25, name=\"chakresh\")  # Output: Hello, Bob! You are 25 years old."
   ]
  },
  {
   "cell_type": "code",
   "execution_count": null,
   "id": "2eb408d4-c4ac-4311-92f4-51faf6b6b08d",
   "metadata": {},
   "outputs": [],
   "source": [
    "return\n",
    "I am name, and  learning course in Aimnxt"
   ]
  },
  {
   "cell_type": "code",
   "execution_count": 16,
   "id": "e568d5a6-21b2-495e-96a7-99f1dd3ac7f0",
   "metadata": {},
   "outputs": [],
   "source": [
    "def test(name, course):\n",
    "    return (f\"i am {name}, and learning {course} in Aimnxt\")"
   ]
  },
  {
   "cell_type": "code",
   "execution_count": 18,
   "id": "ae433a85-0889-4d26-9d00-2dcfc387e7d2",
   "metadata": {},
   "outputs": [
    {
     "data": {
      "text/plain": [
       "'i am unnisa, and learning Data Science in Aimnxt'"
      ]
     },
     "execution_count": 18,
     "metadata": {},
     "output_type": "execute_result"
    }
   ],
   "source": [
    "test(name = \"unnisa\", course = \"Data Science\")"
   ]
  },
  {
   "cell_type": "code",
   "execution_count": 20,
   "id": "8fc732e8-fda3-46cd-abea-c92ecb717947",
   "metadata": {},
   "outputs": [
    {
     "data": {
      "text/plain": [
       "'i am Ateeq, and learning AI ML in Aimnxt'"
      ]
     },
     "execution_count": 20,
     "metadata": {},
     "output_type": "execute_result"
    }
   ],
   "source": [
    "test(course = \"AI ML\", name = \"Ateeq\")"
   ]
  },
  {
   "cell_type": "code",
   "execution_count": null,
   "id": "62198fc9-e23d-4de8-a8bd-03479981c31c",
   "metadata": {},
   "outputs": [],
   "source": []
  },
  {
   "cell_type": "markdown",
   "id": "dab5be5f-3860-4804-b180-a10a78a803e9",
   "metadata": {},
   "source": [
    "Default Values:\n",
    "\n",
    "You can provide default values for function parameters. If a value is not passed for that parameter when the function is called, the default value will be used.\n"
   ]
  },
  {
   "cell_type": "code",
   "execution_count": 27,
   "id": "65e449df-de36-47bf-b4c8-ac850e76081b",
   "metadata": {},
   "outputs": [],
   "source": [
    "def greet(name, age=20):\n",
    "    return(f\"Hello, {name}! You are {age} years old.\")"
   ]
  },
  {
   "cell_type": "code",
   "execution_count": 29,
   "id": "b82aaac5-23f6-41e3-9be4-8f8348cc0fc3",
   "metadata": {},
   "outputs": [
    {
     "data": {
      "text/plain": [
       "'Hello, Keziya! You are 20 years old.'"
      ]
     },
     "execution_count": 29,
     "metadata": {},
     "output_type": "execute_result"
    }
   ],
   "source": [
    "# Calling the function without specifying 'age' argument\n",
    "greet(\"Keziya\")  # Output: Hello, Alice! You are 30 years old."
   ]
  },
  {
   "cell_type": "code",
   "execution_count": 31,
   "id": "57652d44-e782-4249-b1b4-3ac33e5d33d6",
   "metadata": {},
   "outputs": [
    {
     "data": {
      "text/plain": [
       "'Hello, Padma! You are 30 years old.'"
      ]
     },
     "execution_count": 31,
     "metadata": {},
     "output_type": "execute_result"
    }
   ],
   "source": [
    "# Calling the function with 'age' argument\n",
    "greet(\"Padma\", 30)  # Output: Hello, Bob! You are 25 years old."
   ]
  },
  {
   "cell_type": "code",
   "execution_count": null,
   "id": "354188f7-290c-4f8f-abc8-427bdb89a977",
   "metadata": {},
   "outputs": [],
   "source": []
  },
  {
   "cell_type": "code",
   "execution_count": null,
   "id": "e39b31a5-1437-4301-8f92-eac13bce83f9",
   "metadata": {},
   "outputs": [],
   "source": []
  },
  {
   "cell_type": "code",
   "execution_count": null,
   "id": "81f66c65-b990-4ea2-bb8c-4adc273d517c",
   "metadata": {},
   "outputs": [],
   "source": [
    "Questions to practice :\n",
    "Question 1: Positional Arguments\n",
    "Write a function called add that takes two positional arguments a and b, and returns their sum.\n",
    "Expected Output:\n",
    "result = add(5, 10)\n",
    "print(result)  # Output: 15\n",
    "​\n",
    "Question 2: Keyword Arguments\n",
    "Write a function called greet that takes two keyword arguments name and age, and prints a greeting message with the provided values.\n",
    "Expected Output:\n",
    "greet(name=\"Alice\", age=25)  # Output: Hello, Alice! You are 25 years old.\n",
    "\n",
    "​\n",
    "Question 3: Default Values\n",
    "Write a function called multiply that takes two arguments a and b, with b having a default value of 2. The function should return the product of a and b.\n",
    "Expected Output:\n",
    "result = multiply(5)\n",
    "print(result)  # Output: 10\n",
    "\n",
    "​\n",
    "Question 4: Mixing Positional and Keyword Arguments\n",
    "Write a function called print_info that takes three positional arguments name, age, and country, and prints the information in a formatted message.\n",
    "Expected Output:\n",
    "print_info(\"Alice\", 25, \"USA\")  # Output: Name: Alice, Age: 25, Country: USA\n"
   ]
  },
  {
   "cell_type": "markdown",
   "id": "a24b29c5-dadb-461b-9882-2e03ed71cce3",
   "metadata": {},
   "source": [
    "Built-in Functions\n",
    "\n",
    "`max()` and `min()` - Returns the maximum and minimum values from a sequence."
   ]
  },
  {
   "cell_type": "code",
   "execution_count": null,
   "id": "4e8afb5d-602c-4ebe-bc26-766d39a5c0bd",
   "metadata": {},
   "outputs": [],
   "source": [
    "numbers = [10, 5, 8, 15, 3]\n",
    "max_value = max(numbers)\n",
    "min_value = min(numbers)\n",
    "print(max_value)  # Output: 15\n",
    "print(min_value)  # Output: 3"
   ]
  },
  {
   "cell_type": "code",
   "execution_count": null,
   "id": "c81881c3-a6d6-4174-b869-cd2758344bc1",
   "metadata": {},
   "outputs": [],
   "source": [
    "sum() - Returns the sum of elements in a sequence."
   ]
  },
  {
   "cell_type": "code",
   "execution_count": null,
   "id": "75c6c932-972f-43ed-a3d3-35dd07c5cc19",
   "metadata": {},
   "outputs": [],
   "source": [
    "numbers = [1, 2, 3, 4, 5]\n",
    "total_sum = sum(numbers)\n",
    "print(total_sum)  # Output: 15"
   ]
  },
  {
   "cell_type": "code",
   "execution_count": null,
   "id": "471bb926-1324-4803-8997-c2ea5595b196",
   "metadata": {},
   "outputs": [],
   "source": [
    "range() - Generates a sequence of numbers within a specified range."
   ]
  },
  {
   "cell_type": "code",
   "execution_count": null,
   "id": "f2b05ef5-806e-4aec-9545-d8df31b4e006",
   "metadata": {},
   "outputs": [],
   "source": [
    "# Generate numbers from 0 to 4\n",
    "my_range = range(5)\n",
    "print(list(my_range))  # Output: [0, 1, 2, 3, 4]"
   ]
  },
  {
   "cell_type": "code",
   "execution_count": null,
   "id": "a8a4cd4a-f96e-49c3-8a4a-2d9d89d78c21",
   "metadata": {},
   "outputs": [],
   "source": [
    "`sorted()` - Returns a new sorted list from the elements in an iterable."
   ]
  },
  {
   "cell_type": "code",
   "execution_count": null,
   "id": "47bd1167-0647-4dbf-97db-d5e76cfc83f8",
   "metadata": {},
   "outputs": [],
   "source": [
    "numbers = [3, 1, 4, 1, 5, 9, 2, 6]\n",
    "sorted_numbers = sorted(numbers)\n",
    "print(sorted_numbers)  # Output: [1, 1, 2, 3, 4, 5, 6, 9]"
   ]
  },
  {
   "cell_type": "code",
   "execution_count": null,
   "id": "f056758e-45bd-4aac-926d-6cad6e9e5cb2",
   "metadata": {},
   "outputs": [],
   "source": [
    "These are just a few examples of the built-in functions available in Python. There are many more built-in functions that can be utilized for various purposes, and you can find more details in the Python documentation."
   ]
  },
  {
   "cell_type": "code",
   "execution_count": null,
   "id": "28e2364b-e80f-467b-9650-7ff0dbea5623",
   "metadata": {},
   "outputs": [],
   "source": [
    "Questions to practice (Day - 26):\n",
    "Question 1: Using max() and min()\n",
    "Write a Python program that takes a list of numbers as input and prints the maximum and minimum values from that list.\n",
    "Expected Output:\n",
    "numbers = [10, 5, 8, 15, 3]\n",
    "\n",
    "print(max_value)  # Output: 15\n",
    "print(min_value)  # Output: 3\n",
    "\n",
    "​\n",
    "Question 2: Using sum()\n",
    "Write a Python program that takes a list of numbers as input and prints the sum of all the elements in that list.\n",
    "Expected Output:\n",
    "numbers = [1, 2, 3, 4, 5]\n",
    "\n",
    "print(total_sum)  # Output: 15\n",
    "\n",
    "​\n",
    "Question 3: Using range()\n",
    "Write a Python program that generates a list of even numbers from 2 to 10 using the range() function.\n",
    "Expected Output:\n",
    "# Generate numbers from 2 to 10 with a step of 2\n",
    "\n",
    "print(list(my_range))  # Output: [2, 4, 6, 8, 10]\n",
    "\n",
    "​\n",
    "Question 4: Using sorted()\n",
    "Write a Python program that takes a list of numbers as input, sorts the list in ascending order using the sorted() function, and prints the sorted list.\n",
    "Expected Output:\n",
    "numbers = [3, 1, 4, 1, 5, 9, 2, 6]\n",
    "\n",
    "print(sorted_numbers)  # Output: [1, 1, 2, 3, 4, 5, 6, 9]\n",
    "\n",
    "​\n",
    "Question 5: Using len()\n",
    "Write a Python program that takes a string as input and prints the length of the string using the len() function.\n",
    "Expected Output:\n",
    "text = \"Hello, World!\"\n",
    "print(length)  # Output: 13\n",
    "\n",
    "​\n",
    "Question 6: Using abs()\n",
    "Write a Python program that takes a number as input and prints its absolute value using the abs() function.\n",
    "Expected Output:\n",
    "number = -10\n",
    "\n",
    "print(abs_value)  # Output: 10\n",
    "\n",
    "​\n",
    "Question 7: Using all() and any()\n",
    "Write a Python program that takes a list of boolean values as input and checks if all values are True using the all() function. Then, check if at least one value is True using the any() function.\n",
    "Expected Output:\n",
    "bool_list = [True, True, False, True]\n",
    "\n",
    "\n",
    "print(all_true)  # Output: False\n",
    "print(any_true)  # Output: True"
   ]
  },
  {
   "cell_type": "code",
   "execution_count": null,
   "id": "d7beefac-1145-4685-a864-ef974f8acaaf",
   "metadata": {},
   "outputs": [],
   "source": []
  },
  {
   "cell_type": "code",
   "execution_count": null,
   "id": "bdc4bd19-43bc-47ec-ae62-e06914bc9da4",
   "metadata": {},
   "outputs": [],
   "source": []
  },
  {
   "cell_type": "markdown",
   "id": "53b6a86a-1a0c-4ab4-8877-2d9244cb5ae1",
   "metadata": {},
   "source": [
    "File Operations"
   ]
  },
  {
   "cell_type": "markdown",
   "id": "47e4d8af-313c-412a-bfb6-77b8cd5d68ad",
   "metadata": {},
   "source": [
    "### File Operations:\n",
    "\n",
    "Files are named locations on our storage device for recording data.\n",
    "\n",
    "Python provides numerous builtin functions to work with these files.\n",
    "\n",
    "There are **three steps** we need to follow to work with files:\n",
    "\n",
    " * Open a file\n",
    " * Perform Operation (Read or Write)\n",
    " * Close the file"
   ]
  },
  {
   "cell_type": "markdown",
   "id": "f0781b8f-f0a3-4231-860d-6bddce5c7c98",
   "metadata": {},
   "source": [
    "Opening a file"
   ]
  },
  {
   "cell_type": "markdown",
   "id": "385abcfa-ad3c-45d2-8150-c2dfa099a6e9",
   "metadata": {},
   "source": [
    "In Python, we use the builtin `open()` function to open files.\n",
    "\n",
    "Suppose we have a file called message.txt with the following content:\n",
    "\n",
    "I love programming.\n",
    "\n",
    "I love Programiz."
   ]
  },
  {
   "cell_type": "code",
   "execution_count": 38,
   "id": "773f1e2d-46c5-442f-859c-6f1abe4af3f0",
   "metadata": {},
   "outputs": [
    {
     "data": {
      "text/plain": [
       "'The open() function is opening the file which returns a file object that can be used to perform file operations.\\n\\nBy default, the file will be opened in the read mode. We could also have used:'"
      ]
     },
     "execution_count": 38,
     "metadata": {},
     "output_type": "execute_result"
    }
   ],
   "source": [
    "## We can open it using:\n",
    "f = open('message.txt')\n",
    "\n",
    "'''The open() function is opening the file which returns a file object that can be used to perform file operations.\n",
    "\n",
    "By default, the file will be opened in the read mode. We could also have used:'''"
   ]
  },
  {
   "cell_type": "code",
   "execution_count": 40,
   "id": "bf8b9266-2773-43bb-b2ac-8db92a5ed2b8",
   "metadata": {},
   "outputs": [
    {
     "data": {
      "text/plain": [
       "<_io.TextIOWrapper name='message.txt' mode='r' encoding='cp1252'>"
      ]
     },
     "execution_count": 40,
     "metadata": {},
     "output_type": "execute_result"
    }
   ],
   "source": [
    "f"
   ]
  },
  {
   "cell_type": "code",
   "execution_count": 42,
   "id": "0d217aa6-33f2-4191-8fef-da8ba2ac786e",
   "metadata": {},
   "outputs": [],
   "source": [
    "# read mode\n",
    "f = open('message.txt', 'r')"
   ]
  },
  {
   "cell_type": "code",
   "execution_count": 44,
   "id": "38f926a5-fc8d-490e-a2a2-1d85b6b1dbb8",
   "metadata": {},
   "outputs": [],
   "source": [
    "# write mode\n",
    "f = open('message.txt', 'w')"
   ]
  },
  {
   "cell_type": "code",
   "execution_count": 46,
   "id": "710ce6ae-7687-478d-bcbb-716b1b96fe8e",
   "metadata": {},
   "outputs": [
    {
     "data": {
      "text/plain": [
       "<_io.TextIOWrapper name='message.txt' mode='w' encoding='cp1252'>"
      ]
     },
     "execution_count": 46,
     "metadata": {},
     "output_type": "execute_result"
    }
   ],
   "source": [
    "f"
   ]
  },
  {
   "cell_type": "markdown",
   "id": "998e37f6-d140-4ef7-bfb7-4577573e12f9",
   "metadata": {},
   "source": [
    "# Mode\tDescription\n",
    "r (Read Mode)\t- Opens a file for reading (default)\n",
    "\n",
    "w (Write Mode) - Opens a file for writing, Creates a new file if it does not exist, Clears the content of the file if it exists\n",
    "\n",
    "a (Append Mode) -\tOpens a file for appending at the end of the file, Creates a new file if it does not exist"
   ]
  },
  {
   "cell_type": "markdown",
   "id": "5f76a020-aa5b-4c90-ac89-5093ce89516a",
   "metadata": {},
   "source": [
    "Reading files in Python"
   ]
  },
  {
   "cell_type": "markdown",
   "id": "4d8c0363-ada3-418d-a7c1-77b5777a6b14",
   "metadata": {},
   "source": [
    "After opening a file, we can read its contents using the read() method of the file object."
   ]
  },
  {
   "cell_type": "code",
   "execution_count": 53,
   "id": "9b51af75-7225-4bce-b27a-556d6518f0b0",
   "metadata": {},
   "outputs": [
    {
     "name": "stdout",
     "output_type": "stream",
     "text": [
      "I love learning python\n",
      "I want to become a great datascientist.\n"
     ]
    }
   ],
   "source": [
    "f = open('msg1.txt', 'r')\n",
    "print(f.read())\n",
    "\n",
    "# print(content)"
   ]
  },
  {
   "cell_type": "code",
   "execution_count": 55,
   "id": "66de8f41-521d-45ca-9092-73d3db0af9b2",
   "metadata": {},
   "outputs": [
    {
     "name": "stdout",
     "output_type": "stream",
     "text": [
      "I love learning python\n",
      "I want to become a great datascientist.\n"
     ]
    }
   ],
   "source": [
    "f = open('msg1.txt', 'r')\n",
    "content = f.read()\n",
    "\n",
    "print(content)"
   ]
  },
  {
   "cell_type": "markdown",
   "id": "a4ea2dad-679a-455b-a97c-b3a437d22b03",
   "metadata": {},
   "source": [
    "Note: We should always close the file using close() method after working with files. It is a good programming practice."
   ]
  },
  {
   "cell_type": "markdown",
   "id": "a66c8f35-f9df-4120-8037-a2ce67516498",
   "metadata": {},
   "source": [
    "It is also possible to read only a certain number of characters from a file using the `read()` method. For this, we pass an optional size argument."
   ]
  },
  {
   "cell_type": "markdown",
   "id": "6d081fdc-1d9d-49a7-8749-7038693301af",
   "metadata": {},
   "source": [
    "Let's read only the first 6 characters:"
   ]
  },
  {
   "cell_type": "code",
   "execution_count": 59,
   "id": "3dc1f37a-f7cf-495b-b15c-b887ca10fe1b",
   "metadata": {},
   "outputs": [
    {
     "name": "stdout",
     "output_type": "stream",
     "text": [
      "I love\n"
     ]
    }
   ],
   "source": [
    "f = open('msg1.txt', 'r')\n",
    "content = f.read(6)\n",
    "print(content)"
   ]
  },
  {
   "cell_type": "code",
   "execution_count": 61,
   "id": "e3650cfb-21c1-4b5f-a25e-16f983c93c0b",
   "metadata": {},
   "outputs": [
    {
     "name": "stdout",
     "output_type": "stream",
     "text": [
      "I love learn\n"
     ]
    }
   ],
   "source": [
    "f = open('msg1.txt', 'r')\n",
    "content = f.read(12)\n",
    "print(content)"
   ]
  },
  {
   "cell_type": "code",
   "execution_count": 63,
   "id": "588186cc-e5d0-4dd7-a3f4-39243ef89959",
   "metadata": {},
   "outputs": [],
   "source": [
    "f.close()"
   ]
  },
  {
   "cell_type": "markdown",
   "id": "8496a675-30b5-4d6c-9914-11ef97da07cc",
   "metadata": {},
   "source": [
    "Now if we read the same file again, it starts reading from the 7th character because we have already read upto the 6th character."
   ]
  },
  {
   "cell_type": "code",
   "execution_count": 65,
   "id": "b9767081-98bc-43c2-8033-234147f10c07",
   "metadata": {},
   "outputs": [
    {
     "name": "stdout",
     "output_type": "stream",
     "text": [
      "I love\n"
     ]
    }
   ],
   "source": [
    "f = open('msg1.txt', 'r')\n",
    "content = f.read(6)\n",
    "print(content)"
   ]
  },
  {
   "cell_type": "code",
   "execution_count": 67,
   "id": "25fc878d-5a9d-43f1-b5b9-df3af40a0d17",
   "metadata": {},
   "outputs": [
    {
     "name": "stdout",
     "output_type": "stream",
     "text": [
      " learning py\n"
     ]
    }
   ],
   "source": [
    "more_content = f.read(12)\n",
    "print(more_content)\n",
    "f.close()"
   ]
  },
  {
   "cell_type": "code",
   "execution_count": 99,
   "id": "8806808f-bcfc-4262-b759-f88f0a35398f",
   "metadata": {},
   "outputs": [
    {
     "name": "stdout",
     "output_type": "stream",
     "text": [
      "\n",
      "\n"
     ]
    }
   ],
   "source": [
    "try:\n",
    "    f = open('msg1.txt', 'r')\n",
    "    content = f.read(6)\n",
    "    print(content)\n",
    "    more_content = f.read(12)\n",
    "    print(more_content)\n",
    "finally:\n",
    "    f.close()"
   ]
  },
  {
   "cell_type": "markdown",
   "id": "dfbfd842-6438-41e8-9ac4-74e9639103fa",
   "metadata": {},
   "source": [
    "Now, even if our program encounters an error, our file will be closed. It is because the `finally` block always gets executed.\n",
    "\n"
   ]
  },
  {
   "cell_type": "markdown",
   "id": "66d9b5c5-bf42-410e-9371-d5d90e661a89",
   "metadata": {},
   "source": [
    "There is even a better way to write this same code in Python using the `with...open` syntax."
   ]
  },
  {
   "cell_type": "code",
   "execution_count": 69,
   "id": "081c85f0-873c-441d-948a-6a1297cab1aa",
   "metadata": {},
   "outputs": [
    {
     "name": "stdout",
     "output_type": "stream",
     "text": [
      "I love\n",
      " learning py\n"
     ]
    }
   ],
   "source": [
    "with open('msg1.txt', 'r') as f:\n",
    "    content = f.read(6)\n",
    "    print(content)\n",
    "\n",
    "    more_content = f.read(12)\n",
    "    print(more_content)"
   ]
  },
  {
   "cell_type": "markdown",
   "id": "9b018574-f99d-4acf-9120-a71b5a4ada70",
   "metadata": {},
   "source": [
    ">**Note**: It is highly recommended to use this syntax while working with files because we don't need to explicitly call the `close()` method\n",
    "> and our code becomes much cleaner than before."
   ]
  },
  {
   "cell_type": "markdown",
   "id": "9d5174ca-9758-4264-a720-5b75b9b5d6af",
   "metadata": {},
   "source": [
    "## Writing to files in Python"
   ]
  },
  {
   "cell_type": "markdown",
   "id": "b48e11c4-ee24-4450-bc0e-34cd788f10c7",
   "metadata": {},
   "source": [
    "To write content to a file, we must first open it in write mode. Then, we can start writing content to it using the `write()` method.\n",
    "\n",
    "There are two things you need to remember while writing to a file:\n",
    "\n",
    "- If you try to open a file that doesn't exist, a new file is automatically created.\n",
    "- If a file already exists, its contents are removed, and our new content is added to it."
   ]
  },
  {
   "cell_type": "code",
   "execution_count": 72,
   "id": "e3da606c-1233-40fa-91e4-3c45dda95513",
   "metadata": {},
   "outputs": [],
   "source": [
    "with open('python.txt', 'w') as f:\n",
    "    f.write(\"Python is awesome\")\n",
    "    f.write(\"I love Python\")"
   ]
  },
  {
   "cell_type": "markdown",
   "id": "50086537-afa5-4a35-a30f-f8b99da0024c",
   "metadata": {},
   "source": [
    "A `python.txt` file is created in the same directory with the following content:\n",
    "\n",
    "Python is awesome\n",
    "\n",
    "I love Python"
   ]
  },
  {
   "cell_type": "markdown",
   "id": "30c6339c-066a-4216-b887-5c83f303efaa",
   "metadata": {},
   "source": [
    "To add a new line, we can use `\\n`:"
   ]
  },
  {
   "cell_type": "code",
   "execution_count": 74,
   "id": "729d0477-9416-494e-b408-f8d1cb743a18",
   "metadata": {},
   "outputs": [],
   "source": [
    "with open('python.txt', 'w') as f:\n",
    "    f.write(\"we are learning python\\n\")\n",
    "    f.write(\"Python is awesome\\n\")\n",
    "    f.write(\"I love Python\")"
   ]
  },
  {
   "cell_type": "markdown",
   "id": "bc9c0692-5953-4388-9783-84928a79e61c",
   "metadata": {},
   "source": [
    "\n",
    "Notice that while running this program for the second time, the `python.txt` file was already created.\n",
    "Since opening an existing file in write mode will overwrite the file, all the previous data was erased and new content was written again.\n",
    "\n",
    ">**Note**: Be careful while using the write mode because you may accidentally erase the old data without realizing it.\n",
    "\n",
    "---"
   ]
  },
  {
   "cell_type": "markdown",
   "id": "1e105d5a-f365-4f7e-8bd8-438fc752f2e2",
   "metadata": {},
   "source": [
    "## Appending to Files in Python"
   ]
  },
  {
   "cell_type": "markdown",
   "id": "756b0900-3d7e-4926-8f21-99ba2ec01203",
   "metadata": {},
   "source": [
    "We use this mode if we want to add additional data to the end of the file without erasing our previous data.\n",
    "\n",
    "Let's add an additional line to the previous `python.txt` file."
   ]
  },
  {
   "cell_type": "code",
   "execution_count": 77,
   "id": "121ab529-d8a3-44ae-a23d-50c87b06a1e9",
   "metadata": {},
   "outputs": [],
   "source": [
    "with open('python.txt', 'a') as f:\n",
    "    f.write(\"\\nPython is my first programming language.\")\n",
    "    f.write(\"\\n Happy Pongal\")"
   ]
  },
  {
   "cell_type": "markdown",
   "id": "d564f829-097c-4822-b950-a21e30abb003",
   "metadata": {},
   "source": [
    "Contents of `python.txt`:\n",
    "\n",
    "Python is awesome\n",
    "\n",
    "I love Python\n",
    "\n",
    "Python is my first programming language."
   ]
  },
  {
   "cell_type": "code",
   "execution_count": null,
   "id": "ea2e34a7-d65f-48c0-a68d-9e44b8b037d4",
   "metadata": {},
   "outputs": [],
   "source": []
  },
  {
   "cell_type": "markdown",
   "id": "4750cd7a-08db-48b5-a3d5-76d2296e2a83",
   "metadata": {},
   "source": [
    "## Python `readlines()` and `writelines()`"
   ]
  },
  {
   "cell_type": "markdown",
   "id": "fa24519a-6546-4f95-a914-74031842ded6",
   "metadata": {},
   "source": [
    "The `readlines()` method returns a list containing each line of the file."
   ]
  },
  {
   "cell_type": "markdown",
   "id": "cf719896-7636-4c46-a0e3-2a90b9237a8f",
   "metadata": {},
   "source": [
    "Let's open the same python.txt file we have been working on in read mode and use `readlines()`:"
   ]
  },
  {
   "cell_type": "code",
   "execution_count": 112,
   "id": "4fe0dc61-d6b1-4ac1-b967-4859d0d6abc0",
   "metadata": {},
   "outputs": [
    {
     "name": "stdout",
     "output_type": "stream",
     "text": [
      "['we are learning python\\n', 'Python is awesome\\n', 'I love Python\\n', 'Python is my first programming language.\\n', ' Happy Pongal']\n"
     ]
    }
   ],
   "source": [
    "with open('python.txt', 'r') as f:\n",
    "    lines = f.readlines()\n",
    "print(lines)"
   ]
  },
  {
   "cell_type": "markdown",
   "id": "5eca803b-f883-4c4a-9a7a-c8ca4916ebd2",
   "metadata": {},
   "source": [
    "Similarly, there is also a `writelines()` method to write multiple items into a file. It writes the items of a list to the file."
   ]
  },
  {
   "cell_type": "code",
   "execution_count": 114,
   "id": "3ddab8d8-3864-4c3f-9537-168baefc813d",
   "metadata": {},
   "outputs": [],
   "source": [
    "with open('javascript.txt', 'w') as f:\n",
    "    lines = ['JS is also awesome', '\\nJS is my second programming language', '\\nJS is very simple to use.']\n",
    "    writing_lines=f.writelines(lines)\n",
    "      "
   ]
  },
  {
   "cell_type": "code",
   "execution_count": null,
   "id": "3d0fc7ad-10b7-4a4a-a5ab-9945acf59850",
   "metadata": {},
   "outputs": [],
   "source": []
  },
  {
   "cell_type": "code",
   "execution_count": null,
   "id": "95384182-ea3a-40da-a827-3b6e90c06368",
   "metadata": {},
   "outputs": [],
   "source": []
  },
  {
   "cell_type": "code",
   "execution_count": null,
   "id": "fc8ad079-69ec-4e4e-938f-45dd5f8471f2",
   "metadata": {},
   "outputs": [],
   "source": []
  },
  {
   "cell_type": "markdown",
   "id": "63590839-90a5-4bb2-b549-8ece99a7b206",
   "metadata": {},
   "source": [
    "### Abstraction in OOPS"
   ]
  },
  {
   "cell_type": "markdown",
   "id": "28394018-a716-4794-9e34-2fbbbdfa5d83",
   "metadata": {},
   "source": [
    "Abstract Class: A class that cannot be instantiated directly.\n",
    "\n",
    "Abstract Method: A method that is declared but not implemented in the base class — must be overridden in the child class.\n",
    "\n",
    "Python provides ABC (Abstract Base Class) and @abstractmethod from the abc module to support abstraction."
   ]
  },
  {
   "cell_type": "code",
   "execution_count": 17,
   "id": "3f23f590-a73b-4ef5-9e36-8952245cc711",
   "metadata": {},
   "outputs": [],
   "source": [
    "from abc import ABC, abstractmethod\n",
    "\n",
    "class MyAbstractClass(ABC):\n",
    "    @abstractmethod\n",
    "    def do_something(self):\n",
    "        pass  # No implementation here\n"
   ]
  },
  {
   "cell_type": "code",
   "execution_count": 6,
   "id": "d73606aa-ca65-4532-85ac-cf0e4fdce9b5",
   "metadata": {},
   "outputs": [],
   "source": [
    "from abc import ABC, abstractmethod\n",
    "\n",
    "class Animal(ABC):\n",
    "    @abstractmethod\n",
    "    def make_sound(self):\n",
    "        pass\n",
    "class Dog(Animal):\n",
    "    def make_sound(self):\n",
    "        return \"Woof!\"\n",
    "\n",
    "class Cat(Animal):\n",
    "    def make_sound(self):\n",
    "        return \"Meow!\""
   ]
  },
  {
   "cell_type": "code",
   "execution_count": 8,
   "id": "86b927e8-aaaf-46f2-9355-2ddfb685b617",
   "metadata": {},
   "outputs": [],
   "source": [
    "dog = Dog()"
   ]
  },
  {
   "cell_type": "code",
   "execution_count": 10,
   "id": "7b414e64-3da6-445e-a604-9d256d548271",
   "metadata": {},
   "outputs": [
    {
     "data": {
      "text/plain": [
       "'Woof!'"
      ]
     },
     "execution_count": 10,
     "metadata": {},
     "output_type": "execute_result"
    }
   ],
   "source": [
    "dog.make_sound()"
   ]
  },
  {
   "cell_type": "code",
   "execution_count": 21,
   "id": "0b8fee39-3667-4d9a-9a6f-a4cfb6bd7a25",
   "metadata": {},
   "outputs": [
    {
     "name": "stdout",
     "output_type": "stream",
     "text": [
      "Woof!\n",
      "Meow!\n"
     ]
    }
   ],
   "source": [
    "dog = Dog()\n",
    "print(dog.make_sound())  \n",
    "\n",
    "cat = Cat()\n",
    "print(cat.make_sound()) "
   ]
  },
  {
   "cell_type": "code",
   "execution_count": null,
   "id": "9c0b228e-cbb6-4f26-8f0a-41b4871a5f28",
   "metadata": {},
   "outputs": [],
   "source": [
    "a = Animal()  "
   ]
  },
  {
   "cell_type": "code",
   "execution_count": 20,
   "id": "2c684715-e4f6-4ffd-ba6f-0500d6a59bd8",
   "metadata": {},
   "outputs": [],
   "source": [
    "from abc import ABC, abstractmethod\n",
    "\n",
    "class Shape(ABC):\n",
    "    @abstractmethod\n",
    "    def area(self):\n",
    "        pass\n",
    "\n",
    "class Square(Shape):\n",
    "    def __init__(self, side):\n",
    "        self.side = side\n",
    "\n",
    "    def area(self):\n",
    "        return self.side ** 2\n",
    "\n",
    "class Circle(Shape):\n",
    "    def __init__(self, radius):\n",
    "        self.radius = radius\n",
    "\n",
    "    def area(self):\n",
    "        return 3.14 * self.radius ** 2\n"
   ]
  },
  {
   "cell_type": "code",
   "execution_count": 22,
   "id": "ff985bbb-8166-40d8-b74b-8c859ca35264",
   "metadata": {},
   "outputs": [],
   "source": [
    "s = Square(4)"
   ]
  },
  {
   "cell_type": "code",
   "execution_count": 24,
   "id": "6c1c6cc6-fe6e-44a0-a61e-31f3c1ce8504",
   "metadata": {},
   "outputs": [
    {
     "data": {
      "text/plain": [
       "16"
      ]
     },
     "execution_count": 24,
     "metadata": {},
     "output_type": "execute_result"
    }
   ],
   "source": [
    "s.area()"
   ]
  },
  {
   "cell_type": "code",
   "execution_count": 28,
   "id": "69fd1730-2ae4-4a39-83f7-8458deab82c4",
   "metadata": {},
   "outputs": [],
   "source": [
    "c = Circle(6)"
   ]
  },
  {
   "cell_type": "code",
   "execution_count": 30,
   "id": "4640ced2-9080-4984-a171-583999380e9a",
   "metadata": {},
   "outputs": [
    {
     "data": {
      "text/plain": [
       "113.04"
      ]
     },
     "execution_count": 30,
     "metadata": {},
     "output_type": "execute_result"
    }
   ],
   "source": [
    "c.area()"
   ]
  },
  {
   "cell_type": "code",
   "execution_count": 25,
   "id": "5b628445-dfc5-4d0c-821a-8c1ca41a83da",
   "metadata": {},
   "outputs": [
    {
     "name": "stdout",
     "output_type": "stream",
     "text": [
      "Square area: 16\n",
      "Circle area: 28.26\n"
     ]
    }
   ],
   "source": [
    "s = Square(4)\n",
    "print(\"Square area:\", s.area())  \n",
    "\n",
    "c = Circle(3)\n",
    "print(\"Circle area:\", c.area()) \n"
   ]
  },
  {
   "cell_type": "code",
   "execution_count": 14,
   "id": "6f387cce-838b-4607-9c44-ec52213ec418",
   "metadata": {},
   "outputs": [],
   "source": [
    "class BankAccount(ABC):\n",
    "    @abstractmethod\n",
    "    def account_type(self):\n",
    "        pass\n",
    "class savingsaccount(BankAccount):\n",
    "    def account_type(self):\n",
    "        return \"this is savings account\"\n",
    "class currentaccount(BankAccount):\n",
    "    def account_type(self):\n",
    "        return \"this is current account\""
   ]
  },
  {
   "cell_type": "code",
   "execution_count": 16,
   "id": "43ba9266-ccec-4911-8baf-984ebceb4981",
   "metadata": {},
   "outputs": [],
   "source": [
    "account1 = savingsaccount()"
   ]
  },
  {
   "cell_type": "code",
   "execution_count": 18,
   "id": "c59386a4-40d3-4a04-8261-b60f9902bce2",
   "metadata": {},
   "outputs": [
    {
     "data": {
      "text/plain": [
       "'this is savings account'"
      ]
     },
     "execution_count": 18,
     "metadata": {},
     "output_type": "execute_result"
    }
   ],
   "source": [
    "account1.account_type()"
   ]
  },
  {
   "cell_type": "code",
   "execution_count": 12,
   "id": "28758def-d61b-4ad2-b297-2294f5b365a1",
   "metadata": {},
   "outputs": [],
   "source": [
    "class BankAccount(ABC):\n",
    "    @abstractmethod\n",
    "    def account_type(self):\n",
    "        pass\n",
    "\n",
    "# Child class 1\n",
    "class SavingsAccount(BankAccount):\n",
    "    def account_type(self):\n",
    "        print(\"This is a Savings Account\")\n",
    "\n",
    "# Child class 2\n",
    "class CurrentAccount(BankAccount):\n",
    "    def account_type(self):\n",
    "        print(\"This is a Current Account\")\n"
   ]
  },
  {
   "cell_type": "code",
   "execution_count": null,
   "id": "08fdc1ee-f5b0-4fba-935f-adfe210e257c",
   "metadata": {},
   "outputs": [],
   "source": [
    "s = SavingsAccount()\n",
    "s.account_type()  \n",
    "\n",
    "c = CurrentAccount()\n",
    "c.account_type()  \n"
   ]
  },
  {
   "cell_type": "markdown",
   "id": "3bdba0fb-b1e7-490d-b2ac-11cc3a59792b",
   "metadata": {},
   "source": [
    "## Custom Exception:\n",
    "\n",
    "raise"
   ]
  },
  {
   "cell_type": "markdown",
   "id": "164e49ee-8a7d-4dbb-8f9a-85d9a6252842",
   "metadata": {},
   "source": [
    "You use raise to manually trigger an exception when you want to enforce rules or handle specific situations in your own way"
   ]
  },
  {
   "cell_type": "code",
   "execution_count": 33,
   "id": "84c8308b-ca5f-4992-8f01-834ebcf26f4d",
   "metadata": {},
   "outputs": [],
   "source": [
    "class Error(Exception):\n",
    "    pass\n",
    "\n",
    "class dobException(Error):\n",
    "    pass\n",
    "\n",
    "class customgeneric(Error):\n",
    "    pass"
   ]
  },
  {
   "cell_type": "code",
   "execution_count": 49,
   "id": "8722e07e-4d0d-4369-8ff3-73f263f39875",
   "metadata": {},
   "outputs": [
    {
     "name": "stdin",
     "output_type": "stream",
     "text": [
      "Enter the year of Birth  2010\n"
     ]
    },
    {
     "name": "stdout",
     "output_type": "stream",
     "text": [
      "15\n",
      "The age is not within the range. You cannot apply for the exams\n"
     ]
    }
   ],
   "source": [
    "year=int(input(\"Enter the year of Birth \"))\n",
    "age=2025-year\n",
    "\n",
    "print(age)\n",
    "\n",
    "try:\n",
    "    if age<=30 and age>20:\n",
    "        print(\"The age is valid. You can apply for the exams\")\n",
    "    else:\n",
    "        raise dobException\n",
    "except dobException:\n",
    "    print(\"The age is not within the range. You cannot apply for the exams\")\n"
   ]
  },
  {
   "cell_type": "code",
   "execution_count": 57,
   "id": "ccdd1192-ad79-4fb8-b2a3-894a3e9c1193",
   "metadata": {},
   "outputs": [
    {
     "name": "stdout",
     "output_type": "stream",
     "text": [
      "Caught an exception: Cannot divide by zero.\n"
     ]
    }
   ],
   "source": [
    "def divide(a, b):\n",
    "    if b == 0:\n",
    "        raise ValueError(\"Cannot divide by zero.\")\n",
    "    return a / b\n",
    "try:\n",
    "    result = divide(10, 0)\n",
    "    print(\"Result:\", result)\n",
    "except ValueError as e:\n",
    "    print(\"Caught an exception:\", e)\n"
   ]
  },
  {
   "cell_type": "code",
   "execution_count": 3,
   "id": "207b081b-97df-4cf9-a319-671d3f052bcf",
   "metadata": {},
   "outputs": [
    {
     "name": "stdout",
     "output_type": "stream",
     "text": [
      "Caught an error: invalid literal for int() with base 10: 'abc'\n"
     ]
    },
    {
     "ename": "ValueError",
     "evalue": "invalid literal for int() with base 10: 'abc'",
     "output_type": "error",
     "traceback": [
      "\u001b[1;31m---------------------------------------------------------------------------\u001b[0m",
      "\u001b[1;31mValueError\u001b[0m                                Traceback (most recent call last)",
      "Cell \u001b[1;32mIn[3], line 2\u001b[0m\n\u001b[0;32m      1\u001b[0m \u001b[38;5;28;01mtry\u001b[39;00m:\n\u001b[1;32m----> 2\u001b[0m     x \u001b[38;5;241m=\u001b[39m \u001b[38;5;28mint\u001b[39m(\u001b[38;5;124m\"\u001b[39m\u001b[38;5;124mabc\u001b[39m\u001b[38;5;124m\"\u001b[39m)\n\u001b[0;32m      3\u001b[0m \u001b[38;5;28;01mexcept\u001b[39;00m \u001b[38;5;167;01mValueError\u001b[39;00m \u001b[38;5;28;01mas\u001b[39;00m e:\n\u001b[0;32m      4\u001b[0m     \u001b[38;5;28mprint\u001b[39m(\u001b[38;5;124m\"\u001b[39m\u001b[38;5;124mCaught an error:\u001b[39m\u001b[38;5;124m\"\u001b[39m, e)\n",
      "\u001b[1;31mValueError\u001b[0m: invalid literal for int() with base 10: 'abc'"
     ]
    }
   ],
   "source": [
    "try:\n",
    "    x = int(\"abc\")\n",
    "except ValueError as e:\n",
    "    print(\"Caught an error:\", e)\n",
    "    raise  # re-raises the same error\n"
   ]
  },
  {
   "cell_type": "code",
   "execution_count": 61,
   "id": "efbdd990-0a9d-4471-b485-6d7c3d489771",
   "metadata": {},
   "outputs": [],
   "source": [
    "class MyCustomError(Exception):\n",
    "    pass\n",
    "\n",
    "def process(data):\n",
    "    if not data:\n",
    "        raise MyCustomError(\"Data should not be empty\")\n"
   ]
  },
  {
   "cell_type": "code",
   "execution_count": 71,
   "id": "4efbc214-c4ad-4c0d-b8b3-c027bee34454",
   "metadata": {},
   "outputs": [],
   "source": [
    "process(\"harsha\")"
   ]
  },
  {
   "cell_type": "code",
   "execution_count": null,
   "id": "5064ff85-2ce2-4582-aefd-02d9ba0f29e4",
   "metadata": {},
   "outputs": [],
   "source": []
  },
  {
   "cell_type": "code",
   "execution_count": null,
   "id": "b81abf09-d932-4828-bfaf-6ed2cf034ea7",
   "metadata": {},
   "outputs": [],
   "source": []
  },
  {
   "cell_type": "code",
   "execution_count": null,
   "id": "fa53a85f-cad7-4180-ab4e-73eb8f661dc4",
   "metadata": {},
   "outputs": [],
   "source": []
  },
  {
   "cell_type": "code",
   "execution_count": null,
   "id": "eb7726a7-25cf-474e-b701-e08786b53053",
   "metadata": {},
   "outputs": [],
   "source": []
  }
 ],
 "metadata": {
  "kernelspec": {
   "display_name": "Python [conda env:base] *",
   "language": "python",
   "name": "conda-base-py"
  },
  "language_info": {
   "codemirror_mode": {
    "name": "ipython",
    "version": 3
   },
   "file_extension": ".py",
   "mimetype": "text/x-python",
   "name": "python",
   "nbconvert_exporter": "python",
   "pygments_lexer": "ipython3",
   "version": "3.12.7"
  }
 },
 "nbformat": 4,
 "nbformat_minor": 5
}
