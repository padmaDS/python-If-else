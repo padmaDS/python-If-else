{
 "cells": [
  {
   "cell_type": "raw",
   "id": "9b5fa565-8ef8-4c62-8841-81da6b107de1",
   "metadata": {},
   "source": [
    "A function: in Python is a reusable block of code that performs a specific task. Functions are a fundamental part of Python programming and help programmers structure their code"
   ]
  },
  {
   "cell_type": "markdown",
   "id": "a022c910-c234-422c-a8d1-d512c4f55ac4",
   "metadata": {},
   "source": [
    "Introduction\n",
    "Functions are reusable blocks of code designed to perform specific tasks. \n",
    "They allow you to encapsulate code into a single unit, making it easier to manage, debug, and reuse. \n",
    "Functions help to break down complex problems into smaller, manageable pieces."
   ]
  },
  {
   "cell_type": "markdown",
   "id": "80d9c982-0bb4-483e-8c8e-145a1468797d",
   "metadata": {},
   "source": [
    "Defining a Function: \n",
    "\n",
    "Functions are defined using the def keyword followed by the function name and parentheses. \n",
    "The code block within the function is indented."
   ]
  },
  {
   "cell_type": "raw",
   "id": "105050f5-b217-4d49-ad5f-770352148e22",
   "metadata": {},
   "source": [
    "Syntax:\n",
    "\n",
    "def function_name(parameters):\n",
    "    # Function body\n",
    "    # Return value (optional)"
   ]
  },
  {
   "cell_type": "code",
   "execution_count": 2,
   "id": "bb371112-1a51-4988-aa91-0ddd39f33e87",
   "metadata": {},
   "outputs": [],
   "source": [
    "def test(a , b) :\n",
    "    \"\"\"this is my function for concatination or addition \"\"\"\n",
    "    return a + b"
   ]
  },
  {
   "cell_type": "code",
   "execution_count": 4,
   "id": "1c65daa1-661e-43fa-83f2-8eb044bc6acd",
   "metadata": {},
   "outputs": [
    {
     "data": {
      "text/plain": [
       "10"
      ]
     },
     "execution_count": 4,
     "metadata": {},
     "output_type": "execute_result"
    }
   ],
   "source": [
    "test(4,6)"
   ]
  },
  {
   "cell_type": "code",
   "execution_count": 17,
   "id": "5c7954d7-78ef-481a-a78f-3dd6ef43b54b",
   "metadata": {},
   "outputs": [
    {
     "data": {
      "text/plain": [
       "'aimnxtdatascience'"
      ]
     },
     "execution_count": 17,
     "metadata": {},
     "output_type": "execute_result"
    }
   ],
   "source": [
    "test(\"aimnxt\" , \"datascience\")"
   ]
  },
  {
   "cell_type": "code",
   "execution_count": 6,
   "id": "cb7890b1-e996-4f71-8ef6-f39666c5e467",
   "metadata": {},
   "outputs": [
    {
     "data": {
      "text/plain": [
       "15"
      ]
     },
     "execution_count": 6,
     "metadata": {},
     "output_type": "execute_result"
    }
   ],
   "source": [
    "test(a = 9  , b = 6 )"
   ]
  },
  {
   "cell_type": "code",
   "execution_count": 21,
   "id": "d2822ce8-6405-4b09-a99d-117797f9b2b8",
   "metadata": {},
   "outputs": [
    {
     "data": {
      "text/plain": [
       "48"
      ]
     },
     "execution_count": 21,
     "metadata": {},
     "output_type": "execute_result"
    }
   ],
   "source": [
    "test(b = 45 , a = 3)"
   ]
  },
  {
   "cell_type": "code",
   "execution_count": 8,
   "id": "4ce0766b-5420-4fd4-8919-30ff8d048726",
   "metadata": {},
   "outputs": [],
   "source": [
    "def avg(a,b,c):\n",
    "    return (a+b+c)/3"
   ]
  },
  {
   "cell_type": "code",
   "execution_count": 10,
   "id": "ed7a9561-a434-45b5-8ff9-0d2e6537e67d",
   "metadata": {},
   "outputs": [
    {
     "data": {
      "text/plain": [
       "2.0"
      ]
     },
     "execution_count": 10,
     "metadata": {},
     "output_type": "execute_result"
    }
   ],
   "source": [
    "avg(1,2,3)"
   ]
  },
  {
   "cell_type": "code",
   "execution_count": 12,
   "id": "b886b458-b5d3-44e0-b5c4-9124a2a97e73",
   "metadata": {},
   "outputs": [],
   "source": [
    "def avg(a,b,c):\n",
    "    result = (a+b+c)/3\n",
    "    return result"
   ]
  },
  {
   "cell_type": "code",
   "execution_count": 14,
   "id": "3e52b1c7-b4c6-4d64-9db5-4755f2bb3476",
   "metadata": {},
   "outputs": [
    {
     "name": "stdout",
     "output_type": "stream",
     "text": [
      "1\n",
      "3\n",
      "5\n",
      "7\n",
      "9\n"
     ]
    }
   ],
   "source": [
    "l = [1,2,3,4,5,6,7,8,9]\n",
    "\n",
    "for i in l:\n",
    "    if i%2 != 0:\n",
    "        print(i)"
   ]
  },
  {
   "cell_type": "code",
   "execution_count": 16,
   "id": "bf9fa49e-f45c-42bd-96cc-55e3f3b4500a",
   "metadata": {},
   "outputs": [],
   "source": [
    "l = [1,2,3,4,5,6,7,8,9]\n",
    "l1 = []\n",
    "for i in l:\n",
    "    if i%2 != 0:\n",
    "        l1.append(i)"
   ]
  },
  {
   "cell_type": "code",
   "execution_count": 18,
   "id": "092db76a-3b5a-4e27-9326-cb5af91d5f42",
   "metadata": {},
   "outputs": [
    {
     "data": {
      "text/plain": [
       "[1, 3, 5, 7, 9]"
      ]
     },
     "execution_count": 18,
     "metadata": {},
     "output_type": "execute_result"
    }
   ],
   "source": [
    "l1"
   ]
  },
  {
   "cell_type": "code",
   "execution_count": 20,
   "id": "8492aee7-ad1f-4c2f-89a3-51386ad8e6eb",
   "metadata": {},
   "outputs": [],
   "source": [
    "def test():\n",
    "    print(\"this is my first function\")"
   ]
  },
  {
   "cell_type": "code",
   "execution_count": 22,
   "id": "875074e1-bc6a-4788-bb08-2155f57d4fd5",
   "metadata": {},
   "outputs": [
    {
     "name": "stdout",
     "output_type": "stream",
     "text": [
      "this is my first function\n"
     ]
    }
   ],
   "source": [
    "test()"
   ]
  },
  {
   "cell_type": "code",
   "execution_count": 24,
   "id": "6b63ab50-a6d8-481c-982b-937e463907d1",
   "metadata": {},
   "outputs": [
    {
     "data": {
      "text/plain": [
       "function"
      ]
     },
     "execution_count": 24,
     "metadata": {},
     "output_type": "execute_result"
    }
   ],
   "source": [
    "type(test)"
   ]
  },
  {
   "cell_type": "code",
   "execution_count": 26,
   "id": "bf2f0af8-dba3-4367-9689-c5cbcc4d3e99",
   "metadata": {},
   "outputs": [
    {
     "name": "stdout",
     "output_type": "stream",
     "text": [
      "this is my first function\n"
     ]
    },
    {
     "data": {
      "text/plain": [
       "'None aimnxt'"
      ]
     },
     "execution_count": 26,
     "metadata": {},
     "output_type": "execute_result"
    }
   ],
   "source": [
    "str(test()) + \" aimnxt\""
   ]
  },
  {
   "cell_type": "code",
   "execution_count": 28,
   "id": "765b06a4-edfe-48d8-b719-31994b34ef57",
   "metadata": {},
   "outputs": [
    {
     "name": "stdout",
     "output_type": "stream",
     "text": [
      "this is my first function\n"
     ]
    },
    {
     "data": {
      "text/plain": [
       "NoneType"
      ]
     },
     "execution_count": 28,
     "metadata": {},
     "output_type": "execute_result"
    }
   ],
   "source": [
    "type(test())"
   ]
  },
  {
   "cell_type": "code",
   "execution_count": 32,
   "id": "86babc03-1a04-4fae-af5d-e96ef8446b2e",
   "metadata": {},
   "outputs": [],
   "source": [
    "def test1():\n",
    "    return \"this is my first fun\""
   ]
  },
  {
   "cell_type": "code",
   "execution_count": 34,
   "id": "3b3ed8bc-8556-455d-bf93-5876ba9fdcd4",
   "metadata": {},
   "outputs": [
    {
     "data": {
      "text/plain": [
       "'this is my first fun sai'"
      ]
     },
     "execution_count": 34,
     "metadata": {},
     "output_type": "execute_result"
    }
   ],
   "source": [
    "test1() + \" sai\""
   ]
  },
  {
   "cell_type": "code",
   "execution_count": 36,
   "id": "0bad5dba-30b1-4f4e-8b79-b00e4b1928fe",
   "metadata": {},
   "outputs": [],
   "source": [
    "def test2():\n",
    "    pass"
   ]
  },
  {
   "cell_type": "code",
   "execution_count": 40,
   "id": "3785457c-2a8d-4ba1-b7ae-c72b2dac60c2",
   "metadata": {},
   "outputs": [],
   "source": [
    "def test3() : \n",
    "    return 1,3 ,5 , [1,2,3,4,54,5]"
   ]
  },
  {
   "cell_type": "code",
   "execution_count": 42,
   "id": "9cec0e7d-45a8-46fe-b468-9211ce8c5c4e",
   "metadata": {},
   "outputs": [],
   "source": [
    "a = test3()"
   ]
  },
  {
   "cell_type": "code",
   "execution_count": 44,
   "id": "6d88fe25-5edd-4cec-9fb2-b885e25c1aae",
   "metadata": {},
   "outputs": [
    {
     "data": {
      "text/plain": [
       "(1, 3, 5, [1, 2, 3, 4, 54, 5])"
      ]
     },
     "execution_count": 44,
     "metadata": {},
     "output_type": "execute_result"
    }
   ],
   "source": [
    "a "
   ]
  },
  {
   "cell_type": "code",
   "execution_count": 46,
   "id": "098ef38c-ff9f-4d25-9f74-a44c9a39604d",
   "metadata": {},
   "outputs": [],
   "source": [
    "a,b,c,d = test3()"
   ]
  },
  {
   "cell_type": "code",
   "execution_count": 48,
   "id": "46847eb1-6a98-4bba-a144-a1c0c7bb278c",
   "metadata": {},
   "outputs": [
    {
     "data": {
      "text/plain": [
       "1"
      ]
     },
     "execution_count": 48,
     "metadata": {},
     "output_type": "execute_result"
    }
   ],
   "source": [
    "a"
   ]
  },
  {
   "cell_type": "code",
   "execution_count": 50,
   "id": "e8218984-0020-46fc-8399-dad16da2150c",
   "metadata": {},
   "outputs": [
    {
     "data": {
      "text/plain": [
       "3"
      ]
     },
     "execution_count": 50,
     "metadata": {},
     "output_type": "execute_result"
    }
   ],
   "source": [
    "b"
   ]
  },
  {
   "cell_type": "code",
   "execution_count": 52,
   "id": "ec09f571-7082-42ec-abc7-c60e539a4dbc",
   "metadata": {},
   "outputs": [
    {
     "data": {
      "text/plain": [
       "5"
      ]
     },
     "execution_count": 52,
     "metadata": {},
     "output_type": "execute_result"
    }
   ],
   "source": [
    "c"
   ]
  },
  {
   "cell_type": "code",
   "execution_count": 54,
   "id": "695c718f-1b42-47dd-a168-8bdfee76d2d3",
   "metadata": {},
   "outputs": [
    {
     "data": {
      "text/plain": [
       "[1, 2, 3, 4, 54, 5]"
      ]
     },
     "execution_count": 54,
     "metadata": {},
     "output_type": "execute_result"
    }
   ],
   "source": [
    "d"
   ]
  },
  {
   "cell_type": "code",
   "execution_count": 56,
   "id": "4fc8b8a0-1efe-448e-becb-acbe14a0a24e",
   "metadata": {},
   "outputs": [],
   "source": [
    "a , b ,c , _ , t = ( 23,45,56, 657,676)"
   ]
  },
  {
   "cell_type": "code",
   "execution_count": 58,
   "id": "1b827fa9-af45-4d7a-831c-ef1dc2e454f1",
   "metadata": {},
   "outputs": [
    {
     "data": {
      "text/plain": [
       "23"
      ]
     },
     "execution_count": 58,
     "metadata": {},
     "output_type": "execute_result"
    }
   ],
   "source": [
    "a"
   ]
  },
  {
   "cell_type": "code",
   "execution_count": 60,
   "id": "c20c019c-a07f-43af-819c-f4a0f00b595c",
   "metadata": {},
   "outputs": [
    {
     "data": {
      "text/plain": [
       "657"
      ]
     },
     "execution_count": 60,
     "metadata": {},
     "output_type": "execute_result"
    }
   ],
   "source": [
    "_"
   ]
  },
  {
   "cell_type": "code",
   "execution_count": 62,
   "id": "ee726af3-9cde-451a-97c9-5fdd3d89224a",
   "metadata": {},
   "outputs": [],
   "source": [
    "def test(a,b):\n",
    "    return a*b"
   ]
  },
  {
   "cell_type": "code",
   "execution_count": 66,
   "id": "44bc5748-54d3-443c-94eb-01d318e25133",
   "metadata": {},
   "outputs": [],
   "source": [
    "def mul(a,b):\n",
    "    result = a*b\n",
    "    return result"
   ]
  },
  {
   "cell_type": "code",
   "execution_count": 68,
   "id": "5856920d-1e1f-46cc-949c-6ea358c45651",
   "metadata": {},
   "outputs": [
    {
     "data": {
      "text/plain": [
       "20"
      ]
     },
     "execution_count": 68,
     "metadata": {},
     "output_type": "execute_result"
    }
   ],
   "source": [
    "mul(4,5)"
   ]
  },
  {
   "cell_type": "code",
   "execution_count": 64,
   "id": "df6a2266-6965-41ea-80f4-f100ea8340cd",
   "metadata": {},
   "outputs": [
    {
     "data": {
      "text/plain": [
       "6"
      ]
     },
     "execution_count": 64,
     "metadata": {},
     "output_type": "execute_result"
    }
   ],
   "source": [
    "test(2,3)"
   ]
  },
  {
   "cell_type": "code",
   "execution_count": 70,
   "id": "ba3bd145-0624-46e6-b5b2-6a98091e01d5",
   "metadata": {},
   "outputs": [],
   "source": [
    "def test4() : \n",
    "    a = 4*5\n",
    "    b = 6+4\n",
    "    return a, b"
   ]
  },
  {
   "cell_type": "code",
   "execution_count": 72,
   "id": "a0abcadf-d5fb-4b45-b8d6-dcace5581311",
   "metadata": {},
   "outputs": [],
   "source": [
    "g = test4()"
   ]
  },
  {
   "cell_type": "code",
   "execution_count": 74,
   "id": "fc2aa9ed-a7cd-4f41-b921-233340123b93",
   "metadata": {},
   "outputs": [
    {
     "data": {
      "text/plain": [
       "(20, 10)"
      ]
     },
     "execution_count": 74,
     "metadata": {},
     "output_type": "execute_result"
    }
   ],
   "source": [
    "g"
   ]
  },
  {
   "cell_type": "code",
   "execution_count": 79,
   "id": "cba8d674-f58a-425c-81bf-c2c8a24c1c33",
   "metadata": {},
   "outputs": [],
   "source": [
    "j,k = test4()"
   ]
  },
  {
   "cell_type": "code",
   "execution_count": 81,
   "id": "276b1ed4-19ed-48c9-8d66-744a6ff65dae",
   "metadata": {},
   "outputs": [
    {
     "data": {
      "text/plain": [
       "20"
      ]
     },
     "execution_count": 81,
     "metadata": {},
     "output_type": "execute_result"
    }
   ],
   "source": [
    "j"
   ]
  },
  {
   "cell_type": "code",
   "execution_count": 83,
   "id": "209b0ee7-9e36-47cb-8cf6-29a43b688628",
   "metadata": {},
   "outputs": [
    {
     "data": {
      "text/plain": [
       "10"
      ]
     },
     "execution_count": 83,
     "metadata": {},
     "output_type": "execute_result"
    }
   ],
   "source": [
    "k"
   ]
  },
  {
   "cell_type": "code",
   "execution_count": 76,
   "id": "c160461a-cb86-4bfb-b414-a3435bc9fbcd",
   "metadata": {},
   "outputs": [],
   "source": [
    "_ , m = test4()"
   ]
  },
  {
   "cell_type": "code",
   "execution_count": 78,
   "id": "20192584-6a1e-4139-9adb-7e41848a1eb8",
   "metadata": {},
   "outputs": [
    {
     "data": {
      "text/plain": [
       "20"
      ]
     },
     "execution_count": 78,
     "metadata": {},
     "output_type": "execute_result"
    }
   ],
   "source": [
    "_"
   ]
  },
  {
   "cell_type": "code",
   "execution_count": 80,
   "id": "23c4d4a3-4e52-4e5f-806b-4798fddc4018",
   "metadata": {},
   "outputs": [
    {
     "data": {
      "text/plain": [
       "10"
      ]
     },
     "execution_count": 80,
     "metadata": {},
     "output_type": "execute_result"
    }
   ],
   "source": [
    "m"
   ]
  },
  {
   "cell_type": "code",
   "execution_count": 84,
   "id": "895a3038-fe20-4df3-a5ce-1ee04a068840",
   "metadata": {},
   "outputs": [
    {
     "data": {
      "text/plain": [
       "(1, 3, 5, [1, 2, 3, 4, 54, 5])"
      ]
     },
     "execution_count": 84,
     "metadata": {},
     "output_type": "execute_result"
    }
   ],
   "source": [
    "test3()"
   ]
  },
  {
   "cell_type": "code",
   "execution_count": 86,
   "id": "bb4bb917-8d66-45b0-ba28-a4a2be3f99be",
   "metadata": {},
   "outputs": [],
   "source": [
    "_ ,_ , _ , g = test3()"
   ]
  },
  {
   "cell_type": "code",
   "execution_count": 90,
   "id": "523bf964-e968-467b-bfb6-855789a40b20",
   "metadata": {},
   "outputs": [
    {
     "data": {
      "text/plain": [
       "5"
      ]
     },
     "execution_count": 90,
     "metadata": {},
     "output_type": "execute_result"
    }
   ],
   "source": [
    "_"
   ]
  },
  {
   "cell_type": "code",
   "execution_count": 88,
   "id": "b00b9a73-33ce-47a1-83a7-ab6ae4785a6f",
   "metadata": {},
   "outputs": [
    {
     "data": {
      "text/plain": [
       "[1, 2, 3, 4, 54, 5]"
      ]
     },
     "execution_count": 88,
     "metadata": {},
     "output_type": "execute_result"
    }
   ],
   "source": [
    "g"
   ]
  },
  {
   "cell_type": "code",
   "execution_count": 1,
   "id": "4dc421d4-667e-44a7-bd96-9ab1ff9a755c",
   "metadata": {},
   "outputs": [
    {
     "name": "stdout",
     "output_type": "stream",
     "text": [
      "8\n",
      "16\n",
      "24\n",
      "32\n"
     ]
    }
   ],
   "source": [
    "l = [1,8,16,5,24,4,32,18]\n",
    "for i in l:\n",
    "    if i%8==0:\n",
    "        print(i)"
   ]
  },
  {
   "cell_type": "code",
   "execution_count": 3,
   "id": "45222924-7dd0-4720-aa69-c8b508d848e4",
   "metadata": {},
   "outputs": [],
   "source": [
    "def divby8(l):\n",
    "    for i in l:\n",
    "        if i%8==0:\n",
    "            print(i)"
   ]
  },
  {
   "cell_type": "code",
   "execution_count": 5,
   "id": "9dd75506-7232-495b-a89d-bf40761f89cd",
   "metadata": {},
   "outputs": [
    {
     "name": "stdout",
     "output_type": "stream",
     "text": [
      "8\n",
      "16\n",
      "24\n",
      "32\n"
     ]
    }
   ],
   "source": [
    "divby8(l)"
   ]
  },
  {
   "cell_type": "code",
   "execution_count": null,
   "id": "8a05dd01-5f1d-4881-aaff-b9e93ca1744b",
   "metadata": {},
   "outputs": [],
   "source": []
  },
  {
   "cell_type": "code",
   "execution_count": 7,
   "id": "5587c645-8fc8-49a5-8e86-591c2881560a",
   "metadata": {},
   "outputs": [],
   "source": [
    "## is given number is even or not\n",
    "def is_even(a):\n",
    "    if a%2==0:\n",
    "        return \"this is even number\"\n",
    "    else:  \n",
    "        return \"given number is not even\""
   ]
  },
  {
   "cell_type": "code",
   "execution_count": 9,
   "id": "dcff69bf-a286-4abc-90ee-4e14741edd6f",
   "metadata": {},
   "outputs": [
    {
     "data": {
      "text/plain": [
       "'this is even number'"
      ]
     },
     "execution_count": 9,
     "metadata": {},
     "output_type": "execute_result"
    }
   ],
   "source": [
    "is_even(4)"
   ]
  },
  {
   "cell_type": "code",
   "execution_count": 11,
   "id": "0328fb12-135d-4b30-8f1b-ec336898cfb5",
   "metadata": {},
   "outputs": [
    {
     "data": {
      "text/plain": [
       "'given number is not even'"
      ]
     },
     "execution_count": 11,
     "metadata": {},
     "output_type": "execute_result"
    }
   ],
   "source": [
    "is_even(45)"
   ]
  },
  {
   "cell_type": "code",
   "execution_count": 13,
   "id": "ee099e1a-bcca-4a13-9cdb-ff515880e29d",
   "metadata": {},
   "outputs": [
    {
     "data": {
      "text/plain": [
       "'this is even number'"
      ]
     },
     "execution_count": 13,
     "metadata": {},
     "output_type": "execute_result"
    }
   ],
   "source": [
    "is_even(0)"
   ]
  },
  {
   "cell_type": "code",
   "execution_count": 17,
   "id": "b8a15b63-9edb-488d-b18d-8f8ea99cfea7",
   "metadata": {},
   "outputs": [],
   "source": [
    "l = [1,2,3,4,\"aimnxt\", \"datascience\", True, False, 10.5, 30.6]"
   ]
  },
  {
   "cell_type": "code",
   "execution_count": 17,
   "id": "d527c2e8-f160-4717-8cca-cb04cf23552f",
   "metadata": {},
   "outputs": [],
   "source": [
    "l1 = []\n",
    "for i in l:\n",
    "    if type(i)==str:\n",
    "        l1.append(i)"
   ]
  },
  {
   "cell_type": "code",
   "execution_count": 19,
   "id": "78af3a47-fa9f-48d4-bbb9-72607612479d",
   "metadata": {},
   "outputs": [
    {
     "data": {
      "text/plain": [
       "['aimnxt', 'datascience']"
      ]
     },
     "execution_count": 19,
     "metadata": {},
     "output_type": "execute_result"
    }
   ],
   "source": [
    "l1"
   ]
  },
  {
   "cell_type": "code",
   "execution_count": 7,
   "id": "b7e2ba4e-8a56-427f-aec6-7db663f23682",
   "metadata": {},
   "outputs": [],
   "source": [
    "def new_list(lst):\n",
    "    l1= []\n",
    "    for i in lst:\n",
    "        if type(i)==str:\n",
    "            l1.append(i)\n",
    "    return l1"
   ]
  },
  {
   "cell_type": "code",
   "execution_count": 23,
   "id": "6e86b7af-f04e-4826-976a-696b6572853e",
   "metadata": {},
   "outputs": [
    {
     "data": {
      "text/plain": [
       "['aimnxt', 'datascience']"
      ]
     },
     "execution_count": 23,
     "metadata": {},
     "output_type": "execute_result"
    }
   ],
   "source": [
    "new_list(l)"
   ]
  },
  {
   "cell_type": "code",
   "execution_count": 9,
   "id": "415bde71-812e-4e4f-81fb-2fd85aa6e89e",
   "metadata": {},
   "outputs": [],
   "source": [
    "l1 = [\"sekhar\", \"venkat\", 12,3,4]"
   ]
  },
  {
   "cell_type": "code",
   "execution_count": 11,
   "id": "755ef8fb-e415-4826-83e1-c85b6c2d4d80",
   "metadata": {},
   "outputs": [
    {
     "data": {
      "text/plain": [
       "['sekhar', 'venkat']"
      ]
     },
     "execution_count": 11,
     "metadata": {},
     "output_type": "execute_result"
    }
   ],
   "source": [
    "new_list(l1)"
   ]
  },
  {
   "cell_type": "code",
   "execution_count": null,
   "id": "640c01e3-34ec-4ea6-8f94-8ae14da14b8b",
   "metadata": {},
   "outputs": [],
   "source": []
  },
  {
   "cell_type": "code",
   "execution_count": 11,
   "id": "eb858d52-0c15-4ec4-976f-fe900de98a81",
   "metadata": {},
   "outputs": [
    {
     "data": {
      "text/plain": [
       "[1, 2, 3, 4, 'aimnxt', 'datascience', True, False, 10.5, 30.6]"
      ]
     },
     "execution_count": 11,
     "metadata": {},
     "output_type": "execute_result"
    }
   ],
   "source": [
    "l"
   ]
  },
  {
   "cell_type": "code",
   "execution_count": 19,
   "id": "4355c6ae-8ff1-4623-8196-1568578c23ea",
   "metadata": {},
   "outputs": [],
   "source": [
    "def new_list(lst):\n",
    "    l1 = []\n",
    "    for i in lst:\n",
    "        if type(i) == int or type(i) == str:\n",
    "            l1.append(i)\n",
    "    return l1"
   ]
  },
  {
   "cell_type": "code",
   "execution_count": 21,
   "id": "076b2819-f936-423d-995f-5c1e6666b828",
   "metadata": {},
   "outputs": [
    {
     "data": {
      "text/plain": [
       "[1, 2, 3, 4, 'aimnxt', 'datascience']"
      ]
     },
     "execution_count": 21,
     "metadata": {},
     "output_type": "execute_result"
    }
   ],
   "source": [
    "new_list(l)"
   ]
  },
  {
   "cell_type": "code",
   "execution_count": 25,
   "id": "f16a3926-2494-4583-963b-8c100075df4d",
   "metadata": {},
   "outputs": [
    {
     "data": {
      "text/plain": [
       "[1, 2, 3, 4, 'aimnxt', 'datascience', True, False, 10.5, 30.6]"
      ]
     },
     "execution_count": 25,
     "metadata": {},
     "output_type": "execute_result"
    }
   ],
   "source": [
    "l"
   ]
  },
  {
   "cell_type": "code",
   "execution_count": 23,
   "id": "89d55be5-53fb-4dce-b16b-8b449ad9f55a",
   "metadata": {},
   "outputs": [
    {
     "name": "stdout",
     "output_type": "stream",
     "text": [
      "1\n",
      "2\n",
      "3\n",
      "4\n",
      "aimnxt\n"
     ]
    }
   ],
   "source": [
    "for i in l:\n",
    "    if i==\"datascience\":\n",
    "        break\n",
    "    print(i)"
   ]
  },
  {
   "cell_type": "code",
   "execution_count": 35,
   "id": "6a54d468-6ed0-4968-bc0f-450f98df1aac",
   "metadata": {},
   "outputs": [],
   "source": [
    "def new_function(lst):\n",
    "    for i in lst:\n",
    "        if i == \"datascience\":\n",
    "            break\n",
    "        print(i)\n",
    "    # return i"
   ]
  },
  {
   "cell_type": "code",
   "execution_count": 37,
   "id": "f64024f1-1aa9-4483-8001-e99f0be8dfe1",
   "metadata": {},
   "outputs": [
    {
     "name": "stdout",
     "output_type": "stream",
     "text": [
      "1\n",
      "2\n",
      "3\n",
      "4\n",
      "aimnxt\n"
     ]
    }
   ],
   "source": [
    "new_function(l)"
   ]
  },
  {
   "cell_type": "code",
   "execution_count": 39,
   "id": "17d08953-a752-4196-b364-82a6aab46793",
   "metadata": {},
   "outputs": [],
   "source": [
    "def new_funtion(lst):\n",
    "    for i in lst:\n",
    "        if i == \"datascience\":\n",
    "            break\n",
    "        print(i) \n",
    "    return i"
   ]
  },
  {
   "cell_type": "code",
   "execution_count": 41,
   "id": "188fb7b1-0f19-4f71-806c-9f5bfd0a245f",
   "metadata": {},
   "outputs": [
    {
     "name": "stdout",
     "output_type": "stream",
     "text": [
      "1\n",
      "2\n",
      "3\n",
      "4\n",
      "aimnxt\n"
     ]
    },
    {
     "data": {
      "text/plain": [
       "'datascience'"
      ]
     },
     "execution_count": 41,
     "metadata": {},
     "output_type": "execute_result"
    }
   ],
   "source": [
    "new_funtion(l)"
   ]
  },
  {
   "cell_type": "code",
   "execution_count": 47,
   "id": "4d4cebd4-9a7e-4892-a506-d89b77a9e3df",
   "metadata": {},
   "outputs": [],
   "source": [
    "def another_funtion(lst):\n",
    "    for i in lst:\n",
    "        if i ==4:\n",
    "            break\n",
    "        print(i)\n",
    "    # return i"
   ]
  },
  {
   "cell_type": "code",
   "execution_count": 49,
   "id": "5a9ee85c-436b-4543-8073-17d63da7e773",
   "metadata": {},
   "outputs": [
    {
     "name": "stdout",
     "output_type": "stream",
     "text": [
      "1\n",
      "2\n",
      "3\n"
     ]
    }
   ],
   "source": [
    "another_funtion(l)"
   ]
  },
  {
   "cell_type": "code",
   "execution_count": null,
   "id": "30a3c498-7e8a-4ea8-bb6a-34bffd43e234",
   "metadata": {},
   "outputs": [],
   "source": []
  },
  {
   "cell_type": "code",
   "execution_count": 51,
   "id": "c6c24737-68db-4983-a0d7-4b8520c7fbe2",
   "metadata": {},
   "outputs": [],
   "source": [
    "def add(a,b):\n",
    "    return a+b"
   ]
  },
  {
   "cell_type": "code",
   "execution_count": 53,
   "id": "ae0dc3cf-2c2a-4c28-a8a4-99fafb647189",
   "metadata": {},
   "outputs": [],
   "source": [
    "def add(a,b):\n",
    "    pass"
   ]
  },
  {
   "cell_type": "code",
   "execution_count": 39,
   "id": "04d1937a-4ed7-441a-9816-ce2342802bb5",
   "metadata": {},
   "outputs": [],
   "source": [
    "l = [0,3,4,5,6,7,1, True, False, 20.4]"
   ]
  },
  {
   "cell_type": "code",
   "execution_count": 41,
   "id": "dc0085f6-840e-42ac-8f43-8a8ab0bc42f2",
   "metadata": {},
   "outputs": [
    {
     "name": "stdout",
     "output_type": "stream",
     "text": [
      "0\n",
      "3\n",
      "4\n",
      "5\n",
      "6\n",
      "7\n"
     ]
    }
   ],
   "source": [
    "for i in l:\n",
    "    if i==True:\n",
    "        break\n",
    "    print(i)"
   ]
  },
  {
   "cell_type": "code",
   "execution_count": 39,
   "id": "c7fd2e86-964d-48a0-b3bd-66e5319d62a0",
   "metadata": {},
   "outputs": [],
   "source": [
    "## sum of the elements in a list\n",
    "def list_sum(lst):\n",
    "    sum = 0\n",
    "    for i in lst:\n",
    "        sum += i  # Accumulate the sum\n",
    "    return sum"
   ]
  },
  {
   "cell_type": "code",
   "execution_count": 41,
   "id": "f99fa93e-8067-4090-9277-32c632683587",
   "metadata": {},
   "outputs": [
    {
     "name": "stdout",
     "output_type": "stream",
     "text": [
      "163\n"
     ]
    }
   ],
   "source": [
    "# Example usage\n",
    "numbers = [1, 2, 3, 4, 5, 24,46,78]\n",
    "print(list_sum(numbers))  "
   ]
  },
  {
   "cell_type": "code",
   "execution_count": 43,
   "id": "8f733db0-be7f-44be-9fa8-17020e770393",
   "metadata": {},
   "outputs": [],
   "source": [
    "def prd_lst(lst):\n",
    "    prd = 1\n",
    "    for i in lst:\n",
    "        prd *=i\n",
    "    return prd"
   ]
  },
  {
   "cell_type": "code",
   "execution_count": 45,
   "id": "0d270a2d-d226-4682-bc8c-454bfb934f42",
   "metadata": {},
   "outputs": [
    {
     "data": {
      "text/plain": [
       "10333440"
      ]
     },
     "execution_count": 45,
     "metadata": {},
     "output_type": "execute_result"
    }
   ],
   "source": [
    "numbers = [1, 2, 3, 4, 5, 24,46,78]\n",
    "prd_lst(numbers)"
   ]
  },
  {
   "cell_type": "code",
   "execution_count": 77,
   "id": "5e4f33f3-6272-4f3c-99b9-9d73f293cddf",
   "metadata": {},
   "outputs": [],
   "source": [
    "l = [2,3,4,23,55,69,56,78,67,56]"
   ]
  },
  {
   "cell_type": "code",
   "execution_count": 79,
   "id": "b8afb65b-3ae0-4275-934f-ff82e15c03c0",
   "metadata": {},
   "outputs": [
    {
     "name": "stdout",
     "output_type": "stream",
     "text": [
      "[2]\n",
      "[2, 4]\n",
      "[2, 4, 56]\n",
      "[2, 4, 56, 78]\n",
      "[2, 4, 56, 78, 56]\n"
     ]
    }
   ],
   "source": [
    "l1=[]\n",
    "for i in l:\n",
    "    if i%2==0:\n",
    "        l1.append(i)\n",
    "        print(l1)"
   ]
  },
  {
   "cell_type": "code",
   "execution_count": 81,
   "id": "96ba6172-c8af-439f-a59b-d50de99f785b",
   "metadata": {},
   "outputs": [
    {
     "name": "stdout",
     "output_type": "stream",
     "text": [
      "2\n",
      "4\n",
      "56\n",
      "78\n",
      "56\n"
     ]
    }
   ],
   "source": [
    "for i in l:\n",
    "    if i%2==0:\n",
    "        print(i)"
   ]
  },
  {
   "cell_type": "code",
   "execution_count": 99,
   "id": "7e2236e3-cc3b-44cb-9244-af31ce2c0e1c",
   "metadata": {},
   "outputs": [],
   "source": [
    "def even(lst):\n",
    "    for i in l:\n",
    "        if i%2==0:\n",
    "            print(i)\n",
    "    return i"
   ]
  },
  {
   "cell_type": "code",
   "execution_count": 101,
   "id": "38753bda-8b8b-4e20-b068-69447a95198a",
   "metadata": {},
   "outputs": [
    {
     "name": "stdout",
     "output_type": "stream",
     "text": [
      "2\n",
      "4\n",
      "56\n",
      "78\n",
      "56\n"
     ]
    },
    {
     "data": {
      "text/plain": [
       "56"
      ]
     },
     "execution_count": 101,
     "metadata": {},
     "output_type": "execute_result"
    }
   ],
   "source": [
    "even(l)"
   ]
  },
  {
   "cell_type": "code",
   "execution_count": null,
   "id": "62730c01-d520-4ae8-9fcb-38e3e9f359e8",
   "metadata": {},
   "outputs": [],
   "source": []
  },
  {
   "cell_type": "code",
   "execution_count": null,
   "id": "b4dd05b5-3548-484e-9816-55eab629a30a",
   "metadata": {},
   "outputs": [],
   "source": []
  },
  {
   "cell_type": "code",
   "execution_count": null,
   "id": "54e10df9-6d9e-49d7-b8a3-7ee21444a6d0",
   "metadata": {},
   "outputs": [],
   "source": [
    "## sum of even numbers"
   ]
  },
  {
   "cell_type": "code",
   "execution_count": 103,
   "id": "13676f61-9783-47d4-8e90-f57ea32be4d2",
   "metadata": {},
   "outputs": [],
   "source": [
    "def evn_sum(lst):\n",
    "    sum = 0\n",
    "    for i in lst:\n",
    "        if i%2==0:\n",
    "            sum += i  # Accumulate the sum\n",
    "    return sum"
   ]
  },
  {
   "cell_type": "code",
   "execution_count": 105,
   "id": "e2030843-0477-4e4a-aec7-1848f6755294",
   "metadata": {},
   "outputs": [
    {
     "data": {
      "text/plain": [
       "96"
      ]
     },
     "execution_count": 105,
     "metadata": {},
     "output_type": "execute_result"
    }
   ],
   "source": [
    "evn_sum([4,6,3,5,54,32,67,89])"
   ]
  },
  {
   "cell_type": "code",
   "execution_count": 107,
   "id": "d6cd5e9b-beff-46b3-816d-ca89c929b6d1",
   "metadata": {},
   "outputs": [],
   "source": [
    "l = [2,3,4,5,6,7,8,9]"
   ]
  },
  {
   "cell_type": "code",
   "execution_count": 109,
   "id": "7f1f78fd-5953-4414-8c5c-86eb061807c2",
   "metadata": {},
   "outputs": [
    {
     "data": {
      "text/plain": [
       "20"
      ]
     },
     "execution_count": 109,
     "metadata": {},
     "output_type": "execute_result"
    }
   ],
   "source": [
    "evn_sum(l)"
   ]
  },
  {
   "cell_type": "code",
   "execution_count": null,
   "id": "b3efed27-82fc-440f-92b6-b1d22cc2a3ba",
   "metadata": {},
   "outputs": [],
   "source": []
  },
  {
   "cell_type": "code",
   "execution_count": 111,
   "id": "035c6357-c4cb-46f6-ab57-1ebf87e39a17",
   "metadata": {},
   "outputs": [],
   "source": [
    "def get_even_numbers(lst):\n",
    "    even_numbers = []  # Create an empty list to store even numbers\n",
    "    for num in lst:\n",
    "        if num % 2 == 0:  # Check if the number is even\n",
    "            even_numbers.append(num)\n",
    "    return even_numbers"
   ]
  },
  {
   "cell_type": "code",
   "execution_count": 115,
   "id": "7a2c3300-3969-4344-b4e2-1d0974df56a8",
   "metadata": {},
   "outputs": [
    {
     "data": {
      "text/plain": [
       "[2, 4, 6]"
      ]
     },
     "execution_count": 115,
     "metadata": {},
     "output_type": "execute_result"
    }
   ],
   "source": [
    "get_even_numbers([1,2,3,4,6])"
   ]
  },
  {
   "cell_type": "code",
   "execution_count": 123,
   "id": "5c2e3393-e24b-4c40-9af8-f0016faded7c",
   "metadata": {},
   "outputs": [],
   "source": [
    "l = [2,3,4,5,6,7,8,9,13,15]"
   ]
  },
  {
   "cell_type": "code",
   "execution_count": null,
   "id": "ba5c6baa-02df-46b1-a024-dcf016dce79b",
   "metadata": {},
   "outputs": [],
   "source": []
  },
  {
   "cell_type": "code",
   "execution_count": 121,
   "id": "160e696f-fc69-4019-92aa-b78160172dff",
   "metadata": {},
   "outputs": [],
   "source": [
    "def get_odd_numbers(l):\n",
    "    odd_numbers = []\n",
    "    for num in l:\n",
    "        if num % 2 !=0:\n",
    "            odd_numbers.append(num)\n",
    "    return odd_numbers"
   ]
  },
  {
   "cell_type": "code",
   "execution_count": 125,
   "id": "cd2813c3-b9d2-441c-b540-75e1bd701fcd",
   "metadata": {},
   "outputs": [
    {
     "data": {
      "text/plain": [
       "[3, 5, 7, 9, 13, 15]"
      ]
     },
     "execution_count": 125,
     "metadata": {},
     "output_type": "execute_result"
    }
   ],
   "source": [
    "get_odd_numbers(l)"
   ]
  },
  {
   "cell_type": "code",
   "execution_count": 129,
   "id": "81ff8837-c298-48a8-9b6e-d36a68f042c3",
   "metadata": {},
   "outputs": [],
   "source": [
    "def get_odd_numbers(lst):\n",
    "    odd_numbers = []\n",
    "    for i in lst:\n",
    "        if i %2 !=0:\n",
    "            odd_numbers.append(i)\n",
    "    return odd_numbers\n",
    "        "
   ]
  },
  {
   "cell_type": "code",
   "execution_count": 131,
   "id": "49cb2293-72f5-43da-ad50-999b95c7676f",
   "metadata": {},
   "outputs": [
    {
     "data": {
      "text/plain": [
       "[3, 5, 7, 9, 13, 15]"
      ]
     },
     "execution_count": 131,
     "metadata": {},
     "output_type": "execute_result"
    }
   ],
   "source": [
    "get_odd_numbers(l)"
   ]
  },
  {
   "cell_type": "markdown",
   "id": "dc9ddd07-57e2-4c01-938d-1ebe818988e7",
   "metadata": {},
   "source": [
    "## while loop"
   ]
  },
  {
   "cell_type": "code",
   "execution_count": 47,
   "id": "7420d402-fa2b-4631-9e98-e3a27977cdb6",
   "metadata": {},
   "outputs": [
    {
     "name": "stdout",
     "output_type": "stream",
     "text": [
      "3\n",
      "5\n",
      "7\n",
      "9\n",
      "11\n",
      "print this else block\n"
     ]
    }
   ],
   "source": [
    "a = 1\n",
    "b = 10 \n",
    "while a <=b :\n",
    "    a = a +2\n",
    "    print(a)\n",
    "else :\n",
    "    print(\"print this else block\")"
   ]
  },
  {
   "cell_type": "raw",
   "id": "96174af0-f17c-4a8e-beb3-4908d1a528d7",
   "metadata": {},
   "source": [
    "function"
   ]
  },
  {
   "cell_type": "code",
   "execution_count": 50,
   "id": "69e450e5-36e0-49ea-98a7-16259576464a",
   "metadata": {},
   "outputs": [],
   "source": [
    "def test5() : \n",
    "    a  = 1\n",
    "    b = 10 \n",
    "    while a <=b :\n",
    "        a = a +2\n",
    "        print(a)\n",
    "    else :\n",
    "        print(\"print this else block\")"
   ]
  },
  {
   "cell_type": "code",
   "execution_count": 52,
   "id": "3c73439a-3252-4283-86fe-8263e8c2fb6c",
   "metadata": {},
   "outputs": [
    {
     "name": "stdout",
     "output_type": "stream",
     "text": [
      "3\n",
      "5\n",
      "7\n",
      "9\n",
      "11\n",
      "print this else block\n"
     ]
    }
   ],
   "source": [
    "test5()"
   ]
  },
  {
   "cell_type": "code",
   "execution_count": 54,
   "id": "8c9389cb-d9c2-454e-b98b-996e35ed04b0",
   "metadata": {},
   "outputs": [],
   "source": [
    "def test5(a,b) : \n",
    "    l = []\n",
    "    while a <=b :\n",
    "        l.append(a)\n",
    "        a = a +2\n",
    "        print(a)\n",
    "    else :\n",
    "        print( \"print this else block\")\n",
    "    return l"
   ]
  },
  {
   "cell_type": "code",
   "execution_count": 7,
   "id": "e495e04e-fd41-420c-826c-cd7cab8d423b",
   "metadata": {},
   "outputs": [
    {
     "name": "stdout",
     "output_type": "stream",
     "text": [
      "3\n",
      "5\n",
      "7\n",
      "9\n",
      "11\n",
      "print this else block\n"
     ]
    },
    {
     "data": {
      "text/plain": [
       "[1, 3, 5, 7, 9]"
      ]
     },
     "execution_count": 7,
     "metadata": {},
     "output_type": "execute_result"
    }
   ],
   "source": [
    "test5(1,10)"
   ]
  },
  {
   "cell_type": "code",
   "execution_count": 11,
   "id": "d7cbe6e7-a558-4bff-b5de-ee98c73b8ab8",
   "metadata": {},
   "outputs": [],
   "source": [
    "def test5(a,b):\n",
    "    l=[]\n",
    "    while a<=b:\n",
    "        l.append(a)\n",
    "        a = a+3\n",
    "    else:\n",
    "        print(\"print this else block\")\n",
    "    return l"
   ]
  },
  {
   "cell_type": "code",
   "execution_count": 13,
   "id": "da1e6f88-329c-4c5a-83ee-141c69408efc",
   "metadata": {},
   "outputs": [
    {
     "name": "stdout",
     "output_type": "stream",
     "text": [
      "print this else block\n"
     ]
    },
    {
     "data": {
      "text/plain": [
       "[1, 4, 7, 10]"
      ]
     },
     "execution_count": 13,
     "metadata": {},
     "output_type": "execute_result"
    }
   ],
   "source": [
    "test5(1,10)"
   ]
  },
  {
   "cell_type": "code",
   "execution_count": 56,
   "id": "2ba3197f-b890-4158-b365-d23abc6eeaab",
   "metadata": {},
   "outputs": [],
   "source": [
    "def test5(a,b):\n",
    "    l = []\n",
    "    while a<=b:\n",
    "        a= a*2\n",
    "        l.append(a)\n",
    "        print(a)\n",
    "    else:\n",
    "        print(\"print this else block\")\n",
    "    return l"
   ]
  },
  {
   "cell_type": "code",
   "execution_count": 58,
   "id": "b4819dc7-244b-4cb9-bc33-114da02538d4",
   "metadata": {},
   "outputs": [
    {
     "name": "stdout",
     "output_type": "stream",
     "text": [
      "2\n",
      "4\n",
      "8\n",
      "16\n",
      "print this else block\n"
     ]
    },
    {
     "data": {
      "text/plain": [
       "[2, 4, 8, 16]"
      ]
     },
     "execution_count": 58,
     "metadata": {},
     "output_type": "execute_result"
    }
   ],
   "source": [
    "test5(1,10)"
   ]
  },
  {
   "cell_type": "code",
   "execution_count": null,
   "id": "740572a0-beb1-4788-82cf-4ca3684b4f0d",
   "metadata": {},
   "outputs": [],
   "source": []
  },
  {
   "cell_type": "code",
   "execution_count": null,
   "id": "e3c3903e-34d3-4eb9-bba8-5d61bab8b4e3",
   "metadata": {},
   "outputs": [],
   "source": []
  },
  {
   "cell_type": "code",
   "execution_count": null,
   "id": "48af1f8a-5845-4df7-8d09-35cd7e620599",
   "metadata": {},
   "outputs": [],
   "source": []
  },
  {
   "cell_type": "code",
   "execution_count": 64,
   "id": "80482d83-7311-48e6-bac0-192d474e4ae7",
   "metadata": {},
   "outputs": [],
   "source": [
    "l = [4,5,6,67,7,8,8,9,9,9, [3,4,5,6,7,7] , \"aimnxt\", \"datascience\"]"
   ]
  },
  {
   "cell_type": "code",
   "execution_count": 33,
   "id": "b45f9693-a37b-40ce-8291-67d7027b75a2",
   "metadata": {},
   "outputs": [],
   "source": [
    "l1 = []\n",
    "for i in l :\n",
    "    if type(i) == int:\n",
    "        l1.append(i)"
   ]
  },
  {
   "cell_type": "code",
   "execution_count": 35,
   "id": "75af4dac-d5e4-4b6e-8bbb-2cc5506cd1b6",
   "metadata": {},
   "outputs": [
    {
     "data": {
      "text/plain": [
       "[4, 5, 6, 67, 7, 8, 8, 9, 9, 9]"
      ]
     },
     "execution_count": 35,
     "metadata": {},
     "output_type": "execute_result"
    }
   ],
   "source": [
    "l1"
   ]
  },
  {
   "cell_type": "code",
   "execution_count": 37,
   "id": "435fb01b-fc97-4a13-a3e8-376f02c4575b",
   "metadata": {},
   "outputs": [],
   "source": [
    "l1= []\n",
    "for i in l:\n",
    "    if type(i)==str:\n",
    "        l1.append(i)"
   ]
  },
  {
   "cell_type": "code",
   "execution_count": 39,
   "id": "b5883c2c-2a3f-4f83-82f7-8e7a893c5302",
   "metadata": {},
   "outputs": [
    {
     "data": {
      "text/plain": [
       "['aimnxt', 'datascience']"
      ]
     },
     "execution_count": 39,
     "metadata": {},
     "output_type": "execute_result"
    }
   ],
   "source": [
    "l1"
   ]
  },
  {
   "cell_type": "code",
   "execution_count": null,
   "id": "004586b3-677f-4e9b-8e4a-3870d6ddb4d0",
   "metadata": {},
   "outputs": [],
   "source": []
  },
  {
   "cell_type": "code",
   "execution_count": 66,
   "id": "3c8469a7-5c19-4ffb-af4a-e9168860031a",
   "metadata": {},
   "outputs": [],
   "source": [
    "def test6() : \n",
    "    l1 = []\n",
    "    for i in l :\n",
    "        if type(i) == int:\n",
    "            l1.append(i)\n",
    "    return l1"
   ]
  },
  {
   "cell_type": "code",
   "execution_count": 68,
   "id": "e98b66c9-3a51-41dd-b537-322cb6643f40",
   "metadata": {},
   "outputs": [
    {
     "data": {
      "text/plain": [
       "[4, 5, 6, 67, 7, 8, 8, 9, 9, 9]"
      ]
     },
     "execution_count": 68,
     "metadata": {},
     "output_type": "execute_result"
    }
   ],
   "source": [
    "test6()"
   ]
  },
  {
   "cell_type": "code",
   "execution_count": 70,
   "id": "3ae19211-889f-4617-b25b-3525134ccfd8",
   "metadata": {},
   "outputs": [],
   "source": [
    "def test7() : \n",
    "    l1 = []\n",
    "    for i in l :\n",
    "        if type(i) == int or type(i)==list:\n",
    "            l1.append(i)\n",
    "    return l1"
   ]
  },
  {
   "cell_type": "code",
   "execution_count": 72,
   "id": "3b76f445-641c-4520-9aa5-8d52a272c9c5",
   "metadata": {},
   "outputs": [
    {
     "data": {
      "text/plain": [
       "[4, 5, 6, 67, 7, 8, 8, 9, 9, 9, [3, 4, 5, 6, 7, 7]]"
      ]
     },
     "execution_count": 72,
     "metadata": {},
     "output_type": "execute_result"
    }
   ],
   "source": [
    "test7()"
   ]
  },
  {
   "cell_type": "code",
   "execution_count": 45,
   "id": "5a18f613-deca-4b15-8b27-70f0211eb36c",
   "metadata": {},
   "outputs": [],
   "source": [
    "def test7():\n",
    "    l1=[]\n",
    "    for i in l:\n",
    "        if type(i)==str:\n",
    "            l1.append(i)\n",
    "    return l1"
   ]
  },
  {
   "cell_type": "code",
   "execution_count": 49,
   "id": "a458389e-3a0f-4230-b453-b28e98025346",
   "metadata": {},
   "outputs": [
    {
     "data": {
      "text/plain": [
       "['aimnxt', 'datascience']"
      ]
     },
     "execution_count": 49,
     "metadata": {},
     "output_type": "execute_result"
    }
   ],
   "source": [
    "test7()"
   ]
  },
  {
   "cell_type": "code",
   "execution_count": null,
   "id": "c824e73c-c4bc-4572-9c05-c307b70c0992",
   "metadata": {},
   "outputs": [],
   "source": []
  },
  {
   "cell_type": "code",
   "execution_count": 67,
   "id": "d4e5f01e-b1dc-4343-8f2d-83e683d8561c",
   "metadata": {},
   "outputs": [],
   "source": [
    "l3 = [345,45,5,5,6,5,\"aimnxt\",(4,6,6)]"
   ]
  },
  {
   "cell_type": "code",
   "execution_count": 69,
   "id": "d326a973-2455-488c-95f7-5d451f802902",
   "metadata": {},
   "outputs": [],
   "source": [
    "def test7(l) : \n",
    "    l1 = []\n",
    "    for i in l :\n",
    "        if type(i) == int:\n",
    "            l1.append(i)\n",
    "    return l1"
   ]
  },
  {
   "cell_type": "code",
   "execution_count": 71,
   "id": "5f7cd9fa-e2df-45a4-b99f-7e158c497563",
   "metadata": {},
   "outputs": [
    {
     "data": {
      "text/plain": [
       "[345, 45, 5, 5, 6, 5]"
      ]
     },
     "execution_count": 71,
     "metadata": {},
     "output_type": "execute_result"
    }
   ],
   "source": [
    "test7(l3)"
   ]
  },
  {
   "cell_type": "code",
   "execution_count": 57,
   "id": "3761e449-e77e-46de-8d24-8a64b40970c9",
   "metadata": {},
   "outputs": [
    {
     "name": "stdout",
     "output_type": "stream",
     "text": [
      "index of  7  is  -2\n",
      "index of  6  is  -4\n"
     ]
    }
   ],
   "source": [
    "t = (3,4,5,6,67,7,87)\n",
    "a=-1\n",
    "while a>=-len(t):\n",
    "    if t[a]==6 or t[a]==7 :\n",
    "        print('index of ',t[a], ' is ',a)\n",
    "    a=a-1\n",
    "\n",
    "# Explanation:\n",
    "# t = (3,4,5,6,67,7,87,)  # A tuple 't' with values\n",
    "# a = -1  # 'a' starts at -1 (refers to the last element of the tuple)\n",
    "\n",
    "# while a >= -len(t):  # Loop runs as long as 'a' is within the negative index range\n",
    "#     if t[a] == 6 or t[a] == 7:  # Checks if the element is 6 or 7\n",
    "#         print('index of ', t[a], ' is ', a)  # Prints the index if condition is met\n",
    "#     a = a - 1  # Decrease 'a' by 1 in each iteration (moving left in the tuple)"
   ]
  },
  {
   "cell_type": "code",
   "execution_count": 55,
   "id": "82f20942-318d-443f-b292-924faa57de68",
   "metadata": {},
   "outputs": [
    {
     "data": {
      "text/plain": [
       "7"
      ]
     },
     "execution_count": 55,
     "metadata": {},
     "output_type": "execute_result"
    }
   ],
   "source": [
    "len(t)"
   ]
  },
  {
   "cell_type": "code",
   "execution_count": 65,
   "id": "4d505cc8-414e-4ff6-a8cb-7d245c41891f",
   "metadata": {},
   "outputs": [
    {
     "name": "stdout",
     "output_type": "stream",
     "text": [
      "index of  5 is -5\n",
      "index of  4 is -6\n"
     ]
    }
   ],
   "source": [
    "t = (3,4,5,6,67,87,23)\n",
    "a = -1\n",
    "while a>=-len(t):\n",
    "    if t[a]==4 or t[a]==5:\n",
    "        print('index of ', t[a], 'is' , a)\n",
    "    a = a-1\n"
   ]
  },
  {
   "cell_type": "code",
   "execution_count": 1,
   "id": "5733fe39-941c-4e26-abe8-99c1936fc83b",
   "metadata": {},
   "outputs": [
    {
     "name": "stdout",
     "output_type": "stream",
     "text": [
      "index of 67 is 4\n"
     ]
    }
   ],
   "source": [
    "t = (3,4,5,6,67,87,23)\n",
    "\n",
    "a = 0\n",
    "while a<len(t):\n",
    "    if t[a]==67:\n",
    "        print('index of', t[a], 'is' ,a)\n",
    "    a+=1"
   ]
  },
  {
   "cell_type": "code",
   "execution_count": null,
   "id": "17b6ba72-f431-4ccc-96ef-9164a14cad32",
   "metadata": {},
   "outputs": [],
   "source": []
  },
  {
   "cell_type": "code",
   "execution_count": 73,
   "id": "8c928bea-8ac3-4437-996e-496b1b7f2770",
   "metadata": {},
   "outputs": [],
   "source": [
    "def test8(t):\n",
    "    a=-1\n",
    "    while a>=-len(t):\n",
    "        if t[a]==6 or t[a]==7 :\n",
    "            print('index of ',t[a], ' is ',a)\n",
    "        a=a-1"
   ]
  },
  {
   "cell_type": "code",
   "execution_count": 77,
   "id": "5172063e-2ec0-443a-9962-1445254b2be6",
   "metadata": {},
   "outputs": [
    {
     "data": {
      "text/plain": [
       "(3, 4, 5, 6, 67, 87, 23)"
      ]
     },
     "execution_count": 77,
     "metadata": {},
     "output_type": "execute_result"
    }
   ],
   "source": [
    "t"
   ]
  },
  {
   "cell_type": "code",
   "execution_count": 75,
   "id": "4eb8104c-511e-4562-bd0a-a537e763e709",
   "metadata": {},
   "outputs": [
    {
     "name": "stdout",
     "output_type": "stream",
     "text": [
      "index of  6  is  -4\n"
     ]
    }
   ],
   "source": [
    "test8(t)"
   ]
  },
  {
   "cell_type": "code",
   "execution_count": null,
   "id": "595b81fb-de31-47c3-84d6-23a810453ae1",
   "metadata": {},
   "outputs": [],
   "source": []
  },
  {
   "cell_type": "code",
   "execution_count": 79,
   "id": "5c7ea068-2770-494b-9d57-c77276e9b627",
   "metadata": {},
   "outputs": [
    {
     "name": "stdout",
     "output_type": "stream",
     "text": [
      "index of  7  is  -2\n",
      "index of  7  is  -3\n",
      "index of  7  is  -4\n",
      "index of  6  is  -5\n",
      "index of  6  is  -6\n"
     ]
    }
   ],
   "source": [
    "test8((3,4,4,6,6,7,7,7,88))"
   ]
  },
  {
   "cell_type": "code",
   "execution_count": 91,
   "id": "5c6f7d54-d803-44c6-9ab9-a16a8c70154d",
   "metadata": {},
   "outputs": [],
   "source": [
    "def test8(t):\n",
    "    l1 = []  # Create a list to store index-value pairs\n",
    "    a = -1\n",
    "    while a >= -len(t):  # Loop through negative indices\n",
    "        if t[a] == 6 or t[a] == 7:\n",
    "            l1.append((t[a], a))  # Store element and its index as a tuple\n",
    "        a = a - 1  # Move left in the tuple\n",
    "    return l1  # Return the collected results"
   ]
  },
  {
   "cell_type": "code",
   "execution_count": 97,
   "id": "6ef9b5f9-9c6e-428a-96d5-5b7c7c06840d",
   "metadata": {},
   "outputs": [
    {
     "data": {
      "text/plain": [
       "(3, 4, 5, 6, 67, 87, 23)"
      ]
     },
     "execution_count": 97,
     "metadata": {},
     "output_type": "execute_result"
    }
   ],
   "source": [
    "t"
   ]
  },
  {
   "cell_type": "code",
   "execution_count": 99,
   "id": "41c6ddd7-a5ea-4e6f-aaef-f7506aaaf421",
   "metadata": {},
   "outputs": [
    {
     "data": {
      "text/plain": [
       "[(6, -4)]"
      ]
     },
     "execution_count": 99,
     "metadata": {},
     "output_type": "execute_result"
    }
   ],
   "source": [
    "test8(t)"
   ]
  },
  {
   "cell_type": "code",
   "execution_count": 103,
   "id": "e71c589b-0b81-4025-b316-1ee4e65f19de",
   "metadata": {},
   "outputs": [
    {
     "data": {
      "text/plain": [
       "[(7, -3), (6, -4), (7, -6), (6, -7)]"
      ]
     },
     "execution_count": 103,
     "metadata": {},
     "output_type": "execute_result"
    }
   ],
   "source": [
    "test8((3,4,5,6,7,8,6,7,8,9))"
   ]
  },
  {
   "cell_type": "code",
   "execution_count": null,
   "id": "8aa17b92-1b1e-4359-81e8-0c4604e406e1",
   "metadata": {},
   "outputs": [],
   "source": []
  },
  {
   "cell_type": "code",
   "execution_count": null,
   "id": "4c366153-3844-46eb-8237-f304fafb456e",
   "metadata": {},
   "outputs": [],
   "source": []
  },
  {
   "cell_type": "code",
   "execution_count": 105,
   "id": "dd9fd2e6",
   "metadata": {},
   "outputs": [],
   "source": [
    "def test1(a,b,c,d,e) :\n",
    "    return a ,b ,c,d,e\n",
    "    "
   ]
  },
  {
   "cell_type": "code",
   "execution_count": 109,
   "id": "21deeecc",
   "metadata": {},
   "outputs": [
    {
     "data": {
      "text/plain": [
       "(3, 4, 5, 6, 7)"
      ]
     },
     "execution_count": 109,
     "metadata": {},
     "output_type": "execute_result"
    }
   ],
   "source": [
    "test1(3,4,5,6,7)"
   ]
  },
  {
   "cell_type": "code",
   "execution_count": null,
   "id": "84ca8ee2-0297-4ea7-9fee-27e3dc1ae3ee",
   "metadata": {},
   "outputs": [],
   "source": []
  },
  {
   "cell_type": "code",
   "execution_count": null,
   "id": "21bd688b-086e-4b8f-8b15-fa19bf1e3a93",
   "metadata": {},
   "outputs": [],
   "source": []
  },
  {
   "cell_type": "code",
   "execution_count": 3,
   "id": "e4bbced7",
   "metadata": {},
   "outputs": [],
   "source": [
    "def test(*a):\n",
    "    return a"
   ]
  },
  {
   "cell_type": "code",
   "execution_count": 5,
   "id": "1c32c74c",
   "metadata": {},
   "outputs": [
    {
     "data": {
      "text/plain": [
       "(34, 56)"
      ]
     },
     "execution_count": 5,
     "metadata": {},
     "output_type": "execute_result"
    }
   ],
   "source": [
    "test(34,56)"
   ]
  },
  {
   "cell_type": "code",
   "execution_count": 7,
   "id": "a1622430",
   "metadata": {},
   "outputs": [
    {
     "data": {
      "text/plain": [
       "(2, 3, 4, 4)"
      ]
     },
     "execution_count": 7,
     "metadata": {},
     "output_type": "execute_result"
    }
   ],
   "source": [
    "test(2,3,4,4)"
   ]
  },
  {
   "cell_type": "code",
   "execution_count": null,
   "id": "13e4f3ba-62d4-4c3a-85a9-b2ebdbc12026",
   "metadata": {},
   "outputs": [],
   "source": []
  },
  {
   "cell_type": "code",
   "execution_count": 9,
   "id": "cb36ee2e",
   "metadata": {},
   "outputs": [
    {
     "data": {
      "text/plain": [
       "(4, 5, 6, 6, 6, [3, 4, 5, 5, 5, 6])"
      ]
     },
     "execution_count": 9,
     "metadata": {},
     "output_type": "execute_result"
    }
   ],
   "source": [
    "test(4,5,6,6,6,[3,4,5,5,5,6])"
   ]
  },
  {
   "cell_type": "code",
   "execution_count": 121,
   "id": "035bb9ff",
   "metadata": {},
   "outputs": [],
   "source": [
    "def test4(*args):\n",
    "    return args"
   ]
  },
  {
   "cell_type": "code",
   "execution_count": 123,
   "id": "15c5b0af",
   "metadata": {},
   "outputs": [
    {
     "data": {
      "text/plain": [
       "(34, 56, 6, 76, 7)"
      ]
     },
     "execution_count": 123,
     "metadata": {},
     "output_type": "execute_result"
    }
   ],
   "source": [
    "test4(34,56,6,76,7)"
   ]
  },
  {
   "cell_type": "code",
   "execution_count": null,
   "id": "3b94eb27-bc53-43dd-b527-6bae36072b0d",
   "metadata": {},
   "outputs": [],
   "source": []
  },
  {
   "cell_type": "code",
   "execution_count": 127,
   "id": "35ff9563",
   "metadata": {},
   "outputs": [],
   "source": [
    "def test5(*a) :\n",
    "    l = []\n",
    "    for i in a :\n",
    "        l.append(i)\n",
    "    return l"
   ]
  },
  {
   "cell_type": "code",
   "execution_count": 129,
   "id": "5cb6b9a9",
   "metadata": {},
   "outputs": [
    {
     "data": {
      "text/plain": [
       "[2, 3, 4, 45, 5, [345, 56, 5, 6]]"
      ]
     },
     "execution_count": 129,
     "metadata": {},
     "output_type": "execute_result"
    }
   ],
   "source": [
    "test5(2,3,4,45,5,[345,56,5,6])"
   ]
  },
  {
   "cell_type": "code",
   "execution_count": 23,
   "id": "a7d303e8",
   "metadata": {},
   "outputs": [
    {
     "data": {
      "text/plain": [
       "[3, 4, 5, 56]"
      ]
     },
     "execution_count": 23,
     "metadata": {},
     "output_type": "execute_result"
    }
   ],
   "source": [
    "test5(3,4,5,56)"
   ]
  },
  {
   "cell_type": "code",
   "execution_count": null,
   "id": "ce5bc9e6-e9f9-4d2c-8f93-1ab5c290c494",
   "metadata": {},
   "outputs": [],
   "source": []
  },
  {
   "cell_type": "code",
   "execution_count": 131,
   "id": "e60c8952-2c8e-48b1-a1df-7aaacdf5d1ba",
   "metadata": {},
   "outputs": [],
   "source": [
    "def test(*a):\n",
    "    l = []\n",
    "    for i in a:\n",
    "        if type(i)==str:\n",
    "            l.append(i)\n",
    "    return l"
   ]
  },
  {
   "cell_type": "code",
   "execution_count": 133,
   "id": "ef26e9a3-fe0c-48af-9c5f-4f3e804e7508",
   "metadata": {},
   "outputs": [
    {
     "data": {
      "text/plain": [
       "['aimnxt', 'datascience', 'python', 'functions']"
      ]
     },
     "execution_count": 133,
     "metadata": {},
     "output_type": "execute_result"
    }
   ],
   "source": [
    "test(3,4,5,6,\"aimnxt\", \"datascience\", \"python\", \"functions\", (2,3,4), [1,2,3,4])"
   ]
  },
  {
   "cell_type": "code",
   "execution_count": 135,
   "id": "1fe5597b-82c1-43be-a1f8-bbb9c50f2426",
   "metadata": {},
   "outputs": [],
   "source": [
    "def test(*a):\n",
    "    l = []\n",
    "    for i in a:\n",
    "        if type(i)==list:\n",
    "            l.append(i)\n",
    "    return l"
   ]
  },
  {
   "cell_type": "code",
   "execution_count": 137,
   "id": "baf3ad35-eff4-4fee-ab4c-598648f4d205",
   "metadata": {},
   "outputs": [
    {
     "data": {
      "text/plain": [
       "[[1, 2, 3, 4]]"
      ]
     },
     "execution_count": 137,
     "metadata": {},
     "output_type": "execute_result"
    }
   ],
   "source": [
    "test(3,4,5,6,\"aimnxt\", \"datascience\", \"python\", \"functions\", (2,3,4), [1,2,3,4])"
   ]
  },
  {
   "cell_type": "code",
   "execution_count": null,
   "id": "d43bff44-3ee4-4258-b414-7a9bc479733d",
   "metadata": {},
   "outputs": [],
   "source": []
  },
  {
   "cell_type": "code",
   "execution_count": 139,
   "id": "5552ed6f-aeb1-4c10-b9a2-a12f2726c270",
   "metadata": {},
   "outputs": [],
   "source": [
    "def test(*a):\n",
    "    l= []\n",
    "    for i in a:\n",
    "        if type(i)==str or type(i)==list:\n",
    "            l.append(i)\n",
    "    return l"
   ]
  },
  {
   "cell_type": "code",
   "execution_count": 141,
   "id": "cfcef4c1-df38-4170-9f41-65b5c0351528",
   "metadata": {},
   "outputs": [
    {
     "data": {
      "text/plain": [
       "['aimnxt', 'datascience', 'python', 'functions', [1, 2, 3, 4]]"
      ]
     },
     "execution_count": 141,
     "metadata": {},
     "output_type": "execute_result"
    }
   ],
   "source": [
    "test(3,4,5,6,\"aimnxt\", \"datascience\", \"python\", \"functions\", (2,3,4), [1,2,3,4])"
   ]
  },
  {
   "cell_type": "code",
   "execution_count": 13,
   "id": "891c2501-13f1-4f9b-abe7-20d4276e07c5",
   "metadata": {},
   "outputs": [],
   "source": [
    "l = [1,2,3,4,\"aimnxt\", \"datascience\", 10.5, True, False]"
   ]
  },
  {
   "cell_type": "code",
   "execution_count": 25,
   "id": "f23ac512-d43c-46f6-a31f-09e4acb71396",
   "metadata": {},
   "outputs": [],
   "source": [
    "def test(l):\n",
    "    l1 = []\n",
    "    for i in l:\n",
    "        if type(i)==str:\n",
    "            l1.append(i)\n",
    "    return l1"
   ]
  },
  {
   "cell_type": "code",
   "execution_count": 23,
   "id": "44fc9a9d-a78e-42cf-9c2e-9421f5762514",
   "metadata": {},
   "outputs": [
    {
     "data": {
      "text/plain": [
       "['aimnxt', 'datascience']"
      ]
     },
     "execution_count": 23,
     "metadata": {},
     "output_type": "execute_result"
    }
   ],
   "source": [
    "test(l)"
   ]
  },
  {
   "cell_type": "code",
   "execution_count": 27,
   "id": "ba9d3476-560e-4390-9133-a86a3a13b271",
   "metadata": {},
   "outputs": [],
   "source": [
    "def test(*a):\n",
    "    l = []\n",
    "    for i in a:\n",
    "        if type(i)==str:\n",
    "            l.append(i)\n",
    "    return l"
   ]
  },
  {
   "cell_type": "code",
   "execution_count": 29,
   "id": "7820c8eb-46ee-441d-a838-09aba3eaf7bd",
   "metadata": {},
   "outputs": [
    {
     "data": {
      "text/plain": [
       "['aimnxt', 'python', 'datascience', 'machine Learning']"
      ]
     },
     "execution_count": 29,
     "metadata": {},
     "output_type": "execute_result"
    }
   ],
   "source": [
    "test(2,3,4,5, [3,4,5,2,7,8], \"aimnxt\", \"python\", \"datascience\", \"machine Learning\", True, 10.5)"
   ]
  },
  {
   "cell_type": "code",
   "execution_count": 31,
   "id": "1e022a18-c36a-4a09-ab53-548a20217485",
   "metadata": {},
   "outputs": [],
   "source": [
    "def test(*a):\n",
    "    l = []\n",
    "    for i in a:\n",
    "        if type(i)==str or type(i)==bool:\n",
    "            l.append(i)\n",
    "    return l"
   ]
  },
  {
   "cell_type": "code",
   "execution_count": 33,
   "id": "34008c60-2fe0-4998-9635-873529b5b87a",
   "metadata": {},
   "outputs": [
    {
     "data": {
      "text/plain": [
       "['aimnxt', 'python', 'datascience', 'machine Learning', True]"
      ]
     },
     "execution_count": 33,
     "metadata": {},
     "output_type": "execute_result"
    }
   ],
   "source": [
    "test(2,3,4,5, [3,4,5,2,7,8], \"aimnxt\", \"python\", \"datascience\", \"machine Learning\", True, 10.5)"
   ]
  },
  {
   "cell_type": "code",
   "execution_count": null,
   "id": "9a425e9e-3280-4721-99df-8516a561db96",
   "metadata": {},
   "outputs": [],
   "source": []
  },
  {
   "cell_type": "code",
   "execution_count": null,
   "id": "ba4e849b-5a0a-4a66-8b78-3a89556dd50f",
   "metadata": {},
   "outputs": [],
   "source": []
  },
  {
   "cell_type": "code",
   "execution_count": 37,
   "id": "6506865d",
   "metadata": {},
   "outputs": [],
   "source": [
    "def test6(a,b,c,d , *m):\n",
    "    return a , b, c,d, m"
   ]
  },
  {
   "cell_type": "code",
   "execution_count": 53,
   "id": "9312c621-7458-4d20-af6a-a2b67467ee60",
   "metadata": {},
   "outputs": [
    {
     "data": {
      "text/plain": [
       "(1, 2, 3, 4, (5,))"
      ]
     },
     "execution_count": 53,
     "metadata": {},
     "output_type": "execute_result"
    }
   ],
   "source": [
    "test6(1,2,3,4,5)"
   ]
  },
  {
   "cell_type": "code",
   "execution_count": 39,
   "id": "73f1f456-4661-4c67-b812-fc1e6ff6ba8c",
   "metadata": {},
   "outputs": [
    {
     "data": {
      "text/plain": [
       "(1, 2, 3, 4, (7, 8, 9, 6, 9))"
      ]
     },
     "execution_count": 39,
     "metadata": {},
     "output_type": "execute_result"
    }
   ],
   "source": [
    "test6(1,2,3,4,7,8,9,6,9)"
   ]
  },
  {
   "cell_type": "code",
   "execution_count": 41,
   "id": "da4c7d61-3934-4069-ab43-efe1d0cea4ad",
   "metadata": {},
   "outputs": [
    {
     "data": {
      "text/plain": [
       "(3, 4, 5, 6, ([2, 3, 4, 5],))"
      ]
     },
     "execution_count": 41,
     "metadata": {},
     "output_type": "execute_result"
    }
   ],
   "source": [
    "test6(3,4,5,6,[2,3,4,5])"
   ]
  },
  {
   "cell_type": "code",
   "execution_count": null,
   "id": "658ac06c-c100-4357-86f6-802be0f63d4e",
   "metadata": {},
   "outputs": [],
   "source": []
  },
  {
   "cell_type": "code",
   "execution_count": 25,
   "id": "9e46bda9",
   "metadata": {},
   "outputs": [
    {
     "data": {
      "text/plain": [
       "(3, 4, 5, 5, (6, 6, 7, 7, 8, 8))"
      ]
     },
     "execution_count": 25,
     "metadata": {},
     "output_type": "execute_result"
    }
   ],
   "source": [
    "test6(3,4,5,5,6,6,7,7,8,8)"
   ]
  },
  {
   "cell_type": "code",
   "execution_count": null,
   "id": "da2761a0-65a9-49b3-bd4d-b09435e71b98",
   "metadata": {},
   "outputs": [],
   "source": []
  },
  {
   "cell_type": "code",
   "execution_count": 43,
   "id": "dbcee1ef",
   "metadata": {},
   "outputs": [],
   "source": [
    "def test7(*m,a,b,c,d,e):\n",
    "    return m , a,b,c,d,e"
   ]
  },
  {
   "cell_type": "code",
   "execution_count": 49,
   "id": "99bce6bf-6bd5-40bd-b771-960dbc2fe571",
   "metadata": {},
   "outputs": [
    {
     "data": {
      "text/plain": [
       "((1, 2, 3, 4, 5, [3, 4, 5, 6], 'aimnxt'), 5, 6, 7, 8, 9)"
      ]
     },
     "execution_count": 49,
     "metadata": {},
     "output_type": "execute_result"
    }
   ],
   "source": [
    "test7(1,2,3,4,5,[3,4,5,6], \"aimnxt\", a=5,b=6,c=7,d=8,e=9)"
   ]
  },
  {
   "cell_type": "code",
   "execution_count": null,
   "id": "5c9db566-9ad0-4e81-870d-8cea8d6649a9",
   "metadata": {},
   "outputs": [],
   "source": []
  },
  {
   "cell_type": "code",
   "execution_count": 51,
   "id": "48971316",
   "metadata": {},
   "outputs": [
    {
     "data": {
      "text/plain": [
       "((4, 5, 65, 6, 6, 7, 7, 56), 67, 34, 54, 67, 78)"
      ]
     },
     "execution_count": 51,
     "metadata": {},
     "output_type": "execute_result"
    }
   ],
   "source": [
    "test7(4,5,65,6,6,7,7,56,a = 67,b  = 34,c = 54,d= 67,e = 78)"
   ]
  },
  {
   "cell_type": "code",
   "execution_count": null,
   "id": "8405e106-b0ad-407d-a66e-6e7281b830f7",
   "metadata": {},
   "outputs": [],
   "source": []
  },
  {
   "cell_type": "code",
   "execution_count": null,
   "id": "4a772cd1-3e07-4aab-b8cf-81c2f5fc3ad5",
   "metadata": {},
   "outputs": [],
   "source": []
  },
  {
   "cell_type": "code",
   "execution_count": null,
   "id": "9cb38d0c-923c-49ae-b867-422fd7cf3b41",
   "metadata": {},
   "outputs": [],
   "source": []
  },
  {
   "cell_type": "code",
   "execution_count": null,
   "id": "1514115e-b5aa-4fcf-84e3-39d57ba6772d",
   "metadata": {},
   "outputs": [],
   "source": []
  },
  {
   "cell_type": "code",
   "execution_count": null,
   "id": "518bba4a-42c1-4d03-85f8-4e9dd68340d7",
   "metadata": {},
   "outputs": [],
   "source": []
  },
  {
   "cell_type": "code",
   "execution_count": 55,
   "id": "93d66303",
   "metadata": {},
   "outputs": [],
   "source": [
    "def test8(**aimnxt):\n",
    "    return aimnxt"
   ]
  },
  {
   "cell_type": "code",
   "execution_count": null,
   "id": "0b99926e-f7a1-45d8-9847-33d5dfab4fc3",
   "metadata": {},
   "outputs": [],
   "source": []
  },
  {
   "cell_type": "code",
   "execution_count": 57,
   "id": "f81d76f0",
   "metadata": {},
   "outputs": [
    {
     "data": {
      "text/plain": [
       "{'b': 4, 'c': 5, 'd': 6, 'e': 6, 'n': [3, 4, 45, 5, 6, 6, 6]}"
      ]
     },
     "execution_count": 57,
     "metadata": {},
     "output_type": "execute_result"
    }
   ],
   "source": [
    "test8(b = 4,c = 5,d = 6,e = 6 , n = [3,4,45,5,6,6,6])"
   ]
  },
  {
   "cell_type": "code",
   "execution_count": null,
   "id": "4f7d756d-f10e-4859-b5bc-330603864e34",
   "metadata": {},
   "outputs": [],
   "source": []
  },
  {
   "cell_type": "code",
   "execution_count": 59,
   "id": "b4878102-dd33-4510-9f99-85862191fc11",
   "metadata": {},
   "outputs": [],
   "source": [
    "def test8(**d):\n",
    "    return d.keys()"
   ]
  },
  {
   "cell_type": "code",
   "execution_count": 63,
   "id": "a4b0b5bf-5dc5-4811-8b1b-0d7ff42f55bf",
   "metadata": {},
   "outputs": [
    {
     "data": {
      "text/plain": [
       "dict_keys(['a', 'b', 'c', 'd'])"
      ]
     },
     "execution_count": 63,
     "metadata": {},
     "output_type": "execute_result"
    }
   ],
   "source": [
    "test8(a=5,b=6,c=3,d=10)"
   ]
  },
  {
   "cell_type": "code",
   "execution_count": 67,
   "id": "61ff3674-18dc-4f9b-887d-464768df573d",
   "metadata": {},
   "outputs": [],
   "source": [
    "def test8(**d):\n",
    "    return list(d.keys())"
   ]
  },
  {
   "cell_type": "code",
   "execution_count": 69,
   "id": "8dac0aeb-88ba-43f0-a07d-ef2c09d68141",
   "metadata": {},
   "outputs": [
    {
     "data": {
      "text/plain": [
       "['a', 'b', 'c', 'd']"
      ]
     },
     "execution_count": 69,
     "metadata": {},
     "output_type": "execute_result"
    }
   ],
   "source": [
    "test8(a=5,b=6,c=3,d=10)"
   ]
  },
  {
   "cell_type": "code",
   "execution_count": 71,
   "id": "d4fcb929-62b5-4ea4-b832-b7746ced3a35",
   "metadata": {},
   "outputs": [],
   "source": [
    "def test8(**d):\n",
    "    return list(d.items())"
   ]
  },
  {
   "cell_type": "code",
   "execution_count": 73,
   "id": "f4bc1b6c-f57b-4c73-bed4-11f193458cd6",
   "metadata": {},
   "outputs": [
    {
     "data": {
      "text/plain": [
       "[('a', 5), ('b', 6), ('c', 3), ('d', 10)]"
      ]
     },
     "execution_count": 73,
     "metadata": {},
     "output_type": "execute_result"
    }
   ],
   "source": [
    "test8(a=5,b=6,c=3,d=10)"
   ]
  },
  {
   "cell_type": "code",
   "execution_count": null,
   "id": "fa349662-87c2-4223-b609-b7af8c4cf266",
   "metadata": {},
   "outputs": [],
   "source": []
  },
  {
   "cell_type": "code",
   "execution_count": 109,
   "id": "03b78743-6342-4f19-9dcc-dfa572264189",
   "metadata": {},
   "outputs": [],
   "source": [
    "def test8(**d):\n",
    "    l = []\n",
    "    for i in d.values():\n",
    "        if type(i)==str:\n",
    "            l.append(i)\n",
    "    return l"
   ]
  },
  {
   "cell_type": "code",
   "execution_count": 111,
   "id": "103fdc01-499c-4b43-9b44-3dc2f0e42f50",
   "metadata": {},
   "outputs": [
    {
     "data": {
      "text/plain": [
       "['aimnxt', 'python']"
      ]
     },
     "execution_count": 111,
     "metadata": {},
     "output_type": "execute_result"
    }
   ],
   "source": [
    "test8(a=2, b=4, c=6, d=7, e = 'aimnxt', f = \"python\")"
   ]
  },
  {
   "cell_type": "code",
   "execution_count": null,
   "id": "47149ee3-7e62-4505-a025-f1967a987198",
   "metadata": {},
   "outputs": [],
   "source": []
  },
  {
   "cell_type": "code",
   "execution_count": null,
   "id": "c5a001e2-51b3-4fd7-8d63-13bce137e3b1",
   "metadata": {},
   "outputs": [],
   "source": []
  },
  {
   "cell_type": "code",
   "execution_count": null,
   "id": "5dc72338-c650-4317-b1a7-0a6d2602f269",
   "metadata": {},
   "outputs": [],
   "source": []
  },
  {
   "cell_type": "code",
   "execution_count": null,
   "id": "b9192789-c626-472b-ab25-32af747e8dff",
   "metadata": {},
   "outputs": [],
   "source": []
  },
  {
   "cell_type": "code",
   "execution_count": 113,
   "id": "df0bb162",
   "metadata": {},
   "outputs": [],
   "source": [
    "def test11(*m):\n",
    "    n=1\n",
    "    for i in m:\n",
    "        if type(i)==int:\n",
    "            n=n*i\n",
    "    return n"
   ]
  },
  {
   "cell_type": "code",
   "execution_count": 117,
   "id": "3861be80",
   "metadata": {},
   "outputs": [
    {
     "data": {
      "text/plain": [
       "40320"
      ]
     },
     "execution_count": 117,
     "metadata": {},
     "output_type": "execute_result"
    }
   ],
   "source": [
    "test11(2,3,4,5,6,7,8,\"aimnxt\", \"datascience\")"
   ]
  },
  {
   "cell_type": "code",
   "execution_count": null,
   "id": "76949a17-da71-4581-be7f-b27bdf5b77c9",
   "metadata": {},
   "outputs": [],
   "source": []
  },
  {
   "cell_type": "code",
   "execution_count": null,
   "id": "27ecf375",
   "metadata": {},
   "outputs": [],
   "source": []
  },
  {
   "cell_type": "code",
   "execution_count": 119,
   "id": "144b1dcf",
   "metadata": {},
   "outputs": [],
   "source": [
    "def test9(*m , **s) :\n",
    "    return m , s"
   ]
  },
  {
   "cell_type": "code",
   "execution_count": 121,
   "id": "a4644925",
   "metadata": {},
   "outputs": [
    {
     "data": {
      "text/plain": [
       "((345, 45, 56, 5, 6, 56), {'b': 4, 'c': 6, 'd': 7, 'g': 9})"
      ]
     },
     "execution_count": 121,
     "metadata": {},
     "output_type": "execute_result"
    }
   ],
   "source": [
    "test9(345,45,56,5,6,56,b= 4,c= 6, d = 7 , g = 9)"
   ]
  },
  {
   "cell_type": "code",
   "execution_count": null,
   "id": "76a215a8-3642-4844-a565-98c278af7b11",
   "metadata": {},
   "outputs": [],
   "source": []
  },
  {
   "cell_type": "code",
   "execution_count": null,
   "id": "c640d377-556c-4cca-8454-a68d9757a713",
   "metadata": {},
   "outputs": [],
   "source": []
  },
  {
   "cell_type": "code",
   "execution_count": 123,
   "id": "7967d620",
   "metadata": {},
   "outputs": [],
   "source": [
    "def test10(*m):\n",
    "    n = 0\n",
    "    for i in m :\n",
    "        if type(i) == int :\n",
    "            n = n+i\n",
    "    return n"
   ]
  },
  {
   "cell_type": "code",
   "execution_count": 125,
   "id": "3aa2bfb8",
   "metadata": {},
   "outputs": [
    {
     "data": {
      "text/plain": [
       "31"
      ]
     },
     "execution_count": 125,
     "metadata": {},
     "output_type": "execute_result"
    }
   ],
   "source": [
    "test10(2,3,4,5,5,6,6)"
   ]
  },
  {
   "cell_type": "code",
   "execution_count": 46,
   "id": "5fdeb17d",
   "metadata": {},
   "outputs": [
    {
     "data": {
      "text/plain": [
       "9"
      ]
     },
     "execution_count": 46,
     "metadata": {},
     "output_type": "execute_result"
    }
   ],
   "source": [
    "test10(2,3,4)"
   ]
  },
  {
   "cell_type": "code",
   "execution_count": null,
   "id": "814d2200-7cb6-4e7c-9371-91ac704003fb",
   "metadata": {},
   "outputs": [],
   "source": []
  },
  {
   "cell_type": "code",
   "execution_count": null,
   "id": "9693ab5f-2236-4ac7-84ae-8559ec449add",
   "metadata": {},
   "outputs": [],
   "source": []
  },
  {
   "cell_type": "code",
   "execution_count": 47,
   "id": "633e2a4d",
   "metadata": {},
   "outputs": [],
   "source": [
    "def test1(*m):\n",
    "    n = 1\n",
    "    for i in m :\n",
    "        if type(i) == int :\n",
    "            n = n*i\n",
    "    return n\n",
    "            "
   ]
  },
  {
   "cell_type": "code",
   "execution_count": 48,
   "id": "9a7b3f3c",
   "metadata": {},
   "outputs": [
    {
     "data": {
      "text/plain": [
       "3507840"
      ]
     },
     "execution_count": 48,
     "metadata": {},
     "output_type": "execute_result"
    }
   ],
   "source": [
    "test1(4,5,6,6,7,87,8)"
   ]
  },
  {
   "cell_type": "code",
   "execution_count": null,
   "id": "6f7d5d03-639f-4872-afc5-b1bcb261bb4c",
   "metadata": {},
   "outputs": [],
   "source": []
  },
  {
   "cell_type": "code",
   "execution_count": 3,
   "id": "f10246f8-43b8-4a78-a996-3a00b985eb31",
   "metadata": {},
   "outputs": [],
   "source": [
    "def test1(*m):\n",
    "    l = []\n",
    "    for i in m:\n",
    "        if type(i)==str:\n",
    "            l.append(i)\n",
    "    return l"
   ]
  },
  {
   "cell_type": "code",
   "execution_count": 5,
   "id": "ac16cd9f-2fc6-4ad8-bb60-1a6e085251c9",
   "metadata": {},
   "outputs": [
    {
     "data": {
      "text/plain": [
       "['aimnxt', 'datasciece', 'puran']"
      ]
     },
     "execution_count": 5,
     "metadata": {},
     "output_type": "execute_result"
    }
   ],
   "source": [
    "test1(\"aimnxt\", \"datasciece\", \"puran\", 1,2,3,[1,2,3,4], True, False, 18.5)"
   ]
  },
  {
   "cell_type": "code",
   "execution_count": null,
   "id": "ef87dfd9-8f9b-43de-a44a-489817d74afa",
   "metadata": {},
   "outputs": [],
   "source": []
  },
  {
   "cell_type": "code",
   "execution_count": 9,
   "id": "bee322ee-4835-4d8f-97f8-134e6a625c59",
   "metadata": {},
   "outputs": [],
   "source": [
    "def test(*a):\n",
    "    n = 1\n",
    "    for i in a:\n",
    "        if type(i)==int:\n",
    "            n = n*i\n",
    "    return n"
   ]
  },
  {
   "cell_type": "code",
   "execution_count": 11,
   "id": "13ef0557-75c5-41fd-90d3-fae28b73950c",
   "metadata": {},
   "outputs": [
    {
     "data": {
      "text/plain": [
       "72000576"
      ]
     },
     "execution_count": 11,
     "metadata": {},
     "output_type": "execute_result"
    }
   ],
   "source": [
    "test(12,34,54,76,43, \"aimnxt\", \"sriram\", \"python\")"
   ]
  },
  {
   "cell_type": "code",
   "execution_count": 13,
   "id": "659e5e3b-ea9b-4f1f-a0e4-7df2e6ecddb0",
   "metadata": {},
   "outputs": [],
   "source": [
    "def test(**a):\n",
    "    return a"
   ]
  },
  {
   "cell_type": "code",
   "execution_count": 15,
   "id": "2f01f9a8-c34e-4c4e-8c95-600350f00f7e",
   "metadata": {},
   "outputs": [
    {
     "data": {
      "text/plain": [
       "{'a': 1, 'b': 2, 'c': 3}"
      ]
     },
     "execution_count": 15,
     "metadata": {},
     "output_type": "execute_result"
    }
   ],
   "source": [
    "test(a=1, b=2, c=3)"
   ]
  },
  {
   "cell_type": "code",
   "execution_count": 17,
   "id": "4b21ba9f-ce54-49a4-8663-95eb9affe6f5",
   "metadata": {},
   "outputs": [],
   "source": [
    "def test(**d):\n",
    "    return d.values()"
   ]
  },
  {
   "cell_type": "code",
   "execution_count": 19,
   "id": "75679a4c-dfee-4adc-834d-255220bbc03c",
   "metadata": {},
   "outputs": [
    {
     "data": {
      "text/plain": [
       "dict_values([3, 6, 9, 'puran'])"
      ]
     },
     "execution_count": 19,
     "metadata": {},
     "output_type": "execute_result"
    }
   ],
   "source": [
    "test(a=3, b=6, c=9, p=\"puran\")"
   ]
  },
  {
   "cell_type": "code",
   "execution_count": 21,
   "id": "a43ac6ce-c17f-453d-8432-032435738696",
   "metadata": {},
   "outputs": [],
   "source": [
    "def test(**d):\n",
    "    return d.keys()"
   ]
  },
  {
   "cell_type": "code",
   "execution_count": 23,
   "id": "635af87d-9c35-4cfa-81ca-f45794b4ae6c",
   "metadata": {},
   "outputs": [
    {
     "data": {
      "text/plain": [
       "dict_keys(['a', 'b', 'c', 'p'])"
      ]
     },
     "execution_count": 23,
     "metadata": {},
     "output_type": "execute_result"
    }
   ],
   "source": [
    "test(a=3, b=6, c=9, p=\"puran\")"
   ]
  },
  {
   "cell_type": "code",
   "execution_count": 33,
   "id": "dd2a76ae-1b7f-4419-8d18-915cdd6f1278",
   "metadata": {},
   "outputs": [],
   "source": [
    "def new_test(**d):\n",
    "    l1 =[]\n",
    "    for i in d.values():\n",
    "        if type(i)==str:\n",
    "            l1.append(i)\n",
    "    return l1"
   ]
  },
  {
   "cell_type": "code",
   "execution_count": 41,
   "id": "fc5116c8-2598-4da4-8fac-1e97af4dabee",
   "metadata": {},
   "outputs": [
    {
     "data": {
      "text/plain": [
       "['aimnxt',\n",
       " 'musthafa',\n",
       " 'puran',\n",
       " 'gayathri',\n",
       " 'kavya',\n",
       " 'sriram',\n",
       " 'anwar',\n",
       " 'vamshi',\n",
       " 'swaroop',\n",
       " 'bharat',\n",
       " 'sanjay']"
      ]
     },
     "execution_count": 41,
     "metadata": {},
     "output_type": "execute_result"
    }
   ],
   "source": [
    "new_test(c=\"aimnxt\", m=\"musthafa\", p=\"puran\", g=\"gayathri\", k=\"kavya\", s=\"sriram\", a=\"anwar\", v=\"vamshi\", s1=\"swaroop\", b=\"bharat\", s2 = \"sanjay\")"
   ]
  },
  {
   "cell_type": "code",
   "execution_count": null,
   "id": "3e62dc06-01de-4a14-ae90-cf0172059b79",
   "metadata": {},
   "outputs": [],
   "source": []
  },
  {
   "cell_type": "code",
   "execution_count": null,
   "id": "854178a5-6f49-4743-be8c-f9bad8f9afcf",
   "metadata": {},
   "outputs": [],
   "source": []
  },
  {
   "cell_type": "code",
   "execution_count": null,
   "id": "2e603431-c4a0-4d7d-9698-f93f81d6986b",
   "metadata": {},
   "outputs": [],
   "source": []
  },
  {
   "cell_type": "markdown",
   "id": "d92650a1-99f7-42ea-8222-720fe96f1bbf",
   "metadata": {},
   "source": [
    "# Lambda"
   ]
  },
  {
   "cell_type": "markdown",
   "id": "10b8473e-b821-43e1-bcb4-7df9c4b8645e",
   "metadata": {},
   "source": [
    "lambda function is anonymous function\n",
    "\n",
    "it is also called inline function.\n",
    "\n",
    "Its a function without a name.\n",
    "\n",
    "\"lambda\" is reserved keyword."
   ]
  },
  {
   "cell_type": "code",
   "execution_count": 44,
   "id": "a240987d",
   "metadata": {},
   "outputs": [],
   "source": [
    "n = lambda a , b : a + b "
   ]
  },
  {
   "cell_type": "code",
   "execution_count": 46,
   "id": "24747816",
   "metadata": {},
   "outputs": [
    {
     "data": {
      "text/plain": [
       "9"
      ]
     },
     "execution_count": 46,
     "metadata": {},
     "output_type": "execute_result"
    }
   ],
   "source": [
    "n(4,5)"
   ]
  },
  {
   "cell_type": "code",
   "execution_count": 53,
   "id": "1a6f8606",
   "metadata": {},
   "outputs": [],
   "source": [
    "def test5(a,b):\n",
    "    return a + b "
   ]
  },
  {
   "cell_type": "code",
   "execution_count": 54,
   "id": "c438cd09",
   "metadata": {},
   "outputs": [
    {
     "data": {
      "text/plain": [
       "9"
      ]
     },
     "execution_count": 54,
     "metadata": {},
     "output_type": "execute_result"
    }
   ],
   "source": [
    "test5(4,5)"
   ]
  },
  {
   "cell_type": "code",
   "execution_count": 55,
   "id": "f1274c0b",
   "metadata": {},
   "outputs": [
    {
     "data": {
      "text/plain": [
       "11"
      ]
     },
     "execution_count": 55,
     "metadata": {},
     "output_type": "execute_result"
    }
   ],
   "source": [
    "n(5,6)"
   ]
  },
  {
   "cell_type": "code",
   "execution_count": 48,
   "id": "86edc6f5-749d-4289-a636-028c6f324eb7",
   "metadata": {},
   "outputs": [],
   "source": [
    "n = lambda a,b,c:(a+b+c)/3"
   ]
  },
  {
   "cell_type": "code",
   "execution_count": 50,
   "id": "1c9fbfee-29c5-4e8a-a8c9-b5492f37ac8f",
   "metadata": {},
   "outputs": [
    {
     "data": {
      "text/plain": [
       "6.0"
      ]
     },
     "execution_count": 50,
     "metadata": {},
     "output_type": "execute_result"
    }
   ],
   "source": [
    "n(5,6,7)"
   ]
  },
  {
   "cell_type": "code",
   "execution_count": 52,
   "id": "7d82a3cc-2a2d-448c-bcca-7958b9a0d076",
   "metadata": {},
   "outputs": [],
   "source": [
    "def avg(a,b,c):\n",
    "    return (a+b+c)/3"
   ]
  },
  {
   "cell_type": "code",
   "execution_count": 58,
   "id": "79d9d32f-ffad-4b26-a1b6-01fb7581e402",
   "metadata": {},
   "outputs": [
    {
     "data": {
      "text/plain": [
       "5.0"
      ]
     },
     "execution_count": 58,
     "metadata": {},
     "output_type": "execute_result"
    }
   ],
   "source": [
    "avg(4,5,6)"
   ]
  },
  {
   "cell_type": "code",
   "execution_count": 60,
   "id": "99e62d74-a256-4012-ba96-e423cd930938",
   "metadata": {},
   "outputs": [],
   "source": [
    "n = lambda a,b:a*b"
   ]
  },
  {
   "cell_type": "code",
   "execution_count": 62,
   "id": "0dd61406-e9d9-4eef-90df-0463208c945b",
   "metadata": {},
   "outputs": [
    {
     "data": {
      "text/plain": [
       "30"
      ]
     },
     "execution_count": 62,
     "metadata": {},
     "output_type": "execute_result"
    }
   ],
   "source": [
    "n(5,6)"
   ]
  },
  {
   "cell_type": "code",
   "execution_count": 64,
   "id": "1df9b80e-46f8-4633-b535-64c4b9d30d27",
   "metadata": {},
   "outputs": [],
   "source": [
    "def test1(a,b):\n",
    "    return a*b"
   ]
  },
  {
   "cell_type": "code",
   "execution_count": 66,
   "id": "9cc1dbcc-a2db-4c3b-bad1-73247064d74a",
   "metadata": {},
   "outputs": [
    {
     "data": {
      "text/plain": [
       "30"
      ]
     },
     "execution_count": 66,
     "metadata": {},
     "output_type": "execute_result"
    }
   ],
   "source": [
    "test1(5,6)"
   ]
  },
  {
   "cell_type": "code",
   "execution_count": null,
   "id": "0c56599b-3db8-441a-933e-b0ed9c9610db",
   "metadata": {},
   "outputs": [],
   "source": []
  },
  {
   "cell_type": "code",
   "execution_count": null,
   "id": "be3ed6cc-2b95-4078-873b-4539d6daf028",
   "metadata": {},
   "outputs": [],
   "source": []
  },
  {
   "cell_type": "code",
   "execution_count": null,
   "id": "b3493669-9564-421c-a6bd-462f142c6c59",
   "metadata": {},
   "outputs": [],
   "source": []
  },
  {
   "cell_type": "code",
   "execution_count": null,
   "id": "6db4b5f6-9188-4ebc-97cc-92940cfe791e",
   "metadata": {},
   "outputs": [],
   "source": []
  },
  {
   "cell_type": "code",
   "execution_count": 68,
   "id": "a33a46c7",
   "metadata": {},
   "outputs": [],
   "source": [
    "b = lambda *a : a"
   ]
  },
  {
   "cell_type": "code",
   "execution_count": 70,
   "id": "538a0cc5-2a44-4566-95bf-1c4491181721",
   "metadata": {},
   "outputs": [
    {
     "data": {
      "text/plain": [
       "(3, 4, 5, [4, 5, 6], 'puran', 'datascience')"
      ]
     },
     "execution_count": 70,
     "metadata": {},
     "output_type": "execute_result"
    }
   ],
   "source": [
    "b(3,4,5,[4,5,6],\"puran\", \"datascience\")"
   ]
  },
  {
   "cell_type": "code",
   "execution_count": 72,
   "id": "3def4305-5040-4228-9760-eedbf14034d3",
   "metadata": {},
   "outputs": [],
   "source": [
    "def test1(*a):\n",
    "    return a"
   ]
  },
  {
   "cell_type": "code",
   "execution_count": 74,
   "id": "55be2933-2b32-4792-bc34-918f6622dd20",
   "metadata": {},
   "outputs": [
    {
     "data": {
      "text/plain": [
       "('puran', 'answar', 'sriram', 1, 2, 3, 4, 5)"
      ]
     },
     "execution_count": 74,
     "metadata": {},
     "output_type": "execute_result"
    }
   ],
   "source": [
    "test1(\"puran\", \"answar\", \"sriram\", 1,2,3,4,5)"
   ]
  },
  {
   "cell_type": "code",
   "execution_count": 76,
   "id": "b4a1daf7-22e5-4391-913c-b076e3a89d64",
   "metadata": {},
   "outputs": [],
   "source": [
    "b = lambda **a : a"
   ]
  },
  {
   "cell_type": "code",
   "execution_count": 78,
   "id": "2939dd06-17a2-42fb-813d-cf13b7cb476c",
   "metadata": {},
   "outputs": [
    {
     "data": {
      "text/plain": [
       "{'a': 'anwar', 'b': 'bharat', 'c': 3, 'd': 4}"
      ]
     },
     "execution_count": 78,
     "metadata": {},
     "output_type": "execute_result"
    }
   ],
   "source": [
    "b(a=\"anwar\", b= \"bharat\", c=3,d=4)"
   ]
  },
  {
   "cell_type": "code",
   "execution_count": 80,
   "id": "2d76ad3d-7a29-46e5-896b-228409409f62",
   "metadata": {},
   "outputs": [],
   "source": [
    "def test(**a):\n",
    "    return a"
   ]
  },
  {
   "cell_type": "code",
   "execution_count": 82,
   "id": "d71a3e87-49da-4896-8627-703b384c1626",
   "metadata": {},
   "outputs": [
    {
     "data": {
      "text/plain": [
       "{'a': 'anwar', 'b': 'bharat', 'c': 3, 'd': 4}"
      ]
     },
     "execution_count": 82,
     "metadata": {},
     "output_type": "execute_result"
    }
   ],
   "source": [
    "test(a=\"anwar\", b= \"bharat\", c=3,d=4)"
   ]
  },
  {
   "cell_type": "code",
   "execution_count": null,
   "id": "1179e424-e9d6-4317-8161-2c541334ba05",
   "metadata": {},
   "outputs": [],
   "source": []
  },
  {
   "cell_type": "code",
   "execution_count": null,
   "id": "7d26f377-ab45-4b3b-9c32-9455516ee7e1",
   "metadata": {},
   "outputs": [],
   "source": []
  },
  {
   "cell_type": "code",
   "execution_count": 57,
   "id": "8661cc0a",
   "metadata": {},
   "outputs": [
    {
     "data": {
      "text/plain": [
       "(45, 5, 4, 5, 5, 6, 677)"
      ]
     },
     "execution_count": 57,
     "metadata": {},
     "output_type": "execute_result"
    }
   ],
   "source": [
    "b(45,5,4,5,5,6,677)"
   ]
  },
  {
   "cell_type": "code",
   "execution_count": 96,
   "id": "c309c376-0498-4d6f-b11b-b5b953349238",
   "metadata": {},
   "outputs": [],
   "source": [
    "l = lambda *x : [i for i in x]"
   ]
  },
  {
   "cell_type": "code",
   "execution_count": 98,
   "id": "c4c66b86-09cd-49a6-8090-b3a28f15f1b3",
   "metadata": {},
   "outputs": [
    {
     "data": {
      "text/plain": [
       "[4, 45, 5, 6, 6, 7, 8, 9]"
      ]
     },
     "execution_count": 98,
     "metadata": {},
     "output_type": "execute_result"
    }
   ],
   "source": [
    "l(4,45,5,6,6,7,8,9)"
   ]
  },
  {
   "cell_type": "code",
   "execution_count": null,
   "id": "d3218e7a-41ed-4e21-a225-7a3677effcd6",
   "metadata": {},
   "outputs": [],
   "source": []
  },
  {
   "cell_type": "code",
   "execution_count": 90,
   "id": "30e84466-c052-4679-aea9-ab0556331fbf",
   "metadata": {},
   "outputs": [],
   "source": [
    "l = lambda *x : [i**2 for i in x ]"
   ]
  },
  {
   "cell_type": "code",
   "execution_count": 92,
   "id": "725d0d08-9743-4e4c-bc0d-262bf4ac62e1",
   "metadata": {},
   "outputs": [
    {
     "data": {
      "text/plain": [
       "[16, 2025, 25, 36, 36, 49, 64, 81]"
      ]
     },
     "execution_count": 92,
     "metadata": {},
     "output_type": "execute_result"
    }
   ],
   "source": [
    "l(4,45,5,6,6,7,8,9)"
   ]
  },
  {
   "cell_type": "code",
   "execution_count": null,
   "id": "adff3c43-1ce4-40f3-b5a3-b0c2fdb7610d",
   "metadata": {},
   "outputs": [],
   "source": []
  },
  {
   "cell_type": "code",
   "execution_count": null,
   "id": "cea46aa8-1d31-4f8c-9b5e-de311866c35c",
   "metadata": {},
   "outputs": [],
   "source": []
  },
  {
   "cell_type": "code",
   "execution_count": null,
   "id": "f77091cd-b705-4d8d-954a-d665196bfef9",
   "metadata": {},
   "outputs": [],
   "source": []
  },
  {
   "cell_type": "code",
   "execution_count": null,
   "id": "0f09cf58-920b-442f-997b-888d7b1aaadc",
   "metadata": {},
   "outputs": [],
   "source": []
  },
  {
   "cell_type": "markdown",
   "id": "121bcce1-12e5-4f9c-84bc-8fc3fbeb7e7a",
   "metadata": {},
   "source": [
    "### List comprehension"
   ]
  },
  {
   "cell_type": "code",
   "execution_count": null,
   "id": "cd2c8122-71ac-4336-b0e1-b29c647cb8b8",
   "metadata": {},
   "outputs": [],
   "source": []
  },
  {
   "cell_type": "code",
   "execution_count": 2,
   "id": "6f5f059c-3f07-4063-9c88-3102761d22ea",
   "metadata": {},
   "outputs": [],
   "source": [
    "l = [1,2,3,4,5,6]"
   ]
  },
  {
   "cell_type": "code",
   "execution_count": 12,
   "id": "f29def0d-6f14-4821-a72a-4bce09d47572",
   "metadata": {},
   "outputs": [],
   "source": [
    "def test(l):\n",
    "    for i in l:\n",
    "        print(i)"
   ]
  },
  {
   "cell_type": "code",
   "execution_count": 14,
   "id": "105e0c5a-27f9-45d8-bbe3-4e32945dafea",
   "metadata": {},
   "outputs": [
    {
     "name": "stdout",
     "output_type": "stream",
     "text": [
      "1\n",
      "2\n",
      "3\n",
      "4\n",
      "5\n",
      "6\n"
     ]
    }
   ],
   "source": [
    "test(l)"
   ]
  },
  {
   "cell_type": "code",
   "execution_count": 24,
   "id": "731bea54-b96f-4ce0-95af-0b9528789c33",
   "metadata": {},
   "outputs": [],
   "source": [
    "def even(lst):\n",
    "    for a in lst:\n",
    "        if a%2==0:\n",
    "            print(a) \n",
    "        "
   ]
  },
  {
   "cell_type": "code",
   "execution_count": 26,
   "id": "bf1e6459-2f93-4583-992a-8fd063255737",
   "metadata": {},
   "outputs": [
    {
     "name": "stdout",
     "output_type": "stream",
     "text": [
      "2\n",
      "4\n",
      "6\n"
     ]
    }
   ],
   "source": [
    "even(l)"
   ]
  },
  {
   "cell_type": "code",
   "execution_count": 40,
   "id": "0c6ad257-a2f0-4f95-8f9d-55243d6c591b",
   "metadata": {},
   "outputs": [],
   "source": [
    "lst = [3,5,7,9]"
   ]
  },
  {
   "cell_type": "code",
   "execution_count": 42,
   "id": "63c8bc14-2d8d-4564-9311-0a1a4b748523",
   "metadata": {},
   "outputs": [],
   "source": [
    "even = [i for i in lst if i%2==0]"
   ]
  },
  {
   "cell_type": "code",
   "execution_count": 44,
   "id": "a3d3858b-97fe-482b-835e-183699233ebc",
   "metadata": {},
   "outputs": [
    {
     "data": {
      "text/plain": [
       "[]"
      ]
     },
     "execution_count": 44,
     "metadata": {},
     "output_type": "execute_result"
    }
   ],
   "source": [
    "even"
   ]
  },
  {
   "cell_type": "code",
   "execution_count": 30,
   "id": "8047059e-9b19-4a48-801f-45481ac16a51",
   "metadata": {},
   "outputs": [
    {
     "name": "stdout",
     "output_type": "stream",
     "text": [
      "[2, 4, 6]\n"
     ]
    }
   ],
   "source": [
    "print(even)"
   ]
  },
  {
   "cell_type": "code",
   "execution_count": 46,
   "id": "ea1681c3-19a8-494f-99f3-a30f96fc838d",
   "metadata": {},
   "outputs": [],
   "source": [
    "new_lst = [1,2,3,4,5,6,\"puran\", \"bharat\", \"musthafa\", \"sriram\", \"sanjay\", \"gayathri\", \"kavya\", \"vamshi\", \"anwar\", \"tapender\"]"
   ]
  },
  {
   "cell_type": "code",
   "execution_count": 48,
   "id": "27a56a86-df9a-44de-81d2-5bec2a850d6e",
   "metadata": {},
   "outputs": [],
   "source": [
    "def test(l):\n",
    "    for i in l:\n",
    "        print(i)"
   ]
  },
  {
   "cell_type": "code",
   "execution_count": 50,
   "id": "3dc1af77-f366-45ba-b4ac-b32fa25b6d4f",
   "metadata": {},
   "outputs": [
    {
     "name": "stdout",
     "output_type": "stream",
     "text": [
      "1\n",
      "2\n",
      "3\n",
      "4\n",
      "5\n",
      "6\n",
      "puran\n",
      "bharat\n",
      "musthafa\n",
      "sriram\n",
      "sanjay\n",
      "gayathri\n",
      "kavya\n",
      "vamshi\n",
      "anwar\n",
      "tapender\n"
     ]
    }
   ],
   "source": [
    "test(new_lst)"
   ]
  },
  {
   "cell_type": "code",
   "execution_count": 52,
   "id": "753fdb36-e124-44b3-b404-96441572ea21",
   "metadata": {},
   "outputs": [],
   "source": [
    "l = [1,2,3,4,5,6,7,8]\n",
    "\n",
    "lst = [i for i in l]\n"
   ]
  },
  {
   "cell_type": "code",
   "execution_count": 54,
   "id": "3bee4324-5034-4705-9a01-b8c0e7d6bff8",
   "metadata": {},
   "outputs": [
    {
     "data": {
      "text/plain": [
       "[1, 2, 3, 4, 5, 6, 7, 8]"
      ]
     },
     "execution_count": 54,
     "metadata": {},
     "output_type": "execute_result"
    }
   ],
   "source": [
    "lst"
   ]
  },
  {
   "cell_type": "code",
   "execution_count": 60,
   "id": "d797b6a8-ec5a-44c9-b1c3-abae9d220f52",
   "metadata": {},
   "outputs": [],
   "source": [
    "s = \"aimnxt\"\n",
    "\n",
    "def string(s):\n",
    "    for i in s:\n",
    "        print(i)"
   ]
  },
  {
   "cell_type": "code",
   "execution_count": 62,
   "id": "3390070b-fe4c-4ec7-a186-468c19afb540",
   "metadata": {},
   "outputs": [
    {
     "name": "stdout",
     "output_type": "stream",
     "text": [
      "a\n",
      "i\n",
      "m\n",
      "n\n",
      "x\n",
      "t\n"
     ]
    }
   ],
   "source": [
    "string(s)"
   ]
  },
  {
   "cell_type": "code",
   "execution_count": 68,
   "id": "6225b326-045e-4305-9f9b-a84b25d1c77b",
   "metadata": {},
   "outputs": [],
   "source": [
    "a = \"aimnxt\"\n",
    "\n",
    "tapendar = [i for i in a]"
   ]
  },
  {
   "cell_type": "code",
   "execution_count": 70,
   "id": "48980d2e-b97c-4022-8d23-cfd0d4d49690",
   "metadata": {},
   "outputs": [
    {
     "name": "stdout",
     "output_type": "stream",
     "text": [
      "['a', 'i', 'm', 'n', 'x', 't']\n"
     ]
    }
   ],
   "source": [
    "print(tapendar)"
   ]
  },
  {
   "cell_type": "code",
   "execution_count": null,
   "id": "780db98d-8548-4ec8-8e76-a584efd32d34",
   "metadata": {},
   "outputs": [],
   "source": []
  },
  {
   "cell_type": "code",
   "execution_count": null,
   "id": "fcc6238f-39fd-45fc-8f1f-f7437805b6ef",
   "metadata": {},
   "outputs": [],
   "source": []
  },
  {
   "cell_type": "code",
   "execution_count": 74,
   "id": "c9cd5a0a",
   "metadata": {},
   "outputs": [],
   "source": [
    "t = (3,4,4,5,5,6,67,7,7)\n",
    "\n",
    "l = []\n",
    "for i in t :\n",
    "    l.append(i) "
   ]
  },
  {
   "cell_type": "code",
   "execution_count": 78,
   "id": "8f655ead",
   "metadata": {},
   "outputs": [
    {
     "name": "stdout",
     "output_type": "stream",
     "text": [
      "[3, 4, 4, 5, 5, 6, 67, 7, 7]\n"
     ]
    }
   ],
   "source": [
    "print(l)"
   ]
  },
  {
   "cell_type": "code",
   "execution_count": null,
   "id": "a71db35e-038c-474b-a35c-20a9829229b8",
   "metadata": {},
   "outputs": [],
   "source": []
  },
  {
   "cell_type": "code",
   "execution_count": 84,
   "id": "e4243cc1-7337-47cc-8574-502572070b74",
   "metadata": {},
   "outputs": [],
   "source": [
    "def test(a):\n",
    "    for i in a:\n",
    "        print(i)"
   ]
  },
  {
   "cell_type": "code",
   "execution_count": 88,
   "id": "1dfb889a-0fbc-4046-82cb-0e648a6ed484",
   "metadata": {},
   "outputs": [
    {
     "name": "stdout",
     "output_type": "stream",
     "text": [
      "3\n",
      "4\n",
      "4\n",
      "5\n",
      "5\n",
      "6\n",
      "67\n",
      "7\n",
      "7\n"
     ]
    }
   ],
   "source": [
    "test(t)"
   ]
  },
  {
   "cell_type": "code",
   "execution_count": 94,
   "id": "a74cd345-8bf0-4f0d-a8c9-3aa3a7097f31",
   "metadata": {},
   "outputs": [],
   "source": [
    "tapendar = (4,5,6,7,8,9)"
   ]
  },
  {
   "cell_type": "code",
   "execution_count": 96,
   "id": "f0715875-4c73-48a7-9e73-b111702b3807",
   "metadata": {},
   "outputs": [],
   "source": [
    "def test(tapendar):\n",
    "    l = []\n",
    "    for i in tapendar:\n",
    "        l.append(i)\n",
    "    return l"
   ]
  },
  {
   "cell_type": "code",
   "execution_count": 98,
   "id": "b9d95174-f116-4fdd-9a15-21b857523b4d",
   "metadata": {},
   "outputs": [
    {
     "data": {
      "text/plain": [
       "[4, 5, 6, 7, 8, 9]"
      ]
     },
     "execution_count": 98,
     "metadata": {},
     "output_type": "execute_result"
    }
   ],
   "source": [
    "test(tapendar)"
   ]
  },
  {
   "cell_type": "code",
   "execution_count": null,
   "id": "c7c137f2-ef6a-44f3-a6ce-41e38e2db467",
   "metadata": {},
   "outputs": [],
   "source": []
  },
  {
   "cell_type": "code",
   "execution_count": 100,
   "id": "bcbc2e02-6d9c-473b-bee2-8c87cfe43fe2",
   "metadata": {},
   "outputs": [],
   "source": []
  },
  {
   "cell_type": "code",
   "execution_count": null,
   "id": "537aa3fd-eb57-470d-a1fc-43c22be293f8",
   "metadata": {},
   "outputs": [],
   "source": []
  },
  {
   "cell_type": "code",
   "execution_count": null,
   "id": "a78203d1-0534-47a5-83e6-9bef4e753caf",
   "metadata": {},
   "outputs": [],
   "source": []
  },
  {
   "cell_type": "code",
   "execution_count": null,
   "id": "606d7530-99ff-4b35-9595-c1ee6bb79a91",
   "metadata": {},
   "outputs": [],
   "source": []
  },
  {
   "cell_type": "code",
   "execution_count": 61,
   "id": "83753bad",
   "metadata": {},
   "outputs": [
    {
     "data": {
      "text/plain": [
       "[3, 4, 4, 5, 5, 6, 67, 7, 7]"
      ]
     },
     "execution_count": 61,
     "metadata": {},
     "output_type": "execute_result"
    }
   ],
   "source": [
    "[i for i in t]"
   ]
  },
  {
   "cell_type": "code",
   "execution_count": 63,
   "id": "aa8d745b",
   "metadata": {},
   "outputs": [
    {
     "data": {
      "text/plain": [
       "['s', 'u', 'd', 'h']"
      ]
     },
     "execution_count": 63,
     "metadata": {},
     "output_type": "execute_result"
    }
   ],
   "source": [
    "[i for i in s ]"
   ]
  },
  {
   "cell_type": "code",
   "execution_count": 64,
   "id": "282fb8ab",
   "metadata": {},
   "outputs": [
    {
     "data": {
      "text/plain": [
       "[0, 1, 4, 9, 16, 25, 36, 49, 64, 81]"
      ]
     },
     "execution_count": 64,
     "metadata": {},
     "output_type": "execute_result"
    }
   ],
   "source": [
    "[i*i for i in range(10)]"
   ]
  },
  {
   "cell_type": "code",
   "execution_count": 65,
   "id": "a6312326",
   "metadata": {},
   "outputs": [],
   "source": [
    "l = []\n",
    "for i in range(10):\n",
    "    l.append(i*i)"
   ]
  },
  {
   "cell_type": "code",
   "execution_count": 66,
   "id": "9a63b637",
   "metadata": {},
   "outputs": [
    {
     "data": {
      "text/plain": [
       "[0, 1, 4, 9, 16, 25, 36, 49, 64, 81]"
      ]
     },
     "execution_count": 66,
     "metadata": {},
     "output_type": "execute_result"
    }
   ],
   "source": [
    "l"
   ]
  },
  {
   "cell_type": "code",
   "execution_count": 69,
   "id": "7ab81a42",
   "metadata": {},
   "outputs": [],
   "source": []
  },
  {
   "cell_type": "code",
   "execution_count": null,
   "id": "3399aaa6",
   "metadata": {},
   "outputs": [],
   "source": []
  },
  {
   "cell_type": "code",
   "execution_count": null,
   "id": "6236b359",
   "metadata": {},
   "outputs": [],
   "source": []
  },
  {
   "cell_type": "code",
   "execution_count": null,
   "id": "bcdb3ea2",
   "metadata": {},
   "outputs": [],
   "source": []
  },
  {
   "cell_type": "code",
   "execution_count": 81,
   "id": "47852a10",
   "metadata": {},
   "outputs": [],
   "source": [
    "def test14(**kwargs):\n",
    "    count = 0\n",
    "    print(kwargs)\n",
    "    print(kwargs.values())\n",
    "    for v in kwargs.values():\n",
    "        if type(v) == str:\n",
    "            count += 1\n",
    "        if type(v) == list :\n",
    "            for i in v :\n",
    "                if type(i) == str :\n",
    "                    count+= 1\n",
    "    return count"
   ]
  },
  {
   "cell_type": "code",
   "execution_count": 82,
   "id": "1431d350",
   "metadata": {},
   "outputs": [
    {
     "name": "stdout",
     "output_type": "stream",
     "text": [
      "{'a': 7, 'b': 'sudh', 'c': 345, 'd': 'sudh', 'l': [2, 3, 4, 45, 'sudh']}\n",
      "dict_values([7, 'sudh', 345, 'sudh', [2, 3, 4, 45, 'sudh']])\n"
     ]
    },
    {
     "data": {
      "text/plain": [
       "3"
      ]
     },
     "execution_count": 82,
     "metadata": {},
     "output_type": "execute_result"
    }
   ],
   "source": [
    "test14(a = 7 , b = \"sudh\" , c = 345 , d = \"sudh\" , l = [2,3,4,45 , \"sudh\"])"
   ]
  },
  {
   "cell_type": "code",
   "execution_count": 83,
   "id": "79ac42cf",
   "metadata": {},
   "outputs": [],
   "source": [
    "def test15(**kwargs) :\n",
    "    return list(kwargs.values())"
   ]
  },
  {
   "cell_type": "code",
   "execution_count": 84,
   "id": "8830ef2c",
   "metadata": {},
   "outputs": [
    {
     "data": {
      "text/plain": [
       "[7, 'sudh', 345, 'sudh', [2, 3, 4, 45, 'sudh']]"
      ]
     },
     "execution_count": 84,
     "metadata": {},
     "output_type": "execute_result"
    }
   ],
   "source": [
    "test15(a = 7 , b = \"sudh\" , c = 345 , d = \"sudh\" , l = [2,3,4,45 , \"sudh\"])"
   ]
  },
  {
   "cell_type": "code",
   "execution_count": null,
   "id": "d66c7f2a-01d2-4a02-96e7-7c5d2b5170d4",
   "metadata": {},
   "outputs": [],
   "source": []
  },
  {
   "cell_type": "code",
   "execution_count": null,
   "id": "49d8d727-9468-4eff-8fb2-48bb4b4271eb",
   "metadata": {},
   "outputs": [],
   "source": []
  },
  {
   "cell_type": "code",
   "execution_count": null,
   "id": "68c55b32-6972-4456-b93c-5cf104cda87a",
   "metadata": {},
   "outputs": [],
   "source": []
  },
  {
   "cell_type": "code",
   "execution_count": null,
   "id": "b73df58c-e241-44c4-b156-26ded1f84657",
   "metadata": {},
   "outputs": [],
   "source": []
  },
  {
   "cell_type": "code",
   "execution_count": null,
   "id": "bc5e9e1e-a87d-4d3e-83b3-c875770a90c9",
   "metadata": {},
   "outputs": [],
   "source": []
  },
  {
   "cell_type": "code",
   "execution_count": null,
   "id": "495c47e2",
   "metadata": {},
   "outputs": [],
   "source": [
    "Todays task :\n",
    "    q1 : Try to print a prime number in between 1 to 1000\n",
    "    q2 : Try to write a function which  is equivalent  to print function in python\n",
    "    q3 : Try to write a function which is a replica of list append , extend and pop function \n",
    "    q4 : Try to write a lambda function which can return a concatination of all the string that we will pass\n",
    "    q5 : Try to write a lambda function which can return list of square of all the data between 1-100 \n",
    "    q6 : Try to write a 10 Different different example of lambda function with a choice of your taks \n",
    "    q7 : Try to wwrite a funtion whihc can perform a read operation from .txt file \n",
    "        "
   ]
  },
  {
   "cell_type": "code",
   "execution_count": 85,
   "id": "8a9d2977",
   "metadata": {},
   "outputs": [
    {
     "data": {
      "text/plain": [
       "(5, 6, 2, (4, [5, 2]))"
      ]
     },
     "execution_count": 85,
     "metadata": {},
     "output_type": "execute_result"
    }
   ],
   "source": [
    "def test4(a, b, c, *m):\n",
    "  return a, b, c, m\n",
    "\n",
    "test4(5,6,2,4,[5,2])"
   ]
  },
  {
   "cell_type": "code",
   "execution_count": 88,
   "id": "49abd649",
   "metadata": {},
   "outputs": [
    {
     "data": {
      "text/plain": [
       "(1, 2, 3)"
      ]
     },
     "execution_count": 88,
     "metadata": {},
     "output_type": "execute_result"
    }
   ],
   "source": [
    "b= lambda *a : a \n",
    "b(1,2,3)"
   ]
  },
  {
   "cell_type": "code",
   "execution_count": 104,
   "id": "46ae7092",
   "metadata": {},
   "outputs": [
    {
     "data": {
      "text/plain": [
       "[0, 1, 2, 3, 4, 5, 6, 7, 8, 9]"
      ]
     },
     "execution_count": 104,
     "metadata": {},
     "output_type": "execute_result"
    }
   ],
   "source": [
    "n=10\n",
    "[i for i in range(n)]\n"
   ]
  },
  {
   "cell_type": "code",
   "execution_count": 134,
   "id": "1b078bae",
   "metadata": {},
   "outputs": [],
   "source": [
    "def test15(**kwargs):\n",
    "    return list(kwargs.values())\n"
   ]
  },
  {
   "cell_type": "code",
   "execution_count": 136,
   "id": "c7669640-19c1-4cb2-b193-555300a91a8e",
   "metadata": {},
   "outputs": [
    {
     "name": "stdout",
     "output_type": "stream",
     "text": [
      "[1, 2, 3]\n"
     ]
    }
   ],
   "source": [
    "print(test15(a=1, b=2, c=3))\n"
   ]
  },
  {
   "cell_type": "code",
   "execution_count": 93,
   "id": "1c961733",
   "metadata": {},
   "outputs": [
    {
     "data": {
      "text/plain": [
       "[1, 2, 3, 4]"
      ]
     },
     "execution_count": 93,
     "metadata": {},
     "output_type": "execute_result"
    }
   ],
   "source": [
    "t=(1,2,3,4)\n",
    "[i for i in t]"
   ]
  },
  {
   "cell_type": "code",
   "execution_count": 94,
   "id": "ec423820",
   "metadata": {},
   "outputs": [],
   "source": [
    "l = lambda *x: [i**2 for i in x]"
   ]
  },
  {
   "cell_type": "code",
   "execution_count": 95,
   "id": "253dd7bc",
   "metadata": {},
   "outputs": [
    {
     "data": {
      "text/plain": [
       "[16, 25, 36, 49]"
      ]
     },
     "execution_count": 95,
     "metadata": {},
     "output_type": "execute_result"
    }
   ],
   "source": [
    "l(4,5,6,7)"
   ]
  },
  {
   "cell_type": "code",
   "execution_count": 98,
   "id": "15d4db6a",
   "metadata": {},
   "outputs": [],
   "source": [
    "def test10(*m):\n",
    "    n=1\n",
    "    for i in m:\n",
    "        if type(i) == int :\n",
    "            n=n*i\n",
    "    return n\n"
   ]
  },
  {
   "cell_type": "code",
   "execution_count": 99,
   "id": "3081e626",
   "metadata": {},
   "outputs": [
    {
     "data": {
      "text/plain": [
       "2400"
      ]
     },
     "execution_count": 99,
     "metadata": {},
     "output_type": "execute_result"
    }
   ],
   "source": [
    "test10(4,4,5,5,6)"
   ]
  },
  {
   "cell_type": "code",
   "execution_count": null,
   "id": "1bbd78c4-578b-4a22-a081-aae6967ccb6d",
   "metadata": {},
   "outputs": [],
   "source": []
  },
  {
   "cell_type": "code",
   "execution_count": null,
   "id": "2c2dce9a-2275-4bca-a135-cc5557368439",
   "metadata": {},
   "outputs": [],
   "source": []
  },
  {
   "cell_type": "code",
   "execution_count": null,
   "id": "a3a83000-97d5-4188-8e4a-8480647f593c",
   "metadata": {},
   "outputs": [],
   "source": []
  },
  {
   "cell_type": "code",
   "execution_count": null,
   "id": "93b5f1de-80a6-40c2-8b96-afd037094347",
   "metadata": {},
   "outputs": [],
   "source": []
  },
  {
   "cell_type": "code",
   "execution_count": 101,
   "id": "46763bfc",
   "metadata": {},
   "outputs": [
    {
     "data": {
      "text/plain": [
       "[1, 2, 5, [1, 3, 4, 6]]"
      ]
     },
     "execution_count": 101,
     "metadata": {},
     "output_type": "execute_result"
    }
   ],
   "source": [
    "L=[1,2,4,5,[1,3,4,6]]\n",
    "\n",
    "L.pop(2)\n",
    "L\n"
   ]
  },
  {
   "cell_type": "code",
   "execution_count": 105,
   "id": "ed2d36af",
   "metadata": {},
   "outputs": [
    {
     "data": {
      "text/plain": [
       "(8, 8, 9, 9, 7, 7, 7, 3, 5, 7, 5)"
      ]
     },
     "execution_count": 105,
     "metadata": {},
     "output_type": "execute_result"
    }
   ],
   "source": [
    "def test5(*a,x,y,z):\n",
    "    return *a,x,y,z,\n",
    "test5 (8,8,9,9,7,7,7,3,x=5,y=7,z=5)\n"
   ]
  },
  {
   "cell_type": "code",
   "execution_count": 108,
   "id": "07e180ef",
   "metadata": {},
   "outputs": [
    {
     "data": {
      "text/plain": [
       "'kapeeD'"
      ]
     },
     "execution_count": 108,
     "metadata": {},
     "output_type": "execute_result"
    }
   ],
   "source": [
    "s='Deepak'\n",
    "\n",
    "s[-1::-1]\n"
   ]
  },
  {
   "cell_type": "code",
   "execution_count": 107,
   "id": "954d3347",
   "metadata": {},
   "outputs": [
    {
     "data": {
      "text/plain": [
       "''"
      ]
     },
     "execution_count": 107,
     "metadata": {},
     "output_type": "execute_result"
    }
   ],
   "source": [
    "s[0:6:-1]"
   ]
  },
  {
   "cell_type": "code",
   "execution_count": 113,
   "id": "18c2a2d1",
   "metadata": {},
   "outputs": [],
   "source": [
    "def test10(*m , **sm):\n",
    "    return m,sm"
   ]
  },
  {
   "cell_type": "code",
   "execution_count": 140,
   "id": "7953aea0",
   "metadata": {},
   "outputs": [
    {
     "name": "stdout",
     "output_type": "stream",
     "text": [
      "ab\n",
      "cd\n",
      "ef\n"
     ]
    }
   ],
   "source": [
    "d={\"ab\":1,'cd':2,'ef':3}\n",
    "\n",
    "for k in d:\n",
    "    print(k)\n"
   ]
  },
  {
   "cell_type": "code",
   "execution_count": 138,
   "id": "0c3659ba",
   "metadata": {},
   "outputs": [
    {
     "ename": "SyntaxError",
     "evalue": "invalid syntax. Maybe you meant '==' or ':=' instead of '='? (526516465.py, line 4)",
     "output_type": "error",
     "traceback": [
      "\u001b[1;36m  Cell \u001b[1;32mIn[138], line 4\u001b[1;36m\u001b[0m\n\u001b[1;33m    b = lambda *args : [m=m*i for i in args]\u001b[0m\n\u001b[1;37m                        ^\u001b[0m\n\u001b[1;31mSyntaxError\u001b[0m\u001b[1;31m:\u001b[0m invalid syntax. Maybe you meant '==' or ':=' instead of '='?\n"
     ]
    }
   ],
   "source": [
    "# I want to perform multiplication using lambda functions, how can we do it?\n",
    "\n",
    "m=3\n",
    "b = lambda *args : [m=m*i for i in args]\n",
    "\n",
    "b(2,3)\n"
   ]
  },
  {
   "cell_type": "code",
   "execution_count": 118,
   "id": "8310b48a",
   "metadata": {},
   "outputs": [
    {
     "name": "stdout",
     "output_type": "stream",
     "text": [
      "[3, 4, 5, 6, 78]\n",
      "[3, 4, 5, 6, 78]\n"
     ]
    }
   ],
   "source": [
    "t = (3, 4, 5, 6, 78)\n",
    "l = [i for i in t]\n",
    "print(l)\n",
    "ab = list(j for j in l)\n",
    "print(ab)\n"
   ]
  },
  {
   "cell_type": "code",
   "execution_count": 121,
   "id": "98c5383e",
   "metadata": {},
   "outputs": [
    {
     "name": "stdout",
     "output_type": "stream",
     "text": [
      "{'a': 7, 'b': 'Shan', 'c': 345, 'd': 'dd', 'l': [2, 3, 4, 5, 'Su']}\n",
      "dict_values([7, 'Shan', 345, 'dd', [2, 3, 4, 5, 'Su']])\n"
     ]
    },
    {
     "data": {
      "text/plain": [
       "3"
      ]
     },
     "execution_count": 121,
     "metadata": {},
     "output_type": "execute_result"
    }
   ],
   "source": [
    "def test14(**kwargs):\n",
    "    count = 0\n",
    "    print(kwargs)\n",
    "    print(kwargs.values())\n",
    "    for v in kwargs.values():\n",
    "        if type(v)==str:\n",
    "            count+=1\n",
    "        if type(v)==list:\n",
    "            count+=1\n",
    "    return count\n",
    "\n",
    "test14(a=7,b=\"Shan\",c=345,d=\"dd\",l=[2,3,4,5,\"Su\"])\n"
   ]
  },
  {
   "cell_type": "code",
   "execution_count": 142,
   "id": "572273ce",
   "metadata": {},
   "outputs": [
    {
     "data": {
      "text/plain": [
       "2"
      ]
     },
     "execution_count": 142,
     "metadata": {},
     "output_type": "execute_result"
    }
   ],
   "source": [
    "def func(**kwargs):\n",
    "    count = 0\n",
    "    for e in kwargs.values():\n",
    "        if type(e) == list:\n",
    "            for ele in  e:\n",
    "                if type(ele) == str:\n",
    "                    count += 1\n",
    "    return count\n",
    "    \n",
    "func(v1 = 2,v2 = 3,v3=4, v4=5,name=\"Mohamed\", data=[\"ineuron\", \"MLDL\", 2021])"
   ]
  },
  {
   "cell_type": "code",
   "execution_count": 127,
   "id": "4079e449",
   "metadata": {},
   "outputs": [
    {
     "data": {
      "text/plain": [
       "[4, 6, 8, 10]"
      ]
     },
     "execution_count": 127,
     "metadata": {},
     "output_type": "execute_result"
    }
   ],
   "source": [
    "l= lambda *x : [i*2 for i in x]\n",
    "l(2,3,4,5)\n"
   ]
  },
  {
   "cell_type": "code",
   "execution_count": 146,
   "id": "3fe865b7",
   "metadata": {},
   "outputs": [],
   "source": [
    "def test15(**kwargs):\n",
    "    return list(kwargs.values())\n"
   ]
  },
  {
   "cell_type": "code",
   "execution_count": 148,
   "id": "6d6bc8d8",
   "metadata": {},
   "outputs": [
    {
     "data": {
      "text/plain": [
       "[7, 'Abhi', 345, 'Abhi', [2, 3, 45, 'Abhi']]"
      ]
     },
     "execution_count": 148,
     "metadata": {},
     "output_type": "execute_result"
    }
   ],
   "source": [
    "test15(a=7,b='Abhi',c=345,d='Abhi',l=[2,3,45,'Abhi'])"
   ]
  },
  {
   "cell_type": "code",
   "execution_count": 150,
   "id": "39d1ff7a",
   "metadata": {},
   "outputs": [
    {
     "name": "stdout",
     "output_type": "stream",
     "text": [
      "k1\n",
      "k1\n",
      "k2\n",
      "k2\n",
      "k3\n",
      "k3\n",
      "sudh\n",
      "sudh\n",
      "ineuron\n",
      "ineuron\n",
      "kumar\n",
      "kumar\n",
      "ineuron\n",
      "ineuron\n",
      "data science\n"
     ]
    }
   ],
   "source": [
    "data = [1,\n",
    " 2,\n",
    " 3,\n",
    " 4,\n",
    " 2,\n",
    " 3,\n",
    " 4,\n",
    " 5,\n",
    " 6,\n",
    " 3,\n",
    " 4,\n",
    " 5,\n",
    " 6,\n",
    " 7,\n",
    " 45,\n",
    " 4,\n",
    " 5,\n",
    " 23,\n",
    " 'k1',\n",
    " 'k2',\n",
    " 'k3',\n",
    " 3,\n",
    " 7,\n",
    " 'sudh',\n",
    " 'ineuron',\n",
    " 'kumar',\n",
    " 6,\n",
    " 8,\n",
    " 'ineuron',\n",
    " 'data science']\n",
    "\n",
    "for i in data:\n",
    "    \n",
    "    if type(i) == str:\n",
    "        print(i)\n",
    "        if i.isalnum(): \n",
    "            print(i)\n"
   ]
  },
  {
   "cell_type": "code",
   "execution_count": 139,
   "id": "20833d25",
   "metadata": {},
   "outputs": [
    {
     "data": {
      "text/plain": [
       "(45, 5, 4, 5, 5, 6, 677)"
      ]
     },
     "execution_count": 139,
     "metadata": {},
     "output_type": "execute_result"
    }
   ],
   "source": [
    "b=lambda *sudh : sudh\n",
    "b(45,5,4,5,5,6,677)\n"
   ]
  },
  {
   "cell_type": "code",
   "execution_count": 152,
   "id": "35ecbb5a",
   "metadata": {},
   "outputs": [],
   "source": [
    "def test11(*m):\n",
    "    n=1\n",
    "    for i in m:\n",
    "        if type(i)==int:\n",
    "            n=n*i\n",
    "        return n\n"
   ]
  },
  {
   "cell_type": "code",
   "execution_count": 154,
   "id": "a70fc8f8",
   "metadata": {},
   "outputs": [],
   "source": [
    "def test13(**kwargs):\n",
    "    count = 0\n",
    "    for i in kwargs.values():\n",
    "        if type(i) == str or type(i) == list: \n",
    "            for j in i:\n",
    "                count += 1\n",
    "        return count"
   ]
  },
  {
   "cell_type": "code",
   "execution_count": null,
   "id": "26a132d5",
   "metadata": {},
   "outputs": [],
   "source": []
  },
  {
   "cell_type": "code",
   "execution_count": null,
   "id": "645accc2-6261-49fc-846e-8b7dd1069930",
   "metadata": {},
   "outputs": [],
   "source": []
  },
  {
   "cell_type": "code",
   "execution_count": null,
   "id": "f26326c6-44d3-42d0-9fd8-29655782411e",
   "metadata": {},
   "outputs": [],
   "source": []
  },
  {
   "cell_type": "code",
   "execution_count": null,
   "id": "21e23113-0b3d-46d1-83c9-053861469578",
   "metadata": {},
   "outputs": [],
   "source": []
  },
  {
   "cell_type": "code",
   "execution_count": null,
   "id": "f343fde2-6e9f-43fa-9a05-4b5adac10db3",
   "metadata": {},
   "outputs": [],
   "source": [
    "Assignment:\n",
    "\n",
    "\n",
    "1. Function to Add Two Numbers\n",
    "👉 Write a function add(a, b) that returns the sum of two numbers.\n",
    "\n",
    "# Example:\n",
    "# add(5, 3) → 8\n",
    "\n",
    "2. Function to Multiply Two Numbers\n",
    "👉 Write a function multiply(a, b) that returns the product of two numbers.\n",
    "\n",
    "# Example:\n",
    "# multiply(4, 3) → 12\n",
    "\n",
    "3. Function to Divide Two Numbers\n",
    "👉 Write a function divide(a, b) that returns the result of a divided by b. Handle division by zero.\n",
    "# Example:\n",
    "# divide(10, 2) → 5.0\n",
    "# divide(10, 0) → \"Cannot divide by zero\"\n",
    "\n",
    "Using *args (Single Asterisk - Variable Length Arguments)\n",
    "4. Function to Add Multiple Numbers\n",
    "👉 Write a function add_all(*args) that takes multiple numbers and returns their sum.\n",
    "\n",
    "# Example:\n",
    "# add_all(1, 2, 3, 4, 5) → 15\n",
    "\n",
    "5. Function to Multiply Multiple Numbers\n",
    "👉 Write a function multiply_all(*args) that takes multiple numbers and returns their product.\n",
    "\n",
    "# Example:\n",
    "# multiply_all(2, 3, 4) → 24\n",
    "\n",
    "    Using **kwargs (Double Asterisk - Keyword Arguments)\n",
    "6. Function to Perform Basic Operations\n",
    "👉 Write a function calculate(**kwargs) that can perform addition, multiplication, and division based on keyword arguments.\n",
    "\n",
    "# Example:\n",
    "# calculate(add= (5, 3), multiply= (4, 2), divide=(10, 2))\n",
    "# Output: {'add': 8, 'multiply': 8, 'divide': 5.0}\n",
    "\n",
    "1. Subtract Two Numbers\n",
    "👉 Write a function subtract(a, b) that returns the result of a - b.\n",
    "\n",
    "# Example:\n",
    "# subtract(10, 4) → 6\n",
    "\n",
    "2. Find the Remainder\n",
    "👉 Write a function modulus(a, b) that returns the remainder when a is divided by b.\n",
    "\n",
    "# Example:\n",
    "# modulus(10, 3) → 1\n",
    "\n",
    "3. Find the Square of a Number\n",
    "👉 Write a function square(n) that returns the square of n.\n",
    "\n",
    "# Example:\n",
    "# square(5) → 25\n",
    "\n",
    "4. Find the Cube of a Number\n",
    "👉 Write a function cube(n) that returns the cube of n.\n",
    "\n",
    "# Example:\n",
    "# cube(3) → 27\n",
    "\n",
    "Using *args (Variable-Length Arguments)\n",
    "5. Find the Maximum Number\n",
    "👉 Write a function find_max(*args) that returns the largest number from the given inputs.\n",
    "\n",
    "# Example:\n",
    "# find_max(10, 20, 30, 5) → 30\n",
    "\n",
    "6. Find the Minimum Number\n",
    "👉 Write a function find_min(*args) that returns the smallest number from the given inputs.\n",
    "\n",
    "# Example:\n",
    "# find_min(10, 20, 5, 8) → 5\n",
    "\n",
    "7. Calculate the Average of Multiple Numbers\n",
    "👉 Write a function average(*args) that returns the average of all given numbers.\n",
    "\n",
    "# Example:\n",
    "# average(5, 10, 15) → 10.0\n",
    "\n",
    "Using **kwargs (Keyword Arguments)\n",
    "8. Perform Operations on Two Numbers\n",
    "👉 Write a function calculate(operation, a, b) that takes a keyword argument (operation='add', 'subtract', 'multiply', or 'divide') and performs the corresponding operation on a and b.\n",
    "\n",
    "9. Convert Temperature Units\n",
    "👉 Write a function convert_temperature(**kwargs) that converts between Celsius and Fahrenheit.\n",
    "\n",
    "# Example:\n",
    "# convert_temperature(celsius=25) → \"77°F\"\n",
    "# convert_temperature(fahrenheit=98) → \"36.67°C\"\n",
    "\n",
    "10. Find the Power of a Number\n",
    "👉 Write a function power(base, exponent=2) that returns base raised to the power of exponent. The exponent should have a default value of 2.\n",
    "\n",
    "# Example:\n",
    "# power(3) → 9 (because 3^2)\n",
    "# power(2, 3) → 8 (because 2^3)"
   ]
  }
 ],
 "metadata": {
  "kernelspec": {
   "display_name": "Python [conda env:base] *",
   "language": "python",
   "name": "conda-base-py"
  },
  "language_info": {
   "codemirror_mode": {
    "name": "ipython",
    "version": 3
   },
   "file_extension": ".py",
   "mimetype": "text/x-python",
   "name": "python",
   "nbconvert_exporter": "python",
   "pygments_lexer": "ipython3",
   "version": "3.12.7"
  }
 },
 "nbformat": 4,
 "nbformat_minor": 5
}
