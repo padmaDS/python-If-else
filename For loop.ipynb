{
 "cells": [
  {
   "cell_type": "markdown",
   "id": "d2b720e2-684e-4413-b247-9c7d819aa753",
   "metadata": {},
   "source": [
    "### For Loop\n",
    "\n",
    "In Python, a `for` loop is used to iterate over a sequence (such as a list, tuple, string, or range) and execute a block of code for each item in the sequence. \n",
    "\n",
    "The loop continues until all items in the sequence have been processed."
   ]
  },
  {
   "cell_type": "code",
   "execution_count": 2,
   "id": "39fae000",
   "metadata": {},
   "outputs": [],
   "source": [
    "l = [1,2,3,4,\"padma\" ,\"aimnxt\" , 45.56]"
   ]
  },
  {
   "cell_type": "code",
   "execution_count": 4,
   "id": "8efb4581",
   "metadata": {},
   "outputs": [
    {
     "name": "stdout",
     "output_type": "stream",
     "text": [
      "1\n",
      "2\n",
      "3\n",
      "4\n",
      "padma\n",
      "aimnxt\n",
      "45.56\n"
     ]
    }
   ],
   "source": [
    "for i in l :\n",
    "    print(i)"
   ]
  },
  {
   "cell_type": "code",
   "execution_count": 6,
   "id": "a3c4aaa1",
   "metadata": {},
   "outputs": [],
   "source": [
    "for i in l :\n",
    "    pass"
   ]
  },
  {
   "cell_type": "code",
   "execution_count": 8,
   "id": "e158d612",
   "metadata": {},
   "outputs": [
    {
     "name": "stdout",
     "output_type": "stream",
     "text": [
      "a\n",
      "i\n",
      "m\n",
      "n\n",
      "x\n",
      "t\n"
     ]
    }
   ],
   "source": [
    "s = \"aimnxt\"\n",
    "\n",
    "for i in s :\n",
    "    print(i)"
   ]
  },
  {
   "cell_type": "code",
   "execution_count": 10,
   "id": "c5229cac-7d09-45b7-85b5-27fcecacb0dd",
   "metadata": {},
   "outputs": [
    {
     "data": {
      "text/plain": [
       "[1, 2, 3, 4, 'padma', 'aimnxt', 45.56]"
      ]
     },
     "execution_count": 10,
     "metadata": {},
     "output_type": "execute_result"
    }
   ],
   "source": [
    "l"
   ]
  },
  {
   "cell_type": "code",
   "execution_count": 12,
   "id": "0027fea7",
   "metadata": {},
   "outputs": [
    {
     "name": "stdout",
     "output_type": "stream",
     "text": [
      "1\n",
      "2\n",
      "3\n",
      "4\n",
      "padma\n",
      "aimnxt\n",
      "45.56\n",
      "if for loop is going to complete, then it will execute else \n"
     ]
    }
   ],
   "source": [
    "for i in l :\n",
    "    print(i)\n",
    "else :\n",
    "    print(\"if for loop is going to complete, then it will execute else \")"
   ]
  },
  {
   "cell_type": "code",
   "execution_count": 13,
   "id": "d9a80907",
   "metadata": {},
   "outputs": [
    {
     "data": {
      "text/plain": [
       "[1, 2, 3, 4, 'padma', 'aimnxt', 45.56]"
      ]
     },
     "execution_count": 13,
     "metadata": {},
     "output_type": "execute_result"
    }
   ],
   "source": [
    "l"
   ]
  },
  {
   "cell_type": "code",
   "execution_count": 11,
   "id": "62d285ec",
   "metadata": {},
   "outputs": [
    {
     "name": "stdout",
     "output_type": "stream",
     "text": [
      "1\n",
      "2\n",
      "3\n"
     ]
    }
   ],
   "source": [
    "for i in l :\n",
    "    if i == 4 :\n",
    "        break\n",
    "    print(i)\n",
    "else :\n",
    "    print(\"this will execute only if for is going to complete itself\")"
   ]
  },
  {
   "cell_type": "code",
   "execution_count": 13,
   "id": "3c6cb81e",
   "metadata": {},
   "outputs": [
    {
     "name": "stdout",
     "output_type": "stream",
     "text": [
      "a\n",
      "i\n",
      "m\n",
      "n\n",
      "x\n"
     ]
    }
   ],
   "source": [
    "s = \"aimnxt\"\n",
    "\n",
    "for i in s :\n",
    "    if i == 't' :\n",
    "        break\n",
    "    print(i)\n",
    "else :\n",
    "    print(\"Given srtring is\" , s )\n",
    "        "
   ]
  },
  {
   "cell_type": "code",
   "execution_count": 14,
   "id": "d10bfacd-702f-42e9-af6d-6bf849448de4",
   "metadata": {},
   "outputs": [
    {
     "name": "stdout",
     "output_type": "stream",
     "text": [
      "k\n",
      "h\n",
      "a\n",
      "d\n",
      "a\n",
      "r\n",
      "u\n",
      "n\n",
      "n\n",
      "i\n",
      "s\n",
      "a\n"
     ]
    }
   ],
   "source": [
    "s = \"khadarunnisa\"\n",
    "for i in s:\n",
    "    print(i)"
   ]
  },
  {
   "cell_type": "code",
   "execution_count": 15,
   "id": "1f5cc481-73d4-4d90-b0e7-e0c09b13aae6",
   "metadata": {},
   "outputs": [
    {
     "name": "stdout",
     "output_type": "stream",
     "text": [
      "d\n",
      "a\n",
      "t\n",
      "a\n",
      "s\n",
      "c\n",
      "i\n",
      "e\n",
      "n\n",
      "c\n",
      "e\n"
     ]
    }
   ],
   "source": [
    "s= \"datascience\"\n",
    "for i in s:\n",
    "    print(i)"
   ]
  },
  {
   "cell_type": "code",
   "execution_count": 17,
   "id": "f8e7559a-c5a3-4ae9-80d9-b955729c301c",
   "metadata": {},
   "outputs": [
    {
     "name": "stdout",
     "output_type": "stream",
     "text": [
      "d\n",
      "a\n",
      "t\n",
      "a\n",
      "s\n",
      "c\n",
      "i\n"
     ]
    }
   ],
   "source": [
    "for i in s:\n",
    "    if i == \"e\":\n",
    "        break\n",
    "    print(i)"
   ]
  },
  {
   "cell_type": "code",
   "execution_count": 18,
   "id": "7e99917c-7302-4276-b5cf-47767a475a02",
   "metadata": {},
   "outputs": [
    {
     "name": "stdout",
     "output_type": "stream",
     "text": [
      "v\n",
      "a\n",
      "r\n",
      "s\n"
     ]
    }
   ],
   "source": [
    "s = \"varshith\"\n",
    "for i in s:\n",
    "    if i == 'h':\n",
    "        break\n",
    "    print(i)\n",
    "else:\n",
    "    print(\"given string is\", s)"
   ]
  },
  {
   "cell_type": "code",
   "execution_count": 20,
   "id": "d0c5f821-ca9d-4972-86f1-674d5f84b973",
   "metadata": {},
   "outputs": [
    {
     "name": "stdout",
     "output_type": "stream",
     "text": [
      "We have an active alarm Number: 1324\n",
      "No alarm\n"
     ]
    }
   ],
   "source": [
    "l = [0,0,0,0,0,0,0,1324,0,0,0,0,0]\n",
    "\n",
    "for i in l:\n",
    "    if i > 0 :\n",
    "        print(\"We have an active alarm Number:\",i)         \n",
    "else:\n",
    "    print (\"No alarm\")"
   ]
  },
  {
   "cell_type": "code",
   "execution_count": 25,
   "id": "9b9b4303-ac0d-489e-9348-244691f38311",
   "metadata": {},
   "outputs": [
    {
     "name": "stdout",
     "output_type": "stream",
     "text": [
      "0\n",
      "0\n",
      "0\n",
      "0\n",
      "0\n",
      "0\n",
      "0\n"
     ]
    }
   ],
   "source": [
    "for i in l:\n",
    "    if i == 1324:\n",
    "        break\n",
    "    print(i)\n",
    "else:\n",
    "    print(\"no alarm\")"
   ]
  },
  {
   "cell_type": "code",
   "execution_count": null,
   "id": "066743da-d77b-4b23-93f8-98b9ac14f8f9",
   "metadata": {},
   "outputs": [],
   "source": []
  },
  {
   "cell_type": "code",
   "execution_count": 27,
   "id": "c05c6c17",
   "metadata": {},
   "outputs": [
    {
     "name": "stdout",
     "output_type": "stream",
     "text": [
      "4\n",
      "5\n",
      "6\n",
      "7\n",
      "8\n",
      "6\n",
      "aimnxt\n"
     ]
    }
   ],
   "source": [
    "t = (4,5,6,7,8,6,\"aimnxt\")\n",
    "\n",
    "for i in t :\n",
    "    print(i)"
   ]
  },
  {
   "cell_type": "code",
   "execution_count": 22,
   "id": "638474a8-705e-4e35-ac59-8410d0f9bd09",
   "metadata": {},
   "outputs": [
    {
     "name": "stdout",
     "output_type": "stream",
     "text": [
      "1\n",
      "2\n",
      "3\n",
      "4\n",
      "5\n",
      "6\n"
     ]
    }
   ],
   "source": [
    "t = (1,2,3,4,5,6)\n",
    "for i in t:\n",
    "    print(i)"
   ]
  },
  {
   "cell_type": "code",
   "execution_count": 24,
   "id": "aee7e59b",
   "metadata": {},
   "outputs": [],
   "source": [
    "b = {4,5,6,7,7,7,7,7,7,7,7, 8,\"aimnxt\"}"
   ]
  },
  {
   "cell_type": "code",
   "execution_count": 26,
   "id": "a4b6b06f-f651-41da-a728-c4f51ff1e9c4",
   "metadata": {},
   "outputs": [
    {
     "data": {
      "text/plain": [
       "set"
      ]
     },
     "execution_count": 26,
     "metadata": {},
     "output_type": "execute_result"
    }
   ],
   "source": [
    "type(b)"
   ]
  },
  {
   "cell_type": "code",
   "execution_count": 28,
   "id": "9e379087",
   "metadata": {},
   "outputs": [
    {
     "data": {
      "text/plain": [
       "{4, 5, 6, 7, 8, 'aimnxt'}"
      ]
     },
     "execution_count": 28,
     "metadata": {},
     "output_type": "execute_result"
    }
   ],
   "source": [
    "b"
   ]
  },
  {
   "cell_type": "code",
   "execution_count": 38,
   "id": "927717fe",
   "metadata": {},
   "outputs": [
    {
     "name": "stdout",
     "output_type": "stream",
     "text": [
      "4\n",
      "5\n",
      "6\n",
      "7\n",
      "8\n",
      "aimnxt\n"
     ]
    }
   ],
   "source": [
    "for i in b :\n",
    "    print(i)"
   ]
  },
  {
   "cell_type": "code",
   "execution_count": 30,
   "id": "2aa0a4e5-25e0-4fba-a331-dc0296649123",
   "metadata": {},
   "outputs": [
    {
     "name": "stdout",
     "output_type": "stream",
     "text": [
      "4\n",
      "5\n",
      "6\n"
     ]
    }
   ],
   "source": [
    "for i in b:\n",
    "    if i==7:\n",
    "        break\n",
    "    print(i)"
   ]
  },
  {
   "cell_type": "code",
   "execution_count": 39,
   "id": "2c919fa9-3802-4d9a-a922-baa60fbc1768",
   "metadata": {},
   "outputs": [
    {
     "data": {
      "text/plain": [
       "{4, 5, 6, 7, 8, 'aimnxt'}"
      ]
     },
     "execution_count": 39,
     "metadata": {},
     "output_type": "execute_result"
    }
   ],
   "source": [
    "b"
   ]
  },
  {
   "cell_type": "code",
   "execution_count": 37,
   "id": "0ed7a8c9-25b0-4dd8-a5a8-4725f0c15416",
   "metadata": {},
   "outputs": [
    {
     "name": "stdout",
     "output_type": "stream",
     "text": [
      "4\n",
      "5\n",
      "6\n",
      "7\n",
      "8\n",
      "aimnxt\n"
     ]
    }
   ],
   "source": [
    "for i in b:\n",
    "    if i ==10:\n",
    "        break\n",
    "    print(i)"
   ]
  },
  {
   "cell_type": "code",
   "execution_count": null,
   "id": "3ce14fee-3de4-457e-ac08-6927cd9a5295",
   "metadata": {},
   "outputs": [],
   "source": []
  },
  {
   "cell_type": "code",
   "execution_count": 32,
   "id": "444d8f49",
   "metadata": {},
   "outputs": [],
   "source": [
    "d = {'key1' :\"aimnxt\" , 'contact' : \"abc@aimnxt.in\" , \"position\" : \"xyz\"}"
   ]
  },
  {
   "cell_type": "code",
   "execution_count": 36,
   "id": "217b6347-24c1-44e8-880a-439d2b67e49c",
   "metadata": {},
   "outputs": [
    {
     "data": {
      "text/plain": [
       "dict_keys(['key1', 'contact', 'position'])"
      ]
     },
     "execution_count": 36,
     "metadata": {},
     "output_type": "execute_result"
    }
   ],
   "source": [
    "d.keys()"
   ]
  },
  {
   "cell_type": "code",
   "execution_count": 38,
   "id": "238b66ae-8b0b-4098-b054-744ece6759b9",
   "metadata": {},
   "outputs": [
    {
     "data": {
      "text/plain": [
       "dict_values(['aimnxt', 'abc@aimnxt.in', 'xyz'])"
      ]
     },
     "execution_count": 38,
     "metadata": {},
     "output_type": "execute_result"
    }
   ],
   "source": [
    "d.values()"
   ]
  },
  {
   "cell_type": "code",
   "execution_count": 40,
   "id": "37ce32ca-a770-4bb3-8e92-340d0e4acfa1",
   "metadata": {},
   "outputs": [
    {
     "data": {
      "text/plain": [
       "dict_items([('key1', 'aimnxt'), ('contact', 'abc@aimnxt.in'), ('position', 'xyz')])"
      ]
     },
     "execution_count": 40,
     "metadata": {},
     "output_type": "execute_result"
    }
   ],
   "source": [
    "d.items()"
   ]
  },
  {
   "cell_type": "code",
   "execution_count": 34,
   "id": "53f3de24-5642-4ee4-89a5-6ee735b3354f",
   "metadata": {},
   "outputs": [
    {
     "name": "stdout",
     "output_type": "stream",
     "text": [
      "key1\n",
      "contact\n",
      "position\n"
     ]
    }
   ],
   "source": [
    "for i in d:\n",
    "    print(i)"
   ]
  },
  {
   "cell_type": "code",
   "execution_count": 42,
   "id": "c2eb30a0-f28a-4371-8e83-7135d6a7533b",
   "metadata": {},
   "outputs": [
    {
     "name": "stdout",
     "output_type": "stream",
     "text": [
      "aimnxt\n",
      "abc@aimnxt.in\n",
      "xyz\n"
     ]
    }
   ],
   "source": [
    "for i in d:\n",
    "    print(d[i])"
   ]
  },
  {
   "cell_type": "code",
   "execution_count": 44,
   "id": "c49b2c4c",
   "metadata": {},
   "outputs": [
    {
     "name": "stdout",
     "output_type": "stream",
     "text": [
      "key1 : aimnxt\n",
      "contact : abc@aimnxt.in\n",
      "position : xyz\n"
     ]
    }
   ],
   "source": [
    "for i in d :\n",
    "    print(i ,\":\" , d[i])"
   ]
  },
  {
   "cell_type": "code",
   "execution_count": 53,
   "id": "6849b6de-22e1-4087-a753-08775167269f",
   "metadata": {},
   "outputs": [
    {
     "data": {
      "text/plain": [
       "dict_keys(['key1', 'contact', 'position'])"
      ]
     },
     "execution_count": 53,
     "metadata": {},
     "output_type": "execute_result"
    }
   ],
   "source": [
    "# extract only keys from the given dictionary \"d\"\n",
    "\n",
    "d.keys()\n"
   ]
  },
  {
   "cell_type": "code",
   "execution_count": 55,
   "id": "a59a164d-a9f6-4aa1-8d66-3cf2a9c0edd5",
   "metadata": {},
   "outputs": [
    {
     "data": {
      "text/plain": [
       "dict_values(['aimnxt', 'abc@aimnxt.in', 'xyz'])"
      ]
     },
     "execution_count": 55,
     "metadata": {},
     "output_type": "execute_result"
    }
   ],
   "source": [
    "d.values()"
   ]
  },
  {
   "cell_type": "code",
   "execution_count": 57,
   "id": "33afe7bb-5164-46b5-a343-0b2632a463d9",
   "metadata": {},
   "outputs": [
    {
     "data": {
      "text/plain": [
       "dict_items([('key1', 'aimnxt'), ('contact', 'abc@aimnxt.in'), ('position', 'xyz')])"
      ]
     },
     "execution_count": 57,
     "metadata": {},
     "output_type": "execute_result"
    }
   ],
   "source": [
    "d.items()"
   ]
  },
  {
   "cell_type": "code",
   "execution_count": null,
   "id": "9679d281-33a5-42b7-abe4-fd89276c3086",
   "metadata": {},
   "outputs": [],
   "source": []
  },
  {
   "cell_type": "markdown",
   "id": "efdd96d7-339a-42f9-ae27-6eab4886d984",
   "metadata": {},
   "source": [
    "### Range function"
   ]
  },
  {
   "cell_type": "code",
   "execution_count": 46,
   "id": "554220c4",
   "metadata": {},
   "outputs": [
    {
     "data": {
      "text/plain": [
       "range(0, 9)"
      ]
     },
     "execution_count": 46,
     "metadata": {},
     "output_type": "execute_result"
    }
   ],
   "source": [
    "range(9)"
   ]
  },
  {
   "cell_type": "code",
   "execution_count": 48,
   "id": "9203e12d",
   "metadata": {},
   "outputs": [
    {
     "data": {
      "text/plain": [
       "[0, 1, 2, 3, 4, 5, 6, 7, 8]"
      ]
     },
     "execution_count": 48,
     "metadata": {},
     "output_type": "execute_result"
    }
   ],
   "source": [
    "list(range(9))"
   ]
  },
  {
   "cell_type": "code",
   "execution_count": 54,
   "id": "6f26d2b1-4814-499f-afaf-645f6f00802c",
   "metadata": {},
   "outputs": [
    {
     "data": {
      "text/plain": [
       "range(0, 15)"
      ]
     },
     "execution_count": 54,
     "metadata": {},
     "output_type": "execute_result"
    }
   ],
   "source": [
    "range(15)"
   ]
  },
  {
   "cell_type": "code",
   "execution_count": 52,
   "id": "e07ac0b7-3746-466a-9444-66d8a859795b",
   "metadata": {},
   "outputs": [
    {
     "data": {
      "text/plain": [
       "[0, 1, 2, 3, 4, 5, 6, 7, 8, 9, 10, 11, 12, 13, 14]"
      ]
     },
     "execution_count": 52,
     "metadata": {},
     "output_type": "execute_result"
    }
   ],
   "source": [
    "list(range(15))"
   ]
  },
  {
   "cell_type": "code",
   "execution_count": 63,
   "id": "a7ca027a-ab5a-47f7-b748-ef2be1914609",
   "metadata": {},
   "outputs": [
    {
     "data": {
      "text/plain": [
       "range(0, 10)"
      ]
     },
     "execution_count": 63,
     "metadata": {},
     "output_type": "execute_result"
    }
   ],
   "source": [
    "range(10)"
   ]
  },
  {
   "cell_type": "code",
   "execution_count": 67,
   "id": "17fe17e8-3b4a-410b-91d8-5d9d0ba56cd0",
   "metadata": {},
   "outputs": [
    {
     "data": {
      "text/plain": [
       "[0, 1, 2, 3, 4, 5, 6, 7, 8, 9]"
      ]
     },
     "execution_count": 67,
     "metadata": {},
     "output_type": "execute_result"
    }
   ],
   "source": [
    "list(range(10))"
   ]
  },
  {
   "cell_type": "code",
   "execution_count": 56,
   "id": "16549fcf",
   "metadata": {},
   "outputs": [
    {
     "name": "stdout",
     "output_type": "stream",
     "text": [
      "0\n",
      "1\n",
      "2\n",
      "3\n",
      "4\n",
      "5\n",
      "6\n",
      "7\n",
      "8\n",
      "9\n",
      "10\n",
      "11\n",
      "12\n",
      "13\n",
      "14\n"
     ]
    }
   ],
   "source": [
    "for i in range(15):\n",
    "    print(i)"
   ]
  },
  {
   "cell_type": "code",
   "execution_count": 58,
   "id": "ba3f7b74-6467-4451-8614-f209c40fdc89",
   "metadata": {},
   "outputs": [
    {
     "name": "stdout",
     "output_type": "stream",
     "text": [
      "0\n",
      "1\n",
      "2\n",
      "3\n",
      "4\n"
     ]
    }
   ],
   "source": [
    "for i in range(15):\n",
    "    if i==5:\n",
    "        break\n",
    "    print(i)"
   ]
  },
  {
   "cell_type": "code",
   "execution_count": 60,
   "id": "4753ccf8",
   "metadata": {},
   "outputs": [
    {
     "data": {
      "text/plain": [
       "[0, 1, 2, 3, 4, 5, 6, 7, 8]"
      ]
     },
     "execution_count": 60,
     "metadata": {},
     "output_type": "execute_result"
    }
   ],
   "source": [
    "list(range(0,9))"
   ]
  },
  {
   "cell_type": "code",
   "execution_count": 62,
   "id": "1f883fd8",
   "metadata": {},
   "outputs": [
    {
     "data": {
      "text/plain": [
       "[0, 2, 4, 6, 8]"
      ]
     },
     "execution_count": 62,
     "metadata": {},
     "output_type": "execute_result"
    }
   ],
   "source": [
    "list(range(0,9, 2))"
   ]
  },
  {
   "cell_type": "code",
   "execution_count": 77,
   "id": "692f4890",
   "metadata": {},
   "outputs": [
    {
     "data": {
      "text/plain": [
       "[]"
      ]
     },
     "execution_count": 77,
     "metadata": {},
     "output_type": "execute_result"
    }
   ],
   "source": [
    "list(range(0,9, -1))"
   ]
  },
  {
   "cell_type": "code",
   "execution_count": 79,
   "id": "097f8d2e",
   "metadata": {},
   "outputs": [
    {
     "data": {
      "text/plain": [
       "[9, 8, 7, 6, 5, 4, 3, 2, 1]"
      ]
     },
     "execution_count": 79,
     "metadata": {},
     "output_type": "execute_result"
    }
   ],
   "source": [
    "list(range(9,0 , -1))"
   ]
  },
  {
   "cell_type": "code",
   "execution_count": 64,
   "id": "b4a13e41-efef-4bf2-aafd-56c8b3166834",
   "metadata": {},
   "outputs": [
    {
     "name": "stdout",
     "output_type": "stream",
     "text": [
      "[1, 2, 3, 4, 5]\n"
     ]
    }
   ],
   "source": [
    "l=[1,2,3,4,5,\"aimnxt\",234.45]\n",
    "\n",
    "l1=[]\n",
    "\n",
    "for i in l:\n",
    "    if type(i) == int:\n",
    "          l1 = l1 + [i]\n",
    "print(l1)"
   ]
  },
  {
   "cell_type": "code",
   "execution_count": 66,
   "id": "a9fe72dd-f6d4-4c17-b889-adf64b819170",
   "metadata": {},
   "outputs": [
    {
     "name": "stdout",
     "output_type": "stream",
     "text": [
      "['aimnxt']\n"
     ]
    }
   ],
   "source": [
    "l1 = []\n",
    "\n",
    "for i in l:\n",
    "    if type(i) == str:\n",
    "        l1.append(i)\n",
    "print(l1)"
   ]
  },
  {
   "cell_type": "code",
   "execution_count": 83,
   "id": "388d04d7-3f8d-44aa-9577-b947bffd6709",
   "metadata": {},
   "outputs": [
    {
     "name": "stdout",
     "output_type": "stream",
     "text": [
      "[234.45]\n"
     ]
    }
   ],
   "source": [
    "l1= []\n",
    "\n",
    "for i in l:\n",
    "    if type(i)==float:\n",
    "        l1 = l1+[i]\n",
    "print(l1)"
   ]
  },
  {
   "cell_type": "code",
   "execution_count": null,
   "id": "dcdfda93-fdb1-4784-acb1-8b532eb8a334",
   "metadata": {},
   "outputs": [],
   "source": []
  },
  {
   "cell_type": "code",
   "execution_count": 85,
   "id": "cde9e39d-925d-4449-afb6-04e5f4c40aef",
   "metadata": {},
   "outputs": [],
   "source": [
    "l=[1,2,3,4,5,\"aimnxt\",23.55]\n",
    "l1 = []\n",
    "for i in l:\n",
    "    if type(i)==int or type(i)==str:\n",
    "        l1.append(i)"
   ]
  },
  {
   "cell_type": "code",
   "execution_count": 87,
   "id": "05eb9a87-6206-4037-bc58-eef2efbe4c41",
   "metadata": {},
   "outputs": [
    {
     "data": {
      "text/plain": [
       "[1, 2, 3, 4, 5, 'aimnxt']"
      ]
     },
     "execution_count": 87,
     "metadata": {},
     "output_type": "execute_result"
    }
   ],
   "source": [
    "l1"
   ]
  },
  {
   "cell_type": "code",
   "execution_count": 91,
   "id": "9ee58506-9340-4e45-aff9-4506650a3e3a",
   "metadata": {},
   "outputs": [],
   "source": [
    "l = [1,2,\"aimnxt\", \"datascience\", 13.5, 12.7, True, False]"
   ]
  },
  {
   "cell_type": "code",
   "execution_count": 93,
   "id": "e145d577-d0b3-4d4d-a0a8-125857517005",
   "metadata": {},
   "outputs": [],
   "source": [
    "l1 = []\n",
    "for i in l:\n",
    "    if type(i)==int or type(i)==str:\n",
    "        l1.append(i)"
   ]
  },
  {
   "cell_type": "code",
   "execution_count": 95,
   "id": "7bcbf5a0-c574-4df5-a12e-f3dcbe68f5a9",
   "metadata": {},
   "outputs": [
    {
     "data": {
      "text/plain": [
       "[1, 2, 'aimnxt', 'datascience']"
      ]
     },
     "execution_count": 95,
     "metadata": {},
     "output_type": "execute_result"
    }
   ],
   "source": [
    "l1"
   ]
  },
  {
   "cell_type": "code",
   "execution_count": 97,
   "id": "7a77db92-194c-4010-872f-83b37ba4702e",
   "metadata": {},
   "outputs": [],
   "source": [
    "l1 = []\n",
    "for i in l:\n",
    "    if type(i)==bool:\n",
    "        l1.append(i)"
   ]
  },
  {
   "cell_type": "code",
   "execution_count": 99,
   "id": "a940e150-7fbe-4054-b9d7-a3b0125d9adf",
   "metadata": {},
   "outputs": [
    {
     "data": {
      "text/plain": [
       "[True, False]"
      ]
     },
     "execution_count": 99,
     "metadata": {},
     "output_type": "execute_result"
    }
   ],
   "source": [
    "l1"
   ]
  },
  {
   "cell_type": "code",
   "execution_count": 101,
   "id": "ade51d8f-8719-4e84-8498-27d9f5d6500e",
   "metadata": {},
   "outputs": [
    {
     "data": {
      "text/plain": [
       "[1, 2, 'aimnxt', 'datascience', 13.5, 12.7, True, False]"
      ]
     },
     "execution_count": 101,
     "metadata": {},
     "output_type": "execute_result"
    }
   ],
   "source": [
    "l"
   ]
  },
  {
   "cell_type": "code",
   "execution_count": 103,
   "id": "9005160c-b486-4fcc-a3ec-f3461a0e7b1c",
   "metadata": {},
   "outputs": [
    {
     "name": "stdout",
     "output_type": "stream",
     "text": [
      "1\n",
      "2\n",
      "aimnxt\n",
      "datascience\n",
      "13.5\n",
      "12.7\n",
      "True\n",
      "False\n"
     ]
    }
   ],
   "source": [
    "for i in l:\n",
    "    print(i)"
   ]
  },
  {
   "cell_type": "code",
   "execution_count": 105,
   "id": "d8d8a8eb-a822-41ef-91e5-f5c55c6e662e",
   "metadata": {},
   "outputs": [
    {
     "name": "stdout",
     "output_type": "stream",
     "text": [
      "1\n",
      "2\n",
      "aimnxt\n"
     ]
    }
   ],
   "source": [
    "for i in l:\n",
    "    if i==\"datascience\":\n",
    "        break\n",
    "    print(i)"
   ]
  },
  {
   "cell_type": "code",
   "execution_count": null,
   "id": "924331b2-29c8-4bb1-99ed-a06218740b85",
   "metadata": {},
   "outputs": [],
   "source": []
  },
  {
   "cell_type": "code",
   "execution_count": null,
   "id": "0b032360-4d41-42ad-919d-d38178f892fa",
   "metadata": {},
   "outputs": [],
   "source": []
  },
  {
   "cell_type": "code",
   "execution_count": 122,
   "id": "eb744426",
   "metadata": {},
   "outputs": [
    {
     "name": "stdout",
     "output_type": "stream",
     "text": [
      "aimnxt     \n",
      "\n",
      "aimnxt     aimnxt     \n",
      "\n",
      "aimnxt     aimnxt     aimnxt     \n",
      "\n",
      "aimnxt     aimnxt     aimnxt     aimnxt     \n",
      "\n"
     ]
    }
   ],
   "source": [
    "n = 4 \n",
    "for i in range(4) :     ## outer loop\n",
    "    for j in range(0 ,i+1) :  ### Inner loop\n",
    "        print(\"aimnxt\" , end = \"     \")\n",
    "    print(\"\\n\")\n",
    "\n",
    "# Explanation:\n",
    "# How the inner loop behaves per row:\n",
    "\n",
    "# When i = 0, range(0, 0 + 1) → Inner loop runs 1 time.\n",
    "# When i = 1, range(0, 1 + 1) → Inner loop runs 2 times.\n",
    "# When i = 2, range(0, 2 + 1) → Inner loop runs 3 times.\n",
    "# When i = 3, range(0, 3 + 1) → Inner loop runs 4 times."
   ]
  },
  {
   "cell_type": "code",
   "execution_count": 41,
   "id": "4fc7674c-70f6-4bdd-a44a-dcf95b27a87f",
   "metadata": {},
   "outputs": [
    {
     "name": "stdout",
     "output_type": "stream",
     "text": [
      "        sudh \n",
      "    sudh sudh sudh \n",
      "sudh sudh sudh sudh sudh \n"
     ]
    }
   ],
   "source": [
    "n = 3\n",
    "for i in range(n):\n",
    "    # Print spaces for alignment\n",
    "    print(\" \" * (n - i - 1) * len(\"aimnxt\"), end=\"\")\n",
    "    \n",
    "    # Print 'sudh' for the pyramid\n",
    "    print(\"sudh \" * (2 * i + 1))\n",
    "\n",
    "# Explanation:\n",
    "# print(\" \" * (n - i - 1) * len(\"sudh\"), end=\"\")\n",
    "\n",
    "# This prints the required spaces to align \"sudh\" in the pyramid shape.\n",
    "# (n - i - 1) determines the number of spaces before the first \"sudh\" in the current row.\n",
    "# len(\"sudh\") ensures that the spacing matches the width of the word \"sudh\".\n",
    "# print(\"sudh \" * (2 * i + 1))\n",
    "\n",
    "# This prints the word \"sudh\" repeated (2 * i + 1) times for each row.\n",
    "# The count (2 * i + 1) generates the pyramid structure:\n",
    "# Row 1: 1 \"sudh\"\n",
    "# Row 2: 3 \"sudh\"\n",
    "# Row 3: 5 \"sudh\"\n"
   ]
  },
  {
   "cell_type": "code",
   "execution_count": 41,
   "id": "6d5e1b53",
   "metadata": {},
   "outputs": [
    {
     "name": "stdout",
     "output_type": "stream",
     "text": [
      "          sudh \n",
      "     sudh sudh sudh \n",
      "sudh sudh sudh sudh sudh \n"
     ]
    }
   ],
   "source": [
    "n=3\n",
    "for i in range(n):\n",
    "    for j in range(i,n-1):\n",
    "        print(\" \" * len(\"sudh\"),end=\" \")\n",
    "    for j in range(i+1):\n",
    "        print(\"sudh\",end=\" \")\n",
    "    for j in range(i): \n",
    "        print(\"sudh\",end=\" \")\n",
    "    print()\n",
    "\n",
    "#    Explanation:\n",
    "# n = 3\n",
    "\n",
    "# n represents the number of rows the pattern will have (in this case, 3).\n",
    "# Outer Loop: for i in range(n):\n",
    "\n",
    "# The outer loop iterates over the rows of the pattern.\n",
    "# i represents the current row index, starting from 0 to n - 1 (range(3) gives [0, 1, 2]).\n",
    "# Inner Loops:\n",
    "# 1. First Inner Loop: for j in range(i, n - 1):\n",
    "# This loop prints spaces to align the pattern.\n",
    "# range(i, n - 1) ensures that spaces decrease as i (the row index) increases.\n",
    "# \" \" * len(\"sudh\") calculates the width of one \"sudh\" and creates a string of spaces with that length to maintain proper alignment.\n",
    "# For i = 0, it prints spaces for columns 0, 1.\n",
    "# For i = 1, it prints spaces for column 1.\n",
    "# For i = 2, it doesn't print any spaces.\n",
    "# 2. Second Inner Loop: for j in range(i + 1):\n",
    "# This loop prints the first part of \"sudh\" in the current row.\n",
    "# range(i + 1) means that as i increases, more instances of \"sudh\" are printed.\n",
    "# For i = 0, it prints \"sudh\" once.\n",
    "# For i = 1, it prints \"sudh\" twice.\n",
    "# For i = 2, it prints \"sudh\" three times.\n",
    "# 3. Third Inner Loop: for j in range(i):\n",
    "# This loop prints the second part of \"sudh\" in the current row to complete the pyramid structure.\n",
    "# range(i) means that for rows beyond the first, this loop adds additional \"sudh\" instances.\n",
    "# For i = 0, it doesn't print anything (no iterations).\n",
    "# For i = 1, it prints \"sudh\" once.\n",
    "# For i = 2, it prints \"sudh\" twice.\n",
    "# 4. print()\n",
    "# After finishing all inner loops for the current row, print() moves to the next line to start a new row.\n",
    "\n",
    "\n",
    "     \n",
    "# Row-by-Row Output:\n",
    "# Row 1 (i = 0):\n",
    "\n",
    "# Spaces: \" \" * len(\"sudh\") → 2 spaces (j = 0, 1).\n",
    "# \"sudh\": Printed once (j = 0).\n",
    "# Result: \" sudh\"\n",
    "# Row 2 (i = 1):\n",
    "\n",
    "# Spaces: \" \" * len(\"sudh\") → 1 space (j = 1).\n",
    "# \"sudh\": Printed twice (j = 0, 1 in second loop).\n",
    "# \"sudh\": Printed once (j = 0 in third loop).\n",
    "# Result: \" sudh sudh sudh\"\n",
    "# Row 3 (i = 2):\n",
    "\n",
    "# Spaces: None (no iterations of the first loop).\n",
    "# \"sudh\": Printed three times (j = 0, 1, 2 in second loop).\n",
    "# \"sudh\": Printed twice (j = 0, 1 in third loop).\n",
    "# Result: \"sudh sudh sudh sudh sudh\""
   ]
  },
  {
   "cell_type": "code",
   "execution_count": 42,
   "id": "539c7a4b",
   "metadata": {},
   "outputs": [
    {
     "name": "stdout",
     "output_type": "stream",
     "text": [
      "      sudh \n",
      "    sudh sudh \n",
      "  sudh sudh sudh \n",
      "sudh sudh sudh sudh \n"
     ]
    }
   ],
   "source": [
    "n=4\n",
    "k=n\n",
    "for i in range(n):\n",
    "    k=k-1\n",
    "    print('  '*k, end='')\n",
    "    for j in range(i+1):\n",
    "        print('aimnxt ', end= '')\n",
    "    print()\n"
   ]
  },
  {
   "cell_type": "code",
   "execution_count": 46,
   "id": "5cce0196",
   "metadata": {},
   "outputs": [
    {
     "name": "stdout",
     "output_type": "stream",
     "text": [
      "   \n",
      "  sudh \n",
      " sudh sudh \n",
      "sudh sudh sudh \n"
     ]
    }
   ],
   "source": [
    "n = 3\n",
    "\n",
    "for i in range(n+1):\n",
    "    print(' '*(n-i) + 'aimnxt '*i)\n"
   ]
  },
  {
   "cell_type": "code",
   "execution_count": 49,
   "id": "1965a936",
   "metadata": {},
   "outputs": [
    {
     "data": {
      "text/plain": [
       "[]"
      ]
     },
     "execution_count": 49,
     "metadata": {},
     "output_type": "execute_result"
    }
   ],
   "source": [
    "list(range(0))"
   ]
  },
  {
   "cell_type": "code",
   "execution_count": 50,
   "id": "ae20e482",
   "metadata": {},
   "outputs": [],
   "source": [
    "t = (3,23,45,67,2,4,5,6)"
   ]
  },
  {
   "cell_type": "code",
   "execution_count": 55,
   "id": "fa3a7dd7",
   "metadata": {},
   "outputs": [
    {
     "data": {
      "text/plain": [
       "3"
      ]
     },
     "execution_count": 55,
     "metadata": {},
     "output_type": "execute_result"
    }
   ],
   "source": [
    "t[0]"
   ]
  },
  {
   "cell_type": "code",
   "execution_count": 57,
   "id": "787cc580",
   "metadata": {},
   "outputs": [
    {
     "name": "stdout",
     "output_type": "stream",
     "text": [
      "0 3\n",
      "1 23\n",
      "2 45\n",
      "3 67\n",
      "4 2\n",
      "5 4\n",
      "6 5\n",
      "7 6\n"
     ]
    }
   ],
   "source": [
    "for i in range(len(t)):\n",
    "    print(i,t[i])"
   ]
  },
  {
   "cell_type": "code",
   "execution_count": 54,
   "id": "d945f1c1",
   "metadata": {},
   "outputs": [
    {
     "data": {
      "text/plain": [
       "[0, 1, 2, 3, 4, 5, 6, 7]"
      ]
     },
     "execution_count": 54,
     "metadata": {},
     "output_type": "execute_result"
    }
   ],
   "source": [
    "list(range(len(t)))"
   ]
  },
  {
   "cell_type": "code",
   "execution_count": 130,
   "id": "f03784cb",
   "metadata": {},
   "outputs": [
    {
     "name": "stdout",
     "output_type": "stream",
     "text": [
      "0 a\n",
      "1 i\n",
      "2 m\n",
      "3 n\n",
      "4 x\n",
      "5 t\n"
     ]
    }
   ],
   "source": [
    "s = \"aimnxt\"\n",
    "for i in range(len(s)) : \n",
    "    print(i , s[i])"
   ]
  },
  {
   "cell_type": "code",
   "execution_count": 132,
   "id": "a3373360",
   "metadata": {},
   "outputs": [
    {
     "data": {
      "text/plain": [
       "'aimnxt'"
      ]
     },
     "execution_count": 132,
     "metadata": {},
     "output_type": "execute_result"
    }
   ],
   "source": [
    "s "
   ]
  },
  {
   "cell_type": "code",
   "execution_count": null,
   "id": "b944581d-5bca-488d-9a0d-8c9883d789df",
   "metadata": {},
   "outputs": [],
   "source": []
  },
  {
   "cell_type": "code",
   "execution_count": 134,
   "id": "6ae8b2bf-14ae-4220-94a8-b2da508383d8",
   "metadata": {},
   "outputs": [
    {
     "name": "stdout",
     "output_type": "stream",
     "text": [
      "5 t\n",
      "4 x\n",
      "3 n\n",
      "2 m\n",
      "1 i\n",
      "0 a\n"
     ]
    }
   ],
   "source": [
    "for i in range(len(s)-1, -1, -1):\n",
    "    print(i , s[i])"
   ]
  },
  {
   "cell_type": "raw",
   "id": "f2e7d3e4-7994-46f4-b48d-c93570e74a26",
   "metadata": {},
   "source": [
    "explanation:\n",
    "\n",
    "len(s) - 1:\n",
    "\n",
    "len(s) gives the total number of elements in the sequence s.\n",
    "len(s) - 1 is the index of the last element in s because indexing in Python starts at 0.\n",
    "range(len(s)-1, -1, -1):\n",
    "\n",
    "The range function generates a sequence of numbers:\n",
    "Starts from len(s)-1 (the last index of s).\n",
    "Ends at -1 (not inclusive), which ensures the loop stops when it reaches 0 (the first index).\n",
    "Steps by -1, meaning the iteration moves backwards (reverse order).\n",
    "for i in range(...):\n",
    "\n",
    "i takes on each index of s, starting from the last index and ending at the first.\n",
    "print(i, s[i]):\n",
    "\n",
    "Prints the current index i and the corresponding element s[i]."
   ]
  },
  {
   "cell_type": "code",
   "execution_count": 70,
   "id": "07908b6b",
   "metadata": {},
   "outputs": [
    {
     "data": {
      "text/plain": [
       "{'key1': 'sudh', 'contact': 'sudhanshu@ineuron.ai', 'position': 'xyz'}"
      ]
     },
     "execution_count": 70,
     "metadata": {},
     "output_type": "execute_result"
    }
   ],
   "source": [
    "d"
   ]
  },
  {
   "cell_type": "code",
   "execution_count": 74,
   "id": "1a11f6a0",
   "metadata": {},
   "outputs": [
    {
     "name": "stdout",
     "output_type": "stream",
     "text": [
      "('key1', 'sudh') <class 'tuple'> <class 'str'>\n",
      "('contact', 'sudhanshu@ineuron.ai') <class 'tuple'> <class 'str'>\n",
      "('position', 'xyz') <class 'tuple'> <class 'str'>\n"
     ]
    }
   ],
   "source": [
    "for i in d.items():\n",
    "    print(i , type(i) , type(i[1]))"
   ]
  },
  {
   "cell_type": "code",
   "execution_count": 140,
   "id": "27105750",
   "metadata": {},
   "outputs": [],
   "source": [
    "l = [\"aimnxt\" , \"datascience\" , 3234545 , \"datascience@aimnxt.ai\" , 345, 34345353]\n",
    "l1 = []\n",
    "for i in l :\n",
    "    if type(i) == str :\n",
    "        l1.append(i)"
   ]
  },
  {
   "cell_type": "code",
   "execution_count": 142,
   "id": "b4ac33cc",
   "metadata": {},
   "outputs": [
    {
     "data": {
      "text/plain": [
       "['aimnxt', 'datascience', 'datascience@aimnxt.ai']"
      ]
     },
     "execution_count": 142,
     "metadata": {},
     "output_type": "execute_result"
    }
   ],
   "source": [
    "l1"
   ]
  },
  {
   "cell_type": "code",
   "execution_count": 77,
   "id": "bf54b65b",
   "metadata": {},
   "outputs": [],
   "source": [
    " d = {1: 3345345  , \"name\" : \"aimnxt\" , \"email_id\" : \"datascience@aimnxt.ai\" , 234 : \"abcdef\" , \"43\" : \"sfsaf\" , 234 : \"3454\"}"
   ]
  },
  {
   "cell_type": "code",
   "execution_count": 79,
   "id": "c502d0ca",
   "metadata": {},
   "outputs": [
    {
     "name": "stdout",
     "output_type": "stream",
     "text": [
      "1 : 3345345\n",
      "234 : 3454\n"
     ]
    }
   ],
   "source": [
    "for i in d :\n",
    "    if type(i) == int :\n",
    "        print(i , \":\"  , d[i])"
   ]
  },
  {
   "cell_type": "code",
   "execution_count": 145,
   "id": "bc5be456",
   "metadata": {},
   "outputs": [],
   "source": [
    "s = \"aaaabbccd\""
   ]
  },
  {
   "cell_type": "code",
   "execution_count": 147,
   "id": "b62dc9a2",
   "metadata": {},
   "outputs": [
    {
     "name": "stdout",
     "output_type": "stream",
     "text": [
      "b : 2\n",
      "d : 1\n",
      "a : 4\n",
      "c : 2\n"
     ]
    }
   ],
   "source": [
    "for i in set(s):\n",
    "    print(i  , \":\" , s.count(i))    "
   ]
  },
  {
   "cell_type": "code",
   "execution_count": 82,
   "id": "c2546bb9",
   "metadata": {},
   "outputs": [
    {
     "data": {
      "text/plain": [
       "4"
      ]
     },
     "execution_count": 82,
     "metadata": {},
     "output_type": "execute_result"
    }
   ],
   "source": [
    "s.count('a')"
   ]
  },
  {
   "cell_type": "code",
   "execution_count": 89,
   "id": "35375dc5",
   "metadata": {},
   "outputs": [
    {
     "name": "stdout",
     "output_type": "stream",
     "text": [
      "3 <class 'int'>\n",
      "4 <class 'int'>\n",
      "5 <class 'int'>\n",
      "3 <class 'int'>\n",
      "4 <class 'int'>\n",
      "6 <class 'int'>\n",
      "5 <class 'int'>\n",
      "4 <class 'int'>\n",
      "6 <class 'int'>\n",
      "4 <class 'int'>\n",
      "6 <class 'int'>\n",
      "4 <class 'int'>\n",
      "3 <class 'int'>\n",
      "5 <class 'int'>\n"
     ]
    }
   ],
   "source": [
    "i = 34534654646435\n",
    "for j in str(i) :\n",
    "    print(int(j ), type(int(j)))"
   ]
  },
  {
   "cell_type": "code",
   "execution_count": 85,
   "id": "1a78889b",
   "metadata": {},
   "outputs": [
    {
     "data": {
      "text/plain": [
       "'34534654646435'"
      ]
     },
     "execution_count": 85,
     "metadata": {},
     "output_type": "execute_result"
    }
   ],
   "source": [
    "str(i)"
   ]
  },
  {
   "cell_type": "code",
   "execution_count": 98,
   "id": "b7c07cb6",
   "metadata": {},
   "outputs": [],
   "source": [
    "t = (\"aimnxt\" , \"datascience\" ,[1,2,3,4,5] , (3,4,5,6) , {3:3 , \"key2\" :\"aimnxt\"})"
   ]
  },
  {
   "cell_type": "code",
   "execution_count": 127,
   "id": "ee62969e",
   "metadata": {},
   "outputs": [],
   "source": [
    "t=(\"aimnxt\",\"datascience\",[1,3,5,7,4],(3,5,88,4),{3:3,3:\"kjshdf\",\"key1\":\"sudh\",\"key2\":\"kumar\"})"
   ]
  },
  {
   "cell_type": "code",
   "execution_count": 128,
   "id": "3d9496f8",
   "metadata": {},
   "outputs": [
    {
     "name": "stdout",
     "output_type": "stream",
     "text": [
      "3\n",
      "3\n",
      "3\n",
      "kjshdf\n"
     ]
    }
   ],
   "source": [
    "for i in t :\n",
    "    if type(i) == list or type(i) == tuple :\n",
    "        for j in i :\n",
    "            if j == 3 :\n",
    "                print(j)\n",
    "    if type(i) == dict :\n",
    "        for k,v  in i.items():\n",
    "            if k == 3 or v == 3 :\n",
    "                print(k)\n",
    "                print(v)\n",
    "        "
   ]
  },
  {
   "cell_type": "code",
   "execution_count": 134,
   "id": "76b278bf",
   "metadata": {},
   "outputs": [],
   "source": [
    "d = {4:5 , \"key1\" : \"sudh\" , \"key2\" : \"kumar\"}"
   ]
  },
  {
   "cell_type": "code",
   "execution_count": 135,
   "id": "0955b52c",
   "metadata": {},
   "outputs": [
    {
     "data": {
      "text/plain": [
       "dict_items([(4, 5), ('key1', 'sudh'), ('key2', 'kumar')])"
      ]
     },
     "execution_count": 135,
     "metadata": {},
     "output_type": "execute_result"
    }
   ],
   "source": [
    "d.items()"
   ]
  },
  {
   "cell_type": "code",
   "execution_count": 137,
   "id": "b54881ee",
   "metadata": {},
   "outputs": [
    {
     "name": "stdout",
     "output_type": "stream",
     "text": [
      "(4, 5)\n",
      "('key1', 'sudh')\n",
      "('key2', 'kumar')\n"
     ]
    }
   ],
   "source": [
    "for i in d.items():\n",
    "    print(i)"
   ]
  },
  {
   "cell_type": "code",
   "execution_count": 105,
   "id": "4f78888b",
   "metadata": {},
   "outputs": [
    {
     "data": {
      "text/plain": [
       "dict_items([(4, 5), ('key1', 'sudh'), ('key2', 'kumar')])"
      ]
     },
     "execution_count": 105,
     "metadata": {},
     "output_type": "execute_result"
    }
   ],
   "source": [
    "d.items()"
   ]
  },
  {
   "cell_type": "code",
   "execution_count": 107,
   "id": "99091377",
   "metadata": {},
   "outputs": [],
   "source": [
    "a = 10 \n",
    "b = 20\n",
    "c = 30 "
   ]
  },
  {
   "cell_type": "code",
   "execution_count": 108,
   "id": "b1a6b6ca",
   "metadata": {},
   "outputs": [],
   "source": [
    "a , b , c = 10 , 20 , 30 "
   ]
  },
  {
   "cell_type": "code",
   "execution_count": 109,
   "id": "41ab2383",
   "metadata": {},
   "outputs": [],
   "source": [
    "a,b,c = (10,20,30)"
   ]
  },
  {
   "cell_type": "code",
   "execution_count": 113,
   "id": "db438917",
   "metadata": {},
   "outputs": [
    {
     "ename": "IndentationError",
     "evalue": "unindent does not match any outer indentation level (<tokenize>, line 10)",
     "output_type": "error",
     "traceback": [
      "\u001b[1;36m  File \u001b[1;32m\"<tokenize>\"\u001b[1;36m, line \u001b[1;32m10\u001b[0m\n\u001b[1;33m    ineruon      ineruon\u001b[0m\n\u001b[1;37m    ^\u001b[0m\n\u001b[1;31mIndentationError\u001b[0m\u001b[1;31m:\u001b[0m unindent does not match any outer indentation level\n"
     ]
    }
   ],
   "source": [
    "q1 :\n",
    "ineruon \n",
    "ineruon ineruon \n",
    "ineruon ineruon ineruon\n",
    "ineruon ineruon ineruon ineruon\n",
    "\n",
    "q2 - \n",
    "\n",
    "          ineruon\n",
    "    ineruon      ineruon\n",
    "ineruon\t\tineruon \tineruon\n",
    "\tineruon\t\t ineruon\n",
    "\t\t  ineruon\n",
    "\n",
    "l = [[1,2,3,4] , (2,3,4,5,6) , (3,4,5,6,7) , set([23,4,5,45,4,4,5,45,45,4,5]) , {'k1' :\"sudh\" , \"k2\" : \"ineuron\",\"k3\":\n",
    "            \"kumar\" , 3:6 , 7:8} , [\"ineuron\" , \"data science \"]]\n",
    "\n",
    "q3 : Try to extract all the list entity \n",
    "q4 : Try to extract all the dict enteties\n",
    "q5 : Try to extract all the tuples entities\n",
    "q6 : Try to extract all the numerical data it may b a part of dict key and values \n",
    "q7 : Try to give summation of all the numeric data \n",
    "q8 : Try to filter out all the odd values out all numeric data which is a part of a list \n",
    "q9 : Try to extract \"ineruon\" out of this data\n",
    "q10 :Try to find out a number of occurances of all the data \n",
    "q11 : Try to find out number of keys in dict element\n",
    "q12 : Try to filter out all the string data \n",
    "q13 : Try to Find  out alphanum in data\n",
    "q14 : Try to find out multiplication of all numeric value in  the individual collection inside dataset \n",
    "q15 : Try to unwrape all the collection inside collection and create a flat list \n",
    "    "
   ]
  },
  {
   "cell_type": "code",
   "execution_count": 80,
   "id": "ca866355",
   "metadata": {},
   "outputs": [
    {
     "data": {
      "text/plain": [
       "([6, 5, 4, 3, 2, 1, 0], 'aimnxt')"
      ]
     },
     "execution_count": 80,
     "metadata": {},
     "output_type": "execute_result"
    }
   ],
   "source": [
    "l = list(range(6,-1,-1))\n",
    "s = 'aimnxt'\n",
    "t = (l,s)\n",
    "\n",
    "t"
   ]
  },
  {
   "cell_type": "code",
   "execution_count": 84,
   "id": "18fc6daf",
   "metadata": {},
   "outputs": [
    {
     "data": {
      "text/plain": [
       "{'key1': 'aimnxt', 'contact': 'abc@aimnxt.in', 'position': 'xyz'}"
      ]
     },
     "execution_count": 84,
     "metadata": {},
     "output_type": "execute_result"
    }
   ],
   "source": [
    "d"
   ]
  },
  {
   "cell_type": "code",
   "execution_count": 86,
   "id": "c3937a50",
   "metadata": {},
   "outputs": [
    {
     "data": {
      "text/plain": [
       "dict_items([('key1', 'aimnxt'), ('contact', 'abc@aimnxt.in'), ('position', 'xyz')])"
      ]
     },
     "execution_count": 86,
     "metadata": {},
     "output_type": "execute_result"
    }
   ],
   "source": [
    "d.items()"
   ]
  },
  {
   "cell_type": "code",
   "execution_count": 88,
   "id": "46d04ef0",
   "metadata": {},
   "outputs": [
    {
     "name": "stdout",
     "output_type": "stream",
     "text": [
      "[3, 3] [3]\n"
     ]
    }
   ],
   "source": [
    "i = j = [3]\n",
    "i = [3] + [3]\n",
    "print(i,j)"
   ]
  },
  {
   "cell_type": "code",
   "execution_count": null,
   "id": "78d03c6f-5d60-4308-85ff-377da7d1d33c",
   "metadata": {},
   "outputs": [],
   "source": []
  },
  {
   "cell_type": "code",
   "execution_count": null,
   "id": "b26c7498-137c-44b3-a00f-89f783b38ec3",
   "metadata": {},
   "outputs": [],
   "source": []
  },
  {
   "cell_type": "code",
   "execution_count": 1,
   "id": "5c69c1d3-75ce-4fe6-a53e-58d3fce1c2d2",
   "metadata": {},
   "outputs": [
    {
     "name": "stdout",
     "output_type": "stream",
     "text": [
      "0 a\n",
      "1 i\n",
      "2 m\n",
      "3 n\n",
      "4 n\n",
      "5 t\n",
      "6 d\n",
      "7 a\n",
      "8 t\n",
      "9 a\n",
      "10 s\n",
      "11 c\n",
      "12 i\n",
      "13 e\n",
      "14 n\n",
      "15 c\n",
      "16 e\n"
     ]
    }
   ],
   "source": [
    "s = \"aimnntdatascience\"\n",
    "\n",
    "for i in range(len(s)):\n",
    "    print(i, s[i])\n"
   ]
  },
  {
   "cell_type": "code",
   "execution_count": 3,
   "id": "cd1c4931-34f6-42c1-9e8b-7d5c97d2a6fb",
   "metadata": {},
   "outputs": [
    {
     "name": "stdout",
     "output_type": "stream",
     "text": [
      "16 e\n",
      "15 c\n",
      "14 n\n",
      "13 e\n",
      "12 i\n",
      "11 c\n",
      "10 s\n",
      "9 a\n",
      "8 t\n",
      "7 a\n",
      "6 d\n",
      "5 t\n",
      "4 n\n",
      "3 n\n",
      "2 m\n",
      "1 i\n",
      "0 a\n"
     ]
    }
   ],
   "source": [
    "for i in range(len(s)-1, -1,-1):\n",
    "    print(i, s[i])"
   ]
  },
  {
   "cell_type": "code",
   "execution_count": 9,
   "id": "97c0fae9-e46a-42b9-85cd-85c16d0cf660",
   "metadata": {},
   "outputs": [
    {
     "name": "stdout",
     "output_type": "stream",
     "text": [
      "a : 3\n",
      "c : 2\n",
      "e : 2\n",
      "m : 1\n",
      "s : 1\n",
      "i : 2\n",
      "t : 2\n",
      "n : 3\n",
      "d : 1\n"
     ]
    }
   ],
   "source": [
    "for i in set(s):\n",
    "    print(i, \":\" , s.count(i))"
   ]
  },
  {
   "cell_type": "code",
   "execution_count": null,
   "id": "7d118af0-55b6-4625-94fc-010d1701e5db",
   "metadata": {},
   "outputs": [],
   "source": []
  },
  {
   "cell_type": "code",
   "execution_count": 11,
   "id": "91e56cff",
   "metadata": {},
   "outputs": [
    {
     "name": "stdout",
     "output_type": "stream",
     "text": [
      "{'for', 'tips', 'beginners', 'coding', 'python'}\n"
     ]
    },
    {
     "data": {
      "text/plain": [
       "'for tips beginners coding python'"
      ]
     },
     "execution_count": 11,
     "metadata": {},
     "output_type": "execute_result"
    }
   ],
   "source": [
    "set = {\"python\", \"coding\", \"tips\", \"for\", \"beginners\"}\n",
    "\n",
    "print(set)\n",
    "\n",
    "' '.join(set)"
   ]
  },
  {
   "cell_type": "code",
   "execution_count": 13,
   "id": "691847f4",
   "metadata": {},
   "outputs": [
    {
     "name": "stdout",
     "output_type": "stream",
     "text": [
      "('python', 'coding', 'tips', 'for', 'beginners')\n"
     ]
    },
    {
     "data": {
      "text/plain": [
       "'python coding tips for beginners'"
      ]
     },
     "execution_count": 13,
     "metadata": {},
     "output_type": "execute_result"
    }
   ],
   "source": [
    "tuple = (\"python\", \"coding\", \"tips\", \"for\", \"beginners\")\n",
    "\n",
    "print(tuple)\n",
    "\n",
    "' '.join(tuple)"
   ]
  },
  {
   "cell_type": "code",
   "execution_count": null,
   "id": "b8582ff4-5ef7-4d4c-aad9-baae0e6d7eb3",
   "metadata": {},
   "outputs": [],
   "source": []
  },
  {
   "cell_type": "code",
   "execution_count": 15,
   "id": "bd8d1a9c",
   "metadata": {},
   "outputs": [
    {
     "name": "stdout",
     "output_type": "stream",
     "text": [
      "{'p': 'y', 't': 'h', 'o': 'n'}\n"
     ]
    }
   ],
   "source": [
    "print(dict((\"py\", \"th\", \"on\")))"
   ]
  },
  {
   "cell_type": "code",
   "execution_count": 17,
   "id": "96a4d0b7-cc74-43d5-b568-de90bb91f0ae",
   "metadata": {},
   "outputs": [
    {
     "name": "stdout",
     "output_type": "stream",
     "text": [
      "{'a': '1', 'b': '2', 'c': '3'}\n"
     ]
    }
   ],
   "source": [
    "print(dict((\"a1\", \"b2\", \"c3\")))"
   ]
  },
  {
   "cell_type": "code",
   "execution_count": null,
   "id": "38c2e9a5-4e2b-48f0-a0b0-a5f5c4b9625c",
   "metadata": {},
   "outputs": [],
   "source": []
  },
  {
   "cell_type": "code",
   "execution_count": 160,
   "id": "1416dae1",
   "metadata": {},
   "outputs": [
    {
     "name": "stdout",
     "output_type": "stream",
     "text": [
      "          * \n",
      "        * * * \n",
      "      * * * * * \n",
      "    * * * * * * * \n",
      "  * * * * * * * * * \n",
      "    * * * * * * * \n",
      "      * * * * * \n",
      "        * * * \n",
      "          * \n"
     ]
    }
   ],
   "source": [
    "n=5\n",
    "for i in range(n-1):\n",
    "    for j in range(i,n):\n",
    "        print(\" \",end=\" \")\n",
    "    for j in range(i):\n",
    "        print(\"*\",end=\" \")\n",
    "    for j in range(i+1):\n",
    "        print(\"*\",end=\" \")\n",
    "    print()\n",
    "for i in range(n):    \n",
    "    for j in range(i+1):\n",
    "        print(\" \",end=\" \")\n",
    "    for j in range(i,n-1):\n",
    "        print(\"*\",end=\" \")\n",
    "    for j in range(i,n):\n",
    "        print(\"*\",end=\" \")\n",
    "    print()\n"
   ]
  },
  {
   "cell_type": "code",
   "execution_count": 19,
   "id": "66aee2a0",
   "metadata": {},
   "outputs": [],
   "source": [
    "s = {1,1,1,11,1,1,4,4,4,4}"
   ]
  },
  {
   "cell_type": "code",
   "execution_count": 21,
   "id": "7f4b0cda-fdb0-46d5-8dee-940c9ec36009",
   "metadata": {},
   "outputs": [
    {
     "data": {
      "text/plain": [
       "{1, 4, 11}"
      ]
     },
     "execution_count": 21,
     "metadata": {},
     "output_type": "execute_result"
    }
   ],
   "source": [
    "s"
   ]
  },
  {
   "cell_type": "code",
   "execution_count": 23,
   "id": "b7a06dfe",
   "metadata": {},
   "outputs": [],
   "source": [
    "f = frozenset((1,2,2,3,34,4,4,4,4))"
   ]
  },
  {
   "cell_type": "code",
   "execution_count": 25,
   "id": "ef2be26a-2289-4c1c-9cd5-1fa5ddf20152",
   "metadata": {},
   "outputs": [
    {
     "data": {
      "text/plain": [
       "frozenset({1, 2, 3, 4, 34})"
      ]
     },
     "execution_count": 25,
     "metadata": {},
     "output_type": "execute_result"
    }
   ],
   "source": [
    "f"
   ]
  },
  {
   "cell_type": "code",
   "execution_count": 27,
   "id": "d81c4500",
   "metadata": {},
   "outputs": [],
   "source": [
    "s.add(3)"
   ]
  },
  {
   "cell_type": "code",
   "execution_count": 29,
   "id": "ad4cbfc4-d676-46da-af48-520bed2dda18",
   "metadata": {},
   "outputs": [
    {
     "data": {
      "text/plain": [
       "{1, 3, 4, 11}"
      ]
     },
     "execution_count": 29,
     "metadata": {},
     "output_type": "execute_result"
    }
   ],
   "source": [
    "s"
   ]
  },
  {
   "cell_type": "code",
   "execution_count": 32,
   "id": "3f391244",
   "metadata": {},
   "outputs": [],
   "source": [
    "l= [(3,4,5,6) , [2,4,5,5,6] , {'k1' : 'v1' , 'k2' :'v2'}]\n",
    "l1 = []"
   ]
  },
  {
   "cell_type": "code",
   "execution_count": 35,
   "id": "f2e26c2d",
   "metadata": {},
   "outputs": [],
   "source": [
    "for i in l :\n",
    "    if type(i) == list or type( i )== tuple :\n",
    "        for j in i :\n",
    "            l1.append(j)\n",
    "    if type(i) == dict :\n",
    "        for k in i.items():\n",
    "            for m in k :\n",
    "                l1.append(m)    "
   ]
  },
  {
   "cell_type": "code",
   "execution_count": 34,
   "id": "47b4e893",
   "metadata": {},
   "outputs": [
    {
     "data": {
      "text/plain": [
       "[3, 4, 5, 6, 2, 4, 5, 5, 6, 'k1', 'v1', 'k2', 'v2']"
      ]
     },
     "execution_count": 34,
     "metadata": {},
     "output_type": "execute_result"
    }
   ],
   "source": [
    "l1"
   ]
  },
  {
   "cell_type": "code",
   "execution_count": 33,
   "id": "c2d2c091",
   "metadata": {},
   "outputs": [
    {
     "name": "stdin",
     "output_type": "stream",
     "text": [
      "Type 1 for monthly calendar or Type 2 for yearly calendar 2\n",
      "Enter the Year:  2024\n"
     ]
    },
    {
     "name": "stdout",
     "output_type": "stream",
     "text": [
      "    January 2024\n",
      "Mo Tu We Th Fr Sa Su\n",
      " 1  2  3  4  5  6  7\n",
      " 8  9 10 11 12 13 14\n",
      "15 16 17 18 19 20 21\n",
      "22 23 24 25 26 27 28\n",
      "29 30 31\n",
      "\n",
      "   February 2024\n",
      "Mo Tu We Th Fr Sa Su\n",
      "          1  2  3  4\n",
      " 5  6  7  8  9 10 11\n",
      "12 13 14 15 16 17 18\n",
      "19 20 21 22 23 24 25\n",
      "26 27 28 29\n",
      "\n",
      "     March 2024\n",
      "Mo Tu We Th Fr Sa Su\n",
      "             1  2  3\n",
      " 4  5  6  7  8  9 10\n",
      "11 12 13 14 15 16 17\n",
      "18 19 20 21 22 23 24\n",
      "25 26 27 28 29 30 31\n",
      "\n",
      "     April 2024\n",
      "Mo Tu We Th Fr Sa Su\n",
      " 1  2  3  4  5  6  7\n",
      " 8  9 10 11 12 13 14\n",
      "15 16 17 18 19 20 21\n",
      "22 23 24 25 26 27 28\n",
      "29 30\n",
      "\n",
      "      May 2024\n",
      "Mo Tu We Th Fr Sa Su\n",
      "       1  2  3  4  5\n",
      " 6  7  8  9 10 11 12\n",
      "13 14 15 16 17 18 19\n",
      "20 21 22 23 24 25 26\n",
      "27 28 29 30 31\n",
      "\n",
      "     June 2024\n",
      "Mo Tu We Th Fr Sa Su\n",
      "                1  2\n",
      " 3  4  5  6  7  8  9\n",
      "10 11 12 13 14 15 16\n",
      "17 18 19 20 21 22 23\n",
      "24 25 26 27 28 29 30\n",
      "\n",
      "     July 2024\n",
      "Mo Tu We Th Fr Sa Su\n",
      " 1  2  3  4  5  6  7\n",
      " 8  9 10 11 12 13 14\n",
      "15 16 17 18 19 20 21\n",
      "22 23 24 25 26 27 28\n",
      "29 30 31\n",
      "\n",
      "    August 2024\n",
      "Mo Tu We Th Fr Sa Su\n",
      "          1  2  3  4\n",
      " 5  6  7  8  9 10 11\n",
      "12 13 14 15 16 17 18\n",
      "19 20 21 22 23 24 25\n",
      "26 27 28 29 30 31\n",
      "\n",
      "   September 2024\n",
      "Mo Tu We Th Fr Sa Su\n",
      "                   1\n",
      " 2  3  4  5  6  7  8\n",
      " 9 10 11 12 13 14 15\n",
      "16 17 18 19 20 21 22\n",
      "23 24 25 26 27 28 29\n",
      "30\n",
      "\n",
      "    October 2024\n",
      "Mo Tu We Th Fr Sa Su\n",
      "    1  2  3  4  5  6\n",
      " 7  8  9 10 11 12 13\n",
      "14 15 16 17 18 19 20\n",
      "21 22 23 24 25 26 27\n",
      "28 29 30 31\n",
      "\n",
      "   November 2024\n",
      "Mo Tu We Th Fr Sa Su\n",
      "             1  2  3\n",
      " 4  5  6  7  8  9 10\n",
      "11 12 13 14 15 16 17\n",
      "18 19 20 21 22 23 24\n",
      "25 26 27 28 29 30\n",
      "\n",
      "   December 2024\n",
      "Mo Tu We Th Fr Sa Su\n",
      "                   1\n",
      " 2  3  4  5  6  7  8\n",
      " 9 10 11 12 13 14 15\n",
      "16 17 18 19 20 21 22\n",
      "23 24 25 26 27 28 29\n",
      "30 31\n",
      "\n"
     ]
    }
   ],
   "source": [
    "#3. Write a Python program to display calendar?\n",
    "\n",
    "import calendar\n",
    "n=int(input('Type 1 for monthly calendar or Type 2 for yearly calendar'))\n",
    "\n",
    "if n==1 :\n",
    "    yy=int(input('Enter the Year: '))\n",
    "    mm=int(input('Enter the month number: '))\n",
    "    print(calendar.month(yy,mm))\n",
    "elif n==2:\n",
    "    yy=int(input('Enter the Year: '))\n",
    "    for m in range(1,13):\n",
    "        print(calendar.month(yy,m))"
   ]
  },
  {
   "cell_type": "code",
   "execution_count": null,
   "id": "2b286604-e038-4fbe-bdcd-1811d396e7c7",
   "metadata": {},
   "outputs": [],
   "source": []
  },
  {
   "cell_type": "raw",
   "id": "8a519604-9714-4036-8f07-5821b530d0ee",
   "metadata": {},
   "source": [
    "Assignment:\n",
    "\n",
    "1. Filter Floats from a List\n",
    "Write a program that extracts all the floating-point numbers from a list containing mixed data types. The program should create a new list containing only the floats.\n",
    "\n",
    "Example Input:\n",
    "l = [12.5, 45, \"hello\", 23.0, 56.78, 90, \"world\"]\n",
    "\n",
    "Expected Output:\n",
    "\n",
    "[12.5, 23.0, 56.78]\n",
    "\n",
    "2. Filter Strings from a List\n",
    "Write a program to extract all the string elements from a mixed list and store them in a new list.\n",
    "\n",
    "Example Input:\n",
    "\n",
    "l = [1, \"Python\", 3.14, \"Coding\", 42, \"AI\"]\n",
    "Expected Output:\n",
    "\n",
    "[\"Python\", \"Coding\", \"AI\"]\n",
    "    \n",
    "3. Filter Non-Integers from a List\n",
    "Write a program to create a new list that contains all elements from a given list except for integers.\n",
    "\n",
    "Example Input:\n",
    "l = [1, 2, 3, \"data\", 4.5, True, None]\n",
    "Expected Output:\n",
    "\n",
    "[\"data\", 4.5, True, None]\n",
    "\n",
    "4. Filter Boolean Values from a List\n",
    "Write a program to extract all the boolean values (True or False) from a mixed list.\n",
    "\n",
    "Example Input:\n",
    "l = [True, 42, \"yes\", False, 3.14, \"AI\"]\n",
    "\n",
    "Expected Output:\n",
    "\n",
    "[True, False]\n",
    "\n",
    "5. Filter Even Integers from a List\n",
    "Write a program that filters only the even integers from a mixed list and stores them in a new list.\n",
    "\n",
    "Example Input:\n",
    "l = [1, 2, 3, 4, 5, 6, \"even\", 7.8]\n",
    "    \n",
    "Expected Output:\n",
    "[2, 4, 6]\n",
    "    \n",
    "6. Filter Odd Integers from a List\n",
    "Write a program that extracts only the odd integers from a mixed list into a new list.\n",
    "\n",
    "Example Input:\n",
    "l = [10, 21, 32, 43, \"odd\", 54, 65]\n",
    "\n",
    "Expected Output:\n",
    "[21, 43, 65]\n",
    "\n",
    "7. Filter Elements of a Specific Length\n",
    "Write a program to filter all string elements with a length greater than 4 characters from a mixed list.\n",
    "\n",
    "Example Input:\n",
    "l = [\"apple\", \"AI\", 123, \"data\", \"hello\", 3.14]\n",
    "    \n",
    "Expected Output:\n",
    "\n",
    "[\"apple\", \"hello\"]\n",
    "    \n",
    "8. Filter None Values\n",
    "Write a program to remove all None values from a mixed list and store the remaining elements in a new list.\n",
    "\n",
    "Example Input:\n",
    "l = [1, None, \"Python\", None, 45.6, \"data\"]\n",
    "\n",
    "Expected Output:\n",
    "[1, \"Python\", 45.6, \"data\"]\n",
    "\n",
    "9. Filter Alphabetic Strings Only\n",
    "Write a program that extracts only alphabetic strings (strings without numbers or special characters) from a mixed list.\n",
    "\n",
    "Example Input:\n",
    "l = [\"AI\", \"Data123\", \"hello!\", \"world\", 42, \"Python3\"]\n",
    "\n",
    "Expected Output:\n",
    "[\"AI\", \"world\"]\n",
    "\n",
    "10. Filter Elements of Specific Data Type\n",
    "Write a program that asks the user to input a data type (e.g., int, float, str) and filters elements of that type from a given mixed list.\n",
    "\n",
    "Example Input:\n",
    "l = [1, 2.5, \"hello\", 3, 4.0, \"world\"]\n",
    "    \n",
    "Data type to filter: float\n",
    "\n",
    "Expected Output:\n",
    "\n",
    "[2.5, 4.0]"
   ]
  }
 ],
 "metadata": {
  "kernelspec": {
   "display_name": "Python [conda env:base] *",
   "language": "python",
   "name": "conda-base-py"
  },
  "language_info": {
   "codemirror_mode": {
    "name": "ipython",
    "version": 3
   },
   "file_extension": ".py",
   "mimetype": "text/x-python",
   "name": "python",
   "nbconvert_exporter": "python",
   "pygments_lexer": "ipython3",
   "version": "3.12.7"
  }
 },
 "nbformat": 4,
 "nbformat_minor": 5
}
