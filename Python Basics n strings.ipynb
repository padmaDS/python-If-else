{
 "cells": [
  {
   "cell_type": "markdown",
   "id": "fd227a6e-2b4d-4976-996e-cbf5a3e23def",
   "metadata": {},
   "source": [
    "# Python"
   ]
  },
  {
   "cell_type": "markdown",
   "id": "2609d624-2092-48bc-9c5c-d2e6b8f6d14a",
   "metadata": {},
   "source": [
    "### Why Python?\n",
    "\n",
    "Python is a popular programming language known for its simplicity, readability, and versatility. Its numerous benefits and features have gained widespread adoption in various fields. Some of the main reasons why Python is widely used are:\n",
    "1. Web Development\n",
    "2. Game Development\n",
    "3. Artificial Intelligence and Machine Learning"
   ]
  },
  {
   "cell_type": "markdown",
   "id": "e59d3c2f-2d90-4959-9678-6f4bb4398db7",
   "metadata": {},
   "source": [
    "### Variables\n",
    "\n",
    "Where we can use to store the values"
   ]
  },
  {
   "cell_type": "code",
   "execution_count": 4,
   "id": "0599a471-24d8-4acb-a72f-2684aa0618ab",
   "metadata": {},
   "outputs": [],
   "source": [
    "a = 10"
   ]
  },
  {
   "cell_type": "code",
   "execution_count": 14,
   "id": "045ba2d8-a708-44f7-ad0a-40be426e6f6b",
   "metadata": {},
   "outputs": [
    {
     "name": "stdout",
     "output_type": "stream",
     "text": [
      "10\n"
     ]
    }
   ],
   "source": [
    "print(a)"
   ]
  },
  {
   "cell_type": "code",
   "execution_count": 16,
   "id": "66ae19d3-d86c-460a-8e5a-de99c9cd4f0d",
   "metadata": {},
   "outputs": [],
   "source": [
    "name = 123"
   ]
  },
  {
   "cell_type": "code",
   "execution_count": 18,
   "id": "c3495410-a5db-4e8a-b09f-2f127a67f920",
   "metadata": {},
   "outputs": [
    {
     "name": "stdout",
     "output_type": "stream",
     "text": [
      "123\n"
     ]
    }
   ],
   "source": [
    "print(name)"
   ]
  },
  {
   "cell_type": "code",
   "execution_count": 20,
   "id": "a9701aa7-d5ef-405f-832f-37849f32b0fb",
   "metadata": {},
   "outputs": [
    {
     "data": {
      "text/plain": [
       "30"
      ]
     },
     "execution_count": 20,
     "metadata": {},
     "output_type": "execute_result"
    }
   ],
   "source": [
    "a + 20"
   ]
  },
  {
   "cell_type": "code",
   "execution_count": 22,
   "id": "787e4c2e-8fcb-407e-a20a-20768c6c4b1c",
   "metadata": {},
   "outputs": [
    {
     "data": {
      "text/plain": [
       "int"
      ]
     },
     "execution_count": 22,
     "metadata": {},
     "output_type": "execute_result"
    }
   ],
   "source": [
    "type(a)"
   ]
  },
  {
   "cell_type": "code",
   "execution_count": 24,
   "id": "2290f3d1-7d03-4bb0-b0f3-69bed44ea692",
   "metadata": {},
   "outputs": [
    {
     "data": {
      "text/plain": [
       "int"
      ]
     },
     "execution_count": 24,
     "metadata": {},
     "output_type": "execute_result"
    }
   ],
   "source": [
    "type(name)"
   ]
  },
  {
   "cell_type": "code",
   "execution_count": 17,
   "id": "00dbf19c-ff37-4ba8-846b-855b2c44eb73",
   "metadata": {},
   "outputs": [
    {
     "name": "stdout",
     "output_type": "stream",
     "text": [
      "<class 'int'>\n"
     ]
    }
   ],
   "source": [
    "print(type(a))"
   ]
  },
  {
   "cell_type": "code",
   "execution_count": 26,
   "id": "bd903fa3-666a-4182-b5d6-44dfc5046c31",
   "metadata": {},
   "outputs": [],
   "source": [
    "s = \"datascience\""
   ]
  },
  {
   "cell_type": "code",
   "execution_count": 28,
   "id": "6aeeeb01-95ef-4475-b517-9f7deb5bd99f",
   "metadata": {},
   "outputs": [
    {
     "name": "stdout",
     "output_type": "stream",
     "text": [
      "datascience\n"
     ]
    }
   ],
   "source": [
    "print(s)"
   ]
  },
  {
   "cell_type": "code",
   "execution_count": 30,
   "id": "c1dc9822-8d78-429c-b989-e09381f302c9",
   "metadata": {},
   "outputs": [
    {
     "data": {
      "text/plain": [
       "str"
      ]
     },
     "execution_count": 30,
     "metadata": {},
     "output_type": "execute_result"
    }
   ],
   "source": [
    "type(s)"
   ]
  },
  {
   "cell_type": "code",
   "execution_count": 32,
   "id": "bd416b11-ea6b-4b95-8c52-a60197efe862",
   "metadata": {},
   "outputs": [
    {
     "name": "stdout",
     "output_type": "stream",
     "text": [
      "<class 'str'>\n"
     ]
    }
   ],
   "source": [
    "print(type(s))"
   ]
  },
  {
   "cell_type": "code",
   "execution_count": 34,
   "id": "fc04268f-c7bc-479a-8bad-67e30ad9185e",
   "metadata": {},
   "outputs": [],
   "source": [
    "my_name = \"aimnxthyderabad\""
   ]
  },
  {
   "cell_type": "code",
   "execution_count": 36,
   "id": "bcf5bf4d-e3ff-4668-9f99-2b4a6d02bd66",
   "metadata": {},
   "outputs": [
    {
     "name": "stdout",
     "output_type": "stream",
     "text": [
      "aimnxthyderabad\n"
     ]
    }
   ],
   "source": [
    "print(my_name)"
   ]
  },
  {
   "cell_type": "code",
   "execution_count": 38,
   "id": "c62ca3e6-898a-4166-a910-50aacef40c7e",
   "metadata": {},
   "outputs": [
    {
     "name": "stdout",
     "output_type": "stream",
     "text": [
      "<class 'str'>\n"
     ]
    }
   ],
   "source": [
    "print(type(my_name))"
   ]
  },
  {
   "cell_type": "code",
   "execution_count": null,
   "id": "0773ed88-6e71-4d85-85f5-0efd54ef593e",
   "metadata": {},
   "outputs": [],
   "source": []
  },
  {
   "cell_type": "code",
   "execution_count": 40,
   "id": "7aa8599b-5ebd-4248-b0ca-32a418fa71c3",
   "metadata": {},
   "outputs": [],
   "source": [
    "b = 56.56"
   ]
  },
  {
   "cell_type": "code",
   "execution_count": 42,
   "id": "99a9ee0b-3618-4180-8d9a-f5724a4f9d31",
   "metadata": {},
   "outputs": [
    {
     "name": "stdout",
     "output_type": "stream",
     "text": [
      "56.56\n"
     ]
    }
   ],
   "source": [
    "print(b)"
   ]
  },
  {
   "cell_type": "code",
   "execution_count": 44,
   "id": "d567d0cd-a7ef-4b7a-9229-7a2cf2b39008",
   "metadata": {},
   "outputs": [
    {
     "data": {
      "text/plain": [
       "56.56"
      ]
     },
     "execution_count": 44,
     "metadata": {},
     "output_type": "execute_result"
    }
   ],
   "source": [
    "b"
   ]
  },
  {
   "cell_type": "code",
   "execution_count": 46,
   "id": "fb8b85b4-68aa-4bda-8c53-b6705e37fb79",
   "metadata": {},
   "outputs": [
    {
     "data": {
      "text/plain": [
       "float"
      ]
     },
     "execution_count": 46,
     "metadata": {},
     "output_type": "execute_result"
    }
   ],
   "source": [
    "type(b)"
   ]
  },
  {
   "cell_type": "code",
   "execution_count": 48,
   "id": "fe5c20a7-fb21-4eb9-be96-df3d6994abae",
   "metadata": {},
   "outputs": [],
   "source": [
    "s1 ='aimnxt'"
   ]
  },
  {
   "cell_type": "code",
   "execution_count": 50,
   "id": "e80382fb-8831-4b18-91c8-6caa9be5a984",
   "metadata": {},
   "outputs": [
    {
     "data": {
      "text/plain": [
       "str"
      ]
     },
     "execution_count": 50,
     "metadata": {},
     "output_type": "execute_result"
    }
   ],
   "source": [
    "type(s1)"
   ]
  },
  {
   "cell_type": "code",
   "execution_count": 52,
   "id": "f29f0d4b-45e4-4858-b4b8-f1847d664083",
   "metadata": {},
   "outputs": [],
   "source": [
    "s = \"datascience\""
   ]
  },
  {
   "cell_type": "code",
   "execution_count": 54,
   "id": "f3c5f797-984a-4a73-af78-88a5496828ba",
   "metadata": {},
   "outputs": [
    {
     "data": {
      "text/plain": [
       "str"
      ]
     },
     "execution_count": 54,
     "metadata": {},
     "output_type": "execute_result"
    }
   ],
   "source": [
    "type(s)"
   ]
  },
  {
   "cell_type": "code",
   "execution_count": 64,
   "id": "6f3e74cc-86d3-4d79-b47e-437b2f3ad77e",
   "metadata": {},
   "outputs": [],
   "source": [
    "S = \"aimnxt\""
   ]
  },
  {
   "cell_type": "code",
   "execution_count": 66,
   "id": "4ad3b0a2-90dd-4340-baad-bc7da70c662f",
   "metadata": {},
   "outputs": [
    {
     "data": {
      "text/plain": [
       "'datascience'"
      ]
     },
     "execution_count": 66,
     "metadata": {},
     "output_type": "execute_result"
    }
   ],
   "source": [
    "s"
   ]
  },
  {
   "cell_type": "code",
   "execution_count": 68,
   "id": "92ac4844-c210-46fc-8e34-9243c359b232",
   "metadata": {},
   "outputs": [
    {
     "name": "stdout",
     "output_type": "stream",
     "text": [
      "aimnxt\n"
     ]
    }
   ],
   "source": [
    "print(S)"
   ]
  },
  {
   "cell_type": "code",
   "execution_count": 70,
   "id": "f37da69a-707b-4b5c-a69d-05bd8ba4f17d",
   "metadata": {},
   "outputs": [
    {
     "ename": "SyntaxError",
     "evalue": "invalid syntax (1161436817.py, line 1)",
     "output_type": "error",
     "traceback": [
      "\u001b[1;36m  Cell \u001b[1;32mIn[70], line 1\u001b[1;36m\u001b[0m\n\u001b[1;33m    s% = \"aimnxt\"\u001b[0m\n\u001b[1;37m       ^\u001b[0m\n\u001b[1;31mSyntaxError\u001b[0m\u001b[1;31m:\u001b[0m invalid syntax\n"
     ]
    }
   ],
   "source": [
    "s% = \"aimnxt\""
   ]
  },
  {
   "cell_type": "code",
   "execution_count": 72,
   "id": "0606edde-d2ee-4120-b1a0-c37c3f52229f",
   "metadata": {},
   "outputs": [
    {
     "ename": "SyntaxError",
     "evalue": "invalid syntax (3416791821.py, line 1)",
     "output_type": "error",
     "traceback": [
      "\u001b[1;36m  Cell \u001b[1;32mIn[72], line 1\u001b[1;36m\u001b[0m\n\u001b[1;33m    s& = \"fsdf\"\u001b[0m\n\u001b[1;37m       ^\u001b[0m\n\u001b[1;31mSyntaxError\u001b[0m\u001b[1;31m:\u001b[0m invalid syntax\n"
     ]
    }
   ],
   "source": [
    "s& = \"fsdf\""
   ]
  },
  {
   "cell_type": "code",
   "execution_count": 63,
   "id": "32f8924d-a1f6-41ce-b136-67a9ab2f6053",
   "metadata": {},
   "outputs": [
    {
     "data": {
      "text/plain": [
       "str"
      ]
     },
     "execution_count": 63,
     "metadata": {},
     "output_type": "execute_result"
    }
   ],
   "source": [
    "type(s)"
   ]
  },
  {
   "cell_type": "code",
   "execution_count": 74,
   "id": "2ac74dd1-0f2f-4689-aac5-21375b0e499a",
   "metadata": {},
   "outputs": [],
   "source": [
    "b = True"
   ]
  },
  {
   "cell_type": "code",
   "execution_count": 76,
   "id": "c2e7f7b5-9061-4989-a110-6f10e02ceb57",
   "metadata": {},
   "outputs": [
    {
     "name": "stdout",
     "output_type": "stream",
     "text": [
      "True\n"
     ]
    }
   ],
   "source": [
    "print(b)"
   ]
  },
  {
   "cell_type": "code",
   "execution_count": 78,
   "id": "ac3eef70-5014-4611-8db3-4144bc2bae38",
   "metadata": {},
   "outputs": [
    {
     "data": {
      "text/plain": [
       "bool"
      ]
     },
     "execution_count": 78,
     "metadata": {},
     "output_type": "execute_result"
    }
   ],
   "source": [
    "type(b)"
   ]
  },
  {
   "cell_type": "code",
   "execution_count": 82,
   "id": "c9826bd8-00b6-4c23-96a1-2c603e9afb38",
   "metadata": {},
   "outputs": [],
   "source": [
    "b1 = False"
   ]
  },
  {
   "cell_type": "code",
   "execution_count": 84,
   "id": "eb86de4f-8c65-446f-abb0-39af7d7672ef",
   "metadata": {},
   "outputs": [
    {
     "name": "stdout",
     "output_type": "stream",
     "text": [
      "False\n"
     ]
    }
   ],
   "source": [
    "print(b1)"
   ]
  },
  {
   "cell_type": "code",
   "execution_count": 86,
   "id": "e1279c52-496a-4bfb-aa38-a5aa16381eb2",
   "metadata": {},
   "outputs": [
    {
     "data": {
      "text/plain": [
       "bool"
      ]
     },
     "execution_count": 86,
     "metadata": {},
     "output_type": "execute_result"
    }
   ],
   "source": [
    "type(b1)"
   ]
  },
  {
   "cell_type": "code",
   "execution_count": 79,
   "id": "1d22142e-4a80-4448-adbc-0e5600680b9a",
   "metadata": {},
   "outputs": [
    {
     "data": {
      "text/plain": [
       "1"
      ]
     },
     "execution_count": 79,
     "metadata": {},
     "output_type": "execute_result"
    }
   ],
   "source": [
    "print(True + False) "
   ]
  },
  {
   "cell_type": "code",
   "execution_count": 88,
   "id": "f564dcd5-6fc4-4a7e-9bdf-615991a744bf",
   "metadata": {},
   "outputs": [
    {
     "name": "stdout",
     "output_type": "stream",
     "text": [
      "2\n"
     ]
    }
   ],
   "source": [
    "print(True + True)"
   ]
  },
  {
   "cell_type": "code",
   "execution_count": 90,
   "id": "dbcbf363-205c-437e-bb0d-7cafcb2ebbaa",
   "metadata": {},
   "outputs": [
    {
     "name": "stdout",
     "output_type": "stream",
     "text": [
      "0\n"
     ]
    }
   ],
   "source": [
    "print(False - False)"
   ]
  },
  {
   "cell_type": "code",
   "execution_count": 87,
   "id": "18977dd1-d790-4602-9baa-f72f71695787",
   "metadata": {},
   "outputs": [
    {
     "name": "stdout",
     "output_type": "stream",
     "text": [
      "1\n"
     ]
    }
   ],
   "source": [
    "print(True * True)"
   ]
  },
  {
   "cell_type": "code",
   "execution_count": 89,
   "id": "59fc3e82-4532-4d45-86af-3850797fa2a6",
   "metadata": {},
   "outputs": [
    {
     "ename": "ZeroDivisionError",
     "evalue": "division by zero",
     "output_type": "error",
     "traceback": [
      "\u001b[1;31m---------------------------------------------------------------------------\u001b[0m",
      "\u001b[1;31mZeroDivisionError\u001b[0m                         Traceback (most recent call last)",
      "Cell \u001b[1;32mIn[89], line 1\u001b[0m\n\u001b[1;32m----> 1\u001b[0m \u001b[38;5;28mprint\u001b[39m(\u001b[38;5;28;01mTrue\u001b[39;00m\u001b[38;5;241m/\u001b[39m\u001b[38;5;28;01mFalse\u001b[39;00m)\n",
      "\u001b[1;31mZeroDivisionError\u001b[0m: division by zero"
     ]
    }
   ],
   "source": [
    "print(True/False)"
   ]
  },
  {
   "cell_type": "code",
   "execution_count": 94,
   "id": "777da5d1-44f9-4e73-98b4-ac9d609bbea6",
   "metadata": {},
   "outputs": [],
   "source": [
    "c = 7 + 6j"
   ]
  },
  {
   "cell_type": "code",
   "execution_count": 96,
   "id": "e7a1343f-2a9c-4e94-a9fe-e4da857db4b4",
   "metadata": {},
   "outputs": [
    {
     "data": {
      "text/plain": [
       "complex"
      ]
     },
     "execution_count": 96,
     "metadata": {},
     "output_type": "execute_result"
    }
   ],
   "source": [
    "type(c)"
   ]
  },
  {
   "cell_type": "code",
   "execution_count": 98,
   "id": "dd6aba04-ee62-45c9-833b-e20ea1bc585d",
   "metadata": {},
   "outputs": [
    {
     "name": "stdout",
     "output_type": "stream",
     "text": [
      "7.0\n"
     ]
    }
   ],
   "source": [
    "print(c.real)"
   ]
  },
  {
   "cell_type": "code",
   "execution_count": 100,
   "id": "941e6951-9fa5-4e21-9ca4-97e71a28424d",
   "metadata": {},
   "outputs": [
    {
     "name": "stdout",
     "output_type": "stream",
     "text": [
      "6.0\n"
     ]
    }
   ],
   "source": [
    "print(c.imag)"
   ]
  },
  {
   "cell_type": "code",
   "execution_count": 102,
   "id": "6d77c71d-f7b6-4cdc-a8fe-b5e81e427424",
   "metadata": {},
   "outputs": [],
   "source": [
    "s = \"aimnxt\""
   ]
  },
  {
   "cell_type": "code",
   "execution_count": 104,
   "id": "410f72b8-d530-4fb6-b324-2cef5e341323",
   "metadata": {},
   "outputs": [
    {
     "data": {
      "text/plain": [
       "str"
      ]
     },
     "execution_count": 104,
     "metadata": {},
     "output_type": "execute_result"
    }
   ],
   "source": [
    "type(s)"
   ]
  },
  {
   "cell_type": "code",
   "execution_count": 103,
   "id": "f0bfdd75-3420-4387-804a-e66b876a61a0",
   "metadata": {},
   "outputs": [
    {
     "ename": "TypeError",
     "evalue": "can only concatenate str (not \"int\") to str",
     "output_type": "error",
     "traceback": [
      "\u001b[1;31m---------------------------------------------------------------------------\u001b[0m",
      "\u001b[1;31mTypeError\u001b[0m                                 Traceback (most recent call last)",
      "Cell \u001b[1;32mIn[103], line 1\u001b[0m\n\u001b[1;32m----> 1\u001b[0m \u001b[38;5;28mprint\u001b[39m(s \u001b[38;5;241m+\u001b[39m \u001b[38;5;241m3\u001b[39m)\n",
      "\u001b[1;31mTypeError\u001b[0m: can only concatenate str (not \"int\") to str"
     ]
    }
   ],
   "source": [
    "print(s + 3)"
   ]
  },
  {
   "cell_type": "code",
   "execution_count": 106,
   "id": "d6366f91-9756-4051-a873-7b5e5b513a31",
   "metadata": {},
   "outputs": [
    {
     "name": "stdout",
     "output_type": "stream",
     "text": [
      "aimnxt3\n"
     ]
    }
   ],
   "source": [
    "print(s + \"3\")"
   ]
  },
  {
   "cell_type": "code",
   "execution_count": 108,
   "id": "c98f064a-8225-441d-b21d-f36eb79863ff",
   "metadata": {},
   "outputs": [
    {
     "name": "stdout",
     "output_type": "stream",
     "text": [
      "aimnxt3\n"
     ]
    }
   ],
   "source": [
    "print(s + str(3))"
   ]
  },
  {
   "cell_type": "code",
   "execution_count": 110,
   "id": "e59d933c-d284-42ea-a6d0-18e308baeaaa",
   "metadata": {},
   "outputs": [],
   "source": [
    "student = \"Chakresh\""
   ]
  },
  {
   "cell_type": "code",
   "execution_count": 112,
   "id": "eb05fa3b-f912-4477-bd3a-cb2ce17d4e03",
   "metadata": {},
   "outputs": [
    {
     "name": "stdout",
     "output_type": "stream",
     "text": [
      "Chakresh\n"
     ]
    }
   ],
   "source": [
    "print(student)"
   ]
  },
  {
   "cell_type": "code",
   "execution_count": 114,
   "id": "285d1856-4ebf-4f97-a8a0-ae81cbd82033",
   "metadata": {},
   "outputs": [
    {
     "data": {
      "text/plain": [
       "str"
      ]
     },
     "execution_count": 114,
     "metadata": {},
     "output_type": "execute_result"
    }
   ],
   "source": [
    "type(student)"
   ]
  },
  {
   "cell_type": "code",
   "execution_count": 116,
   "id": "006efbc2-0713-4af1-9dcf-02a0adf7261b",
   "metadata": {},
   "outputs": [],
   "source": [
    "b = \"varshith \" * 5"
   ]
  },
  {
   "cell_type": "code",
   "execution_count": 118,
   "id": "f5edff66-f017-4091-9f9a-f379ae5a7ad6",
   "metadata": {},
   "outputs": [
    {
     "name": "stdout",
     "output_type": "stream",
     "text": [
      "varshith varshith varshith varshith varshith \n"
     ]
    }
   ],
   "source": [
    "print(b)"
   ]
  },
  {
   "cell_type": "code",
   "execution_count": 132,
   "id": "6ad3625b-3627-4488-8752-edc0be07706d",
   "metadata": {},
   "outputs": [],
   "source": [
    "s = \"Learning\""
   ]
  },
  {
   "cell_type": "code",
   "execution_count": 120,
   "id": "e81d9232-ed36-45ac-91d0-794f47fe4b49",
   "metadata": {},
   "outputs": [
    {
     "data": {
      "text/plain": [
       "str"
      ]
     },
     "execution_count": 120,
     "metadata": {},
     "output_type": "execute_result"
    }
   ],
   "source": [
    "type(s)"
   ]
  },
  {
   "cell_type": "code",
   "execution_count": 122,
   "id": "24beec7c-2a2c-4a06-ae1b-f66eb1e972b6",
   "metadata": {},
   "outputs": [],
   "source": [
    "s = \"Learning \" * 10 "
   ]
  },
  {
   "cell_type": "code",
   "execution_count": 124,
   "id": "e1c80c7c-8242-4454-9d87-9a189651f475",
   "metadata": {},
   "outputs": [
    {
     "name": "stdout",
     "output_type": "stream",
     "text": [
      "Learning Learning Learning Learning Learning Learning Learning Learning Learning Learning \n"
     ]
    }
   ],
   "source": [
    "print(s)"
   ]
  },
  {
   "cell_type": "code",
   "execution_count": 146,
   "id": "57d683a8-10b2-43f5-a540-99c496a7d0dc",
   "metadata": {},
   "outputs": [],
   "source": [
    "s = (\"21234 \"   * 3) + s + (\" Python\" * 3)"
   ]
  },
  {
   "cell_type": "code",
   "execution_count": 148,
   "id": "2a8fbb1e-53e1-4cee-8902-7c3f6fb09611",
   "metadata": {},
   "outputs": [
    {
     "name": "stdout",
     "output_type": "stream",
     "text": [
      "21234 21234 21234 21234 21234 21234 21234 21234 21234 21234 21234 21234 Learning Python Python Python Python Python Python Python Python Python Python Python Python\n"
     ]
    }
   ],
   "source": [
    "print(s)"
   ]
  },
  {
   "cell_type": "markdown",
   "id": "3bd1cbc7-6122-4432-b2f9-3c20dffacff7",
   "metadata": {},
   "source": [
    "Strings in deep"
   ]
  },
  {
   "cell_type": "code",
   "execution_count": 129,
   "id": "0c5f5946-b303-49ec-a44e-94b1bc13108e",
   "metadata": {},
   "outputs": [],
   "source": [
    "s = \"aimnxttechnologies\""
   ]
  },
  {
   "cell_type": "code",
   "execution_count": 131,
   "id": "39b5d2b5-9e60-464e-87af-88c421696b81",
   "metadata": {},
   "outputs": [
    {
     "data": {
      "text/plain": [
       "str"
      ]
     },
     "execution_count": 131,
     "metadata": {},
     "output_type": "execute_result"
    }
   ],
   "source": [
    "type(s)"
   ]
  },
  {
   "cell_type": "code",
   "execution_count": 133,
   "id": "1513c1c8-5489-4b64-adca-ae222c5a5742",
   "metadata": {},
   "outputs": [
    {
     "name": "stdout",
     "output_type": "stream",
     "text": [
      "a\n"
     ]
    }
   ],
   "source": [
    "print(s[0])"
   ]
  },
  {
   "cell_type": "code",
   "execution_count": 137,
   "id": "1fa9e938-7f8f-40ce-ad96-d7a54ff06eee",
   "metadata": {},
   "outputs": [
    {
     "name": "stdout",
     "output_type": "stream",
     "text": [
      "t\n"
     ]
    }
   ],
   "source": [
    "print(s[5])"
   ]
  },
  {
   "cell_type": "code",
   "execution_count": 139,
   "id": "ea255c11-f48e-47e2-904a-b120bda922bb",
   "metadata": {},
   "outputs": [
    {
     "name": "stdout",
     "output_type": "stream",
     "text": [
      "l\n"
     ]
    }
   ],
   "source": [
    "print(s[12])"
   ]
  },
  {
   "cell_type": "code",
   "execution_count": 141,
   "id": "8cd41400-2073-4605-97e9-cd9fc278f0fc",
   "metadata": {},
   "outputs": [
    {
     "name": "stdout",
     "output_type": "stream",
     "text": [
      "i\n"
     ]
    }
   ],
   "source": [
    "print(s[15])"
   ]
  },
  {
   "cell_type": "code",
   "execution_count": 145,
   "id": "1fd70426-a12d-455d-a275-64ed38eb5e07",
   "metadata": {},
   "outputs": [
    {
     "name": "stdout",
     "output_type": "stream",
     "text": [
      "s\n"
     ]
    }
   ],
   "source": [
    "print(s[-1])"
   ]
  },
  {
   "cell_type": "code",
   "execution_count": 147,
   "id": "16a93951-97e2-4bb3-82d9-0da3b5452ece",
   "metadata": {},
   "outputs": [
    {
     "name": "stdout",
     "output_type": "stream",
     "text": [
      "i\n"
     ]
    }
   ],
   "source": [
    "print(s[-3])"
   ]
  },
  {
   "cell_type": "code",
   "execution_count": 149,
   "id": "64ec87d7-cae1-49a4-ad0f-8a306db2c210",
   "metadata": {},
   "outputs": [],
   "source": [
    "s1 = 'aimnxt'"
   ]
  },
  {
   "cell_type": "code",
   "execution_count": 151,
   "id": "17eec755-2164-424c-a723-1ad5f317e22b",
   "metadata": {},
   "outputs": [
    {
     "name": "stdout",
     "output_type": "stream",
     "text": [
      "a\n"
     ]
    }
   ],
   "source": [
    "print(s1[0])"
   ]
  },
  {
   "cell_type": "code",
   "execution_count": 153,
   "id": "9649a90e-bfbf-4fbd-be72-37110e7f5246",
   "metadata": {},
   "outputs": [
    {
     "name": "stdout",
     "output_type": "stream",
     "text": [
      "t\n"
     ]
    }
   ],
   "source": [
    "print(s1[-1])"
   ]
  },
  {
   "cell_type": "code",
   "execution_count": 155,
   "id": "ae5c6414-f6a4-4f75-b23d-25bee19e3922",
   "metadata": {},
   "outputs": [
    {
     "name": "stdout",
     "output_type": "stream",
     "text": [
      "x\n"
     ]
    }
   ],
   "source": [
    "print(s1[-2])"
   ]
  },
  {
   "cell_type": "code",
   "execution_count": 157,
   "id": "3d2bb1d2-13a8-497c-b7e1-c026c9a0aad6",
   "metadata": {},
   "outputs": [],
   "source": [
    "s2 = \"this is my very first programming class's\""
   ]
  },
  {
   "cell_type": "code",
   "execution_count": 161,
   "id": "fdbd4e7b-402f-4877-96d8-b926e4d89f19",
   "metadata": {},
   "outputs": [
    {
     "name": "stdout",
     "output_type": "stream",
     "text": [
      "this is my very first programming class's\n"
     ]
    }
   ],
   "source": [
    "print(s2)"
   ]
  },
  {
   "cell_type": "code",
   "execution_count": 163,
   "id": "00a48cc9-9ed4-47f7-ad7b-b0bf30fd203b",
   "metadata": {},
   "outputs": [
    {
     "name": "stdout",
     "output_type": "stream",
     "text": [
      "m\n"
     ]
    }
   ],
   "source": [
    "print(s2[8])"
   ]
  },
  {
   "cell_type": "code",
   "execution_count": 165,
   "id": "01f2e46f-7d88-443c-a684-4f41a561f5a5",
   "metadata": {},
   "outputs": [
    {
     "data": {
      "text/plain": [
       "\"this is my very first programming class's\""
      ]
     },
     "execution_count": 165,
     "metadata": {},
     "output_type": "execute_result"
    }
   ],
   "source": [
    "s2"
   ]
  },
  {
   "cell_type": "code",
   "execution_count": 167,
   "id": "43a94724-acb3-43e0-8db5-ebe66e4c5244",
   "metadata": {},
   "outputs": [
    {
     "name": "stdout",
     "output_type": "stream",
     "text": [
      "his \n"
     ]
    }
   ],
   "source": [
    "print(s2[1:5])"
   ]
  },
  {
   "cell_type": "code",
   "execution_count": 169,
   "id": "b55758a0-a604-4963-926a-d6c188472f59",
   "metadata": {},
   "outputs": [
    {
     "name": "stdout",
     "output_type": "stream",
     "text": [
      "s my very first programm\n"
     ]
    }
   ],
   "source": [
    "print(s2[6:30])"
   ]
  },
  {
   "cell_type": "code",
   "execution_count": 171,
   "id": "807429dc-125a-4755-b87a-9434786e1d63",
   "metadata": {},
   "outputs": [
    {
     "name": "stdout",
     "output_type": "stream",
     "text": [
      "sm eyfrtporm\n"
     ]
    }
   ],
   "source": [
    "print(s2[6:30:2])"
   ]
  },
  {
   "cell_type": "code",
   "execution_count": 173,
   "id": "93c53fd0-f952-4c92-bec0-28e1fcdab3cc",
   "metadata": {},
   "outputs": [
    {
     "name": "stdout",
     "output_type": "stream",
     "text": [
      "h  \n"
     ]
    }
   ],
   "source": [
    "print(s2[1:10:3])"
   ]
  },
  {
   "cell_type": "code",
   "execution_count": 175,
   "id": "1bb9b010-2a0e-40ad-a4d5-906eb142d601",
   "metadata": {},
   "outputs": [
    {
     "name": "stdout",
     "output_type": "stream",
     "text": [
      "h   rfspgmncss\n"
     ]
    }
   ],
   "source": [
    "print(s2[1:50:3])"
   ]
  },
  {
   "cell_type": "code",
   "execution_count": 177,
   "id": "6bb62791-ea8d-46a0-b3a1-635e354c54d4",
   "metadata": {},
   "outputs": [],
   "source": [
    "s= \"aimnxtdatascience\""
   ]
  },
  {
   "cell_type": "code",
   "execution_count": 179,
   "id": "55692cd5-c556-4ccf-a56f-26e7a684fc3e",
   "metadata": {},
   "outputs": [
    {
     "name": "stdout",
     "output_type": "stream",
     "text": [
      "aimnxtdat\n"
     ]
    }
   ],
   "source": [
    "print(s[0:9:1])"
   ]
  },
  {
   "cell_type": "code",
   "execution_count": 181,
   "id": "284a7ec3-04aa-4ff8-aa97-c3f342ec4e20",
   "metadata": {},
   "outputs": [
    {
     "data": {
      "text/plain": [
       "'aimnxtdatascience'"
      ]
     },
     "execution_count": 181,
     "metadata": {},
     "output_type": "execute_result"
    }
   ],
   "source": [
    "s"
   ]
  },
  {
   "cell_type": "code",
   "execution_count": 183,
   "id": "851abe1a-f0a0-42ff-a2e4-4347c8abbe7d",
   "metadata": {},
   "outputs": [
    {
     "name": "stdout",
     "output_type": "stream",
     "text": [
      "\n"
     ]
    }
   ],
   "source": [
    "print(s[0:8:-1])"
   ]
  },
  {
   "cell_type": "code",
   "execution_count": 185,
   "id": "415a75f1-7a3e-4a1e-8dd1-5a7a63270144",
   "metadata": {},
   "outputs": [
    {
     "name": "stdout",
     "output_type": "stream",
     "text": [
      "tadtxnmi\n"
     ]
    }
   ],
   "source": [
    "print(s[8:0:-1])"
   ]
  },
  {
   "cell_type": "code",
   "execution_count": 187,
   "id": "7dc0f765-6307-4112-9737-8735527ffbab",
   "metadata": {},
   "outputs": [
    {
     "name": "stdout",
     "output_type": "stream",
     "text": [
      "tdxm\n"
     ]
    }
   ],
   "source": [
    "print(s[8:0:-2])"
   ]
  },
  {
   "cell_type": "code",
   "execution_count": null,
   "id": "79dfb52d-8ef1-477e-8221-0cde08f2b9a9",
   "metadata": {},
   "outputs": [],
   "source": [
    "s"
   ]
  },
  {
   "cell_type": "code",
   "execution_count": null,
   "id": "5a350ba3-f3d6-4c50-8014-38d77e0baa5f",
   "metadata": {},
   "outputs": [],
   "source": [
    "s[:-3]"
   ]
  },
  {
   "cell_type": "code",
   "execution_count": null,
   "id": "2fa8e676-aeeb-4346-8012-a17de8fe257b",
   "metadata": {},
   "outputs": [],
   "source": [
    "s[-2:]"
   ]
  },
  {
   "cell_type": "code",
   "execution_count": null,
   "id": "f3200964-bfc7-4fd2-b8d8-117e2edc40de",
   "metadata": {},
   "outputs": [],
   "source": [
    "s[::1]"
   ]
  },
  {
   "cell_type": "code",
   "execution_count": null,
   "id": "fed84113-245d-4b37-a1ea-ddd5245bce0b",
   "metadata": {},
   "outputs": [],
   "source": [
    "s[0:50:1]"
   ]
  },
  {
   "cell_type": "code",
   "execution_count": null,
   "id": "761584f2-346c-4142-a7f4-b02f7977ceba",
   "metadata": {},
   "outputs": [],
   "source": [
    "s[::-1]"
   ]
  },
  {
   "cell_type": "code",
   "execution_count": null,
   "id": "a4959dee-c04e-4775-8f76-cd90cd1b2463",
   "metadata": {},
   "outputs": [],
   "source": [
    "s2"
   ]
  },
  {
   "cell_type": "code",
   "execution_count": null,
   "id": "cafe309d-cd7f-458c-9f38-7aacfb7bc925",
   "metadata": {},
   "outputs": [],
   "source": [
    "s2[::-1]"
   ]
  },
  {
   "cell_type": "code",
   "execution_count": null,
   "id": "e829ee5e-be23-45e5-8eb7-b9027c8b2a3d",
   "metadata": {},
   "outputs": [],
   "source": [
    "s[8:0:-1]"
   ]
  },
  {
   "cell_type": "code",
   "execution_count": 3,
   "id": "e24dbb31-8f4e-4186-9562-41ec2fda4a9d",
   "metadata": {},
   "outputs": [],
   "source": [
    "s = \"Learning Datascience in Aimnxt\""
   ]
  },
  {
   "cell_type": "code",
   "execution_count": 5,
   "id": "f2acbaf6-1fab-4adb-a626-b95503029232",
   "metadata": {},
   "outputs": [
    {
     "name": "stdout",
     "output_type": "stream",
     "text": [
      "Learning Datascience in Aimnxt\n"
     ]
    }
   ],
   "source": [
    "print(s)"
   ]
  },
  {
   "cell_type": "code",
   "execution_count": 7,
   "id": "fcdb403a-a7f6-4e9c-b613-06bc94eb1d29",
   "metadata": {},
   "outputs": [
    {
     "data": {
      "text/plain": [
       "'txnmiA ni ecneicsataD gninraeL'"
      ]
     },
     "execution_count": 7,
     "metadata": {},
     "output_type": "execute_result"
    }
   ],
   "source": [
    "s[::-1]"
   ]
  },
  {
   "cell_type": "code",
   "execution_count": 9,
   "id": "afd8a5a3-5f5e-4679-a636-73009a9514f8",
   "metadata": {},
   "outputs": [
    {
     "data": {
      "text/plain": [
       "''"
      ]
     },
     "execution_count": 9,
     "metadata": {},
     "output_type": "execute_result"
    }
   ],
   "source": [
    "s[-2:-7:1]"
   ]
  },
  {
   "cell_type": "code",
   "execution_count": 11,
   "id": "458ff592-fd82-41de-9854-4b3a399fee4f",
   "metadata": {},
   "outputs": [
    {
     "data": {
      "text/plain": [
       "' Aimn'"
      ]
     },
     "execution_count": 11,
     "metadata": {},
     "output_type": "execute_result"
    }
   ],
   "source": [
    "s[-7:-2:1]"
   ]
  },
  {
   "cell_type": "code",
   "execution_count": 13,
   "id": "83f18046-9c71-41bf-ad02-b5863320e892",
   "metadata": {},
   "outputs": [
    {
     "data": {
      "text/plain": [
       "''"
      ]
     },
     "execution_count": 13,
     "metadata": {},
     "output_type": "execute_result"
    }
   ],
   "source": [
    "s[5:0]"
   ]
  },
  {
   "cell_type": "code",
   "execution_count": 15,
   "id": "99e19f64-c923-4b4d-b362-152fbb8a2b95",
   "metadata": {},
   "outputs": [
    {
     "data": {
      "text/plain": [
       "' Aimnx'"
      ]
     },
     "execution_count": 15,
     "metadata": {},
     "output_type": "execute_result"
    }
   ],
   "source": [
    "s[-7:-1:1]"
   ]
  },
  {
   "cell_type": "code",
   "execution_count": 17,
   "id": "78442325-b493-4036-9fd6-0bb0e4b9425b",
   "metadata": {},
   "outputs": [
    {
     "data": {
      "text/plain": [
       "''"
      ]
     },
     "execution_count": 17,
     "metadata": {},
     "output_type": "execute_result"
    }
   ],
   "source": [
    "s[-7:0:1]"
   ]
  },
  {
   "cell_type": "code",
   "execution_count": 19,
   "id": "aa0ac34f-e95e-4ad7-8e1d-c85cfa3fe717",
   "metadata": {},
   "outputs": [
    {
     "data": {
      "text/plain": [
       "''"
      ]
     },
     "execution_count": 19,
     "metadata": {},
     "output_type": "execute_result"
    }
   ],
   "source": [
    "s[:-1:-1]"
   ]
  },
  {
   "cell_type": "code",
   "execution_count": 21,
   "id": "9292b308-54e8-4740-b392-eaae661589d6",
   "metadata": {},
   "outputs": [
    {
     "data": {
      "text/plain": [
       "'Learning Datascience in Aimnxt'"
      ]
     },
     "execution_count": 21,
     "metadata": {},
     "output_type": "execute_result"
    }
   ],
   "source": [
    "s"
   ]
  },
  {
   "cell_type": "code",
   "execution_count": 23,
   "id": "4f10f1cf-ec7c-4391-af49-c438ac21cc8d",
   "metadata": {},
   "outputs": [
    {
     "ename": "TypeError",
     "evalue": "can only concatenate str (not \"int\") to str",
     "output_type": "error",
     "traceback": [
      "\u001b[1;31m---------------------------------------------------------------------------\u001b[0m",
      "\u001b[1;31mTypeError\u001b[0m                                 Traceback (most recent call last)",
      "Cell \u001b[1;32mIn[23], line 1\u001b[0m\n\u001b[1;32m----> 1\u001b[0m s \u001b[38;5;241m+\u001b[39m \u001b[38;5;241m1\u001b[39m\n",
      "\u001b[1;31mTypeError\u001b[0m: can only concatenate str (not \"int\") to str"
     ]
    }
   ],
   "source": [
    "s + 1"
   ]
  },
  {
   "cell_type": "code",
   "execution_count": 25,
   "id": "354c2bc8-b36f-4145-812d-de9c046fe3f3",
   "metadata": {},
   "outputs": [
    {
     "data": {
      "text/plain": [
       "'Learning Datascience in Aimnxt1'"
      ]
     },
     "execution_count": 25,
     "metadata": {},
     "output_type": "execute_result"
    }
   ],
   "source": [
    "s + '1'"
   ]
  },
  {
   "cell_type": "code",
   "execution_count": 27,
   "id": "1a9f3fd1-965d-4502-ad53-f07c95660d3e",
   "metadata": {},
   "outputs": [
    {
     "data": {
      "text/plain": [
       "'Learning Datascience in Aimnxt1'"
      ]
     },
     "execution_count": 27,
     "metadata": {},
     "output_type": "execute_result"
    }
   ],
   "source": [
    "s+ str(1)"
   ]
  },
  {
   "cell_type": "code",
   "execution_count": 29,
   "id": "941dd363-8eb1-4fb8-935d-5be6d97c9a18",
   "metadata": {},
   "outputs": [
    {
     "data": {
      "text/plain": [
       "'aimnxt45634673576458745687457'"
      ]
     },
     "execution_count": 29,
     "metadata": {},
     "output_type": "execute_result"
    }
   ],
   "source": [
    "\"aimnxt\" + '45634673576458745687457'"
   ]
  },
  {
   "cell_type": "code",
   "execution_count": 31,
   "id": "96e60130-894b-4469-99e7-92e9b6a78dc7",
   "metadata": {},
   "outputs": [
    {
     "data": {
      "text/plain": [
       "'Learning Datascience in Aimnxt'"
      ]
     },
     "execution_count": 31,
     "metadata": {},
     "output_type": "execute_result"
    }
   ],
   "source": [
    "s"
   ]
  },
  {
   "cell_type": "code",
   "execution_count": 33,
   "id": "d6ace83f-bb57-4559-8525-ae87f4a3a480",
   "metadata": {},
   "outputs": [
    {
     "data": {
      "text/plain": [
       "30"
      ]
     },
     "execution_count": 33,
     "metadata": {},
     "output_type": "execute_result"
    }
   ],
   "source": [
    "len(s)"
   ]
  },
  {
   "cell_type": "code",
   "execution_count": 35,
   "id": "6c451c48-c3bf-4bb6-81c4-fe8cc5e2fb29",
   "metadata": {},
   "outputs": [
    {
     "data": {
      "text/plain": [
       "'Learning Datascience in Aimnxt'"
      ]
     },
     "execution_count": 35,
     "metadata": {},
     "output_type": "execute_result"
    }
   ],
   "source": [
    "s"
   ]
  },
  {
   "cell_type": "code",
   "execution_count": 37,
   "id": "5570c093-d3df-4281-b72b-fea96769994e",
   "metadata": {},
   "outputs": [
    {
     "data": {
      "text/plain": [
       "0"
      ]
     },
     "execution_count": 37,
     "metadata": {},
     "output_type": "execute_result"
    }
   ],
   "source": [
    "s.count('sum')"
   ]
  },
  {
   "cell_type": "code",
   "execution_count": 41,
   "id": "da5c7bc0-2251-4b32-b350-6cf61905130b",
   "metadata": {},
   "outputs": [
    {
     "data": {
      "text/plain": [
       "1"
      ]
     },
     "execution_count": 41,
     "metadata": {},
     "output_type": "execute_result"
    }
   ],
   "source": [
    "s.count('L')"
   ]
  },
  {
   "cell_type": "code",
   "execution_count": 43,
   "id": "8f411ffc-0aa8-41d2-a4b6-2677a2150f79",
   "metadata": {},
   "outputs": [
    {
     "data": {
      "text/plain": [
       "3"
      ]
     },
     "execution_count": 43,
     "metadata": {},
     "output_type": "execute_result"
    }
   ],
   "source": [
    "s.count('a')"
   ]
  },
  {
   "cell_type": "code",
   "execution_count": 39,
   "id": "c1145a0e-0d2c-4499-ac5d-649725063217",
   "metadata": {},
   "outputs": [
    {
     "data": {
      "text/plain": [
       "'Learning Datascience in Aimnxt'"
      ]
     },
     "execution_count": 39,
     "metadata": {},
     "output_type": "execute_result"
    }
   ],
   "source": [
    "s"
   ]
  },
  {
   "cell_type": "code",
   "execution_count": 45,
   "id": "98179ea7-1c9b-4bc2-9525-706c6b4f69b8",
   "metadata": {},
   "outputs": [
    {
     "data": {
      "text/plain": [
       "['Le', 'rning D', 't', 'science in Aimnxt']"
      ]
     },
     "execution_count": 45,
     "metadata": {},
     "output_type": "execute_result"
    }
   ],
   "source": [
    "s.split('a')"
   ]
  },
  {
   "cell_type": "code",
   "execution_count": 47,
   "id": "3284e789-d293-492e-baca-acea564eaed2",
   "metadata": {},
   "outputs": [
    {
     "data": {
      "text/plain": [
       "['L', 'arning Datasci', 'nc', ' in Aimnxt']"
      ]
     },
     "execution_count": 47,
     "metadata": {},
     "output_type": "execute_result"
    }
   ],
   "source": [
    "s.split('e')"
   ]
  },
  {
   "cell_type": "code",
   "execution_count": 49,
   "id": "6f384091-af59-4a40-b090-974582fd0da0",
   "metadata": {},
   "outputs": [
    {
     "data": {
      "text/plain": [
       "list"
      ]
     },
     "execution_count": 49,
     "metadata": {},
     "output_type": "execute_result"
    }
   ],
   "source": [
    "type(s.split('a'))"
   ]
  },
  {
   "cell_type": "code",
   "execution_count": null,
   "id": "1ccdac08-6ab3-4662-b13e-ef2979e6d409",
   "metadata": {},
   "outputs": [],
   "source": []
  },
  {
   "cell_type": "code",
   "execution_count": 51,
   "id": "403f325d-f68c-4200-a138-235b925c1669",
   "metadata": {},
   "outputs": [],
   "source": [
    "python = \"\"\"\n",
    "Python is a high-level, general-purpose programming language. \n",
    "Its design philosophy emphasizes code readability with the use of significant indentation.\n",
    "Python is dynamically type-checked and garbage-collected\"\"\""
   ]
  },
  {
   "cell_type": "code",
   "execution_count": 55,
   "id": "4ad9bfd6-8098-4fab-9f4c-198cd8287bcb",
   "metadata": {},
   "outputs": [
    {
     "name": "stdout",
     "output_type": "stream",
     "text": [
      "\n",
      "Python is a high-level, general-purpose programming language. \n",
      "Its design philosophy emphasizes code readability with the use of significant indentation.\n",
      "Python is dynamically type-checked and garbage-collected\n"
     ]
    }
   ],
   "source": [
    "print(python)"
   ]
  },
  {
   "cell_type": "code",
   "execution_count": 59,
   "id": "a409c59b-bce3-472e-8f26-5de2b311af6b",
   "metadata": {},
   "outputs": [
    {
     "name": "stdout",
     "output_type": "stream",
     "text": [
      "['\\nPython', 'is', 'a', 'high-level,', 'general-purpose', 'programming', 'language.', '\\nIts', 'design', 'philosophy', 'emphasizes', 'code', 'readability', 'with', 'the', 'use', 'of', 'significant', 'indentation.\\nPython', 'is', 'dynamically', 'type-checked', 'and', 'garbage-collected']\n"
     ]
    }
   ],
   "source": [
    "print(python.split(' '))"
   ]
  },
  {
   "cell_type": "code",
   "execution_count": 61,
   "id": "e4cc4db1-5f0f-4d31-9b7d-0b5511b7bbb1",
   "metadata": {},
   "outputs": [
    {
     "data": {
      "text/plain": [
       "'\\nPython is a high-level, general-purpose programming language. \\nIts design philosophy emphasizes code readability with the use of significant indentation.\\nPython is dynamically type-checked and garbage-collected'"
      ]
     },
     "execution_count": 61,
     "metadata": {},
     "output_type": "execute_result"
    }
   ],
   "source": [
    "python"
   ]
  },
  {
   "cell_type": "code",
   "execution_count": 63,
   "id": "858aabef-29be-463d-8211-364022e881c9",
   "metadata": {},
   "outputs": [
    {
     "data": {
      "text/plain": [
       "'\\nPYTHON IS A HIGH-LEVEL, GENERAL-PURPOSE PROGRAMMING LANGUAGE. \\nITS DESIGN PHILOSOPHY EMPHASIZES CODE READABILITY WITH THE USE OF SIGNIFICANT INDENTATION.\\nPYTHON IS DYNAMICALLY TYPE-CHECKED AND GARBAGE-COLLECTED'"
      ]
     },
     "execution_count": 63,
     "metadata": {},
     "output_type": "execute_result"
    }
   ],
   "source": [
    "python.upper()"
   ]
  },
  {
   "cell_type": "code",
   "execution_count": 65,
   "id": "7bda42bf-584c-4af8-90ba-6808e322d56b",
   "metadata": {},
   "outputs": [
    {
     "data": {
      "text/plain": [
       "'\\npython is a high-level, general-purpose programming language. \\nits design philosophy emphasizes code readability with the use of significant indentation.\\npython is dynamically type-checked and garbage-collected'"
      ]
     },
     "execution_count": 65,
     "metadata": {},
     "output_type": "execute_result"
    }
   ],
   "source": [
    "python.lower()"
   ]
  },
  {
   "cell_type": "code",
   "execution_count": 71,
   "id": "8d16c023-0595-4696-b221-583681c4d28e",
   "metadata": {},
   "outputs": [],
   "source": [
    "s = \"Data science at aimnxt\""
   ]
  },
  {
   "cell_type": "code",
   "execution_count": 73,
   "id": "7e4a6d51-ad2a-4961-ac51-34457b508b80",
   "metadata": {},
   "outputs": [
    {
     "data": {
      "text/plain": [
       "'Data Science At Aimnxt'"
      ]
     },
     "execution_count": 73,
     "metadata": {},
     "output_type": "execute_result"
    }
   ],
   "source": [
    "s.title()"
   ]
  },
  {
   "cell_type": "code",
   "execution_count": 75,
   "id": "66556ab3-2ad2-4f16-a29c-eebdb11b6af6",
   "metadata": {},
   "outputs": [
    {
     "data": {
      "text/plain": [
       "'Data science at aimnxt'"
      ]
     },
     "execution_count": 75,
     "metadata": {},
     "output_type": "execute_result"
    }
   ],
   "source": [
    "s.capitalize()"
   ]
  },
  {
   "cell_type": "code",
   "execution_count": 77,
   "id": "658c96bd-4eca-4fab-a389-0192beb41184",
   "metadata": {},
   "outputs": [],
   "source": [
    "s = \"Aim neXT\""
   ]
  },
  {
   "cell_type": "code",
   "execution_count": 79,
   "id": "f6604279-1c1c-401e-89ee-f8fda2730546",
   "metadata": {},
   "outputs": [
    {
     "data": {
      "text/plain": [
       "'aIM NExt'"
      ]
     },
     "execution_count": 79,
     "metadata": {},
     "output_type": "execute_result"
    }
   ],
   "source": [
    "s.swapcase()"
   ]
  },
  {
   "cell_type": "code",
   "execution_count": 83,
   "id": "397b1c1a-4092-4009-a9ca-c89812b85481",
   "metadata": {},
   "outputs": [
    {
     "name": "stdout",
     "output_type": "stream",
     "text": [
      "<reversed object at 0x000001B6111179A0>\n"
     ]
    }
   ],
   "source": [
    "print(reversed(s))"
   ]
  },
  {
   "cell_type": "code",
   "execution_count": 85,
   "id": "dbd55ba6-478e-4eda-af25-6fd05fc56eaf",
   "metadata": {},
   "outputs": [
    {
     "data": {
      "text/plain": [
       "'TXen miA'"
      ]
     },
     "execution_count": 85,
     "metadata": {},
     "output_type": "execute_result"
    }
   ],
   "source": [
    "''.join(reversed(s))"
   ]
  },
  {
   "cell_type": "code",
   "execution_count": 87,
   "id": "984997a7-8901-4ee9-a427-b396a4b4b1b8",
   "metadata": {},
   "outputs": [
    {
     "data": {
      "text/plain": [
       "'TXen miA'"
      ]
     },
     "execution_count": 87,
     "metadata": {},
     "output_type": "execute_result"
    }
   ],
   "source": [
    "s[::-1]"
   ]
  },
  {
   "cell_type": "code",
   "execution_count": 89,
   "id": "d41a688b-0671-4aad-8c42-640966fcffc9",
   "metadata": {},
   "outputs": [],
   "source": [
    "s = \"    aim    nxt    \""
   ]
  },
  {
   "cell_type": "code",
   "execution_count": 91,
   "id": "36e0c17d-3092-41f7-a8c7-ffd64df3aaac",
   "metadata": {},
   "outputs": [
    {
     "data": {
      "text/plain": [
       "'aim    nxt'"
      ]
     },
     "execution_count": 91,
     "metadata": {},
     "output_type": "execute_result"
    }
   ],
   "source": [
    "s.strip()"
   ]
  },
  {
   "cell_type": "code",
   "execution_count": 93,
   "id": "61921d8c-d406-462a-a699-5083a77d8d82",
   "metadata": {},
   "outputs": [
    {
     "data": {
      "text/plain": [
       "'    aim    nxt    '"
      ]
     },
     "execution_count": 93,
     "metadata": {},
     "output_type": "execute_result"
    }
   ],
   "source": [
    "s"
   ]
  },
  {
   "cell_type": "code",
   "execution_count": 95,
   "id": "4b45f3ed-8eea-4baf-86da-def3542a0dc8",
   "metadata": {},
   "outputs": [
    {
     "data": {
      "text/plain": [
       "'aim    nxt    '"
      ]
     },
     "execution_count": 95,
     "metadata": {},
     "output_type": "execute_result"
    }
   ],
   "source": [
    "s.lstrip()"
   ]
  },
  {
   "cell_type": "code",
   "execution_count": 97,
   "id": "5fb6ab92-92ef-4baf-b65a-41c1e98b67f6",
   "metadata": {},
   "outputs": [
    {
     "data": {
      "text/plain": [
       "'    aim    nxt'"
      ]
     },
     "execution_count": 97,
     "metadata": {},
     "output_type": "execute_result"
    }
   ],
   "source": [
    "s.rstrip()"
   ]
  },
  {
   "cell_type": "code",
   "execution_count": 99,
   "id": "8b7fad1e-8549-4a47-9217-04a611b3bcbc",
   "metadata": {},
   "outputs": [
    {
     "data": {
      "text/plain": [
       "'aaiamanaxat'"
      ]
     },
     "execution_count": 99,
     "metadata": {},
     "output_type": "execute_result"
    }
   ],
   "source": [
    "\"a\" . join(\"aimnxt\")"
   ]
  },
  {
   "cell_type": "code",
   "execution_count": 103,
   "id": "6b37c120-c866-4807-8f62-7e4d89f44fd4",
   "metadata": {},
   "outputs": [
    {
     "data": {
      "text/plain": [
       "'apadma ipadma mpadma npadma xpadma t'"
      ]
     },
     "execution_count": 103,
     "metadata": {},
     "output_type": "execute_result"
    }
   ],
   "source": [
    "\"padma \" . join('aimnxt')"
   ]
  },
  {
   "cell_type": "code",
   "execution_count": 105,
   "id": "2f52cc67-ef44-452b-82fc-f9342232a848",
   "metadata": {},
   "outputs": [
    {
     "data": {
      "text/plain": [
       "'    aim    nxt    '"
      ]
     },
     "execution_count": 105,
     "metadata": {},
     "output_type": "execute_result"
    }
   ],
   "source": [
    "s"
   ]
  },
  {
   "cell_type": "code",
   "execution_count": 107,
   "id": "896c57a4-ec93-4103-850e-f2df9abd78b8",
   "metadata": {},
   "outputs": [],
   "source": [
    "s = \"aimnxt\""
   ]
  },
  {
   "cell_type": "code",
   "execution_count": 109,
   "id": "c72d2820-e233-46f9-867b-4490a9490f7e",
   "metadata": {},
   "outputs": [
    {
     "data": {
      "text/plain": [
       "'#######aimnxt#######'"
      ]
     },
     "execution_count": 109,
     "metadata": {},
     "output_type": "execute_result"
    }
   ],
   "source": [
    "s.center(20 , '#')"
   ]
  },
  {
   "cell_type": "code",
   "execution_count": 111,
   "id": "f0af79b4-b9f2-4132-aa9d-342fae2ab9cc",
   "metadata": {},
   "outputs": [],
   "source": [
    "s = 'nithin'"
   ]
  },
  {
   "cell_type": "code",
   "execution_count": 113,
   "id": "6b9854e0-75bf-4aeb-aa74-e20a263d34c3",
   "metadata": {},
   "outputs": [
    {
     "data": {
      "text/plain": [
       "'@@@@@@@@@@@@nithin@@@@@@@@@@@@'"
      ]
     },
     "execution_count": 113,
     "metadata": {},
     "output_type": "execute_result"
    }
   ],
   "source": [
    "s.center(30, '@')"
   ]
  },
  {
   "cell_type": "code",
   "execution_count": 115,
   "id": "6240db82-df4a-4361-b4c8-e35fdf83652a",
   "metadata": {},
   "outputs": [],
   "source": [
    "s = \"aIMNXT\""
   ]
  },
  {
   "cell_type": "code",
   "execution_count": 117,
   "id": "84700084-4db0-407c-a11e-47d666edab11",
   "metadata": {},
   "outputs": [
    {
     "data": {
      "text/plain": [
       "False"
      ]
     },
     "execution_count": 117,
     "metadata": {},
     "output_type": "execute_result"
    }
   ],
   "source": [
    "s.isupper()"
   ]
  },
  {
   "cell_type": "code",
   "execution_count": 119,
   "id": "13cbc3bb-9fa6-4a22-9277-4cfdc1e1a085",
   "metadata": {},
   "outputs": [],
   "source": [
    "s1 = \"AIMNXT\""
   ]
  },
  {
   "cell_type": "code",
   "execution_count": 121,
   "id": "a8a845c3-8d01-42b2-83f9-1b5526d77fcd",
   "metadata": {},
   "outputs": [
    {
     "data": {
      "text/plain": [
       "True"
      ]
     },
     "execution_count": 121,
     "metadata": {},
     "output_type": "execute_result"
    }
   ],
   "source": [
    "s1.isupper()"
   ]
  },
  {
   "cell_type": "code",
   "execution_count": 123,
   "id": "a509b3e7-d4cd-468f-bcf4-57a37f97c052",
   "metadata": {},
   "outputs": [
    {
     "data": {
      "text/plain": [
       "False"
      ]
     },
     "execution_count": 123,
     "metadata": {},
     "output_type": "execute_result"
    }
   ],
   "source": [
    "s.islower()"
   ]
  },
  {
   "cell_type": "code",
   "execution_count": 125,
   "id": "e264b3d5-9071-41c6-89cb-778766f482d2",
   "metadata": {},
   "outputs": [],
   "source": [
    "s2 = \"aimnxtdatascience\""
   ]
  },
  {
   "cell_type": "code",
   "execution_count": 127,
   "id": "fda139f6-9196-4a6a-82d5-46a0df815677",
   "metadata": {},
   "outputs": [
    {
     "data": {
      "text/plain": [
       "True"
      ]
     },
     "execution_count": 127,
     "metadata": {},
     "output_type": "execute_result"
    }
   ],
   "source": [
    "s2.islower()"
   ]
  },
  {
   "cell_type": "code",
   "execution_count": 129,
   "id": "71f4fef4-3841-4829-bf74-8a22304b01b2",
   "metadata": {},
   "outputs": [
    {
     "data": {
      "text/plain": [
       "'aIMNXT'"
      ]
     },
     "execution_count": 129,
     "metadata": {},
     "output_type": "execute_result"
    }
   ],
   "source": [
    "s"
   ]
  },
  {
   "cell_type": "code",
   "execution_count": 131,
   "id": "2a4e7903-4683-480f-98b0-fcb227c52053",
   "metadata": {},
   "outputs": [
    {
     "data": {
      "text/plain": [
       "False"
      ]
     },
     "execution_count": 131,
     "metadata": {},
     "output_type": "execute_result"
    }
   ],
   "source": [
    "s.isspace()"
   ]
  },
  {
   "cell_type": "code",
   "execution_count": 135,
   "id": "43e9e406-362f-45b0-a795-3e4027e515d3",
   "metadata": {},
   "outputs": [],
   "source": [
    "s4  = \"   \""
   ]
  },
  {
   "cell_type": "code",
   "execution_count": 137,
   "id": "a4f42330-1fef-4e5b-bf6b-99fefd6e3158",
   "metadata": {},
   "outputs": [
    {
     "data": {
      "text/plain": [
       "True"
      ]
     },
     "execution_count": 137,
     "metadata": {},
     "output_type": "execute_result"
    }
   ],
   "source": [
    "s4.isspace()"
   ]
  },
  {
   "cell_type": "code",
   "execution_count": 139,
   "id": "84ef3ebe-d7e8-40e7-9bba-fd7facc372a1",
   "metadata": {},
   "outputs": [
    {
     "data": {
      "text/plain": [
       "'aIMNXT'"
      ]
     },
     "execution_count": 139,
     "metadata": {},
     "output_type": "execute_result"
    }
   ],
   "source": [
    "s"
   ]
  },
  {
   "cell_type": "code",
   "execution_count": 141,
   "id": "1e62eb07-46c8-46e4-91d3-356ff4298cbc",
   "metadata": {},
   "outputs": [
    {
     "data": {
      "text/plain": [
       "False"
      ]
     },
     "execution_count": 141,
     "metadata": {},
     "output_type": "execute_result"
    }
   ],
   "source": [
    "s.isdigit()"
   ]
  },
  {
   "cell_type": "code",
   "execution_count": 143,
   "id": "929e1743-1578-4496-a8b6-03eeb8f935b0",
   "metadata": {},
   "outputs": [],
   "source": [
    "s5 = \"32424\""
   ]
  },
  {
   "cell_type": "code",
   "execution_count": 145,
   "id": "266ee548-9d6d-4042-a758-71ba4495a86b",
   "metadata": {},
   "outputs": [
    {
     "data": {
      "text/plain": [
       "True"
      ]
     },
     "execution_count": 145,
     "metadata": {},
     "output_type": "execute_result"
    }
   ],
   "source": [
    "s5.isdigit()"
   ]
  },
  {
   "cell_type": "code",
   "execution_count": 147,
   "id": "dd7fb5d2-cfee-41f3-a612-d419825840c6",
   "metadata": {},
   "outputs": [],
   "source": [
    "s6 = \"sdf3454\""
   ]
  },
  {
   "cell_type": "code",
   "execution_count": 149,
   "id": "268eee07-2d2f-4519-b70d-a828cb9bdf62",
   "metadata": {},
   "outputs": [
    {
     "data": {
      "text/plain": [
       "False"
      ]
     },
     "execution_count": 149,
     "metadata": {},
     "output_type": "execute_result"
    }
   ],
   "source": [
    "s6.isdigit()"
   ]
  },
  {
   "cell_type": "code",
   "execution_count": 151,
   "id": "1feecdd6-63f0-4827-93fb-4bb1169bdc8e",
   "metadata": {},
   "outputs": [
    {
     "data": {
      "text/plain": [
       "'aIMNXT'"
      ]
     },
     "execution_count": 151,
     "metadata": {},
     "output_type": "execute_result"
    }
   ],
   "source": [
    "s"
   ]
  },
  {
   "cell_type": "code",
   "execution_count": 153,
   "id": "f4bb9d35-312d-45f6-8945-595297225c1a",
   "metadata": {},
   "outputs": [
    {
     "data": {
      "text/plain": [
       "True"
      ]
     },
     "execution_count": 153,
     "metadata": {},
     "output_type": "execute_result"
    }
   ],
   "source": [
    "s.isalnum()"
   ]
  },
  {
   "cell_type": "code",
   "execution_count": 155,
   "id": "a05d2e0e-8818-4c90-8341-8af7f3c77137",
   "metadata": {},
   "outputs": [
    {
     "data": {
      "text/plain": [
       "True"
      ]
     },
     "execution_count": 155,
     "metadata": {},
     "output_type": "execute_result"
    }
   ],
   "source": [
    "s.isalpha()"
   ]
  },
  {
   "cell_type": "code",
   "execution_count": 157,
   "id": "a7c254db-f328-442a-a189-86c81dedc3f3",
   "metadata": {},
   "outputs": [],
   "source": [
    "s7 = \"345345sgfdg\""
   ]
  },
  {
   "cell_type": "code",
   "execution_count": 159,
   "id": "6a29845c-047f-4779-9a89-1477f5ec207f",
   "metadata": {},
   "outputs": [
    {
     "data": {
      "text/plain": [
       "False"
      ]
     },
     "execution_count": 159,
     "metadata": {},
     "output_type": "execute_result"
    }
   ],
   "source": [
    "s7.isalpha()"
   ]
  },
  {
   "cell_type": "code",
   "execution_count": 161,
   "id": "ee548efa-6b49-4f62-8c9e-facd6bc79d05",
   "metadata": {},
   "outputs": [
    {
     "data": {
      "text/plain": [
       "'aIMNXT'"
      ]
     },
     "execution_count": 161,
     "metadata": {},
     "output_type": "execute_result"
    }
   ],
   "source": [
    "s"
   ]
  },
  {
   "cell_type": "code",
   "execution_count": 163,
   "id": "b6706fa8-bfda-4bb6-9a75-dd149abbd69c",
   "metadata": {},
   "outputs": [
    {
     "data": {
      "text/plain": [
       "False"
      ]
     },
     "execution_count": 163,
     "metadata": {},
     "output_type": "execute_result"
    }
   ],
   "source": [
    "s.startswith('i')"
   ]
  },
  {
   "cell_type": "code",
   "execution_count": 165,
   "id": "9bbf856a-dfaf-4190-a369-d1547778fe70",
   "metadata": {},
   "outputs": [
    {
     "data": {
      "text/plain": [
       "'aIMNXT'"
      ]
     },
     "execution_count": 165,
     "metadata": {},
     "output_type": "execute_result"
    }
   ],
   "source": [
    "s"
   ]
  },
  {
   "cell_type": "code",
   "execution_count": 167,
   "id": "78b48d14-e074-4854-bb8a-ad10385cb272",
   "metadata": {},
   "outputs": [
    {
     "data": {
      "text/plain": [
       "False"
      ]
     },
     "execution_count": 167,
     "metadata": {},
     "output_type": "execute_result"
    }
   ],
   "source": [
    "s.startswith('s')"
   ]
  },
  {
   "cell_type": "code",
   "execution_count": 169,
   "id": "8b72ae74-4c45-47b9-ab8c-58e3044b8567",
   "metadata": {},
   "outputs": [
    {
     "data": {
      "text/plain": [
       "False"
      ]
     },
     "execution_count": 169,
     "metadata": {},
     "output_type": "execute_result"
    }
   ],
   "source": [
    "s.startswith(\"A\")"
   ]
  },
  {
   "cell_type": "code",
   "execution_count": 171,
   "id": "365dd791-9ff5-40a6-b015-bbbca4c236f2",
   "metadata": {},
   "outputs": [
    {
     "data": {
      "text/plain": [
       "True"
      ]
     },
     "execution_count": 171,
     "metadata": {},
     "output_type": "execute_result"
    }
   ],
   "source": [
    "s.startswith('a')"
   ]
  },
  {
   "cell_type": "code",
   "execution_count": 173,
   "id": "6e89861d-46ec-4799-a804-cd44ed874549",
   "metadata": {},
   "outputs": [
    {
     "data": {
      "text/plain": [
       "False"
      ]
     },
     "execution_count": 173,
     "metadata": {},
     "output_type": "execute_result"
    }
   ],
   "source": [
    "s.endswith('n')"
   ]
  },
  {
   "cell_type": "code",
   "execution_count": 175,
   "id": "a98efc2d-b8e7-45f4-9f87-e2b7a8c1958b",
   "metadata": {},
   "outputs": [
    {
     "data": {
      "text/plain": [
       "True"
      ]
     },
     "execution_count": 175,
     "metadata": {},
     "output_type": "execute_result"
    }
   ],
   "source": [
    "s.endswith('T')"
   ]
  },
  {
   "cell_type": "code",
   "execution_count": 177,
   "id": "3df67120-a769-4185-8a51-a44012cf025b",
   "metadata": {},
   "outputs": [
    {
     "data": {
      "text/plain": [
       "'aIMNXT'"
      ]
     },
     "execution_count": 177,
     "metadata": {},
     "output_type": "execute_result"
    }
   ],
   "source": [
    "s"
   ]
  },
  {
   "cell_type": "code",
   "execution_count": null,
   "id": "f1e7566f-032e-4b55-b924-59fd42aebcf7",
   "metadata": {},
   "outputs": [],
   "source": [
    "s7"
   ]
  },
  {
   "cell_type": "code",
   "execution_count": null,
   "id": "1791d692-0efa-4e08-9af3-4559babf9f35",
   "metadata": {},
   "outputs": [],
   "source": [
    "s"
   ]
  },
  {
   "cell_type": "code",
   "execution_count": 179,
   "id": "6af17a9c-8980-444f-a652-d53d9b39ec55",
   "metadata": {},
   "outputs": [
    {
     "data": {
      "text/plain": [
       "False"
      ]
     },
     "execution_count": 179,
     "metadata": {},
     "output_type": "execute_result"
    }
   ],
   "source": [
    "s.isdigit()"
   ]
  },
  {
   "cell_type": "code",
   "execution_count": 181,
   "id": "ad265836-88ab-450a-9feb-9d6f0557eaef",
   "metadata": {},
   "outputs": [
    {
     "data": {
      "text/plain": [
       "False"
      ]
     },
     "execution_count": 181,
     "metadata": {},
     "output_type": "execute_result"
    }
   ],
   "source": [
    "s.isnumeric()"
   ]
  },
  {
   "cell_type": "code",
   "execution_count": 185,
   "id": "e439eb76-ccb5-4fae-8a04-9b6511d569b2",
   "metadata": {},
   "outputs": [
    {
     "data": {
      "text/plain": [
       "'aIMNXT'"
      ]
     },
     "execution_count": 185,
     "metadata": {},
     "output_type": "execute_result"
    }
   ],
   "source": [
    "s"
   ]
  },
  {
   "cell_type": "code",
   "execution_count": 183,
   "id": "059afc0d-1d4d-4997-963a-5fe7398b7c96",
   "metadata": {},
   "outputs": [
    {
     "data": {
      "text/plain": [
       "True"
      ]
     },
     "execution_count": 183,
     "metadata": {},
     "output_type": "execute_result"
    }
   ],
   "source": [
    "s.startswith(\"\")"
   ]
  },
  {
   "cell_type": "code",
   "execution_count": 189,
   "id": "b38793be-3c1c-48ea-8007-cb4e86d0db39",
   "metadata": {},
   "outputs": [
    {
     "data": {
      "text/plain": [
       "'aIMNXT'"
      ]
     },
     "execution_count": 189,
     "metadata": {},
     "output_type": "execute_result"
    }
   ],
   "source": [
    "s"
   ]
  },
  {
   "cell_type": "code",
   "execution_count": 191,
   "id": "16eeb053-b845-47e6-9db8-6eb5f032ea80",
   "metadata": {},
   "outputs": [
    {
     "data": {
      "text/plain": [
       "True"
      ]
     },
     "execution_count": 191,
     "metadata": {},
     "output_type": "execute_result"
    }
   ],
   "source": [
    "s.isascii()"
   ]
  },
  {
   "cell_type": "code",
   "execution_count": 193,
   "id": "af5f8d5e-490e-4594-baa8-bcac7d25c5ba",
   "metadata": {},
   "outputs": [],
   "source": [
    "s = 'aimnxt123   '"
   ]
  },
  {
   "cell_type": "code",
   "execution_count": 195,
   "id": "c5644975-5984-472b-bf62-2a67d9ef8ed8",
   "metadata": {},
   "outputs": [
    {
     "data": {
      "text/plain": [
       "False"
      ]
     },
     "execution_count": 195,
     "metadata": {},
     "output_type": "execute_result"
    }
   ],
   "source": [
    "s.isalnum()"
   ]
  },
  {
   "cell_type": "code",
   "execution_count": 197,
   "id": "887b93a9-b432-4085-af07-4bf5cf8e05bb",
   "metadata": {},
   "outputs": [],
   "source": [
    "s =' 5 '"
   ]
  },
  {
   "cell_type": "code",
   "execution_count": 199,
   "id": "fb5ee0bb-db9b-42b4-a49a-7289d0803340",
   "metadata": {},
   "outputs": [
    {
     "data": {
      "text/plain": [
       "False"
      ]
     },
     "execution_count": 199,
     "metadata": {},
     "output_type": "execute_result"
    }
   ],
   "source": [
    "s.isspace()"
   ]
  },
  {
   "cell_type": "code",
   "execution_count": null,
   "id": "e155af34-3c4c-47c4-a8a2-effa5abe3dd0",
   "metadata": {},
   "outputs": [],
   "source": [
    "s.center (20,'@')"
   ]
  },
  {
   "cell_type": "code",
   "execution_count": null,
   "id": "29938ac7-3ae2-4590-a6ca-de83cbd3681d",
   "metadata": {},
   "outputs": [],
   "source": [
    "s"
   ]
  },
  {
   "cell_type": "code",
   "execution_count": null,
   "id": "f61875d2-7112-4dee-a4fc-44184bbf9594",
   "metadata": {},
   "outputs": [],
   "source": [
    "s1 = '456'\n",
    "s1.isalnum()"
   ]
  },
  {
   "cell_type": "code",
   "execution_count": null,
   "id": "b1e2c973-0518-401f-84d8-fb163ba5b169",
   "metadata": {},
   "outputs": [],
   "source": [
    "s=\"this is my very first programming class\""
   ]
  },
  {
   "cell_type": "code",
   "execution_count": null,
   "id": "84a1d9f2-cbf4-465d-84c1-5919ca2c9441",
   "metadata": {},
   "outputs": [],
   "source": [
    "s.isspace()"
   ]
  },
  {
   "cell_type": "code",
   "execution_count": null,
   "id": "47ccdbc1-64be-4b87-988b-fefaa1615f56",
   "metadata": {},
   "outputs": [],
   "source": [
    "s = \" 6    \""
   ]
  },
  {
   "cell_type": "code",
   "execution_count": null,
   "id": "ff0b688d-c348-4b36-8e4f-2380dff097a2",
   "metadata": {},
   "outputs": [],
   "source": [
    "s.isspace()"
   ]
  },
  {
   "cell_type": "code",
   "execution_count": null,
   "id": "d17bec2a-7278-462b-8e9e-e9b15d5e16ac",
   "metadata": {},
   "outputs": [],
   "source": [
    "s = \"453443\""
   ]
  },
  {
   "cell_type": "code",
   "execution_count": null,
   "id": "d0db7391-9814-4770-921b-3b8c66d77f44",
   "metadata": {},
   "outputs": [],
   "source": [
    "s.isdigit()"
   ]
  },
  {
   "cell_type": "code",
   "execution_count": null,
   "id": "e5b10f90-d42c-4e9e-a4cb-0644b4a743df",
   "metadata": {},
   "outputs": [],
   "source": [
    "s1 = \"fasfdas345346346\""
   ]
  },
  {
   "cell_type": "code",
   "execution_count": null,
   "id": "535c05fb-7eb6-477f-97f5-c1671bdad346",
   "metadata": {},
   "outputs": [],
   "source": [
    "s1.isnumeric()"
   ]
  },
  {
   "cell_type": "code",
   "execution_count": null,
   "id": "5e3935ba-cb80-49ad-af43-f6ed5f16f85f",
   "metadata": {},
   "outputs": [],
   "source": [
    "s2 = \"345435 3455 3453\""
   ]
  },
  {
   "cell_type": "code",
   "execution_count": null,
   "id": "ba0a4d25-e158-4b39-bf61-48eec449812c",
   "metadata": {},
   "outputs": [],
   "source": [
    "s2.isnumeric()"
   ]
  },
  {
   "cell_type": "code",
   "execution_count": null,
   "id": "ed088129-7e5b-4169-8766-250ca689c110",
   "metadata": {},
   "outputs": [],
   "source": [
    "s.isnumeric()"
   ]
  },
  {
   "cell_type": "code",
   "execution_count": null,
   "id": "615b781a-7f8f-4899-80fc-348d759c5227",
   "metadata": {},
   "outputs": [],
   "source": [
    "s2.isdigit()"
   ]
  },
  {
   "cell_type": "code",
   "execution_count": null,
   "id": "65fd4039-432a-4eea-983f-333ca84459f3",
   "metadata": {},
   "outputs": [],
   "source": [
    "s = 56"
   ]
  },
  {
   "cell_type": "code",
   "execution_count": null,
   "id": "ac7f8514-b997-420f-b187-cb30c2e495df",
   "metadata": {},
   "outputs": [],
   "source": [
    "s= \"aimnxt\""
   ]
  },
  {
   "cell_type": "code",
   "execution_count": null,
   "id": "39c8b4fc-6b7a-4883-b423-30ac595b9669",
   "metadata": {},
   "outputs": [],
   "source": [
    "reversed(s)"
   ]
  },
  {
   "cell_type": "code",
   "execution_count": null,
   "id": "aa9cf25b-dd23-4549-b85e-ba2ab2538e2e",
   "metadata": {},
   "outputs": [],
   "source": [
    "'d'.join(\"aimnxt\")"
   ]
  },
  {
   "cell_type": "code",
   "execution_count": null,
   "id": "553f1897-1d4b-4505-8613-4a7693400014",
   "metadata": {},
   "outputs": [],
   "source": [
    "\"\".join(reversed(\"aimnxt\"))"
   ]
  },
  {
   "cell_type": "code",
   "execution_count": null,
   "id": "45d437ab-5b4e-4cc3-b3e5-5df4945da35f",
   "metadata": {},
   "outputs": [],
   "source": [
    "s= \"453453.456\""
   ]
  },
  {
   "cell_type": "code",
   "execution_count": null,
   "id": "223b1e0b-6862-403f-931b-318ccaa5d2b3",
   "metadata": {},
   "outputs": [],
   "source": [
    "s.isdigit()"
   ]
  },
  {
   "cell_type": "code",
   "execution_count": null,
   "id": "df485648-fa3e-4099-8775-4e9f833b835e",
   "metadata": {},
   "outputs": [],
   "source": [
    "s.isnumeric()"
   ]
  },
  {
   "cell_type": "code",
   "execution_count": 201,
   "id": "054a821c-4e8b-4c74-bdb3-5dada27d05ad",
   "metadata": {},
   "outputs": [],
   "source": [
    "s = 'aimnxt\\tdatascience\\thyderabad'"
   ]
  },
  {
   "cell_type": "code",
   "execution_count": 203,
   "id": "1aba91bd-f24c-45b3-832b-186ddded5fc6",
   "metadata": {},
   "outputs": [
    {
     "data": {
      "text/plain": [
       "'aimnxt  datascience     hyderabad'"
      ]
     },
     "execution_count": 203,
     "metadata": {},
     "output_type": "execute_result"
    }
   ],
   "source": [
    "s.expandtabs()"
   ]
  },
  {
   "cell_type": "code",
   "execution_count": null,
   "id": "9a83d8b9-2507-44c2-8cbf-fe09676757b4",
   "metadata": {},
   "outputs": [],
   "source": [
    "s=\"Aimnxt\"\n",
    "\"\".join(reversed(s))"
   ]
  },
  {
   "cell_type": "code",
   "execution_count": null,
   "id": "b2dcfbf7-df34-4d03-a77d-025baf690b38",
   "metadata": {},
   "outputs": [],
   "source": [
    "s[::-1]"
   ]
  },
  {
   "cell_type": "code",
   "execution_count": null,
   "id": "7b9b71a9-6eaf-4572-b750-ca2b4a298acd",
   "metadata": {},
   "outputs": [],
   "source": [
    "s=\"hhe\\tgge\\thhe\"\n",
    "s.expandtabs()"
   ]
  },
  {
   "cell_type": "markdown",
   "id": "d6872f95-56b5-4c61-bd28-45cc302e0290",
   "metadata": {},
   "source": [
    "Assignment"
   ]
  },
  {
   "cell_type": "markdown",
   "id": "4cea30be-a3d0-41fc-a27d-64111c886ac5",
   "metadata": {},
   "source": [
    "s = \"this is My First Python programming class and i am learNING python string and its function\"\n",
    "1. Try to extract data from index one to index 300 with a jump of 3 \n",
    "2. Try to reverse a string without using reverse function \n",
    "3. Try to split a string after conversion of entire string in uppercase \n",
    "4. try to convert the whole string into lower case \n",
    "5. Try to capitalize the whole string \n",
    "6. Write a diference between isalnum() and isalpha()\n",
    "7. Try to give an example of expand tab\n",
    "8. Give an example of strip , lstrip and rstrip \n",
    "9. Replace a string charecter by another charector by taking your own example \n",
    "\"aimnxt\"\n",
    "10. Try  to give a defination of string center function with and exmple \n",
    "11. Write your own definition of compiler and interpretor without copy paste form internet in your own language\n",
    "12. Python is a interpreted of compiled language give a clear ans with your understanding \n",
    "13. Try to write a usecase of python with your understanding ."
   ]
  },
  {
   "cell_type": "code",
   "execution_count": null,
   "id": "4e6ac3cc-d6e1-4e69-88ff-f2c021c43f9a",
   "metadata": {},
   "outputs": [],
   "source": []
  }
 ],
 "metadata": {
  "kernelspec": {
   "display_name": "Python [conda env:base] *",
   "language": "python",
   "name": "conda-base-py"
  },
  "language_info": {
   "codemirror_mode": {
    "name": "ipython",
    "version": 3
   },
   "file_extension": ".py",
   "mimetype": "text/x-python",
   "name": "python",
   "nbconvert_exporter": "python",
   "pygments_lexer": "ipython3",
   "version": "3.12.7"
  }
 },
 "nbformat": 4,
 "nbformat_minor": 5
}
