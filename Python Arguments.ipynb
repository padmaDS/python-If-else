{
 "cells": [
  {
   "cell_type": "markdown",
   "id": "9945d432-f9e5-4691-9248-4dc27bce2d3e",
   "metadata": {},
   "source": [
    "## Positional Arguments\n",
    "\n",
    "Arguments are passed in the same order as the parameters."
   ]
  },
  {
   "cell_type": "code",
   "execution_count": 1,
   "id": "7c9ab3de-ef5a-494b-a2b6-dfd84bbaf6d2",
   "metadata": {},
   "outputs": [],
   "source": [
    "def add(a, b):\n",
    "    return a + b\n",
    "\n",
    "result = add(5, 3)  # a=5, b=3\n"
   ]
  },
  {
   "cell_type": "markdown",
   "id": "9fd4675d-6553-4da5-ac13-52ef825e125d",
   "metadata": {},
   "source": [
    "Rectangle Area"
   ]
  },
  {
   "cell_type": "code",
   "execution_count": null,
   "id": "0ae560fc-2f57-4d03-b438-f277be03bd79",
   "metadata": {},
   "outputs": [],
   "source": [
    "def rectangle_area(length, width):\n",
    "    return length * width\n",
    "\n",
    "area = rectangle_area(5, 3)  # length=5, width=3\n",
    "print(\"Area:\", area)\n"
   ]
  },
  {
   "cell_type": "markdown",
   "id": "71af00b1-eb5a-4b8f-bc0a-5495e5f665ec",
   "metadata": {},
   "source": [
    "Greeting with Time"
   ]
  },
  {
   "cell_type": "code",
   "execution_count": null,
   "id": "a0c6a371-78c0-44d0-894b-e9fb22b841be",
   "metadata": {},
   "outputs": [],
   "source": [
    "def greet(name, time_of_day):\n",
    "    print(f\"Good {time_of_day}, {name}!\")\n",
    "\n",
    "greet(\"Alice\", \"morning\")   # name=\"Alice\", time_of_day=\"morning\"\n"
   ]
  },
  {
   "cell_type": "code",
   "execution_count": null,
   "id": "a52674c0-be12-443b-b1b1-71fcd0059f9b",
   "metadata": {},
   "outputs": [],
   "source": []
  },
  {
   "cell_type": "markdown",
   "id": "b9bea865-1e4e-4b65-be75-227bd3e25765",
   "metadata": {},
   "source": [
    "## Keyword Arguments\n",
    "\n",
    "Arguments are passed by naming the parameter explicitly."
   ]
  },
  {
   "cell_type": "code",
   "execution_count": 6,
   "id": "c5acde70-f43a-4285-a4ec-b70b190305ad",
   "metadata": {},
   "outputs": [],
   "source": [
    "def add(a, b):\n",
    "    return a + b\n",
    "\n",
    "result = add(b=3, a=5)  # argument order doesn't matter\n"
   ]
  },
  {
   "cell_type": "markdown",
   "id": "bb46c79f-b527-4edd-b1b8-981aedf8e663",
   "metadata": {},
   "source": [
    "Describing a Car"
   ]
  },
  {
   "cell_type": "code",
   "execution_count": 7,
   "id": "7a4edcee-e91e-4d34-8c35-4b19b3b77d2d",
   "metadata": {},
   "outputs": [
    {
     "name": "stdout",
     "output_type": "stream",
     "text": [
      "2022 Honda Civic\n"
     ]
    }
   ],
   "source": [
    "def describe_car(make, model, year):\n",
    "    print(f\"{year} {make} {model}\")\n",
    "\n",
    "describe_car(model=\"Civic\", make=\"Honda\", year=2022)\n"
   ]
  },
  {
   "cell_type": "code",
   "execution_count": null,
   "id": "b8f9d9b4-2abe-4f78-9f6a-c464d62fd8a2",
   "metadata": {},
   "outputs": [],
   "source": [
    "def greet(name, time_of_day):\n",
    "    print(f\"Good {time_of_day}, {name}!\")\n",
    "\n",
    "greet(time_of_day=\"evening\", name=\"Bob\")\n"
   ]
  },
  {
   "cell_type": "markdown",
   "id": "62dc7359-f6f5-4fba-b23b-339d17a5ebfa",
   "metadata": {},
   "source": [
    "## Default Arguments\n",
    "Provide a default value if the argument is not passed.\n"
   ]
  },
  {
   "cell_type": "code",
   "execution_count": 3,
   "id": "7bcc1451-5739-420c-8bfb-0c49f4110c72",
   "metadata": {},
   "outputs": [
    {
     "name": "stdout",
     "output_type": "stream",
     "text": [
      "Hello, User!\n",
      "Hello, Alice!\n"
     ]
    }
   ],
   "source": [
    "def greet(name=\"User\"):\n",
    "    print(f\"Hello, {name}!\")\n",
    "\n",
    "greet()           # Uses default: \"User\"\n",
    "greet(\"Alice\")    # Uses provided argument: \"Alice\"\n"
   ]
  },
  {
   "cell_type": "markdown",
   "id": "9ea08878-b2ce-4c25-98c0-6a0c4db62ecd",
   "metadata": {},
   "source": [
    "Greeting with Default Time"
   ]
  },
  {
   "cell_type": "code",
   "execution_count": 8,
   "id": "4d4397ec-d6c9-4f2b-ba2b-53a5859c527d",
   "metadata": {},
   "outputs": [
    {
     "name": "stdout",
     "output_type": "stream",
     "text": [
      "Good day, Alice!\n",
      "Good night, Bob!\n"
     ]
    }
   ],
   "source": [
    "def greet(name, time_of_day=\"day\"):\n",
    "    print(f\"Good {time_of_day}, {name}!\")\n",
    "\n",
    "greet(\"Alice\")                # Uses default time_of_day\n",
    "greet(\"Bob\", \"night\")         # Overrides default\n"
   ]
  },
  {
   "cell_type": "code",
   "execution_count": null,
   "id": "fd98cf4c-04cd-4dba-8162-d51dd083c049",
   "metadata": {},
   "outputs": [],
   "source": []
  }
 ],
 "metadata": {
  "kernelspec": {
   "display_name": "Python 3 (ipykernel)",
   "language": "python",
   "name": "python3"
  },
  "language_info": {
   "codemirror_mode": {
    "name": "ipython",
    "version": 3
   },
   "file_extension": ".py",
   "mimetype": "text/x-python",
   "name": "python",
   "nbconvert_exporter": "python",
   "pygments_lexer": "ipython3",
   "version": "3.12.7"
  }
 },
 "nbformat": 4,
 "nbformat_minor": 5
}
