{
 "cells": [
  {
   "cell_type": "markdown",
   "id": "a69df1c1-130b-4973-bb2e-3172af7e2696",
   "metadata": {},
   "source": [
    "# Variables"
   ]
  },
  {
   "cell_type": "markdown",
   "id": "5c451603-eb0f-4476-9b5e-d06425148958",
   "metadata": {},
   "source": [
    "## Variables"
   ]
  },
  {
   "cell_type": "markdown",
   "id": "41080011-ada0-487b-8134-65ef8bf52566",
   "metadata": {},
   "source": [
    "### Variables"
   ]
  },
  {
   "cell_type": "code",
   "execution_count": 18,
   "id": "6e05feb5-c77a-4145-a2c2-625453c17f19",
   "metadata": {},
   "outputs": [],
   "source": [
    "a=10"
   ]
  },
  {
   "cell_type": "code",
   "execution_count": 2,
   "id": "e576bcc7-2c42-4b50-a278-0519d1d90630",
   "metadata": {},
   "outputs": [
    {
     "name": "stdout",
     "output_type": "stream",
     "text": [
      "10\n"
     ]
    }
   ],
   "source": [
    "print(a)"
   ]
  },
  {
   "cell_type": "code",
   "execution_count": 3,
   "id": "0fae289c-8429-4eaf-82f6-fcb202b320df",
   "metadata": {},
   "outputs": [],
   "source": [
    "student = \"Sharla Khan\""
   ]
  },
  {
   "cell_type": "code",
   "execution_count": 4,
   "id": "f3915880-ce4f-4a21-add9-eeca8a59353f",
   "metadata": {},
   "outputs": [
    {
     "name": "stdout",
     "output_type": "stream",
     "text": [
      "Sharla Khan\n"
     ]
    }
   ],
   "source": [
    "print(student)"
   ]
  },
  {
   "cell_type": "code",
   "execution_count": 5,
   "id": "d811d59d-41fe-4347-812c-325e5d22cd8d",
   "metadata": {},
   "outputs": [
    {
     "name": "stdout",
     "output_type": "stream",
     "text": [
      "Hello\n"
     ]
    }
   ],
   "source": [
    "print(\"Hello\")"
   ]
  },
  {
   "cell_type": "code",
   "execution_count": 6,
   "id": "9959c17f-378c-4a56-af72-b4b29c2c87e6",
   "metadata": {},
   "outputs": [
    {
     "ename": "SyntaxError",
     "evalue": "invalid syntax (2869012887.py, line 1)",
     "output_type": "error",
     "traceback": [
      "\u001b[1;36m  Cell \u001b[1;32mIn[6], line 1\u001b[1;36m\u001b[0m\n\u001b[1;33m    a@ = 100\u001b[0m\n\u001b[1;37m       ^\u001b[0m\n\u001b[1;31mSyntaxError\u001b[0m\u001b[1;31m:\u001b[0m invalid syntax\n"
     ]
    }
   ],
   "source": [
    "a@ = 100"
   ]
  },
  {
   "cell_type": "code",
   "execution_count": 7,
   "id": "41443138-380f-441d-b356-04fb604dfced",
   "metadata": {},
   "outputs": [],
   "source": [
    "a_ = \"Kamha\""
   ]
  },
  {
   "cell_type": "code",
   "execution_count": 8,
   "id": "fd3909a8-6dab-45cb-83a9-264e453b477f",
   "metadata": {},
   "outputs": [
    {
     "name": "stdout",
     "output_type": "stream",
     "text": [
      "Kamha\n"
     ]
    }
   ],
   "source": [
    "print(a_)"
   ]
  },
  {
   "cell_type": "code",
   "execution_count": 9,
   "id": "6381511a-98df-40f3-bf95-25231384d22c",
   "metadata": {},
   "outputs": [
    {
     "ename": "SyntaxError",
     "evalue": "invalid syntax (1703715020.py, line 1)",
     "output_type": "error",
     "traceback": [
      "\u001b[1;36m  Cell \u001b[1;32mIn[9], line 1\u001b[1;36m\u001b[0m\n\u001b[1;33m    my name = \"padma\"\u001b[0m\n\u001b[1;37m       ^\u001b[0m\n\u001b[1;31mSyntaxError\u001b[0m\u001b[1;31m:\u001b[0m invalid syntax\n"
     ]
    }
   ],
   "source": [
    "my name = \"padma\""
   ]
  },
  {
   "cell_type": "code",
   "execution_count": 10,
   "id": "5300884a-476b-4307-96c4-87673ce6674d",
   "metadata": {},
   "outputs": [],
   "source": [
    "my_name = \"Padma\""
   ]
  },
  {
   "cell_type": "code",
   "execution_count": 16,
   "id": "f4a2eedb-6200-451f-9541-f55bc254671f",
   "metadata": {},
   "outputs": [
    {
     "data": {
      "text/plain": [
       "'Padma'"
      ]
     },
     "execution_count": 16,
     "metadata": {},
     "output_type": "execute_result"
    }
   ],
   "source": [
    "my_name"
   ]
  },
  {
   "cell_type": "code",
   "execution_count": 11,
   "id": "ae77ee02-46f5-4cb5-8ed5-275ee9f1109b",
   "metadata": {},
   "outputs": [
    {
     "name": "stdout",
     "output_type": "stream",
     "text": [
      "Padma\n"
     ]
    }
   ],
   "source": [
    "print(my_name)"
   ]
  },
  {
   "cell_type": "code",
   "execution_count": null,
   "id": "c0dd414e-c82b-4cbb-b58d-2a64939f7327",
   "metadata": {},
   "outputs": [],
   "source": [
    "variable course, assign the value as datascience"
   ]
  },
  {
   "cell_type": "code",
   "execution_count": 13,
   "id": "1ecc7bfb-4807-44b7-8a89-4311bb611881",
   "metadata": {},
   "outputs": [],
   "source": [
    "course = \"data science\""
   ]
  },
  {
   "cell_type": "code",
   "execution_count": 14,
   "id": "2e347eb2-d1f1-4933-8e70-0adc2e6f6820",
   "metadata": {},
   "outputs": [
    {
     "name": "stdout",
     "output_type": "stream",
     "text": [
      "data science\n"
     ]
    }
   ],
   "source": [
    "print(course)"
   ]
  },
  {
   "cell_type": "code",
   "execution_count": 15,
   "id": "1ac82f60-901e-435a-ab69-c2d463285ecc",
   "metadata": {},
   "outputs": [
    {
     "data": {
      "text/plain": [
       "'data science'"
      ]
     },
     "execution_count": 15,
     "metadata": {},
     "output_type": "execute_result"
    }
   ],
   "source": [
    "course"
   ]
  },
  {
   "cell_type": "code",
   "execution_count": 17,
   "id": "93424908-8a0f-4520-8eed-1f25f3c235e4",
   "metadata": {},
   "outputs": [
    {
     "data": {
      "text/plain": [
       "'Padma'"
      ]
     },
     "execution_count": 17,
     "metadata": {},
     "output_type": "execute_result"
    }
   ],
   "source": [
    "my_name"
   ]
  },
  {
   "cell_type": "code",
   "execution_count": 19,
   "id": "69f34564-52f5-4a62-9921-deea065664b9",
   "metadata": {},
   "outputs": [
    {
     "data": {
      "text/plain": [
       "10"
      ]
     },
     "execution_count": 19,
     "metadata": {},
     "output_type": "execute_result"
    }
   ],
   "source": [
    "a"
   ]
  },
  {
   "cell_type": "code",
   "execution_count": 20,
   "id": "78b0c581-7448-43a6-9abd-146e74706f81",
   "metadata": {},
   "outputs": [],
   "source": [
    "my_name = \"kemaw\""
   ]
  },
  {
   "cell_type": "code",
   "execution_count": 21,
   "id": "3454587c-98b0-4ff2-bffd-da3a556f8db6",
   "metadata": {},
   "outputs": [
    {
     "data": {
      "text/plain": [
       "'kemaw'"
      ]
     },
     "execution_count": 21,
     "metadata": {},
     "output_type": "execute_result"
    }
   ],
   "source": [
    "my_name"
   ]
  },
  {
   "cell_type": "code",
   "execution_count": 22,
   "id": "ec4eeff5-1069-48ad-949f-984147fc6e1c",
   "metadata": {},
   "outputs": [],
   "source": [
    "a = 100"
   ]
  },
  {
   "cell_type": "code",
   "execution_count": 23,
   "id": "ab27fd74-65b9-4f02-840e-f6e7dd634942",
   "metadata": {},
   "outputs": [
    {
     "data": {
      "text/plain": [
       "100"
      ]
     },
     "execution_count": 23,
     "metadata": {},
     "output_type": "execute_result"
    }
   ],
   "source": [
    "a"
   ]
  },
  {
   "cell_type": "code",
   "execution_count": 24,
   "id": "86b907a1-d443-46f5-a5f3-c3e451d60387",
   "metadata": {},
   "outputs": [],
   "source": [
    "My_name = \"Prakash\""
   ]
  },
  {
   "cell_type": "code",
   "execution_count": 25,
   "id": "dd999bf8-453c-473c-884e-35eaccfed274",
   "metadata": {},
   "outputs": [
    {
     "data": {
      "text/plain": [
       "'Prakash'"
      ]
     },
     "execution_count": 25,
     "metadata": {},
     "output_type": "execute_result"
    }
   ],
   "source": [
    "My_name"
   ]
  },
  {
   "cell_type": "code",
   "execution_count": 26,
   "id": "cc2d54a3-95b6-4503-8b0c-39a479385d24",
   "metadata": {},
   "outputs": [
    {
     "data": {
      "text/plain": [
       "'kemaw'"
      ]
     },
     "execution_count": 26,
     "metadata": {},
     "output_type": "execute_result"
    }
   ],
   "source": [
    "my_name"
   ]
  },
  {
   "cell_type": "code",
   "execution_count": 27,
   "id": "ea0f656a-c3bf-4702-8b96-8991e42f85e7",
   "metadata": {},
   "outputs": [
    {
     "data": {
      "text/plain": [
       "int"
      ]
     },
     "execution_count": 27,
     "metadata": {},
     "output_type": "execute_result"
    }
   ],
   "source": [
    "type(a)"
   ]
  },
  {
   "cell_type": "code",
   "execution_count": 28,
   "id": "ffd91697-be21-4ace-bc68-40fff0e721db",
   "metadata": {},
   "outputs": [
    {
     "data": {
      "text/plain": [
       "str"
      ]
     },
     "execution_count": 28,
     "metadata": {},
     "output_type": "execute_result"
    }
   ],
   "source": [
    "type(My_name)"
   ]
  },
  {
   "cell_type": "code",
   "execution_count": 29,
   "id": "791b6231-ac5a-4f91-bece-dfc6e197280a",
   "metadata": {},
   "outputs": [
    {
     "name": "stdout",
     "output_type": "stream",
     "text": [
      "<class 'int'>\n"
     ]
    }
   ],
   "source": [
    "print(type(a))"
   ]
  },
  {
   "cell_type": "code",
   "execution_count": 30,
   "id": "9598cea2-f34d-496a-9afb-c22ae30b2cd8",
   "metadata": {},
   "outputs": [
    {
     "name": "stdout",
     "output_type": "stream",
     "text": [
      "<class 'str'>\n"
     ]
    }
   ],
   "source": [
    "print(type(My_name))"
   ]
  },
  {
   "cell_type": "code",
   "execution_count": 31,
   "id": "e2d4711d-1cee-469d-ab8d-89041ddbc938",
   "metadata": {},
   "outputs": [],
   "source": [
    "b = True"
   ]
  },
  {
   "cell_type": "code",
   "execution_count": 32,
   "id": "06b4ba64-aa25-4347-a17c-3b4e990e41d7",
   "metadata": {},
   "outputs": [
    {
     "data": {
      "text/plain": [
       "True"
      ]
     },
     "execution_count": 32,
     "metadata": {},
     "output_type": "execute_result"
    }
   ],
   "source": [
    "b"
   ]
  },
  {
   "cell_type": "code",
   "execution_count": 33,
   "id": "0968ef07-710f-4ea3-93ec-84fa1fcb3182",
   "metadata": {},
   "outputs": [
    {
     "data": {
      "text/plain": [
       "bool"
      ]
     },
     "execution_count": 33,
     "metadata": {},
     "output_type": "execute_result"
    }
   ],
   "source": [
    "type(b)"
   ]
  },
  {
   "cell_type": "code",
   "execution_count": 35,
   "id": "e47ac4a3-74dc-4353-ae1a-f63dd9efd5a4",
   "metadata": {},
   "outputs": [
    {
     "name": "stdout",
     "output_type": "stream",
     "text": [
      "<class 'bool'>\n"
     ]
    }
   ],
   "source": [
    "print(type(b))"
   ]
  },
  {
   "cell_type": "code",
   "execution_count": 36,
   "id": "c568f5e7-8f0f-4007-bd80-bc95171942b7",
   "metadata": {},
   "outputs": [],
   "source": [
    "c = False"
   ]
  },
  {
   "cell_type": "code",
   "execution_count": 37,
   "id": "ab996315-e31a-4d98-963b-f1d0c788733a",
   "metadata": {},
   "outputs": [
    {
     "data": {
      "text/plain": [
       "bool"
      ]
     },
     "execution_count": 37,
     "metadata": {},
     "output_type": "execute_result"
    }
   ],
   "source": [
    "type(c)"
   ]
  },
  {
   "cell_type": "code",
   "execution_count": 38,
   "id": "a2f3ae75-712d-4c47-b946-67625190b4d7",
   "metadata": {},
   "outputs": [
    {
     "data": {
      "text/plain": [
       "True"
      ]
     },
     "execution_count": 38,
     "metadata": {},
     "output_type": "execute_result"
    }
   ],
   "source": [
    "True"
   ]
  },
  {
   "cell_type": "code",
   "execution_count": 45,
   "id": "7eb62986-06c0-4258-a93f-eb1b785406bc",
   "metadata": {},
   "outputs": [
    {
     "ename": "NameError",
     "evalue": "name 'true' is not defined",
     "output_type": "error",
     "traceback": [
      "\u001b[1;31m---------------------------------------------------------------------------\u001b[0m",
      "\u001b[1;31mNameError\u001b[0m                                 Traceback (most recent call last)",
      "Cell \u001b[1;32mIn[45], line 1\u001b[0m\n\u001b[1;32m----> 1\u001b[0m true\n",
      "\u001b[1;31mNameError\u001b[0m: name 'true' is not defined"
     ]
    }
   ],
   "source": [
    "true"
   ]
  },
  {
   "cell_type": "code",
   "execution_count": 39,
   "id": "7e07d902-7a8e-40de-882d-be551b59b794",
   "metadata": {},
   "outputs": [
    {
     "data": {
      "text/plain": [
       "2"
      ]
     },
     "execution_count": 39,
     "metadata": {},
     "output_type": "execute_result"
    }
   ],
   "source": [
    "True + True"
   ]
  },
  {
   "cell_type": "code",
   "execution_count": 40,
   "id": "7e7fa901-62c5-437a-a41e-1eb16dbe195a",
   "metadata": {},
   "outputs": [
    {
     "data": {
      "text/plain": [
       "0"
      ]
     },
     "execution_count": 40,
     "metadata": {},
     "output_type": "execute_result"
    }
   ],
   "source": [
    "False + False"
   ]
  },
  {
   "cell_type": "code",
   "execution_count": 41,
   "id": "c553e488-8164-4cb2-aaa2-04c99a1e8423",
   "metadata": {},
   "outputs": [
    {
     "data": {
      "text/plain": [
       "1"
      ]
     },
     "execution_count": 41,
     "metadata": {},
     "output_type": "execute_result"
    }
   ],
   "source": [
    "True + False"
   ]
  },
  {
   "cell_type": "code",
   "execution_count": 42,
   "id": "8b06aa1b-7c48-4909-8399-d76127363fb9",
   "metadata": {},
   "outputs": [
    {
     "data": {
      "text/plain": [
       "1"
      ]
     },
     "execution_count": 42,
     "metadata": {},
     "output_type": "execute_result"
    }
   ],
   "source": [
    "False + True"
   ]
  },
  {
   "cell_type": "code",
   "execution_count": 43,
   "id": "38c34039-6dd6-4c3c-acd7-0ab452c5a0ab",
   "metadata": {},
   "outputs": [],
   "source": [
    "d = 10.35"
   ]
  },
  {
   "cell_type": "code",
   "execution_count": 44,
   "id": "d6bce735-b677-4dcd-a0b2-6717232615b1",
   "metadata": {},
   "outputs": [
    {
     "data": {
      "text/plain": [
       "float"
      ]
     },
     "execution_count": 44,
     "metadata": {},
     "output_type": "execute_result"
    }
   ],
   "source": [
    "type(d)"
   ]
  },
  {
   "cell_type": "code",
   "execution_count": 46,
   "id": "fe7f969c-e54f-4401-8a57-9220b7324edf",
   "metadata": {},
   "outputs": [],
   "source": [
    "e = 10+3j"
   ]
  },
  {
   "cell_type": "code",
   "execution_count": 47,
   "id": "be8aefd3-c7fc-48f5-a9fb-657fe95a48d8",
   "metadata": {},
   "outputs": [
    {
     "data": {
      "text/plain": [
       "complex"
      ]
     },
     "execution_count": 47,
     "metadata": {},
     "output_type": "execute_result"
    }
   ],
   "source": [
    "type(e)"
   ]
  },
  {
   "cell_type": "code",
   "execution_count": 50,
   "id": "9f7958c0-479a-4263-8a8b-eff236dc3600",
   "metadata": {},
   "outputs": [
    {
     "data": {
      "text/plain": [
       "3.0"
      ]
     },
     "execution_count": 50,
     "metadata": {},
     "output_type": "execute_result"
    }
   ],
   "source": [
    "e.imag"
   ]
  },
  {
   "cell_type": "code",
   "execution_count": 51,
   "id": "f377a042-43c7-470a-9c7e-cb2375fa0f55",
   "metadata": {},
   "outputs": [
    {
     "data": {
      "text/plain": [
       "10.0"
      ]
     },
     "execution_count": 51,
     "metadata": {},
     "output_type": "execute_result"
    }
   ],
   "source": [
    "e.real"
   ]
  },
  {
   "cell_type": "markdown",
   "id": "a980fec7-0f46-436c-a5ed-f63c41dc1faa",
   "metadata": {},
   "source": [
    "## Strings in Deep"
   ]
  },
  {
   "cell_type": "code",
   "execution_count": 53,
   "id": "893a82e8-7c69-46ab-8cc9-09e007f89567",
   "metadata": {},
   "outputs": [],
   "source": [
    "student = \"Katy\""
   ]
  },
  {
   "cell_type": "code",
   "execution_count": 55,
   "id": "874b852b-de5f-4048-8cb1-c295e667c56b",
   "metadata": {},
   "outputs": [],
   "source": [
    "Student = 'Prakash'"
   ]
  },
  {
   "cell_type": "code",
   "execution_count": 56,
   "id": "e8b5859f-b3ee-4a33-8562-2e5d82985346",
   "metadata": {},
   "outputs": [
    {
     "data": {
      "text/plain": [
       "str"
      ]
     },
     "execution_count": 56,
     "metadata": {},
     "output_type": "execute_result"
    }
   ],
   "source": [
    "type(student)"
   ]
  },
  {
   "cell_type": "code",
   "execution_count": 57,
   "id": "5a1b14e4-49ee-47b8-9b7b-ce5dd38efa22",
   "metadata": {},
   "outputs": [
    {
     "data": {
      "text/plain": [
       "'Katy'"
      ]
     },
     "execution_count": 57,
     "metadata": {},
     "output_type": "execute_result"
    }
   ],
   "source": [
    "student"
   ]
  },
  {
   "cell_type": "code",
   "execution_count": 58,
   "id": "940cc61c-90c2-4cf9-81e1-edcb6c4f83fc",
   "metadata": {},
   "outputs": [
    {
     "data": {
      "text/plain": [
       "'Prakash'"
      ]
     },
     "execution_count": 58,
     "metadata": {},
     "output_type": "execute_result"
    }
   ],
   "source": [
    "Student "
   ]
  },
  {
   "cell_type": "code",
   "execution_count": 60,
   "id": "e01a628a-1912-40dc-b2fa-aab6864855c8",
   "metadata": {},
   "outputs": [
    {
     "data": {
      "text/plain": [
       "'Katy'"
      ]
     },
     "execution_count": 60,
     "metadata": {},
     "output_type": "execute_result"
    }
   ],
   "source": [
    "student"
   ]
  },
  {
   "cell_type": "code",
   "execution_count": 59,
   "id": "752e87da-a89c-4ca7-9b93-c52e55063e80",
   "metadata": {},
   "outputs": [
    {
     "data": {
      "text/plain": [
       "'KATY'"
      ]
     },
     "execution_count": 59,
     "metadata": {},
     "output_type": "execute_result"
    }
   ],
   "source": [
    "student.upper()"
   ]
  },
  {
   "cell_type": "code",
   "execution_count": 61,
   "id": "66e5a51b-8079-4d03-ba9d-9e3e483ab6ff",
   "metadata": {},
   "outputs": [
    {
     "data": {
      "text/plain": [
       "'katy'"
      ]
     },
     "execution_count": 61,
     "metadata": {},
     "output_type": "execute_result"
    }
   ],
   "source": [
    "student.lower()"
   ]
  },
  {
   "cell_type": "code",
   "execution_count": 62,
   "id": "9cf0f599-fc65-472c-a17c-d2ac9b729b4f",
   "metadata": {},
   "outputs": [],
   "source": [
    "paragraph = \"\"\"Data science is an interdisciplinary field that uses scientific methods, processes, algorithms, \n",
    "and systems to extract knowledge and insights from structured and unstructured data. \n",
    "It combines principles from statistics, computer science, mathematics, and domain expertise to analyze large datasets, \n",
    "uncover patterns, and make data-driven decisions. Essentially, data science helps organizations understand what happened, why it happened, \n",
    "what might happen next, and what actions can be taken based on that information\"\"\""
   ]
  },
  {
   "cell_type": "code",
   "execution_count": 63,
   "id": "79f1d2b8-c6cb-4093-99bb-0122ddc3ffa7",
   "metadata": {},
   "outputs": [
    {
     "data": {
      "text/plain": [
       "'Data science is an interdisciplinary field that uses scientific methods, processes, algorithms, \\nand systems to extract knowledge and insights from structured and unstructured data. \\nIt combines principles from statistics, computer science, mathematics, and domain expertise to analyze large datasets, \\nuncover patterns, and make data-driven decisions. Essentially, data science helps organizations understand what happened, why it happened, \\nwhat might happen next, and what actions can be taken based on that information'"
      ]
     },
     "execution_count": 63,
     "metadata": {},
     "output_type": "execute_result"
    }
   ],
   "source": [
    "paragraph"
   ]
  },
  {
   "cell_type": "code",
   "execution_count": 64,
   "id": "2effa995-8037-48f7-8201-95fba82d716d",
   "metadata": {},
   "outputs": [
    {
     "data": {
      "text/plain": [
       "'data science is an interdisciplinary field that uses scientific methods, processes, algorithms, \\nand systems to extract knowledge and insights from structured and unstructured data. \\nit combines principles from statistics, computer science, mathematics, and domain expertise to analyze large datasets, \\nuncover patterns, and make data-driven decisions. essentially, data science helps organizations understand what happened, why it happened, \\nwhat might happen next, and what actions can be taken based on that information'"
      ]
     },
     "execution_count": 64,
     "metadata": {},
     "output_type": "execute_result"
    }
   ],
   "source": [
    "paragraph.lower()"
   ]
  },
  {
   "cell_type": "code",
   "execution_count": 65,
   "id": "b8d81102-c945-4fd6-b0bb-cc3f89fdbc4a",
   "metadata": {},
   "outputs": [
    {
     "data": {
      "text/plain": [
       "'DATA SCIENCE IS AN INTERDISCIPLINARY FIELD THAT USES SCIENTIFIC METHODS, PROCESSES, ALGORITHMS, \\nAND SYSTEMS TO EXTRACT KNOWLEDGE AND INSIGHTS FROM STRUCTURED AND UNSTRUCTURED DATA. \\nIT COMBINES PRINCIPLES FROM STATISTICS, COMPUTER SCIENCE, MATHEMATICS, AND DOMAIN EXPERTISE TO ANALYZE LARGE DATASETS, \\nUNCOVER PATTERNS, AND MAKE DATA-DRIVEN DECISIONS. ESSENTIALLY, DATA SCIENCE HELPS ORGANIZATIONS UNDERSTAND WHAT HAPPENED, WHY IT HAPPENED, \\nWHAT MIGHT HAPPEN NEXT, AND WHAT ACTIONS CAN BE TAKEN BASED ON THAT INFORMATION'"
      ]
     },
     "execution_count": 65,
     "metadata": {},
     "output_type": "execute_result"
    }
   ],
   "source": [
    "paragraph.upper()"
   ]
  },
  {
   "cell_type": "code",
   "execution_count": 66,
   "id": "d5e1ee6e-4221-4708-b6cf-7743fa3b62d3",
   "metadata": {},
   "outputs": [
    {
     "data": {
      "text/plain": [
       "<function str.capitalize()>"
      ]
     },
     "execution_count": 66,
     "metadata": {},
     "output_type": "execute_result"
    }
   ],
   "source": [
    "paragraph.capitalize"
   ]
  },
  {
   "cell_type": "code",
   "execution_count": 68,
   "id": "bb2c910d-2718-4e6a-934f-f40440976026",
   "metadata": {},
   "outputs": [
    {
     "data": {
      "text/plain": [
       "'Data science is an interdisciplinary field that uses scientific methods, processes, algorithms, \\nand systems to extract knowledge and insights from structured and unstructured data. \\nIt combines principles from statistics, computer science, mathematics, and domain expertise to analyze large datasets, \\nuncover patterns, and make data-driven decisions. Essentially, data science helps organizations understand what happened, why it happened, \\nwhat might happen next, and what actions can be taken based on that information'"
      ]
     },
     "execution_count": 68,
     "metadata": {},
     "output_type": "execute_result"
    }
   ],
   "source": [
    "paragraph"
   ]
  },
  {
   "cell_type": "code",
   "execution_count": 67,
   "id": "873a2900-10a1-45cb-87e1-994d2b51cc59",
   "metadata": {},
   "outputs": [
    {
     "data": {
      "text/plain": [
       "'Data science is an interdisciplinary field that uses scientific methods, processes, algorithms, \\nand systems to extract knowledge and insights from structured and unstructured data. \\nit combines principles from statistics, computer science, mathematics, and domain expertise to analyze large datasets, \\nuncover patterns, and make data-driven decisions. essentially, data science helps organizations understand what happened, why it happened, \\nwhat might happen next, and what actions can be taken based on that information'"
      ]
     },
     "execution_count": 67,
     "metadata": {},
     "output_type": "execute_result"
    }
   ],
   "source": [
    "paragraph.capitalize()"
   ]
  },
  {
   "cell_type": "code",
   "execution_count": 69,
   "id": "4756f4ca-4651-4a85-b770-f5a1249f7308",
   "metadata": {},
   "outputs": [],
   "source": [
    "s = \"This is my First Python Programming Class\""
   ]
  },
  {
   "cell_type": "code",
   "execution_count": 70,
   "id": "889b5b30-a032-49bc-a184-9be2af622831",
   "metadata": {},
   "outputs": [
    {
     "data": {
      "text/plain": [
       "str"
      ]
     },
     "execution_count": 70,
     "metadata": {},
     "output_type": "execute_result"
    }
   ],
   "source": [
    "type(s)"
   ]
  },
  {
   "cell_type": "code",
   "execution_count": 71,
   "id": "8c4eda8a-77b5-401b-8819-e271f862a695",
   "metadata": {},
   "outputs": [
    {
     "data": {
      "text/plain": [
       "3"
      ]
     },
     "execution_count": 71,
     "metadata": {},
     "output_type": "execute_result"
    }
   ],
   "source": [
    "s.count(\"m\")"
   ]
  },
  {
   "cell_type": "code",
   "execution_count": 72,
   "id": "157151e2-4171-42d6-8775-ef0b88857067",
   "metadata": {},
   "outputs": [
    {
     "data": {
      "text/plain": [
       "5"
      ]
     },
     "execution_count": 72,
     "metadata": {},
     "output_type": "execute_result"
    }
   ],
   "source": [
    "s.count(\"s\")"
   ]
  },
  {
   "cell_type": "code",
   "execution_count": 73,
   "id": "a25d7ed3-45b3-4cdb-8168-22a541aa4340",
   "metadata": {},
   "outputs": [
    {
     "data": {
      "text/plain": [
       "1"
      ]
     },
     "execution_count": 73,
     "metadata": {},
     "output_type": "execute_result"
    }
   ],
   "source": [
    "s.count(\"T\")"
   ]
  },
  {
   "cell_type": "code",
   "execution_count": 74,
   "id": "19942e85-0ce9-4a7e-8cf1-ec86110bfb7e",
   "metadata": {},
   "outputs": [
    {
     "data": {
      "text/plain": [
       "1"
      ]
     },
     "execution_count": 74,
     "metadata": {},
     "output_type": "execute_result"
    }
   ],
   "source": [
    "s.count(\"my\")"
   ]
  },
  {
   "cell_type": "code",
   "execution_count": 76,
   "id": "fcca1999-67d8-47df-a138-617067d2583c",
   "metadata": {},
   "outputs": [
    {
     "data": {
      "text/plain": [
       "'This is my First Python Programming Class'"
      ]
     },
     "execution_count": 76,
     "metadata": {},
     "output_type": "execute_result"
    }
   ],
   "source": [
    "s"
   ]
  },
  {
   "cell_type": "code",
   "execution_count": 75,
   "id": "ce92fef8-e7c7-4aa8-a184-22484b2de5d6",
   "metadata": {},
   "outputs": [
    {
     "data": {
      "text/plain": [
       "False"
      ]
     },
     "execution_count": 75,
     "metadata": {},
     "output_type": "execute_result"
    }
   ],
   "source": [
    "s.startswith(\"t\")"
   ]
  },
  {
   "cell_type": "code",
   "execution_count": 77,
   "id": "7818da14-9757-41e1-b93c-118138a1041b",
   "metadata": {},
   "outputs": [
    {
     "data": {
      "text/plain": [
       "False"
      ]
     },
     "execution_count": 77,
     "metadata": {},
     "output_type": "execute_result"
    }
   ],
   "source": [
    "s.endswith(\"m\")"
   ]
  },
  {
   "cell_type": "code",
   "execution_count": 78,
   "id": "fe6272d0-6723-4fde-a6e3-3a44554e3ee2",
   "metadata": {},
   "outputs": [
    {
     "data": {
      "text/plain": [
       "True"
      ]
     },
     "execution_count": 78,
     "metadata": {},
     "output_type": "execute_result"
    }
   ],
   "source": [
    "s.endswith(\"s\")"
   ]
  },
  {
   "cell_type": "code",
   "execution_count": 80,
   "id": "f6106f96-7ea7-4edc-a366-bc718a5199ff",
   "metadata": {},
   "outputs": [
    {
     "data": {
      "text/plain": [
       "True"
      ]
     },
     "execution_count": 80,
     "metadata": {},
     "output_type": "execute_result"
    }
   ],
   "source": [
    "s.startswith(\"T\")"
   ]
  },
  {
   "cell_type": "code",
   "execution_count": 86,
   "id": "d72a1f20-c3fa-4369-9952-015f1920ad72",
   "metadata": {},
   "outputs": [
    {
     "data": {
      "text/plain": [
       "'This is my First Python Programming Class'"
      ]
     },
     "execution_count": 86,
     "metadata": {},
     "output_type": "execute_result"
    }
   ],
   "source": [
    "s"
   ]
  },
  {
   "cell_type": "code",
   "execution_count": 82,
   "id": "f1120762-c374-46e7-987e-8bb72072ed02",
   "metadata": {},
   "outputs": [
    {
     "data": {
      "text/plain": [
       "False"
      ]
     },
     "execution_count": 82,
     "metadata": {},
     "output_type": "execute_result"
    }
   ],
   "source": [
    "s.islower()"
   ]
  },
  {
   "cell_type": "code",
   "execution_count": 83,
   "id": "32716bd6-15c9-4756-9090-789bbe73bce1",
   "metadata": {},
   "outputs": [
    {
     "data": {
      "text/plain": [
       "False"
      ]
     },
     "execution_count": 83,
     "metadata": {},
     "output_type": "execute_result"
    }
   ],
   "source": [
    "s.isupper()"
   ]
  },
  {
   "cell_type": "code",
   "execution_count": 89,
   "id": "b505840a-1b7f-4526-a3d6-be0911595c68",
   "metadata": {},
   "outputs": [],
   "source": [
    "s = s.upper()"
   ]
  },
  {
   "cell_type": "code",
   "execution_count": 90,
   "id": "71adea16-63df-487b-9f7c-75eb036a64d3",
   "metadata": {},
   "outputs": [
    {
     "data": {
      "text/plain": [
       "'THIS IS MY FIRST PYTHON PROGRAMMING CLASS'"
      ]
     },
     "execution_count": 90,
     "metadata": {},
     "output_type": "execute_result"
    }
   ],
   "source": [
    "s"
   ]
  },
  {
   "cell_type": "code",
   "execution_count": 91,
   "id": "6218f47d-cafe-4068-b864-e9c6b4096fec",
   "metadata": {},
   "outputs": [
    {
     "data": {
      "text/plain": [
       "True"
      ]
     },
     "execution_count": 91,
     "metadata": {},
     "output_type": "execute_result"
    }
   ],
   "source": [
    "s.isupper()"
   ]
  },
  {
   "cell_type": "code",
   "execution_count": 92,
   "id": "8731e5d6-eab3-4ffb-a432-ee4f103ae3ba",
   "metadata": {},
   "outputs": [
    {
     "data": {
      "text/plain": [
       "'THIS IS MY FIRST PYTHON PROGRAMMING CLASS'"
      ]
     },
     "execution_count": 92,
     "metadata": {},
     "output_type": "execute_result"
    }
   ],
   "source": [
    "s"
   ]
  },
  {
   "cell_type": "code",
   "execution_count": 96,
   "id": "73ce5d58-591a-4d30-a2ff-0ab8a0015ce6",
   "metadata": {},
   "outputs": [
    {
     "name": "stdout",
     "output_type": "stream",
     "text": [
      "THIS IS MY FIRST PYTHON PROGRAMMING CLASS\n"
     ]
    }
   ],
   "source": [
    "print(s)"
   ]
  },
  {
   "cell_type": "code",
   "execution_count": 93,
   "id": "cb879f34-f5f5-4d83-89ba-410338e55e0a",
   "metadata": {},
   "outputs": [
    {
     "data": {
      "text/plain": [
       "False"
      ]
     },
     "execution_count": 93,
     "metadata": {},
     "output_type": "execute_result"
    }
   ],
   "source": [
    "s.isnumeric()"
   ]
  },
  {
   "cell_type": "code",
   "execution_count": 94,
   "id": "0ac8e68a-3cd0-435f-84ae-db3cbc668ef9",
   "metadata": {},
   "outputs": [
    {
     "data": {
      "text/plain": [
       "False"
      ]
     },
     "execution_count": 94,
     "metadata": {},
     "output_type": "execute_result"
    }
   ],
   "source": [
    "s.isalpha()"
   ]
  },
  {
   "cell_type": "code",
   "execution_count": 97,
   "id": "3dcdcfe1-9b01-4512-bae0-986f839ceb9d",
   "metadata": {},
   "outputs": [],
   "source": [
    "s1 = \"python\""
   ]
  },
  {
   "cell_type": "code",
   "execution_count": 98,
   "id": "369d952a-2914-4715-8c35-af7e64f28d9b",
   "metadata": {},
   "outputs": [
    {
     "data": {
      "text/plain": [
       "'python'"
      ]
     },
     "execution_count": 98,
     "metadata": {},
     "output_type": "execute_result"
    }
   ],
   "source": [
    "s1"
   ]
  },
  {
   "cell_type": "code",
   "execution_count": 99,
   "id": "3739ff95-5f94-4ead-9c40-9ae13c9e31fc",
   "metadata": {},
   "outputs": [
    {
     "data": {
      "text/plain": [
       "str"
      ]
     },
     "execution_count": 99,
     "metadata": {},
     "output_type": "execute_result"
    }
   ],
   "source": [
    "type(s1)"
   ]
  },
  {
   "cell_type": "code",
   "execution_count": 100,
   "id": "39d22e3e-d37c-4b8b-9a4f-d4c0f882371d",
   "metadata": {},
   "outputs": [
    {
     "data": {
      "text/plain": [
       "True"
      ]
     },
     "execution_count": 100,
     "metadata": {},
     "output_type": "execute_result"
    }
   ],
   "source": [
    "s1.isalpha()"
   ]
  },
  {
   "cell_type": "code",
   "execution_count": 95,
   "id": "886f2c4c-6f91-46b9-a6b3-b2fb7c684ed1",
   "metadata": {},
   "outputs": [
    {
     "data": {
      "text/plain": [
       "False"
      ]
     },
     "execution_count": 95,
     "metadata": {},
     "output_type": "execute_result"
    }
   ],
   "source": [
    "s.isalnum()"
   ]
  },
  {
   "cell_type": "code",
   "execution_count": 101,
   "id": "809c1f65-ee9a-448a-a444-5f8ea671b8ea",
   "metadata": {},
   "outputs": [],
   "source": [
    "s2 = \"pythonclass\""
   ]
  },
  {
   "cell_type": "code",
   "execution_count": 103,
   "id": "76c805f3-de9a-4ccf-b8ef-6f2a984b2958",
   "metadata": {},
   "outputs": [
    {
     "data": {
      "text/plain": [
       "True"
      ]
     },
     "execution_count": 103,
     "metadata": {},
     "output_type": "execute_result"
    }
   ],
   "source": [
    "s2.isalpha()"
   ]
  },
  {
   "cell_type": "code",
   "execution_count": 104,
   "id": "cdc96b97-5377-41a8-bdd5-c92ead85c47c",
   "metadata": {},
   "outputs": [],
   "source": [
    "s3 = \"python class\""
   ]
  },
  {
   "cell_type": "code",
   "execution_count": 105,
   "id": "dc510fdf-a32e-4ce4-a82f-321406398d27",
   "metadata": {},
   "outputs": [
    {
     "data": {
      "text/plain": [
       "False"
      ]
     },
     "execution_count": 105,
     "metadata": {},
     "output_type": "execute_result"
    }
   ],
   "source": [
    "s3.isalpha()"
   ]
  },
  {
   "cell_type": "code",
   "execution_count": null,
   "id": "9be2ca3f-f22d-4d73-91bb-7ceaf4d508ef",
   "metadata": {},
   "outputs": [],
   "source": []
  },
  {
   "cell_type": "code",
   "execution_count": null,
   "id": "8a07b70c-60dd-4bf7-8ae5-7887ce45f206",
   "metadata": {},
   "outputs": [],
   "source": []
  },
  {
   "cell_type": "code",
   "execution_count": null,
   "id": "a777da58-ebba-41a6-8773-351e013341a7",
   "metadata": {},
   "outputs": [],
   "source": []
  }
 ],
 "metadata": {
  "kernelspec": {
   "display_name": "Python 3 (ipykernel)",
   "language": "python",
   "name": "python3"
  },
  "language_info": {
   "codemirror_mode": {
    "name": "ipython",
    "version": 3
   },
   "file_extension": ".py",
   "mimetype": "text/x-python",
   "name": "python",
   "nbconvert_exporter": "python",
   "pygments_lexer": "ipython3",
   "version": "3.12.7"
  }
 },
 "nbformat": 4,
 "nbformat_minor": 5
}
