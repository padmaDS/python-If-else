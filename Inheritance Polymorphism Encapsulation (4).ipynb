{
 "cells": [
  {
   "cell_type": "code",
   "execution_count": 1,
   "id": "68b78655-ef6e-414f-bc3f-a219048da165",
   "metadata": {},
   "outputs": [],
   "source": [
    "class Employee:\n",
    "    def __init__(self, name, id, salary):\n",
    "        self.name = name\n",
    "        self.id = id\n",
    "        self.__salary = salary\n",
    "\n",
    "    def new_salary(self):\n",
    "        return \"new salary of the employee is $10000k\"       "
   ]
  },
  {
   "cell_type": "code",
   "execution_count": 3,
   "id": "fffa177d-c14c-405d-81ab-487f804c3ba9",
   "metadata": {},
   "outputs": [],
   "source": [
    "obj1 = Employee(\"Harsha\", 100, 10000)"
   ]
  },
  {
   "cell_type": "code",
   "execution_count": 5,
   "id": "97c64c65-2d02-412b-806d-0c716aa15158",
   "metadata": {},
   "outputs": [
    {
     "data": {
      "text/plain": [
       "'Harsha'"
      ]
     },
     "execution_count": 5,
     "metadata": {},
     "output_type": "execute_result"
    }
   ],
   "source": [
    "obj1.name"
   ]
  },
  {
   "cell_type": "code",
   "execution_count": 7,
   "id": "3d1e8375-c70a-4b47-af1a-191ba339f589",
   "metadata": {},
   "outputs": [
    {
     "data": {
      "text/plain": [
       "10000"
      ]
     },
     "execution_count": 7,
     "metadata": {},
     "output_type": "execute_result"
    }
   ],
   "source": [
    "obj1._Employee__salary"
   ]
  },
  {
   "cell_type": "code",
   "execution_count": 9,
   "id": "af312c5b-c72c-4dc3-aab8-b77336c03c2c",
   "metadata": {},
   "outputs": [
    {
     "data": {
      "text/plain": [
       "'new salary of the employee is $10000k'"
      ]
     },
     "execution_count": 9,
     "metadata": {},
     "output_type": "execute_result"
    }
   ],
   "source": [
    "obj1.new_salary()"
   ]
  },
  {
   "cell_type": "code",
   "execution_count": null,
   "id": "fb346caa-ce8b-4c82-a803-3060959d31ca",
   "metadata": {},
   "outputs": [],
   "source": []
  },
  {
   "cell_type": "code",
   "execution_count": 11,
   "id": "da504f16-ea10-4173-9d59-1c9246182f62",
   "metadata": {},
   "outputs": [],
   "source": [
    "class person :\n",
    "    def age(self, current_year , year_of_birth):\n",
    "        return current_year - year_of_birth\n",
    "\n",
    "    def email_id_input(self, email_id ):\n",
    "        # print(\"take an mail id form a person and print it\" , email_id)\n",
    "        # print('\\n')\n",
    "        print(f\"the email id of the person is {email_id}\")\n",
    "        # print(\"the email id of the person is in another format {}\".format(email_id))\n",
    "    \n",
    "    def ask_name(self):\n",
    "        name = input(\"tell me your name \")\n",
    "        return name\n",
    "\n",
    "    def ask_dob(self):\n",
    "        dob = input(\"tell me your date of birth \")\n",
    "        return dob"
   ]
  },
  {
   "cell_type": "code",
   "execution_count": 13,
   "id": "9e9029aa-2733-48dc-8218-52ec49c76d73",
   "metadata": {},
   "outputs": [],
   "source": [
    "padma = person()"
   ]
  },
  {
   "cell_type": "code",
   "execution_count": 15,
   "id": "0ff8524e-8912-44f9-87c1-cf72da732764",
   "metadata": {},
   "outputs": [
    {
     "data": {
      "text/plain": [
       "25"
      ]
     },
     "execution_count": 15,
     "metadata": {},
     "output_type": "execute_result"
    }
   ],
   "source": [
    "padma.age(2025, 2000)"
   ]
  },
  {
   "cell_type": "code",
   "execution_count": 17,
   "id": "ce5a93b8-c658-4993-bdcf-fe6f9b43d8c9",
   "metadata": {},
   "outputs": [
    {
     "name": "stdout",
     "output_type": "stream",
     "text": [
      "the email id of the person is padma.m@aimnxt.org\n"
     ]
    }
   ],
   "source": [
    "padma.email_id_input(\"padma.m@aimnxt.org\")"
   ]
  },
  {
   "cell_type": "code",
   "execution_count": 19,
   "id": "696f9897-b0e6-4fb6-8aae-b4afe6eba7f5",
   "metadata": {},
   "outputs": [
    {
     "name": "stdin",
     "output_type": "stream",
     "text": [
      "tell me your name  padma\n"
     ]
    },
    {
     "data": {
      "text/plain": [
       "'padma'"
      ]
     },
     "execution_count": 19,
     "metadata": {},
     "output_type": "execute_result"
    }
   ],
   "source": [
    "padma.ask_name()"
   ]
  },
  {
   "cell_type": "code",
   "execution_count": 21,
   "id": "d7287dc2-c316-4c68-9e99-441c02f396f4",
   "metadata": {},
   "outputs": [
    {
     "name": "stdin",
     "output_type": "stream",
     "text": [
      "tell me your date of birth  2002\n"
     ]
    },
    {
     "data": {
      "text/plain": [
       "'2002'"
      ]
     },
     "execution_count": 21,
     "metadata": {},
     "output_type": "execute_result"
    }
   ],
   "source": [
    "padma.ask_dob()"
   ]
  },
  {
   "cell_type": "code",
   "execution_count": 81,
   "id": "6437aab3-909b-498b-b729-15ffa7d01737",
   "metadata": {},
   "outputs": [
    {
     "name": "stdout",
     "output_type": "stream",
     "text": [
      "the email id of the person is in another format padma@aimnxt.org\n"
     ]
    }
   ],
   "source": [
    "padma.email_id_input(\"padma@aimnxt.org\")"
   ]
  },
  {
   "cell_type": "code",
   "execution_count": 19,
   "id": "42c74866-bf53-42d0-b533-053c9e24d349",
   "metadata": {},
   "outputs": [
    {
     "name": "stdin",
     "output_type": "stream",
     "text": [
      "tell me your name  padma\n"
     ]
    },
    {
     "name": "stdout",
     "output_type": "stream",
     "text": [
      "padma\n"
     ]
    }
   ],
   "source": [
    "# sudh.email_id_input('padma.m@aimnxt.org')\n",
    "print(padma.ask_name())\n",
    "\n",
    "# print(hitesh.ask_dob())"
   ]
  },
  {
   "cell_type": "markdown",
   "id": "9e41fc11-7214-4803-a108-4e586d7cb98c",
   "metadata": {},
   "source": [
    "## Inheritance:\n",
    "\n",
    "Allows a new class to be defined based on an existing class. This allows code to be reused and helps develop a hierarchical structure among classes."
   ]
  },
  {
   "cell_type": "code",
   "execution_count": 29,
   "id": "8429048c-4096-4862-9424-2fc055a0c7e1",
   "metadata": {},
   "outputs": [],
   "source": [
    "class Car():\n",
    "    def __init__(self, brand, windows, enginetype, color):\n",
    "        self.brand = brand\n",
    "        self.windows = windows\n",
    "        self.enginetype = enginetype\n",
    "        self.color = color\n",
    "    def drive(self):\n",
    "        return \"the person drives the car\""
   ]
  },
  {
   "cell_type": "code",
   "execution_count": 31,
   "id": "25156229-b756-4b16-a9a0-0d838263fb6b",
   "metadata": {},
   "outputs": [],
   "source": [
    "c1 = Car(\"BMW\", 4, \"Diesel\", 'blue')"
   ]
  },
  {
   "cell_type": "code",
   "execution_count": 35,
   "id": "3f590212-68af-4e9f-ac1b-5dabff22061d",
   "metadata": {},
   "outputs": [
    {
     "data": {
      "text/plain": [
       "'BMW'"
      ]
     },
     "execution_count": 35,
     "metadata": {},
     "output_type": "execute_result"
    }
   ],
   "source": [
    "c1.brand"
   ]
  },
  {
   "cell_type": "code",
   "execution_count": 39,
   "id": "deaea5cc-6a6c-4f3e-81c8-774924e89f77",
   "metadata": {},
   "outputs": [
    {
     "data": {
      "text/plain": [
       "'the person drives the car'"
      ]
     },
     "execution_count": 39,
     "metadata": {},
     "output_type": "execute_result"
    }
   ],
   "source": [
    "c1.drive()"
   ]
  },
  {
   "cell_type": "code",
   "execution_count": 41,
   "id": "c3717f5d-02af-4a97-abaa-044ecff9857e",
   "metadata": {},
   "outputs": [],
   "source": [
    "class new_car(Car):\n",
    "    pass"
   ]
  },
  {
   "cell_type": "code",
   "execution_count": 43,
   "id": "244d91bd-4dd1-444c-affe-e21a1e43be16",
   "metadata": {},
   "outputs": [],
   "source": [
    "obj1 = new_car(\"Audi\", 6, \"electric\", \"red\")"
   ]
  },
  {
   "cell_type": "code",
   "execution_count": 45,
   "id": "3ccc53d6-2aa8-4681-a2f3-3ddf479ea6c7",
   "metadata": {},
   "outputs": [
    {
     "data": {
      "text/plain": [
       "'Audi'"
      ]
     },
     "execution_count": 45,
     "metadata": {},
     "output_type": "execute_result"
    }
   ],
   "source": [
    "obj1.brand"
   ]
  },
  {
   "cell_type": "code",
   "execution_count": 47,
   "id": "71956c10-3418-4b7f-8f1e-1acc7e052290",
   "metadata": {},
   "outputs": [
    {
     "data": {
      "text/plain": [
       "'red'"
      ]
     },
     "execution_count": 47,
     "metadata": {},
     "output_type": "execute_result"
    }
   ],
   "source": [
    "obj1.color"
   ]
  },
  {
   "cell_type": "code",
   "execution_count": 59,
   "id": "7039c364-50af-492a-84ea-ce863185de9c",
   "metadata": {},
   "outputs": [
    {
     "ename": "TypeError",
     "evalue": "Car.__init__() missing 4 required positional arguments: 'brand', 'windows', 'enginetype', and 'color'",
     "output_type": "error",
     "traceback": [
      "\u001b[1;31m---------------------------------------------------------------------------\u001b[0m",
      "\u001b[1;31mTypeError\u001b[0m                                 Traceback (most recent call last)",
      "Cell \u001b[1;32mIn[59], line 1\u001b[0m\n\u001b[1;32m----> 1\u001b[0m ojb2 \u001b[38;5;241m=\u001b[39m new_car()\n",
      "\u001b[1;31mTypeError\u001b[0m: Car.__init__() missing 4 required positional arguments: 'brand', 'windows', 'enginetype', and 'color'"
     ]
    }
   ],
   "source": [
    "create a class of Employee, name, id, position.\n",
    "\n",
    "class Nithin"
   ]
  },
  {
   "cell_type": "code",
   "execution_count": 49,
   "id": "1eac8475-314f-4ac0-aa03-97c55d05f870",
   "metadata": {},
   "outputs": [],
   "source": [
    "class elp():\n",
    "    def __init__(self, name, id, position):\n",
    "        self.name = name\n",
    "        self.id = id\n",
    "        self.position = position\n",
    "class Nithin(elp):\n",
    "    pass"
   ]
  },
  {
   "cell_type": "code",
   "execution_count": 51,
   "id": "3b2743b4-c3ff-4f35-b954-d4971a6c91c6",
   "metadata": {},
   "outputs": [],
   "source": [
    "e = Nithin(\"harsha\", 236, \"software Engineer\")"
   ]
  },
  {
   "cell_type": "code",
   "execution_count": 53,
   "id": "9054026e-7c02-4d3e-9b5d-16befb5f979e",
   "metadata": {},
   "outputs": [
    {
     "data": {
      "text/plain": [
       "'software Engineer'"
      ]
     },
     "execution_count": 53,
     "metadata": {},
     "output_type": "execute_result"
    }
   ],
   "source": [
    "e.position"
   ]
  },
  {
   "cell_type": "code",
   "execution_count": 61,
   "id": "89c40f9c-76c9-45c4-bc0c-b3d2a18df7ad",
   "metadata": {},
   "outputs": [],
   "source": [
    "class Employee():\n",
    "    def __init__(self, name, id, position):\n",
    "        self.name = name\n",
    "        self.id = id\n",
    "        self.position = position\n"
   ]
  },
  {
   "cell_type": "code",
   "execution_count": 65,
   "id": "227e1e1e-7d6c-44fa-96d1-598db1e4bb2c",
   "metadata": {},
   "outputs": [],
   "source": [
    "obj1 = Employee(\"anwar\", 123, \"data scientist\")"
   ]
  },
  {
   "cell_type": "code",
   "execution_count": 67,
   "id": "796cbde0-3c71-4e5f-8f59-327a0ca48402",
   "metadata": {},
   "outputs": [
    {
     "data": {
      "text/plain": [
       "'data scientist'"
      ]
     },
     "execution_count": 67,
     "metadata": {},
     "output_type": "execute_result"
    }
   ],
   "source": [
    "obj1.position"
   ]
  },
  {
   "cell_type": "code",
   "execution_count": 69,
   "id": "76357431-d1e7-4b83-b1e7-944f4dabecf5",
   "metadata": {},
   "outputs": [],
   "source": [
    "class bharat(Employee):\n",
    "    pass"
   ]
  },
  {
   "cell_type": "code",
   "execution_count": 73,
   "id": "cbee89f0-ecf2-441d-bd3f-0ed07d7b3898",
   "metadata": {},
   "outputs": [],
   "source": [
    "obj2 = bharat(\"Musthafa\", 102, \"datascientist\")"
   ]
  },
  {
   "cell_type": "code",
   "execution_count": 77,
   "id": "1507d151-fac2-4273-a84f-ba9792f35183",
   "metadata": {},
   "outputs": [
    {
     "data": {
      "text/plain": [
       "'datascientist'"
      ]
     },
     "execution_count": 77,
     "metadata": {},
     "output_type": "execute_result"
    }
   ],
   "source": [
    "obj2.position"
   ]
  },
  {
   "cell_type": "code",
   "execution_count": null,
   "id": "28a838ed-85aa-40fe-b965-888a3ff4b5a7",
   "metadata": {},
   "outputs": [],
   "source": []
  },
  {
   "cell_type": "code",
   "execution_count": 55,
   "id": "1028d890-0059-4ad6-8586-050efdbc4f13",
   "metadata": {},
   "outputs": [],
   "source": [
    "class Car():\n",
    "    def __init__(self, brand, windows, enginetype, color):\n",
    "        self.brand = brand\n",
    "        self.windows = windows\n",
    "        self.enginetype = enginetype\n",
    "        self.color = color\n",
    "    def drive(self):\n",
    "        return \"the person drives the car\""
   ]
  },
  {
   "cell_type": "code",
   "execution_count": 59,
   "id": "2213b0b1-96ca-40e7-b8e0-bcd15be5b101",
   "metadata": {},
   "outputs": [],
   "source": [
    "class BMW(Car):\n",
    "    def __init__(self,brand, windows, enginetype, color, enableai):\n",
    "        super().__init__(brand, windows, enginetype, color)\n",
    "        self.enableai = enableai\n",
    "    def self_driving(self):\n",
    "        print(\"BMW supports self driving\")"
   ]
  },
  {
   "cell_type": "code",
   "execution_count": 61,
   "id": "f4aa18bb-6ef4-49a4-b5b3-df5881e4d17b",
   "metadata": {},
   "outputs": [],
   "source": [
    "car2 = BMW('Hundai', 5, \"diesel\", 'b', True)"
   ]
  },
  {
   "cell_type": "code",
   "execution_count": 65,
   "id": "a13560d7-4d38-43b5-aeb1-48da98980106",
   "metadata": {},
   "outputs": [
    {
     "data": {
      "text/plain": [
       "'Hundai'"
      ]
     },
     "execution_count": 65,
     "metadata": {},
     "output_type": "execute_result"
    }
   ],
   "source": [
    "car2.brand"
   ]
  },
  {
   "cell_type": "code",
   "execution_count": 63,
   "id": "6db4db79-da63-4f66-a1a2-a62bd8bdf688",
   "metadata": {},
   "outputs": [
    {
     "data": {
      "text/plain": [
       "True"
      ]
     },
     "execution_count": 63,
     "metadata": {},
     "output_type": "execute_result"
    }
   ],
   "source": [
    "car2.enableai"
   ]
  },
  {
   "cell_type": "code",
   "execution_count": 67,
   "id": "56c84b95-ea74-41e5-a2c4-aea5f07fa6e1",
   "metadata": {},
   "outputs": [
    {
     "name": "stdout",
     "output_type": "stream",
     "text": [
      "BMW supports self driving\n"
     ]
    }
   ],
   "source": [
    "car2.self_driving()"
   ]
  },
  {
   "cell_type": "code",
   "execution_count": 69,
   "id": "3ebf8901-4fc8-41dc-a85c-b546d8e6638f",
   "metadata": {},
   "outputs": [
    {
     "data": {
      "text/plain": [
       "['__class__',\n",
       " '__delattr__',\n",
       " '__dict__',\n",
       " '__dir__',\n",
       " '__doc__',\n",
       " '__eq__',\n",
       " '__format__',\n",
       " '__ge__',\n",
       " '__getattribute__',\n",
       " '__getstate__',\n",
       " '__gt__',\n",
       " '__hash__',\n",
       " '__init__',\n",
       " '__init_subclass__',\n",
       " '__le__',\n",
       " '__lt__',\n",
       " '__module__',\n",
       " '__ne__',\n",
       " '__new__',\n",
       " '__reduce__',\n",
       " '__reduce_ex__',\n",
       " '__repr__',\n",
       " '__setattr__',\n",
       " '__sizeof__',\n",
       " '__str__',\n",
       " '__subclasshook__',\n",
       " '__weakref__',\n",
       " 'brand',\n",
       " 'color',\n",
       " 'drive',\n",
       " 'enableai',\n",
       " 'enginetype',\n",
       " 'self_driving',\n",
       " 'windows']"
      ]
     },
     "execution_count": 69,
     "metadata": {},
     "output_type": "execute_result"
    }
   ],
   "source": [
    "dir(car2)"
   ]
  },
  {
   "cell_type": "code",
   "execution_count": 71,
   "id": "7dea1d5e-8055-490d-9b34-b4b69659aa15",
   "metadata": {},
   "outputs": [
    {
     "data": {
      "text/plain": [
       "'the person drives the car'"
      ]
     },
     "execution_count": 71,
     "metadata": {},
     "output_type": "execute_result"
    }
   ],
   "source": [
    "car2.drive()"
   ]
  },
  {
   "cell_type": "code",
   "execution_count": 127,
   "id": "5a21d606-2ae5-4a91-8e5a-ab9badedab5e",
   "metadata": {},
   "outputs": [
    {
     "name": "stdout",
     "output_type": "stream",
     "text": [
      "BMW supports self driving\n"
     ]
    }
   ],
   "source": [
    "car2.self_driving()"
   ]
  },
  {
   "cell_type": "code",
   "execution_count": 73,
   "id": "5ae16de8-18ee-44a6-8cfe-62b17b79c604",
   "metadata": {},
   "outputs": [],
   "source": [
    "class Student():\n",
    "    def __init__(self, name, education, id):\n",
    "        self.name = name\n",
    "        self.education = education\n",
    "        self.id = id\n",
    "    def new_exams(self):\n",
    "        return \"completed my exams\""
   ]
  },
  {
   "cell_type": "code",
   "execution_count": 135,
   "id": "3d15625d-d6af-452a-88d6-deba30cb91ae",
   "metadata": {},
   "outputs": [],
   "source": [
    "student1 = Student('padma', 'mba', 20)\n",
    "student2 = Student('pandu', 'Ph.D', 25)"
   ]
  },
  {
   "cell_type": "code",
   "execution_count": 137,
   "id": "043327ac-68db-4f8c-bcbc-3164137bf4cc",
   "metadata": {},
   "outputs": [
    {
     "data": {
      "text/plain": [
       "'padma'"
      ]
     },
     "execution_count": 137,
     "metadata": {},
     "output_type": "execute_result"
    }
   ],
   "source": [
    "student1.name"
   ]
  },
  {
   "cell_type": "code",
   "execution_count": 75,
   "id": "5d782cb4-e416-4277-b82b-8aef28228f52",
   "metadata": {},
   "outputs": [],
   "source": [
    "class junior(Student):\n",
    "    def __init__(self, name, education, id, branch):\n",
    "        super().__init__(name, education, id)\n",
    "        self.branch = branch   \n",
    "    def exams(self):\n",
    "        return \"you completed PhD, congratulations\""
   ]
  },
  {
   "cell_type": "code",
   "execution_count": 81,
   "id": "63ac6999-2aa9-43b1-8ec1-76f0e6fc369f",
   "metadata": {},
   "outputs": [],
   "source": [
    "s = junior(\"Harsha\", \"B.Tech\", 123, \"IT\")"
   ]
  },
  {
   "cell_type": "code",
   "execution_count": 83,
   "id": "541eb8ea-dd42-48de-84b5-44ab02b8196a",
   "metadata": {},
   "outputs": [
    {
     "data": {
      "text/plain": [
       "'IT'"
      ]
     },
     "execution_count": 83,
     "metadata": {},
     "output_type": "execute_result"
    }
   ],
   "source": [
    "s.branch"
   ]
  },
  {
   "cell_type": "code",
   "execution_count": 85,
   "id": "39345f3f-0e39-479a-b64b-265c498402f3",
   "metadata": {},
   "outputs": [
    {
     "data": {
      "text/plain": [
       "'you completed PhD, congratulations'"
      ]
     },
     "execution_count": 85,
     "metadata": {},
     "output_type": "execute_result"
    }
   ],
   "source": [
    "s.exams()"
   ]
  },
  {
   "cell_type": "code",
   "execution_count": null,
   "id": "0f764707-f846-4546-8eec-b96305a4d2dc",
   "metadata": {},
   "outputs": [],
   "source": []
  },
  {
   "cell_type": "code",
   "execution_count": null,
   "id": "5feab91c-eac0-4a19-bb48-448200abfb95",
   "metadata": {},
   "outputs": [],
   "source": []
  },
  {
   "cell_type": "code",
   "execution_count": null,
   "id": "54ff6619-e277-4a33-96b5-d99e17174a3d",
   "metadata": {},
   "outputs": [],
   "source": []
  },
  {
   "cell_type": "code",
   "execution_count": null,
   "id": "f0de7e26-d575-4c24-88d1-6aa2211c8967",
   "metadata": {},
   "outputs": [],
   "source": []
  },
  {
   "cell_type": "code",
   "execution_count": 84,
   "id": "23fd672b-3ad4-42b1-9c10-89319fca1beb",
   "metadata": {},
   "outputs": [],
   "source": [
    "class bank :\n",
    "    def transaction(self) :\n",
    "        print(\"total transaction value \")\n",
    "    def account_opening(self):\n",
    "        print(\"this will show you your account open status \")\n",
    "    def deposite(self):\n",
    "        print(\"this will show your deposited amount\")\n",
    "\n",
    "class HDFC_bank(bank):\n",
    "    def hdfc_to_icici(self):\n",
    "        print(\"this will show you all the transaction happend to icici throuhg hdfc\")\n",
    "\n",
    "class icici(HDFC_bank):\n",
    "    pass"
   ]
  },
  {
   "cell_type": "code",
   "execution_count": 86,
   "id": "ae4c5a05-e1cd-4d0d-907a-73c2988e3d39",
   "metadata": {},
   "outputs": [],
   "source": [
    "i = icici()"
   ]
  },
  {
   "cell_type": "code",
   "execution_count": 88,
   "id": "ffb88784-cc33-438e-9d9a-c77966dc1678",
   "metadata": {},
   "outputs": [
    {
     "name": "stdout",
     "output_type": "stream",
     "text": [
      "this will show your deposited amount\n"
     ]
    }
   ],
   "source": [
    "i.deposite()"
   ]
  },
  {
   "cell_type": "code",
   "execution_count": 90,
   "id": "9870c2fa-189d-449a-99de-bd6d3f78b0fe",
   "metadata": {},
   "outputs": [
    {
     "name": "stdout",
     "output_type": "stream",
     "text": [
      "this will show you all the transaction happend to icici throuhg hdfc\n"
     ]
    }
   ],
   "source": [
    "i.hdfc_to_icici()"
   ]
  },
  {
   "cell_type": "code",
   "execution_count": null,
   "id": "c10d6bd5-6a0e-4f2b-b12c-41d919aa55e4",
   "metadata": {},
   "outputs": [],
   "source": []
  },
  {
   "cell_type": "code",
   "execution_count": null,
   "id": "7ba5144d-0076-49f4-94ee-4abe0df6d376",
   "metadata": {},
   "outputs": [],
   "source": []
  },
  {
   "cell_type": "code",
   "execution_count": null,
   "id": "1a544fd4-41e7-4be9-b62d-cb015093e84a",
   "metadata": {},
   "outputs": [],
   "source": [
    "i = icici()\n",
    "i.hdfc_to_icici()\n",
    "i.deposite()\n",
    "i.account_opening()\n",
    "i.transaction()"
   ]
  },
  {
   "cell_type": "code",
   "execution_count": 114,
   "id": "ad0a8d23-e6c8-40e9-8cd6-1fd494715b1c",
   "metadata": {},
   "outputs": [],
   "source": [
    "# 1. Protected Variable - Employee Data in a Company\n",
    "# Usecase: You have an Employee class where some details, like salary, should be modifiable within subclasses (e.g., HR or Payroll systems), but not directly accessed by users.\n",
    "\n",
    "class Employee:\n",
    "    def __init__(self, name, salary):\n",
    "        self.name = name\n",
    "        self._salary = salary  # Protected variable\n",
    "\n",
    "    def show_salary(self):\n",
    "        print(f\"Salary of {self.name}: {self._salary}\")\n",
    "\n",
    "class HR(Employee):\n",
    "    def update_salary(self, new_salary):\n",
    "        self._salary = new_salary\n",
    "        print(f\"updated salary of {self.name} : {self._salary}\")\n"
   ]
  },
  {
   "cell_type": "code",
   "execution_count": 116,
   "id": "a51cf520-9df1-4b77-bb0f-80324e5eea7d",
   "metadata": {},
   "outputs": [],
   "source": [
    "a = HR(\"Chandu\", 50000)"
   ]
  },
  {
   "cell_type": "code",
   "execution_count": 118,
   "id": "7a039d26-1121-4420-9562-c6feb62c1726",
   "metadata": {},
   "outputs": [
    {
     "name": "stdout",
     "output_type": "stream",
     "text": [
      "Salary of Chandu: 50000\n"
     ]
    }
   ],
   "source": [
    "a.show_salary()"
   ]
  },
  {
   "cell_type": "code",
   "execution_count": 120,
   "id": "a7104ba2-fd8e-4069-92c7-ec8509022345",
   "metadata": {},
   "outputs": [
    {
     "name": "stdout",
     "output_type": "stream",
     "text": [
      "updated salary of Chandu : 10000\n"
     ]
    }
   ],
   "source": [
    "a.update_salary(10000)"
   ]
  },
  {
   "cell_type": "code",
   "execution_count": 108,
   "id": "6f968429-97de-422f-9bee-6c8aa2091303",
   "metadata": {},
   "outputs": [
    {
     "name": "stdout",
     "output_type": "stream",
     "text": [
      "Salary of Chandu: 10000\n"
     ]
    }
   ],
   "source": [
    "a.show_salary()"
   ]
  },
  {
   "cell_type": "code",
   "execution_count": 161,
   "id": "65c5fb6c-11f6-4c23-8737-13e0076c399e",
   "metadata": {},
   "outputs": [
    {
     "name": "stdout",
     "output_type": "stream",
     "text": [
      "Salary of John: 50000\n",
      "Salary of John: 60000\n",
      "60000\n"
     ]
    }
   ],
   "source": [
    "emp = HR(\"John\", 50000)\n",
    "emp.show_salary()  \n",
    "emp.update_salary(60000)\n",
    "emp.show_salary()  \n",
    "\n",
    "\n",
    "print(emp._salary)  "
   ]
  },
  {
   "cell_type": "code",
   "execution_count": null,
   "id": "622cdc77-55e8-4e90-bcb8-5e39a0918519",
   "metadata": {},
   "outputs": [],
   "source": []
  },
  {
   "cell_type": "code",
   "execution_count": null,
   "id": "022a7caf-286d-47c6-9d95-4788a79bc94d",
   "metadata": {},
   "outputs": [],
   "source": []
  },
  {
   "cell_type": "code",
   "execution_count": 122,
   "id": "3f9d1279-c267-417b-aa4a-dcf441ae7aeb",
   "metadata": {},
   "outputs": [],
   "source": [
    "class bank :\n",
    "    def transaction(self) :\n",
    "        print(\"total transaction value \")\n",
    "    def account_opening(self):\n",
    "        print(\"this will show you your account open status \")\n",
    "    def deposite(self):\n",
    "        print(\"this will show your deposited amount\")\n",
    "    def test(self):\n",
    "        print(\"this is a test methond form bank class \")\n",
    "\n",
    "class HDFC_bank:\n",
    "    def hdfc_to_icici(self):\n",
    "        print(\"this will show you all the transaction happend to icici throuhg hdfc\")\n",
    "    def test(self):\n",
    "        print(\"this is a test method form hdfc bank \")\n",
    "\n",
    "class aimnxt_bank:\n",
    "    def account_status_icici(self):\n",
    "        print(\"print a account status in icici \")\n",
    "\n",
    "class icici(HDFC_bank , bank , aimnxt_bank):\n",
    "    pass\n"
   ]
  },
  {
   "cell_type": "code",
   "execution_count": 124,
   "id": "9a42f167-2b49-49e7-8c70-7d070a354fc1",
   "metadata": {},
   "outputs": [],
   "source": [
    "i = icici()"
   ]
  },
  {
   "cell_type": "code",
   "execution_count": 126,
   "id": "1d862258-9b31-4d80-abd6-c86a8a8fc2e1",
   "metadata": {},
   "outputs": [
    {
     "name": "stdout",
     "output_type": "stream",
     "text": [
      "print a account status in icici \n"
     ]
    }
   ],
   "source": [
    "i.account_status_icici()"
   ]
  },
  {
   "cell_type": "code",
   "execution_count": 128,
   "id": "920489e4-b4be-49c7-a1ea-b39b7c7cdcb5",
   "metadata": {},
   "outputs": [
    {
     "name": "stdout",
     "output_type": "stream",
     "text": [
      "this will show you all the transaction happend to icici throuhg hdfc\n"
     ]
    }
   ],
   "source": [
    "i.hdfc_to_icici()"
   ]
  },
  {
   "cell_type": "code",
   "execution_count": null,
   "id": "5284cfa2-27ca-4d64-82fe-efd2dc1110ae",
   "metadata": {},
   "outputs": [],
   "source": [
    "\n",
    "i = icici()\n",
    "i.hdfc_to_icici()\n",
    "i.transaction()\n",
    "i.deposite()\n",
    "i.account_opening()\n",
    "i.test()\n",
    "i.account_status_icici()"
   ]
  },
  {
   "cell_type": "markdown",
   "id": "d0e57c3b-dd9f-4467-b12f-e13d559ece8c",
   "metadata": {},
   "source": [
    "## Polymorphism?\n",
    "\n",
    "Polymorphism is an Object-Oriented Programming (OOP) concept that allows methods or functions to have different behaviors based on the object that calls them.\n",
    "\n",
    "Key Idea: \"One Interface, Multiple Implementations\"\n",
    "\n",
    "A single function or method can work differently for different classes or objects.\n",
    "\n",
    "This makes the code more flexible and reusable."
   ]
  },
  {
   "cell_type": "markdown",
   "id": "35a06c06-a711-4efa-90e4-cfdc347c839f",
   "metadata": {},
   "source": [
    "#### Method Overriding"
   ]
  },
  {
   "cell_type": "code",
   "execution_count": 142,
   "id": "83475a1b-8670-4a39-89d1-2b5b7427b9d3",
   "metadata": {},
   "outputs": [],
   "source": [
    "class Animal:\n",
    "    def speak(self):\n",
    "        print(\"Animal makes a sound\")\n",
    "class Dog(Animal):\n",
    "    def speak(self):  # Overriding the parent method\n",
    "        print(\"Dog barks\")\n",
    "class Cat(Animal):\n",
    "    def speak(self):  # Overriding the parent method\n",
    "        print(\"Cat meows\")"
   ]
  },
  {
   "cell_type": "code",
   "execution_count": 136,
   "id": "67a0612d-12bd-47c0-bc78-aa15ef387be4",
   "metadata": {},
   "outputs": [],
   "source": [
    "d = Dog()\n",
    "c = Cat()"
   ]
  },
  {
   "cell_type": "code",
   "execution_count": 138,
   "id": "f51be2df-9f81-4e2a-997d-4f7b8cfa2d33",
   "metadata": {},
   "outputs": [],
   "source": [
    "a = Animal()"
   ]
  },
  {
   "cell_type": "code",
   "execution_count": 140,
   "id": "2028a6e2-65a7-4409-afed-fb8f234c4c20",
   "metadata": {},
   "outputs": [
    {
     "name": "stdout",
     "output_type": "stream",
     "text": [
      "Animal makes a sound\n"
     ]
    }
   ],
   "source": [
    "a.speak()"
   ]
  },
  {
   "cell_type": "code",
   "execution_count": 144,
   "id": "6666daa6-962c-4b26-9374-f63d2cf1ea39",
   "metadata": {},
   "outputs": [
    {
     "name": "stdout",
     "output_type": "stream",
     "text": [
      "Dog barks\n"
     ]
    }
   ],
   "source": [
    "d.speak()"
   ]
  },
  {
   "cell_type": "code",
   "execution_count": 146,
   "id": "5785e9d0-5233-4ce0-9c64-7c1ba25fd7a1",
   "metadata": {},
   "outputs": [
    {
     "name": "stdout",
     "output_type": "stream",
     "text": [
      "Cat meows\n"
     ]
    }
   ],
   "source": [
    "c.speak()"
   ]
  },
  {
   "cell_type": "code",
   "execution_count": null,
   "id": "22c7bf04-f2bd-491d-8e65-9ea9e72fe503",
   "metadata": {},
   "outputs": [],
   "source": []
  },
  {
   "cell_type": "code",
   "execution_count": 6,
   "id": "1fbcb9a9-a63d-4804-8005-638c28dff03e",
   "metadata": {},
   "outputs": [],
   "source": [
    "# Creating objects\n",
    "dog = Dog()\n",
    "cat = Cat()"
   ]
  },
  {
   "cell_type": "code",
   "execution_count": 8,
   "id": "b88d40ae-bdfe-4d5e-9178-e923556eab00",
   "metadata": {},
   "outputs": [
    {
     "name": "stdout",
     "output_type": "stream",
     "text": [
      "Dog barks\n"
     ]
    }
   ],
   "source": [
    "dog.speak()"
   ]
  },
  {
   "cell_type": "code",
   "execution_count": 10,
   "id": "98198257-9149-49ea-8b50-e1d995ae4d58",
   "metadata": {},
   "outputs": [
    {
     "name": "stdout",
     "output_type": "stream",
     "text": [
      "Cat meows\n"
     ]
    }
   ],
   "source": [
    "cat.speak()"
   ]
  },
  {
   "cell_type": "code",
   "execution_count": null,
   "id": "e0e1a229-6e9b-4e81-ac56-5aaa79997f3c",
   "metadata": {},
   "outputs": [],
   "source": [
    "student, method exams, All exams have been completed\n",
    "Nithin, method exams, I am having one more exam left\n",
    "Chandu, method exams, completed all my exams, results are also out\n",
    "\n",
    "student1, student2\n"
   ]
  },
  {
   "cell_type": "code",
   "execution_count": 150,
   "id": "aef4e41f-968e-4797-8d3b-34ca241a75b9",
   "metadata": {},
   "outputs": [],
   "source": [
    "class student:\n",
    "    def exams(self):\n",
    "        print(\"All exams have been completed\")\n",
    "class nithin(student):\n",
    "    def exams(self):\n",
    "        print(\"I am having one more exam left\")\n",
    "class chandu(student):\n",
    "    def exams(self):\n",
    "        print(\"completed all my exams, results are also out\")    \n",
    "   "
   ]
  },
  {
   "cell_type": "code",
   "execution_count": 152,
   "id": "331ea36c-f69e-426b-ae56-0d89f08fd623",
   "metadata": {},
   "outputs": [],
   "source": [
    "a = student()\n",
    "b = nithin()\n",
    "c= chandu()"
   ]
  },
  {
   "cell_type": "code",
   "execution_count": 154,
   "id": "f69aa0bb-9fa2-40f6-97fd-a866f316909c",
   "metadata": {},
   "outputs": [
    {
     "name": "stdout",
     "output_type": "stream",
     "text": [
      "All exams have been completed\n"
     ]
    }
   ],
   "source": [
    "a.exams()"
   ]
  },
  {
   "cell_type": "code",
   "execution_count": 156,
   "id": "feed35fa-011a-47f9-a9cd-d5bcc5193d2b",
   "metadata": {},
   "outputs": [
    {
     "name": "stdout",
     "output_type": "stream",
     "text": [
      "I am having one more exam left\n"
     ]
    }
   ],
   "source": [
    "b.exams()"
   ]
  },
  {
   "cell_type": "code",
   "execution_count": 158,
   "id": "f17df560-509e-4111-b8f8-123fad0d8b99",
   "metadata": {},
   "outputs": [
    {
     "name": "stdout",
     "output_type": "stream",
     "text": [
      "completed all my exams, results are also out\n"
     ]
    }
   ],
   "source": [
    "c.exams()"
   ]
  },
  {
   "cell_type": "code",
   "execution_count": null,
   "id": "e5b0eef1-42c9-4fd4-8874-0d7d01634098",
   "metadata": {},
   "outputs": [],
   "source": []
  },
  {
   "cell_type": "code",
   "execution_count": 18,
   "id": "e8797976-4df4-4767-99b9-0e47c46d1d6a",
   "metadata": {},
   "outputs": [],
   "source": [
    "student1 = gayathri()"
   ]
  },
  {
   "cell_type": "code",
   "execution_count": 20,
   "id": "e3c45564-b7a5-46a8-b1c9-4a1aa79b5124",
   "metadata": {},
   "outputs": [
    {
     "name": "stdout",
     "output_type": "stream",
     "text": [
      "I am having one more exam left\n"
     ]
    }
   ],
   "source": [
    "student1.exams()"
   ]
  },
  {
   "cell_type": "code",
   "execution_count": 22,
   "id": "bd4ab754-3db8-497f-95c7-12e72c364300",
   "metadata": {},
   "outputs": [],
   "source": [
    "student2 = kavya()"
   ]
  },
  {
   "cell_type": "code",
   "execution_count": 24,
   "id": "1eec0d08-9d11-4410-af89-5591af97348c",
   "metadata": {},
   "outputs": [
    {
     "name": "stdout",
     "output_type": "stream",
     "text": [
      "completed all my exams, results are also out\n"
     ]
    }
   ],
   "source": [
    "student2.exams()"
   ]
  },
  {
   "cell_type": "code",
   "execution_count": null,
   "id": "66db325b-8da2-4422-9017-37ac6a59d8a4",
   "metadata": {},
   "outputs": [],
   "source": []
  },
  {
   "cell_type": "code",
   "execution_count": 28,
   "id": "07ff73af-3dae-48de-b7d7-2dfdabbeccb3",
   "metadata": {},
   "outputs": [],
   "source": [
    "class aimnxt:\n",
    "    def student(self):\n",
    "        print(\"print the details of all the students\")\n",
    "    def achivers(self):\n",
    "        print(\"print the list of all the achivers\")\n",
    "    def hall_of_fame(self):\n",
    "        print(\"print everyone from hall of fame\")\n",
    "class aimnxt_vision(aimnxt):\n",
    "    def student(self):\n",
    "        print(\"these are the filters student list\")"
   ]
  },
  {
   "cell_type": "code",
   "execution_count": 30,
   "id": "e3c40cd7-d30c-4def-8525-75c775ed5ce5",
   "metadata": {},
   "outputs": [
    {
     "name": "stdout",
     "output_type": "stream",
     "text": [
      "these are the filters student list\n"
     ]
    }
   ],
   "source": [
    "obj1 =  aimnxt_vision()\n",
    "obj1.student()"
   ]
  },
  {
   "cell_type": "markdown",
   "id": "24cb6e7a-466b-4022-bb6a-b76299ed1d2e",
   "metadata": {},
   "source": [
    "## Encapsulation:\n",
    "\n",
    "Bundles attributes and methods into a class, preventing other classes from accessing them. This helps hide data.\n",
    "\n",
    "                        Or \n",
    "                        \n",
    "It refers to the bundling of data (variables) and methods (functions) that operate on the data into a single unit (class) while restricting direct access to some details of the object."
   ]
  },
  {
   "cell_type": "code",
   "execution_count": 4,
   "id": "633d5fd0-66b9-4d99-b528-9dd7465b7a55",
   "metadata": {},
   "outputs": [],
   "source": [
    "class BankAccount:\n",
    "    def __init__(self, account_holder, balance):\n",
    "        self.account_holder = account_holder  # Public variable\n",
    "        self.__balance = balance  # Private variable (Encapsulation)\n",
    "\n",
    "    # Getter method to access balance\n",
    "    def get_balance(self):\n",
    "        return self.__balance\n",
    "\n",
    "    # Setter method to modify balance (only allowed through deposit and withdraw)\n",
    "    def deposit(self, amount):\n",
    "        if amount > 0:\n",
    "            self.__balance += amount\n",
    "            print(f\"Deposited {amount}. New balance: {self.__balance}\")\n",
    "        else:\n",
    "            print(\"Invalid deposit amount.\")\n",
    "\n",
    "    def withdraw(self, amount):\n",
    "        if 0 < amount <= self.__balance:\n",
    "            self.__balance -= amount\n",
    "            print(f\"Withdrew {amount}. New balance: {self.__balance}\")\n",
    "        else:\n",
    "            print(\"Invalid withdrawal amount or insufficient balance.\")"
   ]
  },
  {
   "cell_type": "code",
   "execution_count": 14,
   "id": "be9a5887-462e-41af-9012-09cc5ba41e43",
   "metadata": {},
   "outputs": [],
   "source": [
    "b2 = BankAccount(\"Chandu\", 1000000)"
   ]
  },
  {
   "cell_type": "code",
   "execution_count": 16,
   "id": "80f74fc8-3561-43e4-992e-222caf3dceb1",
   "metadata": {},
   "outputs": [
    {
     "data": {
      "text/plain": [
       "1000000"
      ]
     },
     "execution_count": 16,
     "metadata": {},
     "output_type": "execute_result"
    }
   ],
   "source": [
    "b2.get_balance()"
   ]
  },
  {
   "cell_type": "code",
   "execution_count": 18,
   "id": "48d487c1-7e5c-4ad9-959c-2d9e564855dc",
   "metadata": {},
   "outputs": [
    {
     "name": "stdout",
     "output_type": "stream",
     "text": [
      "Deposited 10000. New balance: 1010000\n"
     ]
    }
   ],
   "source": [
    "b2.deposit(10000)"
   ]
  },
  {
   "cell_type": "code",
   "execution_count": 20,
   "id": "a4900ce1-a500-4225-b880-6c4a43d2f80a",
   "metadata": {},
   "outputs": [
    {
     "name": "stdout",
     "output_type": "stream",
     "text": [
      "Withdrew 1000. New balance: 1009000\n"
     ]
    }
   ],
   "source": [
    "b2.withdraw(1000)"
   ]
  },
  {
   "cell_type": "code",
   "execution_count": null,
   "id": "daf5e800-bd94-4f2a-8537-339acae6e257",
   "metadata": {},
   "outputs": [],
   "source": []
  },
  {
   "cell_type": "code",
   "execution_count": 6,
   "id": "5f79d8cb-4df0-44f4-85fe-343d993f790a",
   "metadata": {},
   "outputs": [],
   "source": [
    "b1 = BankAccount(\"Nithin\", 50000)"
   ]
  },
  {
   "cell_type": "code",
   "execution_count": 8,
   "id": "17496608-438d-4ea8-881a-3752406843af",
   "metadata": {},
   "outputs": [
    {
     "data": {
      "text/plain": [
       "50000"
      ]
     },
     "execution_count": 8,
     "metadata": {},
     "output_type": "execute_result"
    }
   ],
   "source": [
    "b1.get_balance()"
   ]
  },
  {
   "cell_type": "code",
   "execution_count": 10,
   "id": "dcbd9b6b-4c46-410a-8091-380021598cf2",
   "metadata": {},
   "outputs": [
    {
     "name": "stdout",
     "output_type": "stream",
     "text": [
      "Deposited 10000. New balance: 60000\n"
     ]
    }
   ],
   "source": [
    "b1.deposit(10000)"
   ]
  },
  {
   "cell_type": "code",
   "execution_count": 12,
   "id": "175a4dee-6435-43f3-be5c-c6eff9fb6adf",
   "metadata": {},
   "outputs": [
    {
     "name": "stdout",
     "output_type": "stream",
     "text": [
      "Withdrew 5000. New balance: 55000\n"
     ]
    }
   ],
   "source": [
    "b1.withdraw(5000)"
   ]
  },
  {
   "cell_type": "code",
   "execution_count": 41,
   "id": "2b41f771-8666-4f82-ba28-8e337377060c",
   "metadata": {},
   "outputs": [],
   "source": [
    "# Creating an account\n",
    "account = BankAccount(\"Tapinder\", 1000)"
   ]
  },
  {
   "cell_type": "code",
   "execution_count": 45,
   "id": "29a8f0b0-fd28-47fc-afed-28b7f2f14c9b",
   "metadata": {},
   "outputs": [
    {
     "data": {
      "text/plain": [
       "1000"
      ]
     },
     "execution_count": 45,
     "metadata": {},
     "output_type": "execute_result"
    }
   ],
   "source": [
    "account.get_balance()"
   ]
  },
  {
   "cell_type": "code",
   "execution_count": 47,
   "id": "c2189b4f-b753-421b-8a54-4bfbef264b0d",
   "metadata": {},
   "outputs": [
    {
     "name": "stdout",
     "output_type": "stream",
     "text": [
      "Deposited 1000. New balance: 2000\n"
     ]
    }
   ],
   "source": [
    "account.deposit(1000)"
   ]
  },
  {
   "cell_type": "code",
   "execution_count": 51,
   "id": "cef6cb93-ed4c-42ee-8994-6a5b5b7b422a",
   "metadata": {},
   "outputs": [
    {
     "name": "stdout",
     "output_type": "stream",
     "text": [
      "Withdrew 500. New balance: 1500\n"
     ]
    }
   ],
   "source": [
    "account.withdraw(500)"
   ]
  },
  {
   "cell_type": "code",
   "execution_count": 188,
   "id": "0ab0095c-6f97-4a6a-9015-6ca7062d9150",
   "metadata": {},
   "outputs": [
    {
     "name": "stdout",
     "output_type": "stream",
     "text": [
      "Withdrew 300. New balance: 1200\n"
     ]
    }
   ],
   "source": [
    "# Withdrawing money\n",
    "account.withdraw(300)"
   ]
  },
  {
   "cell_type": "code",
   "execution_count": 53,
   "id": "37ab8dbf-d867-4ef0-a00c-c1bd67624ac6",
   "metadata": {},
   "outputs": [],
   "source": [
    "account1 = BankAccount(\"anwar\", 2000)"
   ]
  },
  {
   "cell_type": "code",
   "execution_count": 55,
   "id": "d40ee53e-e9fd-43e2-b95b-02573cebdbfd",
   "metadata": {},
   "outputs": [
    {
     "data": {
      "text/plain": [
       "2000"
      ]
     },
     "execution_count": 55,
     "metadata": {},
     "output_type": "execute_result"
    }
   ],
   "source": [
    "account1.get_balance()"
   ]
  },
  {
   "cell_type": "code",
   "execution_count": 59,
   "id": "cc2abc60-8531-48a7-b402-a6fad55bea07",
   "metadata": {},
   "outputs": [
    {
     "name": "stdout",
     "output_type": "stream",
     "text": [
      "Deposited 3000. New balance: 5000\n"
     ]
    }
   ],
   "source": [
    "account1.deposit(3000)"
   ]
  },
  {
   "cell_type": "code",
   "execution_count": 61,
   "id": "7b870382-53fc-443d-8659-aeed73e8b6de",
   "metadata": {},
   "outputs": [
    {
     "name": "stdout",
     "output_type": "stream",
     "text": [
      "Withdrew 100. New balance: 4900\n"
     ]
    }
   ],
   "source": [
    "account1.withdraw(100)"
   ]
  },
  {
   "cell_type": "code",
   "execution_count": null,
   "id": "7cc04fff-3e05-40cb-b8e0-ede13fc564ba",
   "metadata": {},
   "outputs": [],
   "source": []
  },
  {
   "cell_type": "code",
   "execution_count": null,
   "id": "9d912a71-98e1-449d-a5d0-8297fda281c7",
   "metadata": {},
   "outputs": [],
   "source": []
  },
  {
   "cell_type": "code",
   "execution_count": null,
   "id": "428c1200-66aa-4a40-838b-58fa2d5afa3f",
   "metadata": {},
   "outputs": [],
   "source": []
  },
  {
   "cell_type": "code",
   "execution_count": null,
   "id": "9cb20e4a-4543-4e73-81a6-09b79ddcff13",
   "metadata": {},
   "outputs": [],
   "source": []
  },
  {
   "cell_type": "code",
   "execution_count": null,
   "id": "31241b89-9823-46b5-9399-ab1732205589",
   "metadata": {},
   "outputs": [],
   "source": []
  },
  {
   "cell_type": "code",
   "execution_count": 63,
   "id": "20cfe801-945e-41a4-bf0b-75d2ed751630",
   "metadata": {},
   "outputs": [
    {
     "name": "stdout",
     "output_type": "stream",
     "text": [
      "Accessing Private Variable: 1500\n"
     ]
    }
   ],
   "source": [
    "# Accessing private variable using name mangling (not recommended)\n",
    "print(\"Accessing Private Variable:\", account._BankAccount__balance)  # Works but not good practice\n"
   ]
  },
  {
   "cell_type": "code",
   "execution_count": 58,
   "id": "86c1b05b-27b4-43db-bc1e-e77ca2d32060",
   "metadata": {},
   "outputs": [],
   "source": [
    "class Car:\n",
    "    def __init__(self, model):\n",
    "        self.model = model  # Public attribute\n",
    "        self.__speed = 0    # Private attribute (Encapsulation)\n",
    "\n",
    "    # Getter method to access speed\n",
    "    def get_speed(self):\n",
    "        return self.__speed\n",
    "\n",
    "    # Setter method to set speed with validation\n",
    "    def set_speed(self, speed):\n",
    "        if 0 <= speed <= 200:  # Limiting speed to a safe range\n",
    "            self.__speed = speed\n",
    "            print(f\"Speed set to {speed} km/h\")\n",
    "        else:\n",
    "            print(\"Invalid speed! Enter a value between 0 and 200 km/h.\")\n",
    "\n",
    "    # Method to increase speed safely\n",
    "    def accelerate(self, increment):\n",
    "        new_speed = self.__speed + increment\n",
    "        self.set_speed(new_speed)  # Using the setter method\n",
    "\n",
    "    def decrement(self, decrement):\n",
    "        new_speed = self.__speed -decrement\n",
    "        self.set_speed(new_speed)\n"
   ]
  },
  {
   "cell_type": "code",
   "execution_count": 60,
   "id": "1c236580-a64b-4dc9-8619-b00fb847a129",
   "metadata": {},
   "outputs": [],
   "source": [
    "n = Car(\"Audi\")"
   ]
  },
  {
   "cell_type": "code",
   "execution_count": 62,
   "id": "f6384d6a-867b-471d-b9ee-ddd2a277e100",
   "metadata": {},
   "outputs": [
    {
     "name": "stdout",
     "output_type": "stream",
     "text": [
      "Speed set to 100 km/h\n"
     ]
    }
   ],
   "source": [
    "n.set_speed(100)"
   ]
  },
  {
   "cell_type": "code",
   "execution_count": 64,
   "id": "dc6b91ca-c55a-472e-8b74-1e9f5b65b5e5",
   "metadata": {},
   "outputs": [
    {
     "name": "stdout",
     "output_type": "stream",
     "text": [
      "Speed set to 150 km/h\n"
     ]
    }
   ],
   "source": [
    "n.accelerate(50)"
   ]
  },
  {
   "cell_type": "code",
   "execution_count": 66,
   "id": "127a6490-32bb-4c5f-8a18-615b1b95ca9e",
   "metadata": {},
   "outputs": [
    {
     "name": "stdout",
     "output_type": "stream",
     "text": [
      "Invalid speed! Enter a value between 0 and 200 km/h.\n"
     ]
    }
   ],
   "source": [
    "n.set_speed(204)"
   ]
  },
  {
   "cell_type": "code",
   "execution_count": 68,
   "id": "0769858a-29c7-4d82-a60e-42332ba10209",
   "metadata": {},
   "outputs": [
    {
     "name": "stdout",
     "output_type": "stream",
     "text": [
      "Speed set to 199 km/h\n"
     ]
    }
   ],
   "source": [
    "n.set_speed(199)"
   ]
  },
  {
   "cell_type": "code",
   "execution_count": 70,
   "id": "7382694a-72c0-4cbf-a01c-9f018e26e7e6",
   "metadata": {},
   "outputs": [
    {
     "name": "stdout",
     "output_type": "stream",
     "text": [
      "Speed set to 179 km/h\n"
     ]
    }
   ],
   "source": [
    "n.decrement(20)"
   ]
  },
  {
   "cell_type": "code",
   "execution_count": null,
   "id": "03263f02-01e3-4b0c-b9df-0e78ab897831",
   "metadata": {},
   "outputs": [],
   "source": []
  },
  {
   "cell_type": "code",
   "execution_count": null,
   "id": "af67f041-5387-4970-b7e0-a3eb3e89b278",
   "metadata": {},
   "outputs": [],
   "source": []
  },
  {
   "cell_type": "code",
   "execution_count": 74,
   "id": "600edd27-f662-444a-8f0e-be2be8c86726",
   "metadata": {},
   "outputs": [],
   "source": [
    "n1 = Car(\"BMW\")"
   ]
  },
  {
   "cell_type": "code",
   "execution_count": 76,
   "id": "21efc273-76b1-46d5-9fdd-0d958e915e8d",
   "metadata": {},
   "outputs": [
    {
     "name": "stdout",
     "output_type": "stream",
     "text": [
      "Speed set to 198 km/h\n"
     ]
    }
   ],
   "source": [
    "n1.set_speed(198)"
   ]
  },
  {
   "cell_type": "code",
   "execution_count": 78,
   "id": "694a77bd-4759-46f8-bd9b-6eacc0bff8cf",
   "metadata": {},
   "outputs": [
    {
     "name": "stdout",
     "output_type": "stream",
     "text": [
      "Invalid speed! Enter a value between 0 and 200 km/h.\n"
     ]
    }
   ],
   "source": [
    "n1.accelerate(5)"
   ]
  },
  {
   "cell_type": "code",
   "execution_count": 80,
   "id": "0d7bd17f-9f02-4b5c-8580-29f1c9abb196",
   "metadata": {},
   "outputs": [
    {
     "name": "stdout",
     "output_type": "stream",
     "text": [
      "Speed set to 188 km/h\n"
     ]
    }
   ],
   "source": [
    "n1.decrement(10)"
   ]
  },
  {
   "cell_type": "code",
   "execution_count": null,
   "id": "250d2e8d-27aa-49e1-ab56-53e3e5f8e72a",
   "metadata": {},
   "outputs": [],
   "source": []
  },
  {
   "cell_type": "code",
   "execution_count": 80,
   "id": "b935e699-c9be-430f-ba16-ea2f1770b63b",
   "metadata": {},
   "outputs": [],
   "source": [
    "# Creating a Car object\n",
    "my_car = Car(\"Tesla Model 3\")"
   ]
  },
  {
   "cell_type": "code",
   "execution_count": 82,
   "id": "0f32185c-a213-4c07-8b96-4bba8727b6aa",
   "metadata": {},
   "outputs": [
    {
     "name": "stdout",
     "output_type": "stream",
     "text": [
      "Speed set to 50 km/h\n",
      "Current Speed: 50\n"
     ]
    }
   ],
   "source": [
    "# Setting speed\n",
    "my_car.set_speed(50)\n",
    "print(\"Current Speed:\", my_car.get_speed())  # Output: 50"
   ]
  },
  {
   "cell_type": "code",
   "execution_count": 84,
   "id": "fb1005e1-ae44-4702-b3b9-f3342dde7124",
   "metadata": {},
   "outputs": [
    {
     "name": "stdout",
     "output_type": "stream",
     "text": [
      "Invalid speed! Enter a value between 0 and 200 km/h.\n"
     ]
    }
   ],
   "source": [
    "# Trying to set speed beyond the limit\n",
    "my_car.set_speed(250)  # Output: Invalid speed!"
   ]
  },
  {
   "cell_type": "code",
   "execution_count": 86,
   "id": "a14143aa-1d51-4b1b-bdb6-1d9b7bef8106",
   "metadata": {},
   "outputs": [
    {
     "name": "stdout",
     "output_type": "stream",
     "text": [
      "Speed set to 80 km/h\n",
      "Current Speed: 80\n"
     ]
    }
   ],
   "source": [
    "# Accelerating\n",
    "my_car.accelerate(30)\n",
    "print(\"Current Speed:\", my_car.get_speed())  # Output: 80"
   ]
  },
  {
   "cell_type": "code",
   "execution_count": 88,
   "id": "f09d062b-25a2-4313-82cc-4ac98ea04509",
   "metadata": {},
   "outputs": [
    {
     "name": "stdout",
     "output_type": "stream",
     "text": [
      "Accessing Private Variable: 80\n"
     ]
    }
   ],
   "source": [
    "# Direct access to __speed (will fail)\n",
    "# print(my_car.__speed)  # AttributeError\n",
    "\n",
    "# Accessing private variable using name mangling (not recommended)\n",
    "print(\"Accessing Private Variable:\", my_car._Car__speed)  # Works but bad practice\n"
   ]
  },
  {
   "cell_type": "code",
   "execution_count": null,
   "id": "b11f5c10-84c9-4823-8f53-8e0caf2e1d3c",
   "metadata": {},
   "outputs": [],
   "source": []
  }
 ],
 "metadata": {
  "kernelspec": {
   "display_name": "Python [conda env:base] *",
   "language": "python",
   "name": "conda-base-py"
  },
  "language_info": {
   "codemirror_mode": {
    "name": "ipython",
    "version": 3
   },
   "file_extension": ".py",
   "mimetype": "text/x-python",
   "name": "python",
   "nbconvert_exporter": "python",
   "pygments_lexer": "ipython3",
   "version": "3.12.7"
  }
 },
 "nbformat": 4,
 "nbformat_minor": 5
}
