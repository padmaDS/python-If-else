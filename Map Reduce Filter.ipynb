{
 "cells": [
  {
   "cell_type": "markdown",
   "id": "d5db41ee-4ff7-4c29-9b25-1bf9abc420a9",
   "metadata": {},
   "source": [
    "## map(function, iterable)\n",
    "Functionality:\n",
    "Applies a function to every item in an iterable (like a list) and returns a new iterable with the results.\n",
    "\n",
    "### Simple words:\n",
    "Transforming each item."
   ]
  },
  {
   "cell_type": "code",
   "execution_count": 7,
   "id": "bdff6b6d-d57d-4dce-9bb0-1b96dbb2b0bd",
   "metadata": {},
   "outputs": [],
   "source": [
    "l = [1,2,3,4,5,6]"
   ]
  },
  {
   "cell_type": "code",
   "execution_count": 9,
   "id": "5ac772b1-7c27-4d5a-8ae8-7159d5b6be00",
   "metadata": {},
   "outputs": [
    {
     "data": {
      "text/plain": [
       "[1, 4, 9, 16, 25, 36]"
      ]
     },
     "execution_count": 9,
     "metadata": {},
     "output_type": "execute_result"
    }
   ],
   "source": [
    "[i**2 for i in l]"
   ]
  },
  {
   "cell_type": "code",
   "execution_count": 11,
   "id": "f3ced110-4623-460b-9b86-80e0457d31f4",
   "metadata": {},
   "outputs": [
    {
     "data": {
      "text/plain": [
       "(<function __main__.<lambda>(x)>, [1, 2, 3, 4])"
      ]
     },
     "execution_count": 11,
     "metadata": {},
     "output_type": "execute_result"
    }
   ],
   "source": [
    "# 1. Square each number\n",
    "numbers = [1, 2, 3, 4]\n",
    "(lambda x: x**2, numbers)"
   ]
  },
  {
   "cell_type": "code",
   "execution_count": 10,
   "id": "dcfac287-3c9c-4e1b-8d1f-47068a97420e",
   "metadata": {},
   "outputs": [
    {
     "data": {
      "text/plain": [
       "[1, 4, 9, 16]"
      ]
     },
     "execution_count": 10,
     "metadata": {},
     "output_type": "execute_result"
    }
   ],
   "source": [
    "list(map(lambda x: x**2 , numbers))"
   ]
  },
  {
   "cell_type": "code",
   "execution_count": 12,
   "id": "aacc02ca-022f-4874-87c3-44f2f4779150",
   "metadata": {},
   "outputs": [],
   "source": [
    "squares = list(map(lambda x: x**2, numbers))"
   ]
  },
  {
   "cell_type": "code",
   "execution_count": 14,
   "id": "cdcf6dca-271c-42ac-acc5-5e292bf9af16",
   "metadata": {},
   "outputs": [
    {
     "data": {
      "text/plain": [
       "[1, 4, 9, 16]"
      ]
     },
     "execution_count": 14,
     "metadata": {},
     "output_type": "execute_result"
    }
   ],
   "source": [
    "squares "
   ]
  },
  {
   "cell_type": "code",
   "execution_count": 16,
   "id": "356d0373-29d7-46b3-aae9-bb677870024d",
   "metadata": {},
   "outputs": [
    {
     "data": {
      "text/plain": [
       "[1, 8, 27, 64]"
      ]
     },
     "execution_count": 16,
     "metadata": {},
     "output_type": "execute_result"
    }
   ],
   "source": [
    "list(map(lambda x: x**3 , numbers))"
   ]
  },
  {
   "cell_type": "code",
   "execution_count": 13,
   "id": "5060818c-2f5c-4e09-975d-2a28d7170704",
   "metadata": {},
   "outputs": [],
   "source": [
    "def str(n):\n",
    "    return n.upper()"
   ]
  },
  {
   "cell_type": "code",
   "execution_count": 15,
   "id": "8e10f2bc-5b48-4dba-81d7-17985a50eb7e",
   "metadata": {},
   "outputs": [
    {
     "data": {
      "text/plain": [
       "'CHAKRESH'"
      ]
     },
     "execution_count": 15,
     "metadata": {},
     "output_type": "execute_result"
    }
   ],
   "source": [
    "str(\"chakresh\")"
   ]
  },
  {
   "cell_type": "code",
   "execution_count": 3,
   "id": "7083432e-1112-4457-8678-c184c4389e45",
   "metadata": {},
   "outputs": [],
   "source": [
    "# 2. Convert to uppercase\n",
    "words = [\"hello\", \"world\", \"chakresh\", \"unnisa\", \"sekhar\", \"keziya\"]\n",
    "uppercased = list(map(str.upper, words))"
   ]
  },
  {
   "cell_type": "code",
   "execution_count": 5,
   "id": "af2f66d5-cac4-4a6b-aa41-983dfc93c95c",
   "metadata": {},
   "outputs": [
    {
     "data": {
      "text/plain": [
       "['HELLO', 'WORLD', 'CHAKRESH', 'UNNISA', 'SEKHAR', 'KEZIYA']"
      ]
     },
     "execution_count": 5,
     "metadata": {},
     "output_type": "execute_result"
    }
   ],
   "source": [
    "uppercased"
   ]
  },
  {
   "cell_type": "code",
   "execution_count": 7,
   "id": "523e25c2-cb7e-4a0a-b32c-c24926911605",
   "metadata": {},
   "outputs": [],
   "source": [
    "lowercased = list(map(str.lower, words))"
   ]
  },
  {
   "cell_type": "code",
   "execution_count": 9,
   "id": "1b61e4db-a954-4e6f-87ac-3c29d18ba7e6",
   "metadata": {},
   "outputs": [
    {
     "data": {
      "text/plain": [
       "['hello', 'world', 'chakresh', 'unnisa', 'sekhar', 'keziya']"
      ]
     },
     "execution_count": 9,
     "metadata": {},
     "output_type": "execute_result"
    }
   ],
   "source": [
    "lowercased"
   ]
  },
  {
   "cell_type": "code",
   "execution_count": 11,
   "id": "d50e47a4-5e48-4476-a8c1-0975436786c7",
   "metadata": {},
   "outputs": [],
   "source": [
    "# 3. Celsius to Fahrenheit\n",
    "celsius = [0, 10, 20, 30]\n",
    "fahrenheit = list(map(lambda c: (c * 9/5) + 32, celsius))"
   ]
  },
  {
   "cell_type": "code",
   "execution_count": 13,
   "id": "bcb296fc-f912-41b3-9d2c-7c4b7b8ec5fc",
   "metadata": {},
   "outputs": [
    {
     "data": {
      "text/plain": [
       "[32.0, 50.0, 68.0, 86.0]"
      ]
     },
     "execution_count": 13,
     "metadata": {},
     "output_type": "execute_result"
    }
   ],
   "source": [
    "fahrenheit"
   ]
  },
  {
   "cell_type": "markdown",
   "id": "31b08e4f-2b9d-4d5c-a3b6-2ba900ed4d2b",
   "metadata": {},
   "source": [
    "# 4. Add index to value"
   ]
  },
  {
   "cell_type": "code",
   "execution_count": 22,
   "id": "243dccfa-3b88-4daa-bb0c-2162a60b4425",
   "metadata": {},
   "outputs": [],
   "source": [
    "values = [10, 20, 30]"
   ]
  },
  {
   "cell_type": "code",
   "execution_count": 24,
   "id": "559e2f91-c9e4-45ec-ac99-5373d71212a2",
   "metadata": {},
   "outputs": [
    {
     "data": {
      "text/plain": [
       "<enumerate at 0x2655d76c130>"
      ]
     },
     "execution_count": 24,
     "metadata": {},
     "output_type": "execute_result"
    }
   ],
   "source": [
    "enumerate(values)"
   ]
  },
  {
   "cell_type": "code",
   "execution_count": 26,
   "id": "ad160cba-041e-4099-85b7-21c76dfdbc49",
   "metadata": {},
   "outputs": [],
   "source": [
    "with_index = list(map(lambda i_x: i_x[0] + i_x[1], enumerate(values)))"
   ]
  },
  {
   "cell_type": "code",
   "execution_count": 28,
   "id": "8128f021-0c06-4c82-8f84-76a718213248",
   "metadata": {},
   "outputs": [
    {
     "data": {
      "text/plain": [
       "[10, 21, 32]"
      ]
     },
     "execution_count": 28,
     "metadata": {},
     "output_type": "execute_result"
    }
   ],
   "source": [
    "with_index"
   ]
  },
  {
   "cell_type": "code",
   "execution_count": 30,
   "id": "223a26b9-7671-4e70-9c87-bf886054347f",
   "metadata": {},
   "outputs": [],
   "source": [
    "# 5. Add items from two lists\n",
    "a = [1, 2, 3]\n",
    "b = [4, 5, 6]\n",
    "sum = list(map(lambda x, y: x + y, a, b))"
   ]
  },
  {
   "cell_type": "code",
   "execution_count": 32,
   "id": "eb5080d3-cd6d-409b-8348-2270cf09469b",
   "metadata": {},
   "outputs": [
    {
     "data": {
      "text/plain": [
       "[5, 7, 9]"
      ]
     },
     "execution_count": 32,
     "metadata": {},
     "output_type": "execute_result"
    }
   ],
   "source": [
    "sum"
   ]
  },
  {
   "cell_type": "code",
   "execution_count": 34,
   "id": "f2698b5d-2dda-4e76-b9d7-23729b4caf7c",
   "metadata": {},
   "outputs": [],
   "source": [
    "# 5. Add items from three lists\n",
    "a = [1, 2, 3]\n",
    "b = [4, 5, 6]\n",
    "c = [6,7,8]\n",
    "sum = list(map(lambda x, y,z : x + y +z, a, b, c))"
   ]
  },
  {
   "cell_type": "code",
   "execution_count": 38,
   "id": "c031161b-dbb3-44d6-ab54-e1a3dbba33a9",
   "metadata": {},
   "outputs": [],
   "source": [
    "a = [1, 2, 3]\n",
    "b = [4, 5, 6]\n",
    "c = [6,7,8]\n",
    "\n",
    "prd = list(map(lambda x,y,z : x*y*z, a,b,c))"
   ]
  },
  {
   "cell_type": "code",
   "execution_count": 40,
   "id": "fe0402f3-6587-4e3a-bbb9-f89ff7a4a603",
   "metadata": {},
   "outputs": [
    {
     "data": {
      "text/plain": [
       "[24, 70, 144]"
      ]
     },
     "execution_count": 40,
     "metadata": {},
     "output_type": "execute_result"
    }
   ],
   "source": [
    "prd"
   ]
  },
  {
   "cell_type": "code",
   "execution_count": 36,
   "id": "cabfdc0b-a324-4120-bc42-ab11fb627bd2",
   "metadata": {},
   "outputs": [
    {
     "data": {
      "text/plain": [
       "[11, 14, 17]"
      ]
     },
     "execution_count": 36,
     "metadata": {},
     "output_type": "execute_result"
    }
   ],
   "source": [
    "sum"
   ]
  },
  {
   "cell_type": "markdown",
   "id": "6d0d409e-4458-4b4e-8fb6-60f09200eddb",
   "metadata": {},
   "source": [
    "### filter(function, iterable)\n",
    "Functionality:\n",
    "Keeps only items from an iterable where the function returns True. It filters out the rest.\n",
    "\n",
    "Pick items based on a condition."
   ]
  },
  {
   "cell_type": "code",
   "execution_count": 45,
   "id": "7a60de75-91b3-401e-a6b0-812f668b9ac2",
   "metadata": {},
   "outputs": [],
   "source": [
    "def even(l):\n",
    "    for i in l:\n",
    "        if i%2==0:\n",
    "            print(i)"
   ]
  },
  {
   "cell_type": "code",
   "execution_count": 47,
   "id": "df927186-6a27-44a1-b19f-67c75b65840c",
   "metadata": {},
   "outputs": [
    {
     "name": "stdout",
     "output_type": "stream",
     "text": [
      "2\n",
      "4\n",
      "6\n"
     ]
    }
   ],
   "source": [
    "even([1,2,3,4,5,6,7])"
   ]
  },
  {
   "cell_type": "code",
   "execution_count": 51,
   "id": "cda5a157-d12c-403b-b687-c68b0976fac6",
   "metadata": {},
   "outputs": [],
   "source": [
    "# 1. Keep even numbers\n",
    "numbers = [1, 2, 3, 4, 5]\n",
    "evens = list(filter(lambda x: x % 2 == 0, numbers))"
   ]
  },
  {
   "cell_type": "code",
   "execution_count": 53,
   "id": "7509f97b-9cbd-48d2-ae27-93f77b3582ed",
   "metadata": {},
   "outputs": [
    {
     "name": "stdout",
     "output_type": "stream",
     "text": [
      "[2, 4]\n"
     ]
    }
   ],
   "source": [
    "print(evens)"
   ]
  },
  {
   "cell_type": "code",
   "execution_count": 55,
   "id": "807307e0-0c44-42e0-b00c-0bb22dde6a09",
   "metadata": {},
   "outputs": [],
   "source": [
    "# 2. Remove empty strings\n",
    "strings = [\"hello\", \"\", \"world\", \"\"]\n",
    "non_empty = list(filter(None, strings))"
   ]
  },
  {
   "cell_type": "code",
   "execution_count": 57,
   "id": "dc3ef10d-6a4d-4b42-8165-c192aef58dfd",
   "metadata": {},
   "outputs": [
    {
     "data": {
      "text/plain": [
       "['hello', 'world']"
      ]
     },
     "execution_count": 57,
     "metadata": {},
     "output_type": "execute_result"
    }
   ],
   "source": [
    "non_empty"
   ]
  },
  {
   "cell_type": "code",
   "execution_count": 59,
   "id": "9584ea1d-c055-4008-bb93-039d4c6706ab",
   "metadata": {},
   "outputs": [],
   "source": [
    "def test(l):\n",
    "    for i in l:\n",
    "        if i>10:\n",
    "            print(i)"
   ]
  },
  {
   "cell_type": "code",
   "execution_count": 63,
   "id": "0f30c853-d4a4-4025-b4b9-c195abe2b73c",
   "metadata": {},
   "outputs": [
    {
     "name": "stdout",
     "output_type": "stream",
     "text": [
      "12\n"
     ]
    }
   ],
   "source": [
    "test([10,12,4,5,6,])"
   ]
  },
  {
   "cell_type": "code",
   "execution_count": 65,
   "id": "0a87da62-41c8-416a-924d-762355327e98",
   "metadata": {},
   "outputs": [],
   "source": [
    "# 3. Numbers greater than 10\n",
    "numbers = [5, 12, 17, 3, 9]\n",
    "numbers_greaterthan_10 = list(filter(lambda x: x > 10, numbers))"
   ]
  },
  {
   "cell_type": "code",
   "execution_count": 69,
   "id": "6090fe63-8a83-4416-8cb4-c4e25d2b457d",
   "metadata": {},
   "outputs": [
    {
     "data": {
      "text/plain": [
       "[12, 17]"
      ]
     },
     "execution_count": 69,
     "metadata": {},
     "output_type": "execute_result"
    }
   ],
   "source": [
    "numbers_greaterthan_10"
   ]
  },
  {
   "cell_type": "code",
   "execution_count": null,
   "id": "400e5bc9-8d20-40e3-818d-c72191b4bded",
   "metadata": {},
   "outputs": [],
   "source": []
  },
  {
   "cell_type": "code",
   "execution_count": 71,
   "id": "4dd3024c-3fdc-4e92-bc24-d92319435553",
   "metadata": {},
   "outputs": [],
   "source": [
    "def palindrom(l):\n",
    "    l1 = []\n",
    "    for i in l:\n",
    "        a = i[::-1]\n",
    "        if a == i:\n",
    "            l1.append(i)\n",
    "    return l1"
   ]
  },
  {
   "cell_type": "code",
   "execution_count": 73,
   "id": "eeca6e76-24f8-402e-a1f5-367ac4ee8bfe",
   "metadata": {},
   "outputs": [
    {
     "data": {
      "text/plain": [
       "['madam', 'racecar', 'level']"
      ]
     },
     "execution_count": 73,
     "metadata": {},
     "output_type": "execute_result"
    }
   ],
   "source": [
    "palindrom([\"madam\", \"racecar\", \"apple\", \"level\"])"
   ]
  },
  {
   "cell_type": "code",
   "execution_count": 3,
   "id": "27ad1496-54fa-4c0e-a9f3-c5fb5f17f1c8",
   "metadata": {},
   "outputs": [],
   "source": [
    "s = \"madam\"\n",
    "\n",
    "def test(s):\n",
    "    return s == s[::-1]"
   ]
  },
  {
   "cell_type": "code",
   "execution_count": 5,
   "id": "bcb208ae-78b2-4788-a569-9691eb9a1187",
   "metadata": {},
   "outputs": [
    {
     "data": {
      "text/plain": [
       "True"
      ]
     },
     "execution_count": 5,
     "metadata": {},
     "output_type": "execute_result"
    }
   ],
   "source": [
    "test(s)"
   ]
  },
  {
   "cell_type": "code",
   "execution_count": 7,
   "id": "dd999d59-11ed-4f33-bc56-64fa9f27ae27",
   "metadata": {},
   "outputs": [],
   "source": [
    "def palind(i):\n",
    "    a = i[::-1]\n",
    "    if a == i:\n",
    "        print(\"it is a palindrom\")\n",
    "    else:\n",
    "        print(\"it's not a palindrom\")"
   ]
  },
  {
   "cell_type": "code",
   "execution_count": 9,
   "id": "ef71804d-250f-4eb8-b261-d00361b06d58",
   "metadata": {},
   "outputs": [
    {
     "name": "stdout",
     "output_type": "stream",
     "text": [
      "it's not a palindrom\n"
     ]
    }
   ],
   "source": [
    "palind(\"aimnxt\")"
   ]
  },
  {
   "cell_type": "code",
   "execution_count": 11,
   "id": "2693ed51-95c1-4098-b1d7-dbe57e964c56",
   "metadata": {},
   "outputs": [
    {
     "name": "stdout",
     "output_type": "stream",
     "text": [
      "it is a palindrom\n"
     ]
    }
   ],
   "source": [
    "palind(\"level\")"
   ]
  },
  {
   "cell_type": "code",
   "execution_count": 83,
   "id": "19cb228f-e5d9-432b-98b1-418f82e6bc6d",
   "metadata": {},
   "outputs": [],
   "source": [
    "def palin(s):\n",
    "    a = s[::-1]\n",
    "    if s==a:\n",
    "        print(\"given string is palindrom\")\n",
    "    else:\n",
    "        print(\"given string is not palindrom\")"
   ]
  },
  {
   "cell_type": "code",
   "execution_count": 93,
   "id": "749981c5-1103-4459-8e45-0f11148f2d46",
   "metadata": {},
   "outputs": [
    {
     "name": "stdout",
     "output_type": "stream",
     "text": [
      "given string is palindrom\n"
     ]
    }
   ],
   "source": [
    "palin(\"nitin\")"
   ]
  },
  {
   "cell_type": "code",
   "execution_count": null,
   "id": "87fa1e9a-d20c-43c5-afa5-955e8cbb9594",
   "metadata": {},
   "outputs": [],
   "source": []
  },
  {
   "cell_type": "code",
   "execution_count": 13,
   "id": "5cde423b-57c8-4c9f-ad6c-79f1c352f8d5",
   "metadata": {},
   "outputs": [],
   "source": [
    "l = [\"madam\", \"level\", \"apple\", \"racecar\"]\n",
    "palindromes = list(filter(lambda x : x == x[::-1], l))"
   ]
  },
  {
   "cell_type": "code",
   "execution_count": 15,
   "id": "781522c9-8cbe-4ad9-b203-934e5d8a1c4f",
   "metadata": {},
   "outputs": [
    {
     "data": {
      "text/plain": [
       "['madam', 'level', 'racecar']"
      ]
     },
     "execution_count": 15,
     "metadata": {},
     "output_type": "execute_result"
    }
   ],
   "source": [
    "palindromes"
   ]
  },
  {
   "cell_type": "code",
   "execution_count": 95,
   "id": "11a0be71-8943-4b12-9ccc-1dee0796a1fb",
   "metadata": {},
   "outputs": [],
   "source": [
    "# 4. Keep palindromes\n",
    "words = [\"madam\", \"racecar\", \"apple\", \"level\"]\n",
    "palindromes = list(filter(lambda w: w == w[::-1], words))"
   ]
  },
  {
   "cell_type": "code",
   "execution_count": 97,
   "id": "4a05bbd5-c1e9-4495-86a5-a25851470e94",
   "metadata": {},
   "outputs": [
    {
     "data": {
      "text/plain": [
       "['madam', 'racecar', 'level']"
      ]
     },
     "execution_count": 97,
     "metadata": {},
     "output_type": "execute_result"
    }
   ],
   "source": [
    "palindromes"
   ]
  },
  {
   "cell_type": "code",
   "execution_count": 99,
   "id": "1f0f1282-43e2-40bd-9e51-8f90ba1c29c1",
   "metadata": {},
   "outputs": [],
   "source": [
    "# 5. Keep truthy values\n",
    "data = [0, \"\", None, \"hello\", 42]\n",
    "truthy = list(filter(bool, data))"
   ]
  },
  {
   "cell_type": "code",
   "execution_count": 101,
   "id": "57d6e010-ead2-4f92-8d1e-0b0fb1a9fd10",
   "metadata": {},
   "outputs": [
    {
     "data": {
      "text/plain": [
       "['hello', 42]"
      ]
     },
     "execution_count": 101,
     "metadata": {},
     "output_type": "execute_result"
    }
   ],
   "source": [
    "truthy"
   ]
  },
  {
   "cell_type": "markdown",
   "id": "80aafd98-482f-4964-a526-60b69a1cb72b",
   "metadata": {},
   "source": [
    "### reduce(function, iterable)\n",
    "Functionality:\n",
    "Takes a list and reduces it to a single value, by applying a function cumulatively to the items.\n",
    "\n",
    "Roll everything into one value"
   ]
  },
  {
   "cell_type": "code",
   "execution_count": 37,
   "id": "adc8a49b-7b85-4817-b7d6-2dcd27ac9cde",
   "metadata": {},
   "outputs": [],
   "source": [
    "from functools import reduce"
   ]
  },
  {
   "cell_type": "code",
   "execution_count": 31,
   "id": "2403c5ef-18d3-4b85-bf44-f4db4606c4b2",
   "metadata": {},
   "outputs": [],
   "source": [
    "def test(l):\n",
    "    sum = 0\n",
    "    for i in l:\n",
    "        if type(i) ==int:\n",
    "            sum+=i\n",
    "    print(sum)"
   ]
  },
  {
   "cell_type": "code",
   "execution_count": 33,
   "id": "9f4656ec-c403-4411-8d99-db32c836693d",
   "metadata": {},
   "outputs": [
    {
     "name": "stdout",
     "output_type": "stream",
     "text": [
      "12\n"
     ]
    }
   ],
   "source": [
    "test([1,2,4,5])"
   ]
  },
  {
   "cell_type": "code",
   "execution_count": null,
   "id": "4191ada7-851a-4639-b8e2-4d01b0160d52",
   "metadata": {},
   "outputs": [],
   "source": []
  },
  {
   "cell_type": "code",
   "execution_count": 39,
   "id": "7785342d-f976-4319-875a-b1fa03d37062",
   "metadata": {},
   "outputs": [],
   "source": [
    "# 1. Sum of numbers\n",
    "nums = [1, 2, 3, 4]\n",
    "total = reduce(lambda x, y: x + y, nums)"
   ]
  },
  {
   "cell_type": "code",
   "execution_count": 41,
   "id": "3ae92392-784c-41e7-b12c-718310395c14",
   "metadata": {},
   "outputs": [
    {
     "data": {
      "text/plain": [
       "10"
      ]
     },
     "execution_count": 41,
     "metadata": {},
     "output_type": "execute_result"
    }
   ],
   "source": [
    "total"
   ]
  },
  {
   "cell_type": "code",
   "execution_count": 43,
   "id": "a3077e42-d28b-4b26-949c-53c169e187ca",
   "metadata": {},
   "outputs": [],
   "source": [
    "# 2. Multiply all numbers\n",
    "nums = [2, 3, 4]\n",
    "product = reduce(lambda x, y: x * y, nums)"
   ]
  },
  {
   "cell_type": "code",
   "execution_count": null,
   "id": "468ec11e-b378-4ecb-bcd2-c4e2438dc412",
   "metadata": {},
   "outputs": [],
   "source": []
  },
  {
   "cell_type": "code",
   "execution_count": 45,
   "id": "ecb97906-a29a-4ad1-8898-a1d94ce1fbc3",
   "metadata": {},
   "outputs": [],
   "source": [
    "# 3. Find the max\n",
    "nums = [10, 20, 5, 40]\n",
    "maximum = reduce(lambda x, y: x if x > y else y, nums)"
   ]
  },
  {
   "cell_type": "code",
   "execution_count": 47,
   "id": "4202d9b6-a2ce-476e-bd7f-190befca5295",
   "metadata": {},
   "outputs": [
    {
     "data": {
      "text/plain": [
       "40"
      ]
     },
     "execution_count": 47,
     "metadata": {},
     "output_type": "execute_result"
    }
   ],
   "source": [
    "maximum"
   ]
  },
  {
   "cell_type": "code",
   "execution_count": null,
   "id": "4a8c2c33-2067-41f6-b853-fd398f14c1e5",
   "metadata": {},
   "outputs": [],
   "source": []
  },
  {
   "cell_type": "code",
   "execution_count": 49,
   "id": "9a201406-3d02-442a-9a8c-04222963f00b",
   "metadata": {},
   "outputs": [],
   "source": [
    "# 4. Concatenate strings\n",
    "words = [\"Python\", \"is\", \"fun\"]\n",
    "sentence = reduce(lambda x, y: x + \" \" + y, words)"
   ]
  },
  {
   "cell_type": "code",
   "execution_count": 51,
   "id": "eb589580-518e-4182-8852-9cbcc5045cd5",
   "metadata": {},
   "outputs": [
    {
     "data": {
      "text/plain": [
       "'Python is fun'"
      ]
     },
     "execution_count": 51,
     "metadata": {},
     "output_type": "execute_result"
    }
   ],
   "source": [
    "sentence"
   ]
  },
  {
   "cell_type": "code",
   "execution_count": 53,
   "id": "0b50e384-13d6-44ac-940d-e50d60b6ad44",
   "metadata": {},
   "outputs": [],
   "source": [
    "# 5. Make number from digits\n",
    "digits = [1, 2, 3, 4]\n",
    "number = reduce(lambda x, y: x * 10 + y, digits)"
   ]
  },
  {
   "cell_type": "code",
   "execution_count": 55,
   "id": "1464f9f0-0c37-46b4-a9c8-d2ab68f14bbc",
   "metadata": {},
   "outputs": [
    {
     "data": {
      "text/plain": [
       "1234"
      ]
     },
     "execution_count": 55,
     "metadata": {},
     "output_type": "execute_result"
    }
   ],
   "source": [
    "number"
   ]
  },
  {
   "cell_type": "code",
   "execution_count": null,
   "id": "414b4820-80e1-44fe-b5f0-dc0dc3082f49",
   "metadata": {},
   "outputs": [],
   "source": [
    "# 5. Make number from digits\n",
    "digits = [1, -2, 3, 4]\n",
    "number = reduce(lambda x, y: x * 10 + y, digits)"
   ]
  },
  {
   "cell_type": "markdown",
   "id": "38f85d60-f52c-43d2-bbde-cdc4cdcdeeeb",
   "metadata": {},
   "source": [
    "Given a list of numbers, return the sum of squares of only the odd numbers."
   ]
  },
  {
   "cell_type": "code",
   "execution_count": 67,
   "id": "93a6f879-f240-45f6-a876-b1687179627f",
   "metadata": {},
   "outputs": [
    {
     "name": "stdout",
     "output_type": "stream",
     "text": [
      "15\n"
     ]
    }
   ],
   "source": [
    "from functools import reduce\n",
    "numbers = [1, 2, 3, 4, 5, 6]\n",
    "# Step 1: Filter odd numbers\n",
    "odd = list(filter(lambda x: x % 2 != 0, numbers))  # [1, 3, 5]\n",
    "\n",
    "# Step 2: Multiply them using reduce\n",
    "product = reduce(lambda x, y: x * y, odd)\n",
    "\n",
    "print(product)  # Output: 48\n"
   ]
  },
  {
   "cell_type": "code",
   "execution_count": 69,
   "id": "f6d9b114-df38-449a-bf39-a89a85e6fe45",
   "metadata": {},
   "outputs": [
    {
     "name": "stdout",
     "output_type": "stream",
     "text": [
      "225\n"
     ]
    }
   ],
   "source": [
    "from functools import reduce\n",
    "numbers = [1, 2, 3, 4, 5, 6]\n",
    "# Step 1: Filter odd numbers\n",
    "odd = list(filter(lambda x: x % 2 != 0, numbers))  # [1, 3, 5]\n",
    "\n",
    "## Square the odd numbers using Map function\n",
    "squares = list(map(lambda x: x**2, odd))\n",
    "\n",
    "# Step 2: Multiply them using reduce\n",
    "product = reduce(lambda x, y: x * y, squares)\n",
    "\n",
    "print(product)  # Output: 48\n"
   ]
  },
  {
   "cell_type": "code",
   "execution_count": 71,
   "id": "beb7e984-2b6d-4fc5-b140-b84bcfc9f140",
   "metadata": {},
   "outputs": [
    {
     "data": {
      "text/plain": [
       "[1, 3, 5]"
      ]
     },
     "execution_count": 71,
     "metadata": {},
     "output_type": "execute_result"
    }
   ],
   "source": [
    "odd"
   ]
  },
  {
   "cell_type": "code",
   "execution_count": 73,
   "id": "1b6074bd-7313-4ca8-966c-a032f726f1c4",
   "metadata": {},
   "outputs": [
    {
     "data": {
      "text/plain": [
       "[1, 9, 25]"
      ]
     },
     "execution_count": 73,
     "metadata": {},
     "output_type": "execute_result"
    }
   ],
   "source": [
    "squares"
   ]
  },
  {
   "cell_type": "code",
   "execution_count": null,
   "id": "6c76f4c3-59f7-429b-bffe-308cfd40b0c5",
   "metadata": {},
   "outputs": [],
   "source": [
    "from functools import reduce\n",
    "\n",
    "numbers = [1, 2, 3, 4, 5, 6]\n",
    "\n",
    "product = reduce(lambda x, y: x * y, filter(lambda x: x % 2 == 0, numbers))\n",
    "\n",
    "print(product)  # Output: 48\n"
   ]
  },
  {
   "cell_type": "code",
   "execution_count": null,
   "id": "20e38311-f3b7-4f4b-ae53-1ec00efa567f",
   "metadata": {},
   "outputs": [],
   "source": []
  },
  {
   "cell_type": "markdown",
   "id": "c09d2eb5-4c10-4f26-a58d-0db69ba3984e",
   "metadata": {},
   "source": [
    "Practical Questions on map()\n",
    "1. Convert a list of strings to uppercase\n",
    "\n",
    "words = ['python', 'is', 'awesome']\n",
    "Output: ['PYTHON', 'IS', 'AWESOME']\n",
    "\n",
    "2. Square all numbers in a list\n",
    "\n",
    "numbers = [1, 2, 3, 4]\n",
    "utput: [1, 4, 9, 16]\n",
    "\n",
    "3. Convert a list of integers to strings\n",
    "\n",
    "nums = [1, 2, 3]\n",
    "Output: ['1', '2', '3']\n",
    "\n",
    "4. Add 5 to each element in a list\n",
    "marks = [50, 60, 70]\n",
    "Output: [55, 65, 75]\n",
    "\n",
    "5. Get lengths of all strings in a list\n",
    "\n",
    "names = ['apple', 'banana', 'kiwi']\n",
    "Output: [5, 6, 4]\n",
    "\n",
    "\n",
    "1. Filter out even numbers\n",
    "\n",
    "nums = [1, 2, 3, 4, 5, 6]\n",
    "Output: [2, 4, 6]\n",
    "\n",
    "2. Keep only strings with more than 3 characters\n",
    "\n",
    "words = ['hi', 'hello', 'hey', 'sun']\n",
    "Output: ['hello']\n",
    "\n",
    "3. Remove empty strings from a list\n",
    "\n",
    "data = ['Python', '', 'Java', '', 'C++']\n",
    "Output: ['Python', 'Java', 'C++']\n",
    "\n",
    "4. Get names that start with 'A'\n",
    "names = ['Alice', 'Bob', 'Angela', 'Tom']\n",
    "Output: ['Alice', 'Angela']\n",
    "\n",
    "5. Keep truthy values only\n",
    "\n",
    "items = [0, None, 'hello', False, 42, '']\n",
    "Output: ['hello', 42]\n",
    "\n",
    "1. Sum of all numbers\n",
    "\n",
    "nums = [1, 2, 3, 4]\n",
    "Output: 10\n",
    "\n",
    "2. Product of all even numbers\n",
    "nums = [1, 2, 3, 4, 5]\n",
    "Filter even → [2, 4]\n",
    "Reduce → 8\n",
    "\n",
    "3. Find the longest word\n",
    "words = ['apple', 'banana', 'kiwi']\n",
    "Output: 'banana'\n",
    "\n",
    "4. Join list of strings into one sentence\n",
    "words = ['Python', 'is', 'fun']\n",
    "Output: 'Python is fun'\n",
    "\n",
    "5. Create number from digits\n",
    "\n",
    "digits = [1, 2, 3, 4]\n",
    "Output: 1234"
   ]
  },
  {
   "cell_type": "code",
   "execution_count": null,
   "id": "fa14578e-b835-4ddf-ac06-5075a6c18e8a",
   "metadata": {},
   "outputs": [],
   "source": []
  }
 ],
 "metadata": {
  "kernelspec": {
   "display_name": "Python [conda env:base] *",
   "language": "python",
   "name": "conda-base-py"
  },
  "language_info": {
   "codemirror_mode": {
    "name": "ipython",
    "version": 3
   },
   "file_extension": ".py",
   "mimetype": "text/x-python",
   "name": "python",
   "nbconvert_exporter": "python",
   "pygments_lexer": "ipython3",
   "version": "3.12.7"
  }
 },
 "nbformat": 4,
 "nbformat_minor": 5
}
